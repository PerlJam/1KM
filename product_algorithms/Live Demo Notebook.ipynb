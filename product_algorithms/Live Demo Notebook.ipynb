{
 "metadata": {
  "name": "Live Demo Notebook",
  "signature": "sha256:1067e8ffa3fe982962bc5308a3e003d330c5a7899f9c54558f18b368485adcdf"
 },
 "nbformat": 3,
 "nbformat_minor": 0,
 "worksheets": [
  {
   "cells": [
    {
     "cell_type": "heading",
     "level": 1,
     "metadata": {},
     "source": [
      "Notebook for interacting with the substrate and product prediction algorithms."
     ]
    },
    {
     "cell_type": "heading",
     "level": 4,
     "metadata": {},
     "source": [
      "First you need to import the libraries of code written for the algorithm and some sample molecules, then scroll to the appropriate starting place. "
     ]
    },
    {
     "cell_type": "code",
     "collapsed": false,
     "input": [
      "import warnings\n",
      "warnings.filterwarnings(\"ignore\")\n",
      "import sys                           \n",
      "sys.path.append('/groups/1km/Brendan_algorithms/product_algorithms')\n",
      "from API_functions import *\n",
      "from SteroidFunctions import *\n",
      "\n",
      "steroidlist = pickle.load(open('steroidlist', 'rb'))           ###list of steroids downloaded from pubchem\n",
      "Keggsteroids_df = pd.read_table(\"Keggsteroids.csv\")            ###table of steroid enzymes, substrates, and products\n",
      "endogenous_steroids = Keggsteroids_df['Substrates'].tolist()   ###list of major endogenous steroids"
     ],
     "language": "python",
     "metadata": {},
     "outputs": [],
     "prompt_number": 1
    },
    {
     "cell_type": "heading",
     "level": 2,
     "metadata": {},
     "source": [
      "SMILES Generator"
     ]
    },
    {
     "cell_type": "markdown",
     "metadata": {},
     "source": [
      "Put in the title for a molecule and get its SMILES string."
     ]
    },
    {
     "cell_type": "code",
     "collapsed": false,
     "input": [
      "test = pcp.get_properties('CanonicalSMILES', 'Cholesterol', 'name')\n",
      "print str(test[0]['CanonicalSMILES'])\n",
      "Chem.MolFromSmiles( str(test[0]['CanonicalSMILES']) )                                                            "
     ],
     "language": "python",
     "metadata": {},
     "outputs": [
      {
       "output_type": "stream",
       "stream": "stdout",
       "text": [
        "CC(C)CCCC(C)C1CCC2C1(CCC3C2CC=C4C3(CCC(C4)O)C)C\n"
       ]
      },
      {
       "output_type": "pyout",
       "png": "[encoded data removed]",
       "prompt_number": 5,
       "text": [
        "<rdkit.Chem.rdchem.Mol at 0x57602f0>"
       ]
      }
     ],
     "prompt_number": 5
    },
    {
     "cell_type": "heading",
     "level": 2,
     "metadata": {},
     "source": [
      "Predicting Enzyme Specificity - Naive Approach"
     ]
    },
    {
     "cell_type": "markdown",
     "metadata": {},
     "source": [
      "This code identifies the site on a molecule that a given enzyme modifies, compares that site to an alternative substrate, and proceeds with the chemical modifcation if no unique features exist in the modification space. This approach is much slower but does not require much knowledge on enzyme specificity. "
     ]
    },
    {
     "cell_type": "heading",
     "level": 6,
     "metadata": {},
     "source": [
      "result_data, result_structure_images = naive_find_alternative_substrates(alternative_substrates, substrate_product_dataframe, row, identity_cutoff)"
     ]
    },
    {
     "cell_type": "code",
     "collapsed": false,
     "input": [
      "#test, testpics = naive_find_alternative_substrates(Keggsteroids_df['Substrates'].tolist(), Keggsteroids_df, 2, 0.40)"
     ],
     "language": "python",
     "metadata": {},
     "outputs": [],
     "prompt_number": 14
    },
    {
     "cell_type": "heading",
     "level": 2,
     "metadata": {},
     "source": [
      "Predicting Enzyme Specificity - Machine Learning Approach"
     ]
    },
    {
     "cell_type": "markdown",
     "metadata": {},
     "source": [
      "This code trains a Random Forest Classifier on an enzyme's substrate specificity (as denoted by KEGG). Areas of a molecule are analyzed by circular Morgan Fingerprints as shown below. Substrates are then compared to a list of standard steroids (soon to be natural products in general). Dissimilar substrates will be taken out of this list and will be assumed to not be compatible with a given enzyme."
     ]
    },
    {
     "cell_type": "markdown",
     "metadata": {},
     "source": [
      "<img src=\"files/morganfps_example1.png\">"
     ]
    },
    {
     "cell_type": "heading",
     "level": 4,
     "metadata": {},
     "source": [
      "Search for your enzyme by filling out the quotes. Pull out the ec number."
     ]
    },
    {
     "cell_type": "code",
     "collapsed": false,
     "input": [
      "import warnings\n",
      "warnings.filterwarnings(\"ignore\")\n",
      "###search for \n",
      "enzyme = 'CYP46A1'\n",
      "s = Kegg()\n",
      "s.find('enzyme', enzyme)"
     ],
     "language": "python",
     "metadata": {},
     "outputs": [
      {
       "output_type": "stream",
       "stream": "stderr",
       "text": [
        "INFO:root:Initialising Kegg service (REST)\n"
       ]
      },
      {
       "output_type": "stream",
       "stream": "stderr",
       "text": [
        "INFO:root:checking database enzyme (mode=find)\n"
       ]
      },
      {
       "output_type": "pyout",
       "prompt_number": 7,
       "text": [
        "'ec:1.14.13.98\\tcholesterol 24-hydroxylase; cholesterol 24-monooxygenase; CYP46; CYP46A1; cholesterol 24S-hydroxylase; cytochrome P450 46A1\\n'"
       ]
      }
     ],
     "prompt_number": 7
    },
    {
     "cell_type": "heading",
     "level": 6,
     "metadata": {},
     "source": [
      "values, dataset = rf_find_alternative_substrates('ec:ecnumber', candidate_steroids, identity_threshold)"
     ]
    },
    {
     "cell_type": "code",
     "collapsed": false,
     "input": [
      "values, dataset = rf_find_alternative_substrates('ec:1.14.13.98', steroidlist, 0.70)\n",
      "visualize_smiles(values)"
     ],
     "language": "python",
     "metadata": {},
     "outputs": [
      {
       "output_type": "stream",
       "stream": "stderr",
       "text": [
        "INFO:root:Initialising Kegg service (REST)\n"
       ]
      },
      {
       "output_type": "pyout",
       "prompt_number": 11,
       "text": [
        "<PIL.Image.Image image mode=RGB size=1600x0 at 0x5AC46C8>"
       ]
      }
     ],
     "prompt_number": 11
    },
    {
     "cell_type": "heading",
     "level": 2,
     "metadata": {},
     "source": [
      "Product Predictor"
     ]
    },
    {
     "cell_type": "markdown",
     "metadata": {},
     "source": [
      "Uses best estimates based on substructure similarity and enzyme catalysis to attempt predictions of a non-native substrate in an enzymatic transformation. This code can be run with several alternative substrates and/or run iteratively."
     ]
    },
    {
     "cell_type": "code",
     "collapsed": false,
     "input": [
      "results, product_pictures = product_prediction_algorithm(steroidlist, Keggsteroids_df, 1)"
     ],
     "language": "python",
     "metadata": {},
     "outputs": [
      {
       "output_type": "stream",
       "stream": "stdout",
       "text": [
        "Finished reactions... searching hits on PubChem... \n",
        "Novel Compounds found..."
       ]
      },
      {
       "output_type": "stream",
       "stream": "stderr",
       "text": [
        "/usr/lib/python2.7/dist-packages/rdkit/Chem/Draw/cairoCanvas.py:51: DeprecationWarning: tostring() is deprecated. Please call tobytes() instead.\n",
        "  imgd = image.tostring(\"raw\",\"BGRA\")\n",
        "/usr/lib/python2.7/dist-packages/PIL/Image.py:611: DeprecationWarning: fromstring() is deprecated. Please call frombytes() instead.\n",
        "  warnings.warn('fromstring() is deprecated. Please call frombytes() instead.', DeprecationWarning)\n",
        "/usr/lib/python2.7/dist-packages/rdkit/Chem/Draw/cairoCanvas.py:51: DeprecationWarning: tostring() is deprecated. Please call tobytes() instead.\n",
        "  imgd = image.tostring(\"raw\",\"BGRA\")\n",
        "/usr/lib/python2.7/dist-packages/PIL/Image.py:611: DeprecationWarning: fromstring() is deprecated. Please call frombytes() instead.\n",
        "  warnings.warn('fromstring() is deprecated. Please call frombytes() instead.', DeprecationWarning)\n",
        "/usr/lib/python2.7/dist-packages/rdkit/Chem/Draw/cairoCanvas.py:51: DeprecationWarning: tostring() is deprecated. Please call tobytes() instead.\n",
        "  imgd = image.tostring(\"raw\",\"BGRA\")\n",
        "/usr/lib/python2.7/dist-packages/PIL/Image.py:611: DeprecationWarning: fromstring() is deprecated. Please call frombytes() instead.\n",
        "  warnings.warn('fromstring() is deprecated. Please call frombytes() instead.', DeprecationWarning)\n",
        "/usr/lib/python2.7/dist-packages/rdkit/Chem/Draw/cairoCanvas.py:51: DeprecationWarning: tostring() is deprecated. Please call tobytes() instead.\n",
        "  imgd = image.tostring(\"raw\",\"BGRA\")\n",
        "/usr/lib/python2.7/dist-packages/PIL/Image.py:611: DeprecationWarning: fromstring() is deprecated. Please call frombytes() instead.\n",
        "  warnings.warn('fromstring() is deprecated. Please call frombytes() instead.', DeprecationWarning)\n",
        "/usr/lib/python2.7/dist-packages/rdkit/Chem/Draw/cairoCanvas.py:51: DeprecationWarning: tostring() is deprecated. Please call tobytes() instead.\n",
        "  imgd = image.tostring(\"raw\",\"BGRA\")\n",
        "/usr/lib/python2.7/dist-packages/PIL/Image.py:611: DeprecationWarning: fromstring() is deprecated. Please call frombytes() instead.\n",
        "  warnings.warn('fromstring() is deprecated. Please call frombytes() instead.', DeprecationWarning)\n"
       ]
      },
      {
       "output_type": "stream",
       "stream": "stderr",
       "text": [
        "/usr/lib/python2.7/dist-packages/rdkit/Chem/Draw/cairoCanvas.py:51: DeprecationWarning: tostring() is deprecated. Please call tobytes() instead.\n",
        "  imgd = image.tostring(\"raw\",\"BGRA\")\n",
        "/usr/lib/python2.7/dist-packages/PIL/Image.py:611: DeprecationWarning: fromstring() is deprecated. Please call frombytes() instead.\n",
        "  warnings.warn('fromstring() is deprecated. Please call frombytes() instead.', DeprecationWarning)\n",
        "/usr/lib/python2.7/dist-packages/rdkit/Chem/Draw/cairoCanvas.py:51: DeprecationWarning: tostring() is deprecated. Please call tobytes() instead.\n",
        "  imgd = image.tostring(\"raw\",\"BGRA\")\n",
        "/usr/lib/python2.7/dist-packages/PIL/Image.py:611: DeprecationWarning: fromstring() is deprecated. Please call frombytes() instead.\n",
        "  warnings.warn('fromstring() is deprecated. Please call frombytes() instead.', DeprecationWarning)\n",
        "/usr/lib/python2.7/dist-packages/rdkit/Chem/Draw/cairoCanvas.py:51: DeprecationWarning: tostring() is deprecated. Please call tobytes() instead.\n",
        "  imgd = image.tostring(\"raw\",\"BGRA\")\n",
        "/usr/lib/python2.7/dist-packages/PIL/Image.py:611: DeprecationWarning: fromstring() is deprecated. Please call frombytes() instead.\n",
        "  warnings.warn('fromstring() is deprecated. Please call frombytes() instead.', DeprecationWarning)\n",
        "/usr/lib/python2.7/dist-packages/rdkit/Chem/Draw/cairoCanvas.py:51: DeprecationWarning: tostring() is deprecated. Please call tobytes() instead.\n",
        "  imgd = image.tostring(\"raw\",\"BGRA\")\n",
        "/usr/lib/python2.7/dist-packages/PIL/Image.py:611: DeprecationWarning: fromstring() is deprecated. Please call frombytes() instead.\n",
        "  warnings.warn('fromstring() is deprecated. Please call frombytes() instead.', DeprecationWarning)\n",
        "/usr/lib/python2.7/dist-packages/rdkit/Chem/Draw/cairoCanvas.py:51: DeprecationWarning: tostring() is deprecated. Please call tobytes() instead.\n",
        "  imgd = image.tostring(\"raw\",\"BGRA\")\n",
        "/usr/lib/python2.7/dist-packages/PIL/Image.py:611: DeprecationWarning: fromstring() is deprecated. Please call frombytes() instead.\n",
        "  warnings.warn('fromstring() is deprecated. Please call frombytes() instead.', DeprecationWarning)\n",
        "/usr/lib/python2.7/dist-packages/rdkit/Chem/Draw/cairoCanvas.py:51: DeprecationWarning: tostring() is deprecated. Please call tobytes() instead.\n",
        "  imgd = image.tostring(\"raw\",\"BGRA\")\n"
       ]
      },
      {
       "output_type": "stream",
       "stream": "stdout",
       "text": [
        "\n",
        "3\n",
        "Runtime...\n",
        "16.8622159958\n"
       ]
      },
      {
       "output_type": "stream",
       "stream": "stderr",
       "text": [
        "/usr/lib/python2.7/dist-packages/PIL/Image.py:611: DeprecationWarning: fromstring() is deprecated. Please call frombytes() instead.\n",
        "  warnings.warn('fromstring() is deprecated. Please call frombytes() instead.', DeprecationWarning)\n",
        "/usr/lib/python2.7/dist-packages/rdkit/Chem/Draw/cairoCanvas.py:51: DeprecationWarning: tostring() is deprecated. Please call tobytes() instead.\n",
        "  imgd = image.tostring(\"raw\",\"BGRA\")\n",
        "/usr/lib/python2.7/dist-packages/PIL/Image.py:611: DeprecationWarning: fromstring() is deprecated. Please call frombytes() instead.\n",
        "  warnings.warn('fromstring() is deprecated. Please call frombytes() instead.', DeprecationWarning)\n",
        "/usr/lib/python2.7/dist-packages/rdkit/Chem/Draw/cairoCanvas.py:51: DeprecationWarning: tostring() is deprecated. Please call tobytes() instead.\n",
        "  imgd = image.tostring(\"raw\",\"BGRA\")\n",
        "/usr/lib/python2.7/dist-packages/PIL/Image.py:611: DeprecationWarning: fromstring() is deprecated. Please call frombytes() instead.\n",
        "  warnings.warn('fromstring() is deprecated. Please call frombytes() instead.', DeprecationWarning)\n"
       ]
      }
     ],
     "prompt_number": 4
    },
    {
     "cell_type": "code",
     "collapsed": false,
     "input": [
      "product_pictures"
     ],
     "language": "python",
     "metadata": {},
     "outputs": [
      {
       "output_type": "pyout",
       "png": "[encoded data removed]",
       "prompt_number": 5,
       "text": [
        "<PIL.Image.Image image mode=RGB size=1600x400 at 0x5619248>"
       ]
      }
     ],
     "prompt_number": 5
    },
    {
     "cell_type": "code",
     "collapsed": false,
     "input": [],
     "language": "python",
     "metadata": {},
     "outputs": []
    }
   ],
   "metadata": {}
  }
 ]
}