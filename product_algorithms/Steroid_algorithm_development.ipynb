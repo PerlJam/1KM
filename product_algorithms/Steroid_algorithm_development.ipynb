{
 "metadata": {
  "name": "Steroid_algorithm_development"
 },
 "nbformat": 3,
 "nbformat_minor": 0,
 "worksheets": [
  {
   "cells": [
    {
     "cell_type": "heading",
     "level": 1,
     "metadata": {},
     "source": [
      "Process book for the steroid algorithm code."
     ]
    },
    {
     "cell_type": "markdown",
     "metadata": {},
     "source": [
      "Let's get all the relevant smiles for the proteins we're going to use. "
     ]
    },
    {
     "cell_type": "code",
     "collapsed": false,
     "input": [
      "import sys                           \n",
      "sys.path.append('/Home/1KM/product_algorithms')\n",
      "\n",
      "from SteroidFunctions import *\n",
      "from API_functions import *\n",
      "#import warnings\n",
      "#warnings.filterwarnings(\"ignore\")"
     ],
     "language": "python",
     "metadata": {},
     "outputs": [],
     "prompt_number": 52
    },
    {
     "cell_type": "heading",
     "level": 1,
     "metadata": {},
     "source": [
      "New Anabolic Steroids"
     ]
    },
    {
     "cell_type": "code",
     "collapsed": false,
     "input": [
      "TestRxns = pd.read_table(\"Keggsteroids.csv\")\n",
      "TestRxns.head(11)\n",
      "print len(TestRxns)"
     ],
     "language": "python",
     "metadata": {},
     "outputs": [
      {
       "output_type": "stream",
       "stream": "stdout",
       "text": [
        "136\n"
       ]
      }
     ],
     "prompt_number": 53
    },
    {
     "cell_type": "code",
     "collapsed": false,
     "input": [
      "test = pcp.get_properties('CanonicalSMILES', str('Cholesterol'), 'name')\n",
      "print str(test[0]['CanonicalSMILES'])\n",
      "Chem.MolFromSmiles( str(test[0]['CanonicalSMILES']) )"
     ],
     "language": "python",
     "metadata": {},
     "outputs": [
      {
       "output_type": "stream",
       "stream": "stdout",
       "text": [
        "CC(C)CCCC(C)C1CCC2C1(CCC3C2CC=C4C3(CCC(C4)O)C)C\n"
       ]
      },
      {
       "output_type": "pyout",
       "png": "[encoded data removed]",
       "prompt_number": 4,
       "text": [
        "<rdkit.Chem.rdchem.Mol at 0x46878a0>"
       ]
      }
     ],
     "prompt_number": 4
    },
    {
     "cell_type": "code",
     "collapsed": false,
     "input": [
      "start = timeit.default_timer()\n",
      "\n",
      "anabolic = 'CC(C)CCCC(C)C1CCC2C1(CCC3C2CC=C4C3(CCC(C4)O)C)C'\n",
      "substrates = []\n",
      "products = []\n",
      "targets = []\n",
      "results = []\n",
      "enzymes = []\n",
      "for i in range(len(TestRxns)):\n",
      "    try:\n",
      "        results.append( combinatorial_rxn(anabolic, TestRxns['Substrates'][i], TestRxns['Products'][i]) )\n",
      "        substrates.append( TestRxns['Substrates'][i] )\n",
      "        products.append( TestRxns['Products'][i] )\n",
      "        targets.append( anabolic )\n",
      "        enzymes.append( TestRxns['Enzymes'][i] )\n",
      "    except:\n",
      "        pass\n",
      "    \n",
      "stop = timeit.default_timer()   \n",
      "unique_prods, unique_substrates, unique_products, unique_enzymes = filter_results(results, substrates, products, TestRxns, enzymes)\n",
      "\n",
      "#search pubchem for unique hits\n",
      "novel_compounds = []\n",
      "for i in unique_prods:\n",
      "    searches = pcp.get_compounds('CanonicalSMILES', str(Chem.MolToSmiles(i)), 'smiles')\n",
      "    if str(searches) == '[Compound()]':\n",
      "        novel_compounds.append( i )\n",
      "        \n",
      "#put things in a df\n",
      "unique_prods_smiles = []\n",
      "novel_smiles = []\n",
      "for i in unique_prods:\n",
      "    unique_prods_smiles.append( Chem.MolToSmiles(i) )\n",
      "for i in novel_compounds:\n",
      "    novel_smiles.append( Chem.MolToSmiles(i) )\n",
      "\n",
      "novels =[ ]includeAtomNumbers=False\n",
      "for i in unique_prods_smiles:\n",
      "    if i in novel_smiles:\n",
      "        novels.append( 'Novel' )\n",
      "    else:\n",
      "        novels.append( 'Found in Pubchem' )\n",
      "Results = pd.DataFrame({'Native Substrate': unique_substrates, 'Native Product': unique_products, 'Products': unique_prods_smiles, 'Novel Compound?': novels, 'Enzymes': unique_enzymes})\n",
      "        \n",
      "print 'Novel Compounds found...'   \n",
      "print len(novel_compounds)\n",
      "print \"Runtime...\"\n",
      "print stop - start    \n",
      "Draw.MolsToGridImage(unique_prods,molsPerRow=4, includeAtomNumbers=False)"
     ],
     "language": "python",
     "metadata": {},
     "outputs": [
      {
       "ename": "KeyboardInterrupt",
       "evalue": "",
       "output_type": "pyerr",
       "traceback": [
        "\u001b[0;31m---------------------------------------------------------------------------\u001b[0m\n\u001b[0;31mKeyboardInterrupt\u001b[0m                         Traceback (most recent call last)",
        "\u001b[0;32m<ipython-input-281-04bb4c040e68>\u001b[0m in \u001b[0;36m<module>\u001b[0;34m()\u001b[0m\n\u001b[1;32m     18\u001b[0m \u001b[0;34m\u001b[0m\u001b[0m\n\u001b[1;32m     19\u001b[0m \u001b[0mstop\u001b[0m \u001b[0;34m=\u001b[0m \u001b[0mtimeit\u001b[0m\u001b[0;34m.\u001b[0m\u001b[0mdefault_timer\u001b[0m\u001b[0;34m(\u001b[0m\u001b[0;34m)\u001b[0m\u001b[0;34m\u001b[0m\u001b[0m\n\u001b[0;32m---> 20\u001b[0;31m \u001b[0munique_prods\u001b[0m\u001b[0;34m,\u001b[0m \u001b[0munique_substrates\u001b[0m\u001b[0;34m,\u001b[0m \u001b[0munique_products\u001b[0m\u001b[0;34m,\u001b[0m \u001b[0munique_enzymes\u001b[0m \u001b[0;34m=\u001b[0m \u001b[0mfilter_results\u001b[0m\u001b[0;34m(\u001b[0m\u001b[0mresults\u001b[0m\u001b[0;34m,\u001b[0m \u001b[0msubstrates\u001b[0m\u001b[0;34m,\u001b[0m \u001b[0mproducts\u001b[0m\u001b[0;34m,\u001b[0m \u001b[0mTestUni\u001b[0m\u001b[0;34m,\u001b[0m \u001b[0menzymes\u001b[0m\u001b[0;34m)\u001b[0m\u001b[0;34m\u001b[0m\u001b[0m\n\u001b[0m\u001b[1;32m     21\u001b[0m \u001b[0;34m\u001b[0m\u001b[0m\n\u001b[1;32m     22\u001b[0m \u001b[0;31m#search pubchem for unique hits\u001b[0m\u001b[0;34m\u001b[0m\u001b[0;34m\u001b[0m\u001b[0m\n",
        "\u001b[0;32m<ipython-input-280-b8cb51dd877a>\u001b[0m in \u001b[0;36mfilter_results\u001b[0;34m(results, sucsubstrates, sucproducts, df, enzymes)\u001b[0m\n\u001b[1;32m      3\u001b[0m     \u001b[0msmiles\u001b[0m \u001b[0;34m=\u001b[0m \u001b[0;34m[\u001b[0m\u001b[0;34m]\u001b[0m\u001b[0;34m\u001b[0m\u001b[0m\n\u001b[1;32m      4\u001b[0m     \u001b[0;32mfor\u001b[0m \u001b[0mi\u001b[0m \u001b[0;32min\u001b[0m \u001b[0mresults\u001b[0m\u001b[0;34m:\u001b[0m\u001b[0;34m\u001b[0m\u001b[0m\n\u001b[0;32m----> 5\u001b[0;31m         \u001b[0mrsmiles\u001b[0m\u001b[0;34m.\u001b[0m\u001b[0mappend\u001b[0m\u001b[0;34m(\u001b[0m \u001b[0mChem\u001b[0m\u001b[0;34m.\u001b[0m\u001b[0mMolToSmiles\u001b[0m\u001b[0;34m(\u001b[0m \u001b[0mi\u001b[0m \u001b[0;34m)\u001b[0m \u001b[0;34m)\u001b[0m\u001b[0;34m\u001b[0m\u001b[0m\n\u001b[0m\u001b[1;32m      6\u001b[0m \u001b[0;34m\u001b[0m\u001b[0m\n\u001b[1;32m      7\u001b[0m     \u001b[0mrsmiles2\u001b[0m \u001b[0;34m=\u001b[0m \u001b[0;34m[\u001b[0m\u001b[0;34m]\u001b[0m\u001b[0;34m\u001b[0m\u001b[0m\n",
        "\u001b[0;31mKeyboardInterrupt\u001b[0m: "
       ]
      }
     ],
     "prompt_number": 281
    },
    {
     "cell_type": "code",
     "collapsed": false,
     "input": [
      "len(list(set(Results['Products'].tolist())))"
     ],
     "language": "python",
     "metadata": {},
     "outputs": [
      {
       "output_type": "pyout",
       "prompt_number": 284,
       "text": [
        "8"
       ]
      }
     ],
     "prompt_number": 284
    },
    {
     "cell_type": "code",
     "collapsed": false,
     "input": [
      "#Results.to_csv(\"Desmosterol_one_iteration.csv\")\n",
      "#Results.to_csv(\"epoxycholesterol_one_iteration.csv\")\n",
      "#Results.to_csv('Lophenol_one_iteration.csv')\n",
      "Results.to_csv(\"26-hydroxycholesterol_one_iteration.csv\")"
     ],
     "language": "python",
     "metadata": {},
     "outputs": [],
     "prompt_number": 308
    },
    {
     "cell_type": "markdown",
     "metadata": {},
     "source": [
      "Code for two iterations."
     ]
    },
    {
     "cell_type": "code",
     "collapsed": false,
     "input": [
      "substrates = []\n",
      "products = []\n",
      "targets = []\n",
      "results = []\n",
      "enzyme1 = []\n",
      "enzyme2 = []\n",
      "#start = timeit.default_timer()\n",
      "for i in range(len(Results)):\n",
      "    for j in range(len(Results)):\n",
      "        try:\n",
      "            results.append( combinatorial_rxn( Results['Products'][j], Results['Native Substrate'][i], Results['Native Product'][i]) )\n",
      "            substrates.append( Results['Native Substrate'][i] )\n",
      "            products.append( Results['Native Product'][i] )\n",
      "            targets.append( Results['Products'][j] )\n",
      "            enzyme1.append( Results['Enzymes'][i] )\n",
      "            enzyme2.append( Results['Enzymes'][j] )\n",
      "        except:\n",
      "            pass"
     ],
     "language": "python",
     "metadata": {},
     "outputs": [],
     "prompt_number": "*"
    },
    {
     "cell_type": "code",
     "collapsed": false,
     "input": [
      "resultsmiles = []\n",
      "for i in results:\n",
      "    resultsmiles.append( Chem.MolToSmiles(i) )\n",
      "It2 = pd.DataFrame({'Native Substrate': substrates, 'Native Product': products, 'Results': resultsmiles, 'Enzyme 1': enzyme1, 'Enzyme 2': enzyme2})\n",
      "It2.head(10)\n",
      "\n",
      "filtered_results = filter_results2(It2['Results'])\n",
      "\n",
      "\n",
      "sf = []\n",
      "pf = []\n",
      "rsmf = []\n",
      "ef1 = []\n",
      "ef2 = []\n",
      "\n",
      "for i in filtered_results:\n",
      "    for j in range(len(It2)):\n",
      "        if i == It2['Results'].irow(j):\n",
      "            sf.append( It2['Native Substrate'].irow(j) )\n",
      "            pf.append( It2['Native Product'].irow(j) )\n",
      "            rsmf.append( It2['Results'].irow(j) )\n",
      "            ef1.append( It2['Enzyme 1'].irow(j) )\n",
      "            ef2.append( It2['Enzyme 2'].irow(j) )\n",
      "It2F = pd.DataFrame({'Native Substrate': sf, 'Native Product': pf, 'Results': rsmf, 'Enzyme 1': ef1, 'Enzyme 2': ef2})\n",
      "\n",
      "It2filtered = It2F.drop_duplicates(cols=['Results'])\n",
      "\n",
      "#search pubchem for unique hits\n",
      "novel_compounds = []\n",
      "for i in It2filtered['Results']:\n",
      "    try:\n",
      "        searches = pcp.get_compounds('CanonicalSMILES', str(i), 'smiles')\n",
      "    except:\n",
      "        pass\n",
      "    if str(searches) == '[Compound()]':\n",
      "        novel_compounds.append( i ) \n",
      "        \n",
      "novel_id = []\n",
      "for i in It2filtered['Results']:\n",
      "    if i in novel_compounds:\n",
      "        novel_id.append( \"Novel\" )\n",
      "    else:\n",
      "        novel_id.append( \"In Pubchem\" )\n",
      "It2filtered['Novelty'] = novel_id\n",
      "       \n",
      "print 'Novel Compounds found...'   \n",
      "print len(novel_compounds)\n",
      "print \"Runtime...\"\n",
      "print stop - start\n",
      "\n",
      "It2filtered.head(10)"
     ],
     "language": "python",
     "metadata": {},
     "outputs": [
      {
       "output_type": "stream",
       "stream": "stdout",
       "text": [
        "Novel Compounds found...\n",
        "23\n",
        "Runtime...\n",
        "95.67248106\n"
       ]
      },
      {
       "html": [
        "<div style=\"max-height:1000px;max-width:1500px;overflow:auto;\">\n",
        "<table border=\"1\" class=\"dataframe\">\n",
        "  <thead>\n",
        "    <tr style=\"text-align: right;\">\n",
        "      <th></th>\n",
        "      <th>Enzyme 1</th>\n",
        "      <th>Enzyme 2</th>\n",
        "      <th>Native Product</th>\n",
        "      <th>Native Substrate</th>\n",
        "      <th>Results</th>\n",
        "      <th>Novelty</th>\n",
        "    </tr>\n",
        "  </thead>\n",
        "  <tbody>\n",
        "    <tr>\n",
        "      <th>0</th>\n",
        "      <td>       CYP7A1</td>\n",
        "      <td>            CYP7A1</td>\n",
        "      <td>  CC(C)CCCC(C)C1CCC2C3C(O)C=C4CC(O)CCC4(C)C3CCC12C</td>\n",
        "      <td>     CC(C)CCCC(C)C1CCC2C3CC=C4CC(O)CCC4(C)C3CCC12C</td>\n",
        "      <td>     CC12CCC3C(C1CCC2O)C(O)CC1=CC(=O)CCC13C</td>\n",
        "      <td> In Pubchem</td>\n",
        "    </tr>\n",
        "    <tr>\n",
        "      <th>1</th>\n",
        "      <td>  Disembodied</td>\n",
        "      <td>            CYP7A1</td>\n",
        "      <td> CC(C(O)CCC(C)(C)O)C1CCC2(O)C3=CC(=O)C4CC(O)CCC...</td>\n",
        "      <td> CC(CCCC(C)(C)O)C1CCC2(O)C3=CC(=O)C4CC(O)CCC4(C...</td>\n",
        "      <td>     CC12CCC3C(C1CCC2O)C(O)CC1=CC(=O)CCC13C</td>\n",
        "      <td> In Pubchem</td>\n",
        "    </tr>\n",
        "    <tr>\n",
        "      <th>2</th>\n",
        "      <td>       DHS-16</td>\n",
        "      <td>            CYP7A1</td>\n",
        "      <td> C(C(C4C2(C(C1=CCC3C(C1CC2)(CCC(C3)=O)C)CC4)C)C...</td>\n",
        "      <td>   CC(C)CCCC(C)C1CCC2C1(CCC3C2=CCC4C3(CCC(C4)O)C)C</td>\n",
        "      <td>     CC12CCC3C(C1CCC2O)C(O)CC1=CC(=O)CCC13C</td>\n",
        "      <td> In Pubchem</td>\n",
        "    </tr>\n",
        "    <tr>\n",
        "      <th>3</th>\n",
        "      <td> 5a-reductase</td>\n",
        "      <td>            CYP7A1</td>\n",
        "      <td>               CC12CCC3C(C1CCC2O)CCC4=CC(=O)CCC34C</td>\n",
        "      <td>                CC12CCC(=O)CC1CCC3C2CCC4(C3CCC4O)C</td>\n",
        "      <td>     CC12CCC3C(C1CCC2O)C(O)CC1=CC(=O)CCC13C</td>\n",
        "      <td> In Pubchem</td>\n",
        "    </tr>\n",
        "    <tr>\n",
        "      <th>4</th>\n",
        "      <td>       CYP7A1</td>\n",
        "      <td> AKR1D1 and AKR1C4</td>\n",
        "      <td>  CC(C)CCCC(C)C1CCC2C3C(O)C=C4CC(O)CCC4(C)C3CCC12C</td>\n",
        "      <td>     CC(C)CCCC(C)C1CCC2C3CC=C4CC(O)CCC4(C)C3CCC12C</td>\n",
        "      <td>       CC12CCC3C(C1CCC2O)C(O)CC1CC(O)CCC13C</td>\n",
        "      <td> In Pubchem</td>\n",
        "    </tr>\n",
        "    <tr>\n",
        "      <th>5</th>\n",
        "      <td>  Disembodied</td>\n",
        "      <td> AKR1D1 and AKR1C4</td>\n",
        "      <td> CC(C(O)CCC(C)(C)O)C1CCC2(O)C3=CC(=O)C4CC(O)CCC...</td>\n",
        "      <td> CC(CCCC(C)(C)O)C1CCC2(O)C3=CC(=O)C4CC(O)CCC4(C...</td>\n",
        "      <td>       CC12CCC3C(C1CCC2O)C(O)CC1CC(O)CCC13C</td>\n",
        "      <td> In Pubchem</td>\n",
        "    </tr>\n",
        "    <tr>\n",
        "      <th>6</th>\n",
        "      <td>       CYP7A1</td>\n",
        "      <td>         Neverland</td>\n",
        "      <td>  CC(C)CCCC(C)C1CCC2C3C(O)C=C4CC(O)CCC4(C)C3CCC12C</td>\n",
        "      <td>     CC(C)CCCC(C)C1CCC2C3CC=C4CC(O)CCC4(C)C3CCC12C</td>\n",
        "      <td>  CC12CCC3C(C(O)CC4=CC(=O)CCC43C)C1(O)CCC2O</td>\n",
        "      <td>      Novel</td>\n",
        "    </tr>\n",
        "    <tr>\n",
        "      <th>7</th>\n",
        "      <td>       CYP7A1</td>\n",
        "      <td>       Disembodied</td>\n",
        "      <td>  CC(C)CCCC(C)C1CCC2C3C(O)C=C4CC(O)CCC4(C)C3CCC12C</td>\n",
        "      <td>     CC(C)CCCC(C)C1CCC2C3CC=C4CC(O)CCC4(C)C3CCC12C</td>\n",
        "      <td>     CC12CCC3C(=CC(O)C4CC(=O)CCC34C)C1CCC2O</td>\n",
        "      <td>      Novel</td>\n",
        "    </tr>\n",
        "    <tr>\n",
        "      <th>8</th>\n",
        "      <td>       CYP7A1</td>\n",
        "      <td>              ERG3</td>\n",
        "      <td>  CC(C)CCCC(C)C1CCC2C3C(O)C=C4CC(O)CCC4(C)C3CCC12C</td>\n",
        "      <td>     CC(C)CCCC(C)C1CCC2C3CC=C4CC(O)CCC4(C)C3CCC12C</td>\n",
        "      <td> CC1C(=O)CCC2(C)C1CCC1C3CCC(O)C3(C)CC(O)C12</td>\n",
        "      <td>      Novel</td>\n",
        "    </tr>\n",
        "    <tr>\n",
        "      <th>9</th>\n",
        "      <td>       CYP7A1</td>\n",
        "      <td>            HSD3B7</td>\n",
        "      <td>  CC(C)CCCC(C)C1CCC2C3C(O)C=C4CC(O)CCC4(C)C3CCC12C</td>\n",
        "      <td>     CC(C)CCCC(C)C1CCC2C3CC=C4CC(O)CCC4(C)C3CCC12C</td>\n",
        "      <td>    CC12CCC3C(C1CCC2=O)C(O)CC1=CC(=O)CCC13C</td>\n",
        "      <td> In Pubchem</td>\n",
        "    </tr>\n",
        "  </tbody>\n",
        "</table>\n",
        "</div>"
       ],
       "output_type": "pyout",
       "prompt_number": 250,
       "text": [
        "       Enzyme 1           Enzyme 2  \\\n",
        "0        CYP7A1             CYP7A1   \n",
        "1   Disembodied             CYP7A1   \n",
        "2        DHS-16             CYP7A1   \n",
        "3  5a-reductase             CYP7A1   \n",
        "4        CYP7A1  AKR1D1 and AKR1C4   \n",
        "5   Disembodied  AKR1D1 and AKR1C4   \n",
        "6        CYP7A1          Neverland   \n",
        "7        CYP7A1        Disembodied   \n",
        "8        CYP7A1               ERG3   \n",
        "9        CYP7A1             HSD3B7   \n",
        "\n",
        "                                      Native Product  \\\n",
        "0   CC(C)CCCC(C)C1CCC2C3C(O)C=C4CC(O)CCC4(C)C3CCC12C   \n",
        "1  CC(C(O)CCC(C)(C)O)C1CCC2(O)C3=CC(=O)C4CC(O)CCC...   \n",
        "2  C(C(C4C2(C(C1=CCC3C(C1CC2)(CCC(C3)=O)C)CC4)C)C...   \n",
        "3                CC12CCC3C(C1CCC2O)CCC4=CC(=O)CCC34C   \n",
        "4   CC(C)CCCC(C)C1CCC2C3C(O)C=C4CC(O)CCC4(C)C3CCC12C   \n",
        "5  CC(C(O)CCC(C)(C)O)C1CCC2(O)C3=CC(=O)C4CC(O)CCC...   \n",
        "6   CC(C)CCCC(C)C1CCC2C3C(O)C=C4CC(O)CCC4(C)C3CCC12C   \n",
        "7   CC(C)CCCC(C)C1CCC2C3C(O)C=C4CC(O)CCC4(C)C3CCC12C   \n",
        "8   CC(C)CCCC(C)C1CCC2C3C(O)C=C4CC(O)CCC4(C)C3CCC12C   \n",
        "9   CC(C)CCCC(C)C1CCC2C3C(O)C=C4CC(O)CCC4(C)C3CCC12C   \n",
        "\n",
        "                                    Native Substrate  \\\n",
        "0      CC(C)CCCC(C)C1CCC2C3CC=C4CC(O)CCC4(C)C3CCC12C   \n",
        "1  CC(CCCC(C)(C)O)C1CCC2(O)C3=CC(=O)C4CC(O)CCC4(C...   \n",
        "2    CC(C)CCCC(C)C1CCC2C1(CCC3C2=CCC4C3(CCC(C4)O)C)C   \n",
        "3                 CC12CCC(=O)CC1CCC3C2CCC4(C3CCC4O)C   \n",
        "4      CC(C)CCCC(C)C1CCC2C3CC=C4CC(O)CCC4(C)C3CCC12C   \n",
        "5  CC(CCCC(C)(C)O)C1CCC2(O)C3=CC(=O)C4CC(O)CCC4(C...   \n",
        "6      CC(C)CCCC(C)C1CCC2C3CC=C4CC(O)CCC4(C)C3CCC12C   \n",
        "7      CC(C)CCCC(C)C1CCC2C3CC=C4CC(O)CCC4(C)C3CCC12C   \n",
        "8      CC(C)CCCC(C)C1CCC2C3CC=C4CC(O)CCC4(C)C3CCC12C   \n",
        "9      CC(C)CCCC(C)C1CCC2C3CC=C4CC(O)CCC4(C)C3CCC12C   \n",
        "\n",
        "                                      Results     Novelty  \n",
        "0      CC12CCC3C(C1CCC2O)C(O)CC1=CC(=O)CCC13C  In Pubchem  \n",
        "1      CC12CCC3C(C1CCC2O)C(O)CC1=CC(=O)CCC13C  In Pubchem  \n",
        "2      CC12CCC3C(C1CCC2O)C(O)CC1=CC(=O)CCC13C  In Pubchem  \n",
        "3      CC12CCC3C(C1CCC2O)C(O)CC1=CC(=O)CCC13C  In Pubchem  \n",
        "4        CC12CCC3C(C1CCC2O)C(O)CC1CC(O)CCC13C  In Pubchem  \n",
        "5        CC12CCC3C(C1CCC2O)C(O)CC1CC(O)CCC13C  In Pubchem  \n",
        "6   CC12CCC3C(C(O)CC4=CC(=O)CCC43C)C1(O)CCC2O       Novel  \n",
        "7      CC12CCC3C(=CC(O)C4CC(=O)CCC34C)C1CCC2O       Novel  \n",
        "8  CC1C(=O)CCC2(C)C1CCC1C3CCC(O)C3(C)CC(O)C12       Novel  \n",
        "9     CC12CCC3C(C1CCC2=O)C(O)CC1=CC(=O)CCC13C  In Pubchem  "
       ]
      }
     ],
     "prompt_number": 250
    },
    {
     "cell_type": "code",
     "collapsed": false,
     "input": [
      "test = Results\n",
      "vis = []\n",
      "for i in test:\n",
      "    if Chem.MolFromSmiles(i) != None:\n",
      "        vis.append( Chem.MolFromSmiles( i ) )\n",
      "Draw.MolsToGridImage(vis, molsPerRow=8, includeAtomNumbers=False)"
     ],
     "language": "python",
     "metadata": {},
     "outputs": [
      {
       "output_type": "pyout",
       "prompt_number": 287,
       "text": [
        "<PIL.Image.Image image mode=RGB size=1600x0 at 0x4DA33B0>"
       ]
      }
     ],
     "prompt_number": 287
    },
    {
     "cell_type": "code",
     "collapsed": false,
     "input": [
      "vis = []\n",
      "for i in It2filtered['Results'].tolist():\n",
      "    vis.append( Chem.MolFromSmiles(i) )"
     ],
     "language": "python",
     "metadata": {},
     "outputs": [],
     "prompt_number": 268
    },
    {
     "cell_type": "heading",
     "level": 1,
     "metadata": {},
     "source": [
      "Troubleshooting"
     ]
    },
    {
     "cell_type": "code",
     "collapsed": false,
     "input": [
      "#sz = Chem.MolFromSmiles( TestRxns['Substrates'].irow(0) )\n",
      "#pz = Chem.MolFromSmiles( TestRxns['Products'].irow(0) )\n",
      "#Draw.MolsToGridImage([t, sz, pz, metastructure],molsPerRow=4, includeAtomNumbers=False)\n",
      "#product_modifications"
     ],
     "language": "python",
     "metadata": {},
     "outputs": [
      {
       "html": [
        "<div style=\"max-height:1000px;max-width:1500px;overflow:auto;\">\n",
        "<table border=\"1\" class=\"dataframe\">\n",
        "  <thead>\n",
        "    <tr style=\"text-align: right;\">\n",
        "      <th></th>\n",
        "      <th>Atomic Number</th>\n",
        "      <th>Bonds to be added</th>\n",
        "      <th>Bonds to be deleted</th>\n",
        "      <th>Connections to be added</th>\n",
        "      <th>Connections to be deleted</th>\n",
        "      <th>Neighbors</th>\n",
        "      <th>Product Unique Atoms</th>\n",
        "    </tr>\n",
        "  </thead>\n",
        "  <tbody>\n",
        "    <tr>\n",
        "      <th>0</th>\n",
        "      <td> 8</td>\n",
        "      <td> [SINGLE]</td>\n",
        "      <td> []</td>\n",
        "      <td> [18]</td>\n",
        "      <td> []</td>\n",
        "      <td> [18]</td>\n",
        "      <td> 20</td>\n",
        "    </tr>\n",
        "  </tbody>\n",
        "</table>\n",
        "</div>"
       ],
       "output_type": "pyout",
       "prompt_number": 150,
       "text": [
        "   Atomic Number Bonds to be added Bonds to be deleted  \\\n",
        "0              8          [SINGLE]                  []   \n",
        "\n",
        "  Connections to be added Connections to be deleted Neighbors  \\\n",
        "0                    [18]                        []      [18]   \n",
        "\n",
        "   Product Unique Atoms  \n",
        "0                    20  "
       ]
      }
     ],
     "prompt_number": 150
    },
    {
     "cell_type": "code",
     "collapsed": false,
     "input": [
      "TestRxns = TestRxns[TestRxns['Enzymes'] == 'ARK1C3']\n",
      "TestRxns"
     ],
     "language": "python",
     "metadata": {},
     "outputs": [
      {
       "html": [
        "<div style=\"max-height:1000px;max-width:1500px;overflow:auto;\">\n",
        "<table border=\"1\" class=\"dataframe\">\n",
        "  <thead>\n",
        "    <tr style=\"text-align: right;\">\n",
        "      <th></th>\n",
        "      <th>Enzymes</th>\n",
        "      <th>Substrates</th>\n",
        "      <th>Products</th>\n",
        "      <th>Pathway</th>\n",
        "    </tr>\n",
        "  </thead>\n",
        "  <tbody>\n",
        "    <tr>\n",
        "      <th>21</th>\n",
        "      <td> ARK1C3</td>\n",
        "      <td>  CC12CCC(=O)CC1CCC3C2CCC4(C3CCC4C(=O)CO)C</td>\n",
        "      <td>  CC12CCC(CC1CCC3C2CCC4(C3CCC4C(=O)CO)C)O</td>\n",
        "      <td> Steroid Hormone Biosynthesis</td>\n",
        "    </tr>\n",
        "    <tr>\n",
        "      <th>36</th>\n",
        "      <td> ARK1C3</td>\n",
        "      <td> CC(=O)C1CCC2C1(CCC3C2CCC4C3(CCC(=O)C4)C)C</td>\n",
        "      <td> CC(=O)C1CCC2C1(CCC3C2CCC4C3(CCC(C4)O)C)C</td>\n",
        "      <td> Steroid Hormone Biosynthesis</td>\n",
        "    </tr>\n",
        "    <tr>\n",
        "      <th>39</th>\n",
        "      <td> ARK1C3</td>\n",
        "      <td>  CC(C1CCC2C1(CCC3C2CCC4C3(CCC(=O)C4)C)C)O</td>\n",
        "      <td>  CC(C1CCC2C1(CCC3C2CCC4C3(CCC(C4)O)C)C)O</td>\n",
        "      <td> Steroid Hormone Biosynthesis</td>\n",
        "    </tr>\n",
        "  </tbody>\n",
        "</table>\n",
        "</div>"
       ],
       "output_type": "pyout",
       "prompt_number": 151,
       "text": [
        "   Enzymes                                 Substrates  \\\n",
        "21  ARK1C3   CC12CCC(=O)CC1CCC3C2CCC4(C3CCC4C(=O)CO)C   \n",
        "36  ARK1C3  CC(=O)C1CCC2C1(CCC3C2CCC4C3(CCC(=O)C4)C)C   \n",
        "39  ARK1C3   CC(C1CCC2C1(CCC3C2CCC4C3(CCC(=O)C4)C)C)O   \n",
        "\n",
        "                                    Products                       Pathway  \n",
        "21   CC12CCC(CC1CCC3C2CCC4(C3CCC4C(=O)CO)C)O  Steroid Hormone Biosynthesis  \n",
        "36  CC(=O)C1CCC2C1(CCC3C2CCC4C3(CCC(C4)O)C)C  Steroid Hormone Biosynthesis  \n",
        "39   CC(C1CCC2C1(CCC3C2CCC4C3(CCC(C4)O)C)C)O  Steroid Hormone Biosynthesis  "
       ]
      }
     ],
     "prompt_number": 151
    },
    {
     "cell_type": "code",
     "collapsed": false,
     "input": [
      "def modify_substrate(substrate_modifications, steroid1, steroid2, steroids):\n",
      "    m1 = Chem.MolFromSmiles(steroid1)\n",
      "    m2 = Chem.MolFromSmiles(steroid2)\n",
      "    ms = Chem.MolFromSmiles(steroids)\n",
      "    ############################################################\n",
      "    #removes atoms that are removed via lyase activity, first must find atoms that are removed from the native substrate to the product\n",
      "    #then we have to compare those atoms to our non-native substrate then systematically remove them the tricky thing here will be indexing (as always)\n",
      "    native_lexicon = create_lexicon(ms, m2)\n",
      "    substrates_lexicon = create_lexicon(m1, ms)\n",
      "    \n",
      "    ms_atoms = []\n",
      "    ms_m2_atoms = []\n",
      "    m2matchingatoms = []\n",
      "    for atom in ms.GetAtoms():\n",
      "        ms_atoms.append( atom.GetIdx() )\n",
      "    for i in native_lexicon:\n",
      "        ms_m2_atoms.append( i[0] )\n",
      "        m2matchingatoms.append( i[1] )\n",
      "    #see which atoms don't have overlap i.e. things that need to be deleted\n",
      "    ms_cleaved = []\n",
      "    for i in ms_atoms:\n",
      "        if i not in ms_m2_atoms:\n",
      "            ms_cleaved.append( i )\n",
      "            \n",
      "    mp_atoms = []\n",
      "    for atom in m2.GetAtoms():\n",
      "        mp_atoms.append( atom )\n",
      "     \n",
      "    mp_unique_atoms = []\n",
      "    for i in mp_atoms:\n",
      "        if i.GetIdx() not in m2matchingatoms:\n",
      "            mp_unique_atoms.append( i.GetIdx() )\n",
      "    \n",
      "    #aromatic atoms will screw this code up, we need to make sure the atoms we're going to delete are due to aromaticitiy         \n",
      "    aromatic_check = []\n",
      "    aromatic_idxi = []\n",
      "    aromatic_idxj = []\n",
      "    for i in mp_unique_atoms:\n",
      "        for j in mp_unique_atoms:\n",
      "            try:\n",
      "                aromatic_check.append( str( m2.GetBondBetweenAtoms(i, j).GetIsAromatic() ) )\n",
      "                aromatic_idxi.append( i )\n",
      "                aromatic_idxj.append( j )\n",
      "            except:\n",
      "                pass\n",
      "\n",
      "    #translate ms_cleaved to our target\n",
      "    target_specifics = []\n",
      "    for i in ms_cleaved:\n",
      "        for j in substrates_lexicon:\n",
      "            if i == j[1]:\n",
      "                target_specifics.append( j[0] )\n",
      "           \n",
      "    if 'True' not in aromatic_check:   \n",
      "        AROMATIC_FLAG = None\n",
      "        temp_lex = create_lexicon( ms, m1 )\n",
      "        em = Chem.EditableMol(m1)\n",
      "        for i in range(len(ms_cleaved)):\n",
      "            temp_lex = create_lexicon( ms, m1 )\n",
      "            for j in temp_lex:\n",
      "                if j[0] == ms_cleaved[i]:\n",
      "                    print j[1]\n",
      "                    deletion_atom = j[1]\n",
      "                    em.RemoveAtom(deletion_atom)\n",
      "                    m1 = em.GetMol()\n",
      "        m1smiles = Chem.MolToSmiles( m1 )\n",
      "        m1smiles = clean_smiles( m1smiles )\n",
      "        try:\n",
      "            m1 = Chem.MolFromSmiles( m1smiles )\n",
      "        except:\n",
      "            pass\n",
      "    else:\n",
      "        AROMATIC_FLAG = 'GO'\n",
      "        \n",
      "    ##########################################    \n",
      "    native_lexicon = create_lexicon(ms, m2)\n",
      "    substrates_lexicon = create_lexicon(m1, ms)\n",
      "    \n",
      "    ms_atoms = []\n",
      "    ms_m2_atoms = []\n",
      "    m2matchingatoms = []\n",
      "    for atom in ms.GetAtoms():\n",
      "        ms_atoms.append( atom.GetIdx() )\n",
      "    for i in native_lexicon:\n",
      "        ms_m2_atoms.append( i[0] )\n",
      "        m2matchingatoms.append( i[1] )\n",
      "    #see which atoms don't have overlap i.e. things that need to be deleted\n",
      "    ms_cleaved = []\n",
      "    for i in ms_atoms:\n",
      "        if i not in ms_m2_atoms:\n",
      "            ms_cleaved.append( i )\n",
      "            \n",
      "    mp_atoms = []\n",
      "    for atom in m2.GetAtoms():\n",
      "        mp_atoms.append( atom )\n",
      "     \n",
      "    mp_unique_atoms = []\n",
      "    for i in mp_atoms:\n",
      "        if i.GetIdx() not in m2matchingatoms:\n",
      "            mp_unique_atoms.append( i.GetIdx() )\n",
      "    \n",
      "    #aromatic atoms will screw this code up, we need to make sure the atoms we're going to delete are due to aromaticitiy         \n",
      "    aromatic_check = []\n",
      "    aromatic_idxi = []\n",
      "    aromatic_idxj = []\n",
      "    for i in mp_unique_atoms:\n",
      "        for j in mp_unique_atoms:\n",
      "            try:\n",
      "                aromatic_check.append( str( m2.GetBondBetweenAtoms(i, j).GetIsAromatic() ) )\n",
      "                aromatic_idxi.append( i )\n",
      "                aromatic_idxj.append( j )\n",
      "            except:\n",
      "                pass\n",
      "\n",
      "    #translate ms_cleaved to our target\n",
      "    target_specifics = []\n",
      "    for i in ms_cleaved:\n",
      "        for j in substrates_lexicon:\n",
      "            if i == j[1]:\n",
      "                target_specifics.append( j[0] )\n",
      "           \n",
      "    if 'True' not in aromatic_check:   \n",
      "        AROMATIC_FLAG = None\n",
      "        temp_lex = create_lexicon( ms, m1 )\n",
      "        em = Chem.EditableMol(m1)\n",
      "        for i in range(len(ms_cleaved)):\n",
      "            temp_lex = create_lexicon( ms, m1 )\n",
      "            for j in temp_lex:\n",
      "                if j[0] == ms_cleaved[i]:\n",
      "                    print j[1]\n",
      "                    deletion_atom = j[1]\n",
      "                    em.RemoveAtom(deletion_atom)\n",
      "                    m1 = em.GetMol()\n",
      "        m1smiles = Chem.MolToSmiles( m1 )\n",
      "        m1smiles = clean_smiles( m1smiles )\n",
      "        try:\n",
      "            m1 = Chem.MolFromSmiles( m1smiles )\n",
      "        except:\n",
      "            pass\n",
      "    else:\n",
      "        AROMATIC_FLAG = 'GO'   \n",
      "        \n",
      "    \n",
      "    \n",
      "    #create lexicon to compare atom indices\n",
      "    lexicon = create_lexicon(m1, m2)\n",
      "    ############################################################\n",
      "    #This will be the double bonds specific to the substrate \n",
      "    #I have to do this because double bonds seem to be more specific than single bonds in RDkit, \n",
      "    #By knowing the exact position of the double bonds I need to remove and add, I can more accurately transform the molecule\n",
      "    \n",
      "    m2bondtypessub = []\n",
      "    m2bondidxsub = []\n",
      "    m2bondstartsub = []\n",
      "    m2bondendsub = []\n",
      "    \n",
      "    m1bondtypessub = []\n",
      "    m1bondidxsub = []\n",
      "    m1bondstartsub = []\n",
      "    m1bondendsub = []\n",
      "      \n",
      "    for i in lexicon:\n",
      "        idx1 = i[0]\n",
      "        m1bondidxsub.append( idx1 )\n",
      "        m1bondtypessub.append( m1.GetBondWithIdx(idx1).GetBondType() )\n",
      "    for i in m1bondidxsub:\n",
      "        m1bondstartsub.append( m1.GetBondWithIdx(int(i)).GetBeginAtomIdx() )\n",
      "        m1bondendsub.append( m1.GetBondWithIdx(int(i)).GetEndAtomIdx() )\n",
      "    \n",
      "    for i in m1bondstartsub:\n",
      "        for j in lexicon:\n",
      "            if i == j[0]:\n",
      "                m2bondstartsub.append( j[1] )\n",
      "    for i in m1bondendsub:\n",
      "        for j in lexicon:\n",
      "            if i == j[0]:\n",
      "                m2bondendsub.append( j[1] )\n",
      "    for i in m1bondidxsub:\n",
      "        for j in lexicon:\n",
      "            if i == j[0]:\n",
      "                m2bondidxsub.append( j[1] ) \n",
      "    for i in m2bondidxsub:\n",
      "        m2bondtypessub.append( m2.GetBondWithIdx(int(i)).GetBondType() )\n",
      "        \n",
      "    bondindices = ''\n",
      "    bondindicessub = ''\n",
      "    \n",
      "    em = Chem.EditableMol(m1)    \n",
      "    if len(BondIndex( ms, m2 )) != 0 and AROMATIC_FLAG != 'GO': #compares bonds between both the substrate, product, and target to determine if anything needs to be added\n",
      "        bondindicessub = BondIndex( m1, m2 )\n",
      "        bondindicessub = bondindicessub[bondindicessub['M1 Bond Type'] != bondindicessub['M2 Bond Type']]\n",
      "        #bondindices = bondindices[bondindices['M1 Bond Index'] != bondindices['M1 Bond Start']]\n",
      "        em = Chem.EditableMol(m1)\n",
      "        if len(BondIndex(m1, m2)) != 0: ###This logic gate passes the bond formation if the substrate > product chemistry has no bond changes. I may actually destroy this step entirely...\n",
      "            for i in range(len(bondindicessub)):\n",
      "                if str(bondindicessub['M1 Bond Type'].irow(i)) == str('SINGLE') and str(bondindicessub['M2 Bond Type'].irow(i)) == str('DOUBLE'):\n",
      "                    em.RemoveBond(int(bondindicessub['M1 Bond Start'].irow(i)), int(bondindicessub['M1 Bond End'].irow(i)))\n",
      "                    em.AddBond(int(bondindicessub['M1 Bond Start'].irow(i)), int(bondindicessub['M1 Bond End'].irow(i)), Chem.BondType.DOUBLE)\n",
      "                else:\n",
      "                    str(bondindicessub['M1 Bond Type'].irow(i)) == str('DOUBLE')\n",
      "                    em.RemoveBond(int(bondindicessub['M1 Bond Start'].irow(i)), int(bondindicessub['M1 Bond End'].irow(i)))\n",
      "                    em.AddBond(int(bondindicessub['M1 Bond Start'].irow(i)), int(bondindicessub['M1 Bond End'].irow(i)), Chem.BondType.SINGLE)\n",
      "    else:\n",
      "        pass\n",
      "        \n",
      "    m1 = em.GetMol()\n",
      "        \n",
      "    ############################################################iterate through bonds in both molecules to see if we need to delete any\n",
      "    #This will be the double bonds specific to the product\n",
      "    m2bondtypes = []\n",
      "    m2bondidx = []\n",
      "    m2bondstart = []\n",
      "    m2bondend = []\n",
      "    \n",
      "    m1bondtypes = []\n",
      "    m1bondidx = []\n",
      "    m1bondstart = []\n",
      "    m1bondend = []\n",
      "    \n",
      "    for i in lexicon:\n",
      "        idx2 = i[1]\n",
      "        m2bondidx.append( idx2 )\n",
      "        m2bondtypes.append( m2.GetBondWithIdx(idx2).GetBondType() )\n",
      "    for i in m2bondidx:\n",
      "        m2bondstart.append( m2.GetBondWithIdx(int(i)).GetBeginAtomIdx() )\n",
      "        m2bondend.append( m2.GetBondWithIdx(int(i)).GetEndAtomIdx() )\n",
      "        \n",
      "    m1bondtypes = []\n",
      "    m1bondidx = []\n",
      "    m1bondstart = []\n",
      "    m1bondend = []\n",
      "    \n",
      "    for i in m2bondstart:\n",
      "        for j in lexicon:\n",
      "            if i == j[1]:\n",
      "                m1bondstart.append( j[0] )\n",
      "    for i in m2bondend:\n",
      "        for j in lexicon:\n",
      "            if i == j[1]:\n",
      "                m1bondend.append( j[0] )\n",
      "    for i in m2bondidx:\n",
      "        for j in lexicon:\n",
      "            if i == j[1]:\n",
      "                m1bondidx.append( j[0] ) \n",
      "    for i in m1bondidx:\n",
      "        m1bondtypes.append( m1.GetBondWithIdx(int(i)).GetBondType() )\n",
      "                \n",
      "    #exceptions are atoms that extend from the start bond that actually are irrelevant because where they should go don't exist in the starting molecule\n",
      "    #this is problematic because they could add bonds to places they shouldn't be\n",
      "    exceptions = []    \n",
      "    for i in range(len(m2bondend)):\n",
      "        if m2bondend[i] not in [int(j[1]) for j in lexicon]:\n",
      "            exceptions.append( m2bondend[i] )\n",
      "    \n",
      "    try: #this try skips the deconstruction phase if it doesn't need to happen\n",
      "        bondindices = BondIndex( m2, m1 )\n",
      "        patt1 = Chem.MolFromSmarts(MCS.FindMCS([Chem.MolFromSmiles(steroid1), Chem.MolFromSmiles(steroid2)]).smarts)\n",
      "        #remove specififed atoms from the substrate\n",
      "        to_delete_atoms = substrate_modifications['Substrate Unique Atoms'].tolist()\n",
      "    \n",
      "        #deletes atoms that are in the substrate but not the product, could be from lyases or whatnot\n",
      "        for i in range(len(substrate_modifications['Substrate Unique Atoms'])):\n",
      "            try:\n",
      "                patt1 = Chem.MolFromSmarts(MCS.FindMCS([m1, Chem.MolFromSmiles(steroid2)]).smarts)\n",
      "                matching1 = m1.GetSubstructMatch(patt1)\n",
      "                matching1 = list(matching1)\n",
      "                #below is indices in m, ordered as patt\u2018s atoms\n",
      "                index1 = range(m1.GetNumAtoms())\n",
      "                #these are the atoms in the substrate that are NOT in the product\n",
      "                substrate_specific_atoms = list(set(index1) - set(matching1))\n",
      "                \n",
      "                #delete just the first substrate_specific_atom because the whole molecule will reindex \n",
      "                em = Chem.EditableMol(m1)\n",
      "                em.RemoveAtom(to_delete_atoms[0])\n",
      "            \n",
      "                #need to fix the valences of the atoms we deleted earlier, for whatever reason a radical or a hydrogen is thrown on and the valence is incorrect.\n",
      "                #Using bondindicessub because it's coordinates are 100% reliable\n",
      "                for j in range(len(bondindicessub)):\n",
      "                    if int(bondindicessub['M1 Bond End'].irow(j)) == int(substrate_specific_atoms[0]):\n",
      "                        deletion_target_num = int(bondindicessub['M1 Bond Start'].irow(j))\n",
      "                        deletion_target = m1.GetAtomWithIdx( int(bondindicessub['M1 Bond Start'].irow(j)) )\n",
      "                        deletion_neighbors = [x.GetIdx() for x in deletion_target.GetNeighbors()] \n",
      "                        #get the bonds that are connected to indexed atom but not the ones that are in the 'meta-structure'\n",
      "                        em = Chem.EditableMol(m1)\n",
      "                        newidx = em.AddAtom(Chem.Atom(6))\n",
      "                        if len(deletion_neighbors) == 1:\n",
      "                            em.AddBond(newidx, deletion_neighbors[0], Chem.BondType.SINGLE)\n",
      "                        elif len(deletion_neighbors) == 2:\n",
      "                            em.AddBond(newidx, deletion_neighbors[0], Chem.BondType.SINGLE)\n",
      "                            em.AddBond(newidx, deletion_neighbors[1], Chem.BondType.SINGLE)\n",
      "                        elif len(deletion_neighbors) == 3:\n",
      "                            em.AddBond(newidx, deletion_neighbors[0], Chem.BondType.SINGLE)\n",
      "                            em.AddBond(newidx, deletion_neighbors[1], Chem.BondType.SINGLE)\n",
      "                            em.AddBond(newidx, deletion_neighbors[2], Chem.BondType.SINGLE)\n",
      "                        em.RemoveAtom(deletion_target_num)\n",
      "            except:\n",
      "                pass\n",
      "    except:\n",
      "        bondindices = ''\n",
      "        bondindicessub = ''\n",
      "                \n",
      "    m1 = em.GetMol()\n",
      "    #Chem.SanitizeMol(m1)\n",
      "    return m1, bondindices, bondindicessub, AROMATIC_FLAG"
     ],
     "language": "python",
     "metadata": {},
     "outputs": [],
     "prompt_number": 253
    },
    {
     "cell_type": "code",
     "collapsed": false,
     "input": [
      "TestRxns = TestUni\n",
      "comblist = []\n",
      "i = 56\n",
      "    \n",
      "target = TestRxns['Substrates'].irow(i)\n",
      "native_substrate = TestRxns['Substrates'].irow(i)\n",
      "native_product = TestRxns['Products'].irow(i)\n",
      "\n",
      "t = Chem.MolFromSmiles( target )\n",
      "s = Chem.MolFromSmiles( native_substrate )\n",
      "p = Chem.MolFromSmiles( native_product )\n",
      "\n",
      "unique = unique_atoms(t, s)[0]\n",
      "exceptions = [x for x in unique]\n",
      "unique2 = unique_atoms(p, t)[0] #relative to the product and substrate, this is so you don't add too much stuff to your target\n",
      "uniquekeep = unique_atoms(p, s)[0]\n",
      "exceptions2 = list(set(unique2) - set(uniquekeep))\n",
      "\n",
      "#deconstruction phase\n",
      "substrate_modifications = pattern_findersub(target, native_substrate, exceptions)\n",
      "metastructure, chart, sub, flag = modify_substrate(substrate_modifications, target, native_product, native_substrate)\n",
      "\n",
      "if flag == 'GO':\n",
      "    exceptions2 = [] #list(set(unique2) - set(uniquekeep))\n",
      "    product_modifications = pattern_finderprod(p, target, exceptions2, native_substrate)\n",
      "    new_product = modify_metastructure(product_modifications, p, target)\n",
      "else:\n",
      "    product_modifications = pattern_finderprod(metastructure, native_product, exceptions2, native_substrate)\n",
      "    new_product = modify_metastructure(product_modifications, metastructure, native_product)\n",
      " \n",
      "metastructure"
     ],
     "language": "python",
     "metadata": {},
     "outputs": [
      {
       "output_type": "stream",
       "stream": "stdout",
       "text": [
        "25\n",
        "27\n",
        "27\n"
       ]
      },
      {
       "output_type": "pyout",
       "png": "[encoded data removed]",
       "prompt_number": 257,
       "text": [
        "<rdkit.Chem.rdchem.Mol at 0x4096600>"
       ]
      }
     ],
     "prompt_number": 257
    },
    {
     "cell_type": "code",
     "collapsed": false,
     "input": [
      "create_lexicon(metastructure, p)"
     ],
     "language": "python",
     "metadata": {},
     "outputs": [
      {
       "output_type": "pyout",
       "prompt_number": 262,
       "text": [
        "[(0, 21),\n",
        " (1, 20),\n",
        " (2, 22),\n",
        " (3, 23),\n",
        " (4, 24),\n",
        " (5, 25),\n",
        " (6, 26),\n",
        " (7, 27),\n",
        " (8, 19),\n",
        " (9, 18),\n",
        " (10, 17),\n",
        " (11, 16),\n",
        " (12, 15),\n",
        " (13, 14),\n",
        " (14, 13),\n",
        " (15, 6),\n",
        " (16, 5),\n",
        " (17, 4),\n",
        " (18, 3),\n",
        " (19, 2),\n",
        " (20, 7),\n",
        " (21, 8),\n",
        " (22, 9),\n",
        " (23, 0),\n",
        " (24, 1),\n",
        " (25, 10),\n",
        " (26, 11),\n",
        " (27, 12),\n",
        " (28, 28)]"
       ]
      }
     ],
     "prompt_number": 262
    },
    {
     "cell_type": "code",
     "collapsed": false,
     "input": [
      "Draw.MolsToGridImage([t, s, p, metastructure, new_product],molsPerRow=8, includeAtomNumbers=True)"
     ],
     "language": "python",
     "metadata": {},
     "outputs": [
      {
       "output_type": "pyout",
       "png": "[encoded data removed]",
       "prompt_number": 248,
       "text": [
        "<PIL.Image.Image image mode=RGB size=1600x200 at 0x3E12098>"
       ]
      }
     ],
     "prompt_number": 248
    },
    {
     "cell_type": "code",
     "collapsed": false,
     "input": [
      "Draw.MolsToGridImage([t, s, p, metastructure, new_product],molsPerRow=8, includeAtomNumbers=False)"
     ],
     "language": "python",
     "metadata": {},
     "outputs": [
      {
       "output_type": "pyout",
       "png": "[encoded data removed]",
       "prompt_number": 252,
       "text": [
        "<PIL.Image.Image image mode=RGB size=1600x200 at 0x356B998>"
       ]
      }
     ],
     "prompt_number": 252
    },
    {
     "cell_type": "heading",
     "level": 1,
     "metadata": {},
     "source": [
      "Piecing together the algorithm"
     ]
    },
    {
     "cell_type": "code",
     "collapsed": false,
     "input": [
      "from SteroidFunctions import *\n",
      "\n",
      "test = pcp.get_properties('CanonicalSMILES', 'Androstenedione', 'name')\n",
      "print str(test[0]['CanonicalSMILES'])\n",
      "Chem.MolFromSmiles( str(test[0]['CanonicalSMILES']) )"
     ],
     "language": "python",
     "metadata": {},
     "outputs": [
      {
       "ename": "URLError",
       "evalue": "<urlopen error [Errno -2] Name or service not known>",
       "output_type": "pyerr",
       "traceback": [
        "\u001b[0;31m---------------------------------------------------------------------------\u001b[0m\n\u001b[0;31mURLError\u001b[0m                                  Traceback (most recent call last)",
        "\u001b[0;32m<ipython-input-26-aefdccbb1fc4>\u001b[0m in \u001b[0;36m<module>\u001b[0;34m()\u001b[0m\n\u001b[1;32m      1\u001b[0m \u001b[0;32mfrom\u001b[0m \u001b[0mSteroidFunctions\u001b[0m \u001b[0;32mimport\u001b[0m \u001b[0;34m*\u001b[0m\u001b[0;34m\u001b[0m\u001b[0m\n\u001b[1;32m      2\u001b[0m \u001b[0;34m\u001b[0m\u001b[0m\n\u001b[0;32m----> 3\u001b[0;31m \u001b[0mtest\u001b[0m \u001b[0;34m=\u001b[0m \u001b[0mpcp\u001b[0m\u001b[0;34m.\u001b[0m\u001b[0mget_properties\u001b[0m\u001b[0;34m(\u001b[0m\u001b[0;34m'CanonicalSMILES'\u001b[0m\u001b[0;34m,\u001b[0m \u001b[0;34m'Androstenedione'\u001b[0m\u001b[0;34m,\u001b[0m \u001b[0;34m'name'\u001b[0m\u001b[0;34m)\u001b[0m\u001b[0;34m\u001b[0m\u001b[0m\n\u001b[0m\u001b[1;32m      4\u001b[0m \u001b[0;32mprint\u001b[0m \u001b[0mstr\u001b[0m\u001b[0;34m(\u001b[0m\u001b[0mtest\u001b[0m\u001b[0;34m[\u001b[0m\u001b[0;36m0\u001b[0m\u001b[0;34m]\u001b[0m\u001b[0;34m[\u001b[0m\u001b[0;34m'CanonicalSMILES'\u001b[0m\u001b[0;34m]\u001b[0m\u001b[0;34m)\u001b[0m\u001b[0;34m\u001b[0m\u001b[0m\n\u001b[1;32m      5\u001b[0m \u001b[0mChem\u001b[0m\u001b[0;34m.\u001b[0m\u001b[0mMolFromSmiles\u001b[0m\u001b[0;34m(\u001b[0m \u001b[0mstr\u001b[0m\u001b[0;34m(\u001b[0m\u001b[0mtest\u001b[0m\u001b[0;34m[\u001b[0m\u001b[0;36m0\u001b[0m\u001b[0;34m]\u001b[0m\u001b[0;34m[\u001b[0m\u001b[0;34m'CanonicalSMILES'\u001b[0m\u001b[0;34m]\u001b[0m\u001b[0;34m)\u001b[0m \u001b[0;34m)\u001b[0m\u001b[0;34m\u001b[0m\u001b[0m\n",
        "\u001b[0;32m/usr/local/lib/python2.7/dist-packages/pubchempy.pyc\u001b[0m in \u001b[0;36mget_properties\u001b[0;34m(properties, identifier, namespace, searchtype, as_dataframe, **kwargs)\u001b[0m\n\u001b[1;32m    198\u001b[0m     \u001b[0mproperties\u001b[0m \u001b[0;34m=\u001b[0m \u001b[0;34m','\u001b[0m\u001b[0;34m.\u001b[0m\u001b[0mjoin\u001b[0m\u001b[0;34m(\u001b[0m\u001b[0;34m[\u001b[0m\u001b[0mPROPERTY_MAP\u001b[0m\u001b[0;34m.\u001b[0m\u001b[0mget\u001b[0m\u001b[0;34m(\u001b[0m\u001b[0mp\u001b[0m\u001b[0;34m,\u001b[0m \u001b[0mp\u001b[0m\u001b[0;34m)\u001b[0m \u001b[0;32mfor\u001b[0m \u001b[0mp\u001b[0m \u001b[0;32min\u001b[0m \u001b[0mproperties\u001b[0m\u001b[0;34m]\u001b[0m\u001b[0;34m)\u001b[0m\u001b[0;34m\u001b[0m\u001b[0m\n\u001b[1;32m    199\u001b[0m     \u001b[0mproperties\u001b[0m \u001b[0;34m=\u001b[0m \u001b[0;34m'property/%s'\u001b[0m \u001b[0;34m%\u001b[0m \u001b[0mproperties\u001b[0m\u001b[0;34m\u001b[0m\u001b[0m\n\u001b[0;32m--> 200\u001b[0;31m     \u001b[0mresults\u001b[0m \u001b[0;34m=\u001b[0m \u001b[0mget_json\u001b[0m\u001b[0;34m(\u001b[0m\u001b[0midentifier\u001b[0m\u001b[0;34m,\u001b[0m \u001b[0mnamespace\u001b[0m\u001b[0;34m,\u001b[0m \u001b[0;34m'compound'\u001b[0m\u001b[0;34m,\u001b[0m \u001b[0mproperties\u001b[0m\u001b[0;34m,\u001b[0m \u001b[0msearchtype\u001b[0m\u001b[0;34m=\u001b[0m\u001b[0msearchtype\u001b[0m\u001b[0;34m,\u001b[0m \u001b[0;34m**\u001b[0m\u001b[0mkwargs\u001b[0m\u001b[0;34m)\u001b[0m\u001b[0;34m\u001b[0m\u001b[0m\n\u001b[0m\u001b[1;32m    201\u001b[0m     \u001b[0mresults\u001b[0m \u001b[0;34m=\u001b[0m \u001b[0mresults\u001b[0m\u001b[0;34m[\u001b[0m\u001b[0;34m'PropertyTable'\u001b[0m\u001b[0;34m]\u001b[0m\u001b[0;34m[\u001b[0m\u001b[0;34m'Properties'\u001b[0m\u001b[0;34m]\u001b[0m \u001b[0;32mif\u001b[0m \u001b[0mresults\u001b[0m \u001b[0;32melse\u001b[0m \u001b[0;34m[\u001b[0m\u001b[0;34m]\u001b[0m\u001b[0;34m\u001b[0m\u001b[0m\n\u001b[1;32m    202\u001b[0m     \u001b[0;32mif\u001b[0m \u001b[0mas_dataframe\u001b[0m\u001b[0;34m:\u001b[0m\u001b[0;34m\u001b[0m\u001b[0m\n",
        "\u001b[0;32m/usr/local/lib/python2.7/dist-packages/pubchempy.pyc\u001b[0m in \u001b[0;36mget_json\u001b[0;34m(identifier, namespace, domain, operation, searchtype, **kwargs)\u001b[0m\n\u001b[1;32m    101\u001b[0m     \u001b[0;34m\"\"\"Request wrapper that automatically parses JSON response and supresses NotFoundError.\"\"\"\u001b[0m\u001b[0;34m\u001b[0m\u001b[0m\n\u001b[1;32m    102\u001b[0m     \u001b[0;32mtry\u001b[0m\u001b[0;34m:\u001b[0m\u001b[0;34m\u001b[0m\u001b[0m\n\u001b[0;32m--> 103\u001b[0;31m         \u001b[0;32mreturn\u001b[0m \u001b[0mjson\u001b[0m\u001b[0;34m.\u001b[0m\u001b[0mloads\u001b[0m\u001b[0;34m(\u001b[0m\u001b[0mget\u001b[0m\u001b[0;34m(\u001b[0m\u001b[0midentifier\u001b[0m\u001b[0;34m,\u001b[0m \u001b[0mnamespace\u001b[0m\u001b[0;34m,\u001b[0m \u001b[0mdomain\u001b[0m\u001b[0;34m,\u001b[0m \u001b[0moperation\u001b[0m\u001b[0;34m,\u001b[0m \u001b[0;34m'JSON'\u001b[0m\u001b[0;34m,\u001b[0m \u001b[0msearchtype\u001b[0m\u001b[0;34m,\u001b[0m \u001b[0;34m**\u001b[0m\u001b[0mkwargs\u001b[0m\u001b[0;34m)\u001b[0m\u001b[0;34m.\u001b[0m\u001b[0mdecode\u001b[0m\u001b[0;34m(\u001b[0m\u001b[0;34m)\u001b[0m\u001b[0;34m)\u001b[0m\u001b[0;34m\u001b[0m\u001b[0m\n\u001b[0m\u001b[1;32m    104\u001b[0m     \u001b[0;32mexcept\u001b[0m \u001b[0mNotFoundError\u001b[0m \u001b[0;32mas\u001b[0m \u001b[0me\u001b[0m\u001b[0;34m:\u001b[0m\u001b[0;34m\u001b[0m\u001b[0m\n\u001b[1;32m    105\u001b[0m         \u001b[0mlog\u001b[0m\u001b[0;34m.\u001b[0m\u001b[0minfo\u001b[0m\u001b[0;34m(\u001b[0m\u001b[0me\u001b[0m\u001b[0;34m)\u001b[0m\u001b[0;34m\u001b[0m\u001b[0m\n",
        "\u001b[0;32m/usr/local/lib/python2.7/dist-packages/pubchempy.pyc\u001b[0m in \u001b[0;36mget\u001b[0;34m(identifier, namespace, domain, operation, output, searchtype, **kwargs)\u001b[0m\n\u001b[1;32m     94\u001b[0m                 \u001b[0mresponse\u001b[0m \u001b[0;34m=\u001b[0m \u001b[0mrequest\u001b[0m\u001b[0;34m(\u001b[0m\u001b[0midentifier\u001b[0m\u001b[0;34m,\u001b[0m \u001b[0mnamespace\u001b[0m\u001b[0;34m,\u001b[0m \u001b[0mdomain\u001b[0m\u001b[0;34m,\u001b[0m \u001b[0moperation\u001b[0m\u001b[0;34m,\u001b[0m \u001b[0moutput\u001b[0m\u001b[0;34m,\u001b[0m \u001b[0msearchtype\u001b[0m\u001b[0;34m,\u001b[0m \u001b[0;34m**\u001b[0m\u001b[0mkwargs\u001b[0m\u001b[0;34m)\u001b[0m\u001b[0;34m.\u001b[0m\u001b[0mread\u001b[0m\u001b[0;34m(\u001b[0m\u001b[0;34m)\u001b[0m\u001b[0;34m\u001b[0m\u001b[0m\n\u001b[1;32m     95\u001b[0m     \u001b[0;32melse\u001b[0m\u001b[0;34m:\u001b[0m\u001b[0;34m\u001b[0m\u001b[0m\n\u001b[0;32m---> 96\u001b[0;31m         \u001b[0mresponse\u001b[0m \u001b[0;34m=\u001b[0m \u001b[0mrequest\u001b[0m\u001b[0;34m(\u001b[0m\u001b[0midentifier\u001b[0m\u001b[0;34m,\u001b[0m \u001b[0mnamespace\u001b[0m\u001b[0;34m,\u001b[0m \u001b[0mdomain\u001b[0m\u001b[0;34m,\u001b[0m \u001b[0moperation\u001b[0m\u001b[0;34m,\u001b[0m \u001b[0moutput\u001b[0m\u001b[0;34m,\u001b[0m \u001b[0msearchtype\u001b[0m\u001b[0;34m,\u001b[0m \u001b[0;34m**\u001b[0m\u001b[0mkwargs\u001b[0m\u001b[0;34m)\u001b[0m\u001b[0;34m.\u001b[0m\u001b[0mread\u001b[0m\u001b[0;34m(\u001b[0m\u001b[0;34m)\u001b[0m\u001b[0;34m\u001b[0m\u001b[0m\n\u001b[0m\u001b[1;32m     97\u001b[0m     \u001b[0;32mreturn\u001b[0m \u001b[0mresponse\u001b[0m\u001b[0;34m\u001b[0m\u001b[0m\n\u001b[1;32m     98\u001b[0m \u001b[0;34m\u001b[0m\u001b[0m\n",
        "\u001b[0;32m/usr/local/lib/python2.7/dist-packages/pubchempy.pyc\u001b[0m in \u001b[0;36mrequest\u001b[0;34m(identifier, namespace, domain, operation, output, searchtype, **kwargs)\u001b[0m\n\u001b[1;32m     73\u001b[0m         \u001b[0mlog\u001b[0m\u001b[0;34m.\u001b[0m\u001b[0mdebug\u001b[0m\u001b[0;34m(\u001b[0m\u001b[0;34m'Request URL: %s'\u001b[0m\u001b[0;34m,\u001b[0m \u001b[0mapiurl\u001b[0m\u001b[0;34m)\u001b[0m\u001b[0;34m\u001b[0m\u001b[0m\n\u001b[1;32m     74\u001b[0m         \u001b[0mlog\u001b[0m\u001b[0;34m.\u001b[0m\u001b[0mdebug\u001b[0m\u001b[0;34m(\u001b[0m\u001b[0;34m'Request data: %s'\u001b[0m\u001b[0;34m,\u001b[0m \u001b[0mpostdata\u001b[0m\u001b[0;34m)\u001b[0m\u001b[0;34m\u001b[0m\u001b[0m\n\u001b[0;32m---> 75\u001b[0;31m         \u001b[0mresponse\u001b[0m \u001b[0;34m=\u001b[0m \u001b[0murlopen\u001b[0m\u001b[0;34m(\u001b[0m\u001b[0mapiurl\u001b[0m\u001b[0;34m,\u001b[0m \u001b[0mpostdata\u001b[0m\u001b[0;34m)\u001b[0m\u001b[0;34m\u001b[0m\u001b[0m\n\u001b[0m\u001b[1;32m     76\u001b[0m         \u001b[0;32mreturn\u001b[0m \u001b[0mresponse\u001b[0m\u001b[0;34m\u001b[0m\u001b[0m\n\u001b[1;32m     77\u001b[0m     \u001b[0;32mexcept\u001b[0m \u001b[0mHTTPError\u001b[0m \u001b[0;32mas\u001b[0m \u001b[0me\u001b[0m\u001b[0;34m:\u001b[0m\u001b[0;34m\u001b[0m\u001b[0m\n",
        "\u001b[0;32m/usr/lib/python2.7/urllib2.pyc\u001b[0m in \u001b[0;36murlopen\u001b[0;34m(url, data, timeout)\u001b[0m\n\u001b[1;32m    125\u001b[0m     \u001b[0;32mif\u001b[0m \u001b[0m_opener\u001b[0m \u001b[0;32mis\u001b[0m \u001b[0mNone\u001b[0m\u001b[0;34m:\u001b[0m\u001b[0;34m\u001b[0m\u001b[0m\n\u001b[1;32m    126\u001b[0m         \u001b[0m_opener\u001b[0m \u001b[0;34m=\u001b[0m \u001b[0mbuild_opener\u001b[0m\u001b[0;34m(\u001b[0m\u001b[0;34m)\u001b[0m\u001b[0;34m\u001b[0m\u001b[0m\n\u001b[0;32m--> 127\u001b[0;31m     \u001b[0;32mreturn\u001b[0m \u001b[0m_opener\u001b[0m\u001b[0;34m.\u001b[0m\u001b[0mopen\u001b[0m\u001b[0;34m(\u001b[0m\u001b[0murl\u001b[0m\u001b[0;34m,\u001b[0m \u001b[0mdata\u001b[0m\u001b[0;34m,\u001b[0m \u001b[0mtimeout\u001b[0m\u001b[0;34m)\u001b[0m\u001b[0;34m\u001b[0m\u001b[0m\n\u001b[0m\u001b[1;32m    128\u001b[0m \u001b[0;34m\u001b[0m\u001b[0m\n\u001b[1;32m    129\u001b[0m \u001b[0;32mdef\u001b[0m \u001b[0minstall_opener\u001b[0m\u001b[0;34m(\u001b[0m\u001b[0mopener\u001b[0m\u001b[0;34m)\u001b[0m\u001b[0;34m:\u001b[0m\u001b[0;34m\u001b[0m\u001b[0m\n",
        "\u001b[0;32m/usr/lib/python2.7/urllib2.pyc\u001b[0m in \u001b[0;36mopen\u001b[0;34m(self, fullurl, data, timeout)\u001b[0m\n\u001b[1;32m    402\u001b[0m             \u001b[0mreq\u001b[0m \u001b[0;34m=\u001b[0m \u001b[0mmeth\u001b[0m\u001b[0;34m(\u001b[0m\u001b[0mreq\u001b[0m\u001b[0;34m)\u001b[0m\u001b[0;34m\u001b[0m\u001b[0m\n\u001b[1;32m    403\u001b[0m \u001b[0;34m\u001b[0m\u001b[0m\n\u001b[0;32m--> 404\u001b[0;31m         \u001b[0mresponse\u001b[0m \u001b[0;34m=\u001b[0m \u001b[0mself\u001b[0m\u001b[0;34m.\u001b[0m\u001b[0m_open\u001b[0m\u001b[0;34m(\u001b[0m\u001b[0mreq\u001b[0m\u001b[0;34m,\u001b[0m \u001b[0mdata\u001b[0m\u001b[0;34m)\u001b[0m\u001b[0;34m\u001b[0m\u001b[0m\n\u001b[0m\u001b[1;32m    405\u001b[0m \u001b[0;34m\u001b[0m\u001b[0m\n\u001b[1;32m    406\u001b[0m         \u001b[0;31m# post-process response\u001b[0m\u001b[0;34m\u001b[0m\u001b[0;34m\u001b[0m\u001b[0m\n",
        "\u001b[0;32m/usr/lib/python2.7/urllib2.pyc\u001b[0m in \u001b[0;36m_open\u001b[0;34m(self, req, data)\u001b[0m\n\u001b[1;32m    420\u001b[0m         \u001b[0mprotocol\u001b[0m \u001b[0;34m=\u001b[0m \u001b[0mreq\u001b[0m\u001b[0;34m.\u001b[0m\u001b[0mget_type\u001b[0m\u001b[0;34m(\u001b[0m\u001b[0;34m)\u001b[0m\u001b[0;34m\u001b[0m\u001b[0m\n\u001b[1;32m    421\u001b[0m         result = self._call_chain(self.handle_open, protocol, protocol +\n\u001b[0;32m--> 422\u001b[0;31m                                   '_open', req)\n\u001b[0m\u001b[1;32m    423\u001b[0m         \u001b[0;32mif\u001b[0m \u001b[0mresult\u001b[0m\u001b[0;34m:\u001b[0m\u001b[0;34m\u001b[0m\u001b[0m\n\u001b[1;32m    424\u001b[0m             \u001b[0;32mreturn\u001b[0m \u001b[0mresult\u001b[0m\u001b[0;34m\u001b[0m\u001b[0m\n",
        "\u001b[0;32m/usr/lib/python2.7/urllib2.pyc\u001b[0m in \u001b[0;36m_call_chain\u001b[0;34m(self, chain, kind, meth_name, *args)\u001b[0m\n\u001b[1;32m    380\u001b[0m             \u001b[0mfunc\u001b[0m \u001b[0;34m=\u001b[0m \u001b[0mgetattr\u001b[0m\u001b[0;34m(\u001b[0m\u001b[0mhandler\u001b[0m\u001b[0;34m,\u001b[0m \u001b[0mmeth_name\u001b[0m\u001b[0;34m)\u001b[0m\u001b[0;34m\u001b[0m\u001b[0m\n\u001b[1;32m    381\u001b[0m \u001b[0;34m\u001b[0m\u001b[0m\n\u001b[0;32m--> 382\u001b[0;31m             \u001b[0mresult\u001b[0m \u001b[0;34m=\u001b[0m \u001b[0mfunc\u001b[0m\u001b[0;34m(\u001b[0m\u001b[0;34m*\u001b[0m\u001b[0margs\u001b[0m\u001b[0;34m)\u001b[0m\u001b[0;34m\u001b[0m\u001b[0m\n\u001b[0m\u001b[1;32m    383\u001b[0m             \u001b[0;32mif\u001b[0m \u001b[0mresult\u001b[0m \u001b[0;32mis\u001b[0m \u001b[0;32mnot\u001b[0m \u001b[0mNone\u001b[0m\u001b[0;34m:\u001b[0m\u001b[0;34m\u001b[0m\u001b[0m\n\u001b[1;32m    384\u001b[0m                 \u001b[0;32mreturn\u001b[0m \u001b[0mresult\u001b[0m\u001b[0;34m\u001b[0m\u001b[0m\n",
        "\u001b[0;32m/usr/lib/python2.7/urllib2.pyc\u001b[0m in \u001b[0;36mhttps_open\u001b[0;34m(self, req)\u001b[0m\n\u001b[1;32m   1220\u001b[0m \u001b[0;34m\u001b[0m\u001b[0m\n\u001b[1;32m   1221\u001b[0m         \u001b[0;32mdef\u001b[0m \u001b[0mhttps_open\u001b[0m\u001b[0;34m(\u001b[0m\u001b[0mself\u001b[0m\u001b[0;34m,\u001b[0m \u001b[0mreq\u001b[0m\u001b[0;34m)\u001b[0m\u001b[0;34m:\u001b[0m\u001b[0;34m\u001b[0m\u001b[0m\n\u001b[0;32m-> 1222\u001b[0;31m             \u001b[0;32mreturn\u001b[0m \u001b[0mself\u001b[0m\u001b[0;34m.\u001b[0m\u001b[0mdo_open\u001b[0m\u001b[0;34m(\u001b[0m\u001b[0mhttplib\u001b[0m\u001b[0;34m.\u001b[0m\u001b[0mHTTPSConnection\u001b[0m\u001b[0;34m,\u001b[0m \u001b[0mreq\u001b[0m\u001b[0;34m)\u001b[0m\u001b[0;34m\u001b[0m\u001b[0m\n\u001b[0m\u001b[1;32m   1223\u001b[0m \u001b[0;34m\u001b[0m\u001b[0m\n\u001b[1;32m   1224\u001b[0m         \u001b[0mhttps_request\u001b[0m \u001b[0;34m=\u001b[0m \u001b[0mAbstractHTTPHandler\u001b[0m\u001b[0;34m.\u001b[0m\u001b[0mdo_request_\u001b[0m\u001b[0;34m\u001b[0m\u001b[0m\n",
        "\u001b[0;32m/usr/lib/python2.7/urllib2.pyc\u001b[0m in \u001b[0;36mdo_open\u001b[0;34m(self, http_class, req)\u001b[0m\n\u001b[1;32m   1182\u001b[0m         \u001b[0;32mexcept\u001b[0m \u001b[0msocket\u001b[0m\u001b[0;34m.\u001b[0m\u001b[0merror\u001b[0m\u001b[0;34m,\u001b[0m \u001b[0merr\u001b[0m\u001b[0;34m:\u001b[0m \u001b[0;31m# XXX what error?\u001b[0m\u001b[0;34m\u001b[0m\u001b[0m\n\u001b[1;32m   1183\u001b[0m             \u001b[0mh\u001b[0m\u001b[0;34m.\u001b[0m\u001b[0mclose\u001b[0m\u001b[0;34m(\u001b[0m\u001b[0;34m)\u001b[0m\u001b[0;34m\u001b[0m\u001b[0m\n\u001b[0;32m-> 1184\u001b[0;31m             \u001b[0;32mraise\u001b[0m \u001b[0mURLError\u001b[0m\u001b[0;34m(\u001b[0m\u001b[0merr\u001b[0m\u001b[0;34m)\u001b[0m\u001b[0;34m\u001b[0m\u001b[0m\n\u001b[0m\u001b[1;32m   1185\u001b[0m         \u001b[0;32melse\u001b[0m\u001b[0;34m:\u001b[0m\u001b[0;34m\u001b[0m\u001b[0m\n\u001b[1;32m   1186\u001b[0m             \u001b[0;32mtry\u001b[0m\u001b[0;34m:\u001b[0m\u001b[0;34m\u001b[0m\u001b[0m\n",
        "\u001b[0;31mURLError\u001b[0m: <urlopen error [Errno -2] Name or service not known>"
       ]
      }
     ],
     "prompt_number": 26
    },
    {
     "cell_type": "code",
     "collapsed": false,
     "input": [
      "a = 56\n",
      "\n",
      "Draw.MolsToGridImage([Chem.MolFromSmiles( TestUni['Substrates'].irow(a)), Chem.MolFromSmiles( TestUni['Products'].irow(a))], includeAtomNumbers=False)"
     ],
     "language": "python",
     "metadata": {},
     "outputs": [
      {
       "output_type": "pyout",
       "png": "[encoded data removed]",
       "prompt_number": 207,
       "text": [
        "<PIL.Image.Image image mode=RGB size=600x200 at 0x3E12CB0>"
       ]
      }
     ],
     "prompt_number": 207
    },
    {
     "cell_type": "code",
     "collapsed": false,
     "input": [
      "TestRxns = pd.read_table(\"Keggsteroids.csv\")\n",
      "TestUni = TestRxns\n",
      "TestUni = TestUni.drop_duplicates(cols=['Enzymes'])\n",
      "print len(TestUni)\n",
      "TestUni.head(4)"
     ],
     "language": "python",
     "metadata": {},
     "outputs": [
      {
       "output_type": "stream",
       "stream": "stdout",
       "text": [
        "82\n"
       ]
      },
      {
       "output_type": "stream",
       "stream": "stderr",
       "text": [
        "/usr/lib/python2.7/dist-packages/pandas/core/config.py:570: DeprecationWarning: height has been deprecated.\n",
        "\n",
        "  warnings.warn(d.msg, DeprecationWarning)\n",
        "/usr/lib/python2.7/dist-packages/pandas/core/config.py:570: DeprecationWarning: height has been deprecated.\n",
        "\n",
        "  warnings.warn(d.msg, DeprecationWarning)\n",
        "/usr/lib/python2.7/dist-packages/pandas/core/config.py:570: DeprecationWarning: height has been deprecated.\n",
        "\n",
        "  warnings.warn(d.msg, DeprecationWarning)\n"
       ]
      },
      {
       "html": [
        "<div style=\"max-height:1000px;max-width:1500px;overflow:auto;\">\n",
        "<table border=\"1\" class=\"dataframe\">\n",
        "  <thead>\n",
        "    <tr style=\"text-align: right;\">\n",
        "      <th></th>\n",
        "      <th>Enzymes</th>\n",
        "      <th>Substrates</th>\n",
        "      <th>Products</th>\n",
        "      <th>Pathway</th>\n",
        "    </tr>\n",
        "  </thead>\n",
        "  <tbody>\n",
        "    <tr>\n",
        "      <th>0</th>\n",
        "      <td>    C25H</td>\n",
        "      <td>   CC(C)CCCC(C)C1CCC2C1(CCC3C2CC=C4C3(CCC(C4)O)C)C</td>\n",
        "      <td> CC(CCCC(C)(C)O)C1CCC2C1(CCC3C2CC=C4C3(CCC(C4)O...</td>\n",
        "      <td> Bile Acid</td>\n",
        "    </tr>\n",
        "    <tr>\n",
        "      <th>1</th>\n",
        "      <td>   CYP7B</td>\n",
        "      <td> CC(CCCC(C)(C)O)C1CCC2C1(CCC3C2CC=C4C3(CCC(C4)O...</td>\n",
        "      <td> CC(CCCC(C)(C)O)C1CCC2C1(CCC3C2C(C=C4C3(CCC(C4)...</td>\n",
        "      <td> Bile Acid</td>\n",
        "    </tr>\n",
        "    <tr>\n",
        "      <th>2</th>\n",
        "      <td>  HSD37B</td>\n",
        "      <td> CC(CCCC(C)(C)O)C1CCC2C1(CCC3C2C(C=C4C3(CCC(C4)...</td>\n",
        "      <td> CC(CCCC(C)(C)O)C1CCC2C1(CCC3C2C(CC4=CC(=O)CCC3...</td>\n",
        "      <td> Bile Acid</td>\n",
        "    </tr>\n",
        "    <tr>\n",
        "      <th>3</th>\n",
        "      <td> CYP46A1</td>\n",
        "      <td>   CC(C)CCCC(C)C1CCC2C1(CCC3C2CC=C4C3(CCC(C4)O)C)C</td>\n",
        "      <td> CC(C)C(CCC(C)C1CCC2C1(CCC3C2CC=C4C3(CCC(C4)O)C...</td>\n",
        "      <td> Bile Acid</td>\n",
        "    </tr>\n",
        "  </tbody>\n",
        "</table>\n",
        "</div>"
       ],
       "output_type": "pyout",
       "prompt_number": 2,
       "text": [
        "   Enzymes                                         Substrates  \\\n",
        "0     C25H    CC(C)CCCC(C)C1CCC2C1(CCC3C2CC=C4C3(CCC(C4)O)C)C   \n",
        "1    CYP7B  CC(CCCC(C)(C)O)C1CCC2C1(CCC3C2CC=C4C3(CCC(C4)O...   \n",
        "2   HSD37B  CC(CCCC(C)(C)O)C1CCC2C1(CCC3C2C(C=C4C3(CCC(C4)...   \n",
        "3  CYP46A1    CC(C)CCCC(C)C1CCC2C1(CCC3C2CC=C4C3(CCC(C4)O)C)C   \n",
        "\n",
        "                                            Products    Pathway  \n",
        "0  CC(CCCC(C)(C)O)C1CCC2C1(CCC3C2CC=C4C3(CCC(C4)O...  Bile Acid  \n",
        "1  CC(CCCC(C)(C)O)C1CCC2C1(CCC3C2C(C=C4C3(CCC(C4)...  Bile Acid  \n",
        "2  CC(CCCC(C)(C)O)C1CCC2C1(CCC3C2C(CC4=CC(=O)CCC3...  Bile Acid  \n",
        "3  CC(C)C(CCC(C)C1CCC2C1(CCC3C2CC=C4C3(CCC(C4)O)C...  Bile Acid  "
       ]
      }
     ],
     "prompt_number": 2
    },
    {
     "cell_type": "code",
     "collapsed": false,
     "input": [
      "steroidlist = pickle.load(open('steroidlist', 'rb'))   \n",
      "chol = 'CC12CC(=O)C3C(C1CCC2(C(=O)CO)O)CCC4=CC(=O)C=CC34C'\n",
      "nbrs_filtered = tanimoto_candidates(chol, steroidlist, .40)\n",
      "print len(nbrs_filtered)"
     ],
     "language": "python",
     "metadata": {},
     "outputs": [
      {
       "output_type": "stream",
       "stream": "stdout",
       "text": [
        "55\n"
       ]
      }
     ],
     "prompt_number": 3
    },
    {
     "cell_type": "code",
     "collapsed": false,
     "input": [
      "def scan_atoms(t, s, p):\n",
      "    #scheme: take things that differ from the product and substrate and the target and substrate and compare those differences\n",
      "    #if they're close in space, don't proceed with reaction \n",
      "    ##############\n",
      "    '''native reaction'''\n",
      "    native_rxn = create_lexicon(s,p)\n",
      "    p_s_atoms = []\n",
      "    patoms = []\n",
      "    for atom in p.GetAtoms():\n",
      "        patoms.append( atom.GetIdx() )\n",
      "    for i in native_rxn:\n",
      "        p_s_atoms.append( i[1] )\n",
      "    product_specific_atoms = []\n",
      "    for i in patoms:\n",
      "        if i not in p_s_atoms:\n",
      "            product_specific_atoms.append( i )\n",
      "            \n",
      "    '''native reaction bonds'''\n",
      "    native_bonds = BondIndex(p, s)\n",
      "    if len(native_bonds) > 0:\n",
      "        for i in range(len(native_bonds)):\n",
      "            product_specific_atoms.append( int(native_bonds['M1 Bond Start'].irow(i)) )\n",
      "            product_specific_atoms.append( int(native_bonds['M1 Bond End'].irow(i)) )\n",
      "    \n",
      "    ##############\n",
      "    '''synthetic reaction'''\n",
      "    target_specific_atoms = []\n",
      "    synthetic_rxn = create_lexicon(s,t)\n",
      "    s_t_atoms = []\n",
      "    t_atoms = []\n",
      "    for atom in t.GetAtoms():\n",
      "        t_atoms.append( atom.GetIdx() )\n",
      "    for i in synthetic_rxn:\n",
      "        s_t_atoms.append( i[1] )\n",
      "    target_specific_atoms = []\n",
      "    for i in t_atoms:\n",
      "        if i not in s_t_atoms:\n",
      "            target_specific_atoms.append( i )\n",
      "            \n",
      "    '''synthetic reaction bonds'''\n",
      "    synthetic_bonds = BondIndex(t, s)\n",
      "    if len(synthetic_bonds) > 0:\n",
      "        for i in range(len(synthetic_bonds)):\n",
      "            target_specific_atoms.append( int(synthetic_bonds['M1 Bond Start'].irow(i)) )\n",
      "            target_specific_atoms.append( int(synthetic_bonds['M1 Bond End'].irow(i)) )\n",
      "     \n",
      "    if len(product_specific_atoms) > 0:\n",
      "        for j in product_specific_atoms:\n",
      "            tight_enzyme_specificity = get_nearby_atoms(p, j, 2.5) \n",
      "    else:\n",
      "        tight_enzyme_specificity = []\n",
      "    substrate_to_product = create_lexicon( s, p )\n",
      "    equivalent_sub_atoms = []\n",
      "    for i in tight_enzyme_specificity: #transferring the like atoms from the product to substrate...\n",
      "        for j in substrate_to_product:\n",
      "            if i == j[1]:\n",
      "                equivalent_sub_atoms.append( j[0] )\n",
      "\n",
      "    target_to_substrate = create_lexicon( t, s )\n",
      "    atoms_encoding_specificity = []\n",
      "    for j in equivalent_sub_atoms: #get the atoms in the substrate that should encode specificity (i.e. those around the ones in the product)\n",
      "        atoms_encoding_specificity = get_nearby_atoms(s, j, 1.5)\n",
      "    #atoms_encoding_specificity = [item for sublist in atoms_encoding_specificity for item in sublist] #flatten\n",
      "        \n",
      "    equivalent_target_atoms = []\n",
      "    for i in atoms_encoding_specificity:\n",
      "        for j in target_to_substrate:\n",
      "            if i == j[1]:\n",
      "                equivalent_target_atoms.append( j[0] )\n",
      "    \n",
      "    if len(equivalent_target_atoms) == 0:\n",
      "        return \"do not proceed\"\n",
      "    #if len(equivalent_sub_atoms) != len(equivalent_target_atoms):\n",
      "    #    return 'do not proceed'\n",
      "    for i in equivalent_target_atoms:\n",
      "        if i in target_specific_atoms:\n",
      "            return 'do not proceed'\n",
      "        else:\n",
      "            return 'proceed'\n",
      "        \n",
      "#scan_atoms(nbrs_filtered[2][1], Chem.MolFromSmiles(TestUni['Substrates'].irow(0)), Chem.MolFromSmiles(TestUni['Products'].irow(0)))"
     ],
     "language": "python",
     "metadata": {},
     "outputs": [],
     "prompt_number": 54
    },
    {
     "cell_type": "code",
     "collapsed": false,
     "input": [
      "nbrs_filtered[2][1]"
     ],
     "language": "python",
     "metadata": {},
     "outputs": [
      {
       "output_type": "stream",
       "stream": "stderr",
       "text": [
        "/usr/lib/python2.7/dist-packages/rdkit/Chem/Draw/cairoCanvas.py:51: DeprecationWarning: tostring() is deprecated. Please call tobytes() instead.\n",
        "  imgd = image.tostring(\"raw\",\"BGRA\")\n",
        "/usr/lib/python2.7/dist-packages/PIL/Image.py:611: DeprecationWarning: fromstring() is deprecated. Please call frombytes() instead.\n",
        "  warnings.warn('fromstring() is deprecated. Please call frombytes() instead.', DeprecationWarning)\n"
       ]
      },
      {
       "output_type": "pyout",
       "png": "[encoded data removed]",
       "prompt_number": 29,
       "text": [
        "<rdkit.Chem.rdchem.Mol at 0x6058600>"
       ]
      }
     ],
     "prompt_number": 29
    },
    {
     "cell_type": "code",
     "collapsed": false,
     "input": [
      "chol = 'CC12CC(=O)C3C(C1CCC2(C(=O)CO)O)CCC4=CC(=O)C=CC34C'\n",
      "\n",
      "def naive_find_alternative_substrates(input_smiles_list, df, df_row):\n",
      "    '''uses the naive approach to finding an alternative substrate by comparing the area around where an enzyme performs transformation and areas that are unique to your target'''\n",
      "    input_smiles_list = tanimoto_candidates(df['Substrates'].irow(df_row), list(set(input_smiles_list)), 0.50) ###this function quickly narrows down potential candidates for doing the naive alternative substrate search\n",
      "    tally = []\n",
      "    print \"Progress...\"\n",
      "    for z in range(len(input_smiles_list)):\n",
      "        try:\n",
      "            t = input_smiles_list[z][1]\n",
      "            s = Chem.MolFromSmiles( df['Substrates'].irow(df_row) )\n",
      "            p = Chem.MolFromSmiles( df['Products'].irow(df_row) )\n",
      "            tally.append( scan_atoms(t, s, p) )\n",
      "            if z % 10 == 0 and z != 0:\n",
      "                    print z  \n",
      "        except:\n",
      "            tally.append( 'do not proceed' )\n",
      "    #mol_smiles = [Chem.MolToSmiles(x, canonical=True) for x in input_smiles_list[1]]\n",
      "    mol_smiles = []\n",
      "    for i in range(len(input_smiles_list)):\n",
      "        mol_smiles.append( Chem.MolToSmiles(input_smiles_list[i][1]) )\n",
      "    mol_scores = ['%.4f'%x[0] for x in input_smiles_list]\n",
      "    compatible_mols = pd.DataFrame({'Alternative Substrate SMILES': mol_smiles, 'Tanimoto Similarity': mol_scores, 'Compatible': tally})\n",
      "    compatible_mols = compatible_mols[compatible_mols['Compatible'] == 'proceed']\n",
      "    #print compatible_mols['Alternative Substrate SMILES'].tolist()\n",
      "    mol_pictures = []\n",
      "    for i in compatible_mols['Alternative Substrate SMILES'].tolist():\n",
      "        mol_pictures.append( Chem.MolFromSmiles(i) )\n",
      "    mol_pics = Draw.MolsToGridImage(mol_pictures, molsPerRow=8) \n",
      "    print \"Finished\"\n",
      "    return compatible_mols, mol_pics\n",
      "\n",
      "#test, testpics = naive_find_alternative_substrates(nbrs_filtered, TestUni, 0)"
     ],
     "language": "python",
     "metadata": {},
     "outputs": [],
     "prompt_number": 55
    },
    {
     "cell_type": "code",
     "collapsed": false,
     "input": [
      "steroid_candidates = tanimoto_candidates(chol, list(set(TestRxns['Substrates'].tolist() )), .50)\n",
      "test, testpics = naive_find_alternative_substrates(steroid_candidates, TestRxns, 0)\n",
      "print len(test)"
     ],
     "language": "python",
     "metadata": {},
     "outputs": [
      {
       "output_type": "stream",
       "stream": "stdout",
       "text": [
        "Progress...\n",
        "10"
       ]
      },
      {
       "output_type": "stream",
       "stream": "stdout",
       "text": [
        "\n",
        "Finished"
       ]
      },
      {
       "output_type": "stream",
       "stream": "stdout",
       "text": [
        "\n",
        "11\n"
       ]
      }
     ],
     "prompt_number": 56
    },
    {
     "cell_type": "code",
     "collapsed": false,
     "input": [
      "testpics"
     ],
     "language": "python",
     "metadata": {},
     "outputs": [
      {
       "output_type": "pyout",
       "png": "[encoded data removed]",
       "prompt_number": 58,
       "text": [
        "<PIL.Image.Image image mode=RGB size=1600x400 at 0x4F0CB48>"
       ]
      }
     ],
     "prompt_number": 58
    },
    {
     "cell_type": "code",
     "collapsed": false,
     "input": [
      "start = timeit.default_timer()\n",
      "\n",
      "anabolic = chol\n",
      "substrates = []\n",
      "products = []\n",
      "targets = []\n",
      "results = []\n",
      "enzymes = []\n",
      "for x in range(len(TestUni2)):\n",
      "    try:\n",
      "        results.append( explore_substrate(anabolic, x, TestUni2) )\n",
      "        substrates.append( TestUni2['Substrates'].irow(x) )\n",
      "        products.append( TestUni2['Products'].irow(x) )\n",
      "        targets.append( anabolic )\n",
      "        enzymes.append( TestUni2['Enzymes'].irow(x) )\n",
      "    except:\n",
      "        pass\n",
      "    \n",
      "stop = timeit.default_timer()\n",
      "#unique_prods, unique_substrates, unique_products, unique_enzymes = filter_results(results, substrates, products, TestUni, enzymes)\n",
      "unique_prods, unique_substrates, unique_products, unique_enzymes = results, substrates, products, enzymes\n",
      "\n",
      "print \"Finished reactions... searching hits on PubChem... \"\n",
      "\n",
      "#search pubchem for unique hits\n",
      "novel_compounds = []\n",
      "for i in unique_prods:\n",
      "    searches = pcp.get_compounds('CanonicalSMILES', str(Chem.MolToSmiles(i)), 'smiles')\n",
      "    if str(searches) == '[Compound()]':\n",
      "        novel_compounds.append( i )\n",
      "        \n",
      "#put things in a df\n",
      "unique_prods_smiles = []\n",
      "novel_smiles = []\n",
      "for i in unique_prods:\n",
      "    unique_prods_smiles.append( Chem.MolToSmiles(i) )\n",
      "for i in novel_compounds:\n",
      "    novel_smiles.append( Chem.MolToSmiles(i) )\n",
      "\n",
      "novels =[ ]\n",
      "for i in unique_prods_smiles:\n",
      "    if i in novel_smiles:\n",
      "        novels.append( 'Novel' )\n",
      "    else:\n",
      "        novels.append( 'Found in Pubchem' )\n",
      "Results = pd.DataFrame({'Native Substrate': unique_substrates, 'Native Product': unique_products, 'Products': unique_prods_smiles, 'Novel Compound?': novels, 'Enzymes': unique_enzymes})\n",
      "Results = Results.drop_duplicates(cols=['Products'])\n",
      "        \n",
      "print 'Novel Compounds found...'   \n",
      "print len(novel_compounds)\n",
      "print \"Runtime...\"\n",
      "print stop - start    \n",
      "Draw.MolsToGridImage(unique_prods,molsPerRow=8, includeAtomNumbers=False)"
     ],
     "language": "python",
     "metadata": {},
     "outputs": [
      {
       "output_type": "stream",
       "stream": "stdout",
       "text": [
        "Finished reactions... searching hits on PubChem... \n",
        "Novel Compounds found..."
       ]
      },
      {
       "output_type": "stream",
       "stream": "stdout",
       "text": [
        "\n",
        "2\n",
        "Runtime...\n",
        "100.35100913\n"
       ]
      },
      {
       "output_type": "pyout",
       "png": "[encoded data removed]",
       "prompt_number": 202,
       "text": [
        "<PIL.Image.Image image mode=RGB size=1600x200 at 0x36DAC20>"
       ]
      }
     ],
     "prompt_number": 202
    },
    {
     "cell_type": "code",
     "collapsed": false,
     "input": [
      "Chem.MolFromSmiles( Results['Native Substrate'][0] )"
     ],
     "language": "python",
     "metadata": {},
     "outputs": [
      {
       "output_type": "pyout",
       "png": "[encoded data removed]",
       "prompt_number": 205,
       "text": [
        "<rdkit.Chem.rdchem.Mol at 0x3e1a1a0>"
       ]
      }
     ],
     "prompt_number": 205
    },
    {
     "cell_type": "code",
     "collapsed": false,
     "input": [
      "Chem.MolFromSmiles( "
     ],
     "language": "python",
     "metadata": {},
     "outputs": []
    },
    {
     "cell_type": "code",
     "collapsed": false,
     "input": [
      "Results2, product_pictures2 = prediction_algorithm(str(Results['Products'][4]), TestUni)"
     ],
     "language": "python",
     "metadata": {},
     "outputs": [
      {
       "output_type": "stream",
       "stream": "stdout",
       "text": [
        "0\n",
        "10"
       ]
      },
      {
       "output_type": "stream",
       "stream": "stdout",
       "text": [
        "\n",
        "20"
       ]
      },
      {
       "output_type": "stream",
       "stream": "stdout",
       "text": [
        "\n",
        "30"
       ]
      },
      {
       "output_type": "stream",
       "stream": "stdout",
       "text": [
        "\n",
        "40"
       ]
      },
      {
       "output_type": "stream",
       "stream": "stdout",
       "text": [
        "\n",
        "50"
       ]
      },
      {
       "output_type": "stream",
       "stream": "stdout",
       "text": [
        "\n",
        "60"
       ]
      },
      {
       "output_type": "stream",
       "stream": "stdout",
       "text": [
        "\n",
        "70"
       ]
      },
      {
       "output_type": "stream",
       "stream": "stdout",
       "text": [
        "\n",
        "80"
       ]
      },
      {
       "output_type": "stream",
       "stream": "stdout",
       "text": [
        "\n",
        "Potential hits..."
       ]
      },
      {
       "output_type": "stream",
       "stream": "stdout",
       "text": [
        "\n",
        "7\n",
        "Finished reactions... searching hits on PubChem... "
       ]
      },
      {
       "output_type": "stream",
       "stream": "stdout",
       "text": [
        "\n",
        "Novel Compounds found..."
       ]
      },
      {
       "output_type": "stream",
       "stream": "stdout",
       "text": [
        "\n",
        "4\n",
        "Runtime...\n",
        "1935.32398295\n"
       ]
      }
     ],
     "prompt_number": 180
    },
    {
     "cell_type": "code",
     "collapsed": false,
     "input": [
      "#Results.to_csv(\"Lathosterol_hits.csv\")\n",
      "product_pictures2"
     ],
     "language": "python",
     "metadata": {},
     "outputs": [
      {
       "output_type": "pyout",
       "png": "[encoded data removed]",
       "prompt_number": 182,
       "text": [
        "<PIL.Image.Image image mode=RGB size=1600x200 at 0x385D680>"
       ]
      }
     ],
     "prompt_number": 182
    },
    {
     "cell_type": "code",
     "collapsed": false,
     "input": [
      "Results2"
     ],
     "language": "python",
     "metadata": {},
     "outputs": [
      {
       "html": [
        "<div style=\"max-height:1000px;max-width:1500px;overflow:auto;\">\n",
        "<table border=\"1\" class=\"dataframe\">\n",
        "  <thead>\n",
        "    <tr style=\"text-align: right;\">\n",
        "      <th></th>\n",
        "      <th>Enzymes</th>\n",
        "      <th>Native Product</th>\n",
        "      <th>Native Substrate</th>\n",
        "      <th>Novel Compound?</th>\n",
        "      <th>Products</th>\n",
        "    </tr>\n",
        "  </thead>\n",
        "  <tbody>\n",
        "    <tr>\n",
        "      <th>0</th>\n",
        "      <td>    CYP21A</td>\n",
        "      <td>        CC12CCC3C(C1CCC2C(=O)CO)CC=C4C3(CCC(C4)O)C</td>\n",
        "      <td>         CC(=O)C1CCC2C1(CCC3C2CC=C4C3(CCC(C4)O)C)C</td>\n",
        "      <td> Novel</td>\n",
        "      <td> CC(C)=CCCC(C)C1CCC2(C)C3=C(CCC12C)C1(C)CCC(O)C...</td>\n",
        "    </tr>\n",
        "    <tr>\n",
        "      <th>1</th>\n",
        "      <td>    CYP3A4</td>\n",
        "      <td>            CC12CCC(CC1=CCC3C2CCC4(C3CC(C4=O)O)C)O</td>\n",
        "      <td>             CC12CCC3C(C1CCC2=O)CC=C4C3(CCC(C4)O)C</td>\n",
        "      <td> Novel</td>\n",
        "      <td> CC(C)=CCCC(C)C1CC(O)C2(C)C3=C(CCC12C)C1(C)CCC(...</td>\n",
        "    </tr>\n",
        "    <tr>\n",
        "      <th>2</th>\n",
        "      <td>      DWF1</td>\n",
        "      <td> CC(C)C(C)CCC(C)C1CCC2C1(CCC3C2CC=C4C3(CCC(C4)O...</td>\n",
        "      <td> CC(C)C(=C)CCC(C)C1CCC2C1(CCC3C2CC=C4C3(CCC(C4)...</td>\n",
        "      <td> Novel</td>\n",
        "      <td> CCCCC(C)C1CCC2(C)C3=C(CCC12C)C1(C)CCC(O)C(C)(C...</td>\n",
        "    </tr>\n",
        "    <tr>\n",
        "      <th>3</th>\n",
        "      <td> 1.1.1.270</td>\n",
        "      <td> CC1C2CCC3=C(C2(CCC1O)C)CCC4(C3CCC4C(C)CCC=C(C)C)C</td>\n",
        "      <td> CC1C2CCC3=C(C2(CCC1=O)C)CCC4(C3CCC4C(C)CCC=C(C...</td>\n",
        "      <td> Novel</td>\n",
        "      <td> CC(C)=CCCC(C)C1CCC2(C)C3=C(CCC12C)C1(C)CCC(O)(...</td>\n",
        "    </tr>\n",
        "  </tbody>\n",
        "</table>\n",
        "</div>"
       ],
       "output_type": "pyout",
       "prompt_number": 183,
       "text": [
        "     Enzymes                                     Native Product  \\\n",
        "0     CYP21A         CC12CCC3C(C1CCC2C(=O)CO)CC=C4C3(CCC(C4)O)C   \n",
        "1     CYP3A4             CC12CCC(CC1=CCC3C2CCC4(C3CC(C4=O)O)C)O   \n",
        "2       DWF1  CC(C)C(C)CCC(C)C1CCC2C1(CCC3C2CC=C4C3(CCC(C4)O...   \n",
        "3  1.1.1.270  CC1C2CCC3=C(C2(CCC1O)C)CCC4(C3CCC4C(C)CCC=C(C)C)C   \n",
        "\n",
        "                                    Native Substrate Novel Compound?  \\\n",
        "0          CC(=O)C1CCC2C1(CCC3C2CC=C4C3(CCC(C4)O)C)C           Novel   \n",
        "1              CC12CCC3C(C1CCC2=O)CC=C4C3(CCC(C4)O)C           Novel   \n",
        "2  CC(C)C(=C)CCC(C)C1CCC2C1(CCC3C2CC=C4C3(CCC(C4)...           Novel   \n",
        "3  CC1C2CCC3=C(C2(CCC1=O)C)CCC4(C3CCC4C(C)CCC=C(C...           Novel   \n",
        "\n",
        "                                            Products  \n",
        "0  CC(C)=CCCC(C)C1CCC2(C)C3=C(CCC12C)C1(C)CCC(O)C...  \n",
        "1  CC(C)=CCCC(C)C1CC(O)C2(C)C3=C(CCC12C)C1(C)CCC(...  \n",
        "2  CCCCC(C)C1CCC2(C)C3=C(CCC12C)C1(C)CCC(O)C(C)(C...  \n",
        "3  CC(C)=CCCC(C)C1CCC2(C)C3=C(CCC12C)C1(C)CCC(O)(...  "
       ]
      }
     ],
     "prompt_number": 183
    },
    {
     "cell_type": "code",
     "collapsed": false,
     "input": [
      "a = 56\n",
      "\n",
      "asd = Draw.MolsToGridImage([Chem.MolFromSmiles( TestUni['Substrates'].irow(a)), Chem.MolFromSmiles( TestUni['Products'].irow(a))], includeAtomNumbers=False)\n",
      "print TestUni['Enzymes'].irow(56)\n",
      "asd"
     ],
     "language": "python",
     "metadata": {},
     "outputs": [
      {
       "output_type": "stream",
       "stream": "stdout",
       "text": [
        "1.1.1.170\n"
       ]
      },
      {
       "output_type": "pyout",
       "png": "[encoded data removed]",
       "prompt_number": 196,
       "text": [
        "<PIL.Image.Image image mode=RGB size=600x200 at 0x3629488>"
       ]
      }
     ],
     "prompt_number": 196
    },
    {
     "cell_type": "markdown",
     "metadata": {},
     "source": [
      "Now that we have a bunch of TestRxns, we need to run the target as the substrate and see if the product is made. "
     ]
    },
    {
     "cell_type": "code",
     "collapsed": false,
     "input": [
      "#matches = []\n",
      "#new_products = []\n",
      "\n",
      "#for i in range(len(TestRxns)):\n",
      "#    try:\n",
      "#        product = linear_exploration(TestRxns['Substrates'].irow(i), i, TestRxns)\n",
      "#        product = Chem.MolToSmiles( product, canonical=True )\n",
      "#        new_products.append( product )\n",
      "#        \n",
      "#        p1 = Chem.MolFromSmiles( TestRxns['Products'].irow(i) ) \n",
      "#        p = Chem.MolToSmiles( p1, canonical=True  )\n",
      "#        \n",
      "#        if str(product) == str(p):\n",
      "#            matches.append( 'matches' )\n",
      "#        else:\n",
      "#            matches.append( 'no match' )\n",
      "#    except:\n",
      "#        matches.append( 'glitch' )\n",
      "#        new_products.append( 'glitch' )"
     ],
     "language": "python",
     "metadata": {},
     "outputs": [],
     "prompt_number": 9
    },
    {
     "cell_type": "code",
     "collapsed": false,
     "input": [
      "TestRxns['matches'] = matches\n",
      "TestRxns['New Products'] = new_products\n",
      "count = 0\n",
      "for i in matches:\n",
      "    if i == 'matches':\n",
      "        count = count + 1\n",
      "print count    "
     ],
     "language": "python",
     "metadata": {},
     "outputs": [
      {
       "output_type": "stream",
       "stream": "stdout",
       "text": [
        "109\n"
       ]
      }
     ],
     "prompt_number": 271
    },
    {
     "cell_type": "code",
     "collapsed": false,
     "input": [
      "TestRxns = TestRxns[TestRxns['matches'] != 'matches']\n",
      "print len(TestRxns)"
     ],
     "language": "python",
     "metadata": {},
     "outputs": [
      {
       "output_type": "stream",
       "stream": "stdout",
       "text": [
        "27\n"
       ]
      }
     ],
     "prompt_number": 272
    },
    {
     "cell_type": "code",
     "collapsed": false,
     "input": [
      "def product_prediction_algorithm(target_smiles_list, df, row):\n",
      "\n",
      "    start = timeit.default_timer()\n",
      "    targets = []\n",
      "    results = []\n",
      "    enzymes = []\n",
      "    for x in xrange(len(TestUni)):\n",
      "        try:\n",
      "            results.append( explore_substrate(target_smiles_list[x], row, df) )\n",
      "            substrates.append( df['Substrates'].irow(row) )\n",
      "            products.append( df['Products'].irow(row) )\n",
      "            targets.append( anabolic )\n",
      "            enzymes.append( df['Enzymes'].irow(row) )\n",
      "        except:\n",
      "            pass\n",
      "        \n",
      "    stop = timeit.default_timer()\n",
      "    #unique_prods, unique_substrates, unique_products, unique_enzymes = filter_results(results, substrates, products, TestUni, enzymes)\n",
      "    unique_prods, unique_substrates, unique_products, unique_enzymes = results, substrates, products, enzymes\n",
      "    \n",
      "    print \"Finished reactions... searching hits on PubChem... \"\n",
      "    \n",
      "    #search pubchem for unique hits\n",
      "    novel_compounds = []\n",
      "    for i in unique_prods:\n",
      "        searches = pcp.get_compounds('CanonicalSMILES', str(Chem.MolToSmiles(i)), 'smiles')\n",
      "        if str(searches) == '[Compound()]':\n",
      "            novel_compounds.append( i )\n",
      "            \n",
      "    #put things in a df\n",
      "    unique_prods_smiles = []\n",
      "    novel_smiles = []\n",
      "    for i in unique_prods:\n",
      "        unique_prods_smiles.append( Chem.MolToSmiles(i) )\n",
      "    for i in novel_compounds:\n",
      "        novel_smiles.append( Chem.MolToSmiles(i) )\n",
      "    \n",
      "    novels =[ ]\n",
      "    for i in unique_prods_smiles:\n",
      "        if i in novel_smiles:\n",
      "            novels.append( 'Novel' )\n",
      "        else:\n",
      "            novels.append( 'Found in Pubchem' )\n",
      "    Results = pd.DataFrame({'Native Substrate': unique_substrates, 'Native Product': unique_products, 'Products': unique_prods_smiles, 'Novel Compound?': novels, 'Enzymes': unique_enzymes})\n",
      "    Results = Results.drop_duplicates(cols=['Products'])\n",
      "            \n",
      "    print 'Novel Compounds found...'   \n",
      "    print len(novel_compounds)\n",
      "    print \"Runtime...\"\n",
      "    print stop - start    \n",
      "    product_pictures = Draw.MolsToGridImage(unique_prods,molsPerRow=8, includeAtomNumbers=False)\n",
      "    \n",
      "    return Results, product_pictures"
     ],
     "language": "python",
     "metadata": {},
     "outputs": [],
     "prompt_number": 179
    },
    {
     "cell_type": "code",
     "collapsed": false,
     "input": [],
     "language": "python",
     "metadata": {},
     "outputs": []
    }
   ],
   "metadata": {}
  }
 ]
}