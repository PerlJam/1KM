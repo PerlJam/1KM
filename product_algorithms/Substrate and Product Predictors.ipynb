{
 "metadata": {
  "name": "",
  "signature": "sha256:1067e8ffa3fe982962bc5308a3e003d330c5a7899f9c54558f18b368485adcdf"
 },
 "nbformat": 3,
 "nbformat_minor": 0,
 "worksheets": [
  {
   "cells": [
    {
     "cell_type": "heading",
     "level": 1,
     "metadata": {},
     "source": [
      "Notebook for interacting with the substrate and product prediction algorithms."
     ]
    },
    {
     "cell_type": "heading",
     "level": 4,
     "metadata": {},
     "source": [
      "First you need to import the libraries of code written for the algorithm and some sample molecules, then scroll to the appropriate starting place. "
     ]
    },
    {
     "cell_type": "code",
     "collapsed": false,
     "input": [
      "import sys                           \n",
      "sys.path.append('/groups/1km/Brendan_algorithms/product_algorithms')\n",
      "from API_functions import *\n",
      "from SteroidFunctions import *\n",
      "\n",
      "steroidlist = pickle.load(open('steroidlist', 'rb'))           ###list of steroids downloaded from pubchem\n",
      "Keggsteroids_df = pd.read_table(\"Keggsteroids.csv\")            ###table of steroid enzymes, substrates, and products\n",
      "endogenous_steroids = Keggsteroids_df['Substrates'].tolist()   ###list of major endogenous steroids"
     ],
     "language": "python",
     "metadata": {},
     "outputs": [],
     "prompt_number": 1
    },
    {
     "cell_type": "heading",
     "level": 2,
     "metadata": {},
     "source": [
      "SMILES Generator"
     ]
    },
    {
     "cell_type": "markdown",
     "metadata": {},
     "source": [
      "Put in the title for a molecule and get its SMILES string."
     ]
    },
    {
     "cell_type": "code",
     "collapsed": false,
     "input": [
      "test = pcp.get_properties('CanonicalSMILES', 'Cholesterol', 'name')\n",
      "print str(test[0]['CanonicalSMILES'])\n",
      "Chem.MolFromSmiles( str(test[0]['CanonicalSMILES']) )                                                            "
     ],
     "language": "python",
     "metadata": {},
     "outputs": [
      {
       "output_type": "stream",
       "stream": "stdout",
       "text": [
        "CC(C)CCCC(C)C1CCC2C1(CCC3C2CC=C4C3(CCC(C4)O)C)C\n"
       ]
      },
      {
       "metadata": {},
       "output_type": "pyout",
       "png": "[encoded data removed]",
       "prompt_number": 2,
       "text": [
        "<rdkit.Chem.rdchem.Mol at 0x53d93d0>"
       ]
      }
     ],
     "prompt_number": 2
    },
    {
     "cell_type": "heading",
     "level": 2,
     "metadata": {},
     "source": [
      "Predicting Enzyme Specificity - Naive Approach"
     ]
    },
    {
     "cell_type": "markdown",
     "metadata": {},
     "source": [
      "This code identifies the site on a molecule that a given enzyme modifies, compares that site to an alternative substrate, and proceeds with the chemical modifcation if no unique features exist in the modification space. This approach is much slower but does not require much knowledge on enzyme specificity. "
     ]
    },
    {
     "cell_type": "code",
     "collapsed": false,
     "input": [],
     "language": "python",
     "metadata": {},
     "outputs": []
    },
    {
     "cell_type": "heading",
     "level": 2,
     "metadata": {},
     "source": [
      "Predicting Enzyme Specificity - Machine Learning Approach"
     ]
    },
    {
     "cell_type": "markdown",
     "metadata": {},
     "source": [
      "This code trains a Random Forest Classifier on an enzyme's substrate specificity (as denoted by KEGG). Substrates are then compared to a list of standard steroids (soon to be natural products in general). Dissimilar substrates will be taken out of this list and will be assumed to not be compatible with a given enzyme."
     ]
    },
    {
     "cell_type": "heading",
     "level": 4,
     "metadata": {},
     "source": [
      "Search for your enzyme by filling out the quotes. Pull out the ec number."
     ]
    },
    {
     "cell_type": "code",
     "collapsed": false,
     "input": [
      "enzyme = 'CYP7B1'\n",
      "s = Kegg()\n",
      "s.find('enzyme', enzyme)"
     ],
     "language": "python",
     "metadata": {},
     "outputs": [
      {
       "output_type": "stream",
       "stream": "stderr",
       "text": [
        "INFO:root:Initialising Kegg service (REST)\n"
       ]
      },
      {
       "output_type": "stream",
       "stream": "stderr",
       "text": [
        "INFO:root:checking database enzyme (mode=find)\n"
       ]
      },
      {
       "metadata": {},
       "output_type": "pyout",
       "prompt_number": 3,
       "text": [
        "'ec:1.14.13.100\\t25/26-hydroxycholesterol 7alpha-hydroxylase; 25-hydroxycholesterol 7alpha-monooxygenase; CYP7B1; CYP7B1 oxysterol 7alpha-hydroxylase; 27-hydroxycholesterol 7-monooxygenase; 27-hydroxycholesterol 7alpha-hydroxylase; cholest-5-ene-3beta,25-diol,NADPH:oxygen oxidoreductase (7alpha-hydroxylating); 25-hydroxycholesterol 7alpha-hydroxylase\\n'"
       ]
      }
     ],
     "prompt_number": 3
    },
    {
     "cell_type": "code",
     "collapsed": false,
     "input": [
      "values, dataset = rf_find_alternative_substrates('ec:1.14.13.100')\n",
      "visualize_smiles(values)"
     ],
     "language": "python",
     "metadata": {},
     "outputs": [
      {
       "output_type": "stream",
       "stream": "stderr",
       "text": [
        "INFO:root:Initialising Kegg service (REST)\n"
       ]
      }
     ],
     "prompt_number": 6
    },
    {
     "cell_type": "heading",
     "level": 2,
     "metadata": {},
     "source": [
      "Product Predictor"
     ]
    },
    {
     "cell_type": "markdown",
     "metadata": {},
     "source": [
      "Uses best estimates based on substructure similarity and enzyme catalysis to attempt predictions of a non-native substrate in an enzymatic transformation. This code can be run with several alternative substrates and/or run iteratively."
     ]
    },
    {
     "cell_type": "code",
     "collapsed": false,
     "input": [
      "results, product_pictures = prediction_algorithm('CC(C)CCCC(C)C1CCC2C1(CCC3C2CC=C4C3(CCC(C4)O)C)C', Keggsteroids_df)"
     ],
     "language": "python",
     "metadata": {},
     "outputs": [
      {
       "output_type": "stream",
       "stream": "stdout",
       "text": [
        "0\n",
        "10"
       ]
      },
      {
       "output_type": "stream",
       "stream": "stdout",
       "text": [
        "\n",
        "20"
       ]
      },
      {
       "output_type": "stream",
       "stream": "stdout",
       "text": [
        "\n",
        "30"
       ]
      },
      {
       "output_type": "stream",
       "stream": "stdout",
       "text": [
        "\n",
        "40"
       ]
      },
      {
       "output_type": "stream",
       "stream": "stdout",
       "text": [
        "\n",
        "50"
       ]
      },
      {
       "output_type": "stream",
       "stream": "stdout",
       "text": [
        "\n",
        "60"
       ]
      },
      {
       "output_type": "stream",
       "stream": "stdout",
       "text": [
        "\n",
        "70"
       ]
      }
     ]
    },
    {
     "cell_type": "code",
     "collapsed": false,
     "input": [],
     "language": "python",
     "metadata": {},
     "outputs": []
    }
   ],
   "metadata": {}
  }
 ]
}