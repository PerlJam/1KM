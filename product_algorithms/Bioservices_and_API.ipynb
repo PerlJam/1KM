{
 "metadata": {
  "name": "Bioservices_and_API"
 },
 "nbformat": 3,
 "nbformat_minor": 0,
 "worksheets": [
  {
   "cells": [
    {
     "cell_type": "heading",
     "level": 1,
     "metadata": {},
     "source": [
      "Process book for the steroid algorithm code."
     ]
    },
    {
     "cell_type": "markdown",
     "metadata": {},
     "source": [
      "Let's get all the relevant smiles for the proteins we're going to use. "
     ]
    },
    {
     "cell_type": "code",
     "collapsed": false,
     "input": [
      "from rdkit import Chem\n",
      "from rdkit.Chem.Draw import IPythonConsole\n",
      "from rdkit.Chem import AllChem\n",
      "from rdkit.Chem import Draw\n",
      "from rdkit.Chem import FunctionalGroups\n",
      "import os\n",
      "import gzip,random\n",
      "from rdkit.Chem import MCS\n",
      "import pandas as pd\n",
      "import timeit\n",
      "import pubchempy as pcp\n",
      "from bioservices import Kegg\n",
      "from bioservices import *\n",
      "from compiler.ast import flatten\n",
      "from rdkit.Chem import MACCSkeys\n",
      "from rdkit import DataStructs\n",
      "from rdkit.Chem.Fingerprints import FingerprintMols\n",
      "import pickle\n",
      "from bioservices import Kegg\n",
      "from bioservices import *\n",
      "from compiler.ast import flatten\n",
      "from rdkit.Chem import MACCSkeys\n",
      "from rdkit import DataStructs\n",
      "from rdkit.Chem.Fingerprints import FingerprintMols\n",
      "import matplotlib.pyplot as plt\n",
      "import numpy as np\n",
      "import pandas as pd\n",
      "from random import sample\n",
      "import difflib\n",
      "import collections\n",
      "\n",
      "import warnings\n",
      "warnings.filterwarnings(\"ignore\")"
     ],
     "language": "python",
     "metadata": {},
     "outputs": [],
     "prompt_number": 1
    },
    {
     "cell_type": "heading",
     "level": 1,
     "metadata": {},
     "source": [
      "Bioservices Magic"
     ]
    },
    {
     "cell_type": "markdown",
     "metadata": {},
     "source": [
      "Upload steroids."
     ]
    },
    {
     "cell_type": "code",
     "collapsed": false,
     "input": [
      "import sys                           \n",
      "sys.path.append('/Home')\n",
      "from RF_functions import *\n",
      "\n",
      "steroidlist = pickle.load(open('steroidlist', 'rb'))\n",
      "Keggsteroids_df = pd.read_table(\"Keggsteroids.csv\")\n",
      "endogenous_steroids = Keggsteroids_df['Substrates'].tolist()\n",
      "endogenous_steroids2 = Keggsteroids_df['Products'].tolist()\n",
      "for i in endogenous_steroids2:\n",
      "    endogenous_steroids.append( i )\n",
      "endogenous_steroids = list(set(endogenous_steroids))\n",
      "from rdkit import Chem\n",
      "from rdkit.Chem import AllChem\n",
      "from rdkit import DataStructs\n",
      "import gzip\n",
      "from rdkit.Chem.Draw import IPythonConsole\n",
      "from rdkit.Chem import Draw"
     ],
     "language": "python",
     "metadata": {},
     "outputs": [],
     "prompt_number": 2
    },
    {
     "cell_type": "markdown",
     "metadata": {},
     "source": [
      "functions"
     ]
    },
    {
     "cell_type": "code",
     "collapsed": false,
     "input": [
      "def retrieve_enzyme_substrates(enzyme_name):\n",
      "    s = Kegg()\n",
      "    compound_search = (s.get(str(enzyme_name)))\n",
      "    p = KeggParser()\n",
      "    d = p.parse(compound_search)\n",
      "    \n",
      "    ####################### grabs all the reactions that are dealt with by this enzyme\n",
      "    all_rxns = []\n",
      "    \n",
      "    if d['all_reac'][0] == 'R': ####filter to make sure that we do have a list, if the first thing is R then there's only one reaction and no need to iterate\n",
      "        all_rxns.append( d['all_reac'] )\n",
      "    else:\n",
      "        for i in d['all_reac']:\n",
      "            for j in i.split():\n",
      "                if j[0] == 'R':\n",
      "                    if j[-1] == ';':\n",
      "                        j = j[:-1]\n",
      "                    all_rxns.append( j )\n",
      "          \n",
      "    ####################### grabs all the smiles of the substrates that are involved with these reactions            \n",
      "    smiles = []\n",
      "    real_name = []\n",
      "    \n",
      "    for i in all_rxns:\n",
      "        reactants = [] ##build reactants\n",
      "        reaction = s.get(i)\n",
      "        for i in reaction.split('\\n'):\n",
      "            if 'EQUATION' in i:\n",
      "                for j in range(len( i.split() )):\n",
      "                    if i.split()[j][0] == '<':\n",
      "                        eq = j\n",
      "                for j in range(len( i.split() )):\n",
      "                    if i.split()[j][0] == \"C\" and j < eq:\n",
      "                        reactants.append( i.split()[j] ) \n",
      "        reactant = max(reactants)\n",
      "\n",
      "        reactantinfo = s.get(reactant)\n",
      "        for i in reactantinfo.split('\\n'):\n",
      "            if 'NAME' in i:\n",
      "                reactantname = i.split()[1]\n",
      "        if reactantname[-1] == ';':\n",
      "            reactantname = reactantname[:-1]\n",
      "        if reactantname != 'Reduced':\n",
      "            real_name.append( reactantname )\n",
      "        try:\n",
      "            test = pcp.get_properties('CanonicalSMILES', reactantname, 'name')\n",
      "            smiles.append( str(test[0]['CanonicalSMILES']) )  \n",
      "        except:\n",
      "            pass\n",
      "    \n",
      "    return real_name, smiles"
     ],
     "language": "python",
     "metadata": {},
     "outputs": [],
     "prompt_number": 3
    },
    {
     "cell_type": "code",
     "collapsed": false,
     "input": [
      "def cross_validate_sliding_threshold(ec_number):\n",
      "    '''Cross validates the input enzyme across a sliding identity threshold. Output will be the average accuracy over 100 simulations per each threshold.''' \n",
      "    #Compute the coordinates of both the positive hits and all the endogenous steroids    \n",
      "    positive_structures = []\n",
      "    for i in positive_smiles:\n",
      "        positive_structures.append( Chem.MolFromSmiles(i) )\n",
      "    endogenous_structures = []\n",
      "    for i in endogenous_steroids:\n",
      "        endogenous_structures.append( Chem.MolFromSmiles(i) )\n",
      "    \n",
      "    for m in positive_structures: AllChem.Compute2DCoords(m)\n",
      "    for m in endogenous_structures: AllChem.Compute2DCoords(m)\n",
      "        \n",
      "    positive_fps=[AllChem.GetMorganFingerprintAsBitVect(x,2) for x in positive_structures]\n",
      "    endogenous_fps=[AllChem.GetMorganFingerprintAsBitVect(x,2) for x in endogenous_structures]\n",
      "    \n",
      "    #recombine endogenous structures with their scores\n",
      "    sims = DataStructs.BulkTanimotoSimilarity(positive_fps[0],endogenous_fps)\n",
      "    nbrs = sorted(zip(sims,endogenous_structures),reverse=False)\n",
      "    \n",
      "    #grab most disimilar matches, we're arbitrarily picking 12\n",
      "    negative_structures = [x[1] for x in nbrs[:12]]\n",
      "    negative_smiles = []\n",
      "    for i in negative_structures:\n",
      "        negative_smiles.append( Chem.MolToSmiles(i) )\n",
      "        \n",
      "    #Let's code the cross validation section\n",
      "    activity = []\n",
      "    smiles = []\n",
      "    compound_names = []\n",
      "    \n",
      "    for i in positive_smiles:\n",
      "        smiles.append( i )\n",
      "    for i in negative_smiles:\n",
      "        smiles.append( i )\n",
      "        \n",
      "    for i in range(len(positive_smiles)):\n",
      "        activity.append( 1 )\n",
      "    for i in range(len(negative_smiles)):\n",
      "        activity.append( 0 )\n",
      "        \n",
      "    for i in negative_smiles:\n",
      "        try:\n",
      "            results = pcp.get_compounds(str(i), 'smiles')\n",
      "            cpn = pcp.Compound.from_cid( int(str(results[0])[9:-1]) )\n",
      "            compound_names.append( cpn.iupac_name )   \n",
      "        except:\n",
      "            compound_names.append( 'error parsing' )\n",
      "    for i in positive_smiles:\n",
      "        try:\n",
      "            results = pcp.get_compounds(str(i), 'smiles')\n",
      "            cpn = pcp.Compound.from_cid( int(str(results[0])[9:-1]) )\n",
      "            compound_names.append( cpn.iupac_name )   \n",
      "        except:\n",
      "            compound_names.append( 'error parsing' )\n",
      "            \n",
      "    training_set = pd.DataFrame({'Smiles': smiles, 'Activity': activity, 'Compound Name': compound_names})\n",
      "    \n",
      "    #Scrambles up the training_set dataframe so I can test the rest of it\n",
      "    percentages = list(np.arange(0, 1.05, 0.10))\n",
      "    \n",
      "    validation_per_percent = []\n",
      "    for iteration in percentages:\n",
      "        cross_validation_scores = []\n",
      "        for x in xrange(100):\n",
      "            # given data frame df\n",
      "            # create random index\n",
      "            rindex =  np.array(sample(xrange(len(training_set)), int( len(training_set)*.25 )))\n",
      "            \n",
      "            #get some random rows from df\n",
      "            pulled_data = training_set.ix[rindex]\n",
      "            pulled_smiles = pulled_data['Smiles'].tolist()\n",
      "            training_set_culled = training_set.drop(rindex)\n",
      "            \n",
      "            predicted_values = [] \n",
      "            actual_values = pulled_data['Activity'].tolist()\n",
      "            mols = training_set_culled['Smiles'].tolist()\n",
      "            activities = training_set_culled['Activity'].tolist()\n",
      "            \n",
      "            try:\n",
      "                for j in range(len(pulled_smiles)):\n",
      "                    if rf_validate(mols, activities, pulled_smiles[j]) > iteration:\n",
      "                        if pulled_smiles[j] not in mols:\n",
      "                            predicted_values.append( 1 )\n",
      "                    else:\n",
      "                        predicted_values.append( 0 ) \n",
      "                #cross_validation_scores.append( predicted_values == actual_values )\n",
      "                sm = difflib.SequenceMatcher(None, predicted_values, actual_values) ###uses the Ratcliff and Obershelp algorithm for matching these lists \n",
      "                cross_validation_scores.append( sm.ratio() )\n",
      "            except:\n",
      "                pass   \n",
      "        #validation_per_percent.append( float(cross_validation_scores.count(True))/len(cross_validation_scores) )\n",
      "        validation_per_percent.append( mean(cross_validation_scores) )\n",
      "        \n",
      "    return validation_per_percent"
     ],
     "language": "python",
     "metadata": {},
     "outputs": [],
     "prompt_number": 4
    },
    {
     "cell_type": "code",
     "collapsed": false,
     "input": [
      "def rf_find_alternative_substrates(enzyme):\n",
      "    \n",
      "    ###grabs the substrates of the given enzyme and their smiles\n",
      "    compound_names, positive_smiles = retrieve_enzyme_substrates(enzyme) \n",
      "    \n",
      "    ###generate 3D coordinates for each molecule\n",
      "    positive_structures = []\n",
      "    for i in positive_smiles:\n",
      "        positive_structures.append( Chem.MolFromSmiles(i) )\n",
      "    endogenous_structures = []\n",
      "    for i in endogenous_steroids:\n",
      "        endogenous_structures.append( Chem.MolFromSmiles(i) )\n",
      "    \n",
      "    for m in positive_structures: AllChem.Compute2DCoords(m)\n",
      "    for m in endogenous_structures: AllChem.Compute2DCoords(m)\n",
      "        \n",
      "    positive_fps=[AllChem.GetMorganFingerprintAsBitVect(x,2) for x in positive_structures]\n",
      "    endogenous_fps=[AllChem.GetMorganFingerprintAsBitVect(x,2) for x in endogenous_structures]\n",
      "    \n",
      "    #recombine endogenous structures with their scores\n",
      "    sims = DataStructs.BulkTanimotoSimilarity(positive_fps[0],endogenous_fps)\n",
      "    nbrs = sorted(zip(sims,endogenous_structures),reverse=False) \n",
      "    \n",
      "    #grab bottom 10% of matches\n",
      "    negative_structures = [x[1] for x in nbrs[:12]]\n",
      "    negative_smiles = []\n",
      "    for i in negative_structures:\n",
      "        negative_smiles.append( Chem.MolToSmiles(i) )\n",
      "        \n",
      "    #Draw.MolsToGridImage([x[1] for x in nbrs[:12]],legends=['%.4f'%x[0] for x in nbrs])\n",
      "    \n",
      "    ###gets the information for each molecule that we've grabbed thus far\n",
      "    activity = []\n",
      "    smiles = []\n",
      "    \n",
      "    for i in positive_smiles:\n",
      "        smiles.append( i )\n",
      "    for i in negative_smiles:\n",
      "        smiles.append( i )\n",
      "        \n",
      "    for i in range(len(positive_smiles)):\n",
      "        activity.append( 1 )\n",
      "    for i in range(len(negative_smiles)):\n",
      "        activity.append( 0 )\n",
      "        \n",
      "    for i in negative_smiles:\n",
      "        try:\n",
      "            results = pcp.get_compounds(str(i), 'smiles')\n",
      "            cpn = pcp.Compound.from_cid( int(str(results[0])[9:-1]) )\n",
      "            compound_names.append( cpn.iupac_name )   \n",
      "        except:\n",
      "            compound_names.append( 'error parsing' )\n",
      "    \n",
      "    ###our model\n",
      "    training_set = pd.DataFrame({'Smiles': smiles, 'Activity': activity, 'Compound Name': compound_names})\n",
      "    \n",
      "    ###identity is hard coded in the other file as 70%\n",
      "    values = [] \n",
      "    mols = training_set['Smiles'].tolist()\n",
      "    activities = training_set['Activity'].tolist()\n",
      "    \n",
      "    for i in range(len(steroidlist)):\n",
      "        if str( rf_classifier(mols, activities, steroidlist[i]) ) == '[1]':\n",
      "            if steroidlist[i] not in mols:\n",
      "                values.append( steroidlist[i] )\n",
      "    values = canonicalize_smiles(values)        \n",
      "    return values, training_set"
     ],
     "language": "python",
     "metadata": {},
     "outputs": [],
     "prompt_number": 39
    },
    {
     "cell_type": "code",
     "collapsed": false,
     "input": [
      "def tanimoto_candidates(target, steroidlist):\n",
      "    '''given a list of compounds, will compare to your target---can be used for quick candidate truncation'''\n",
      "    steroidmols = [Chem.MolFromSmiles(i) for i in steroidlist]\n",
      "\n",
      "    for m in steroidmols: AllChem.Compute2DCoords(m)\n",
      "    steroidlist_fps=[AllChem.GetMorganFingerprintAsBitVect(x,2) for x in steroidmols]\n",
      "    \n",
      "    #recombine endogenous structures with their scores\n",
      "    sims = DataStructs.BulkTanimotoSimilarity(steroidlist_fps[0],steroidlist_fps)\n",
      "    nbrs = sorted(zip(sims,steroidmols),reverse=True)\n",
      "    \n",
      "    #grab bottom 10% of matches\n",
      "    negative_structures = [x[1] for x in nbrs[:20]]\n",
      "    negative_smiles = []\n",
      "    for i in negative_structures:\n",
      "        negative_smiles.append( Chem.MolToSmiles(i) )\n",
      "        \n",
      "    nbrs_filtered = []\n",
      "    for i in nbrs:\n",
      "        if i[0] > .40:\n",
      "            nbrs_filtered.append( i )\n",
      "    #Draw.MolsToGridImage([x[1] for x in nbrs_filtered[:]],legends=['%.4f'%x[0] for x in nbrs_filtered])        \n",
      "    return nbrs_filtered"
     ],
     "language": "python",
     "metadata": {},
     "outputs": [],
     "prompt_number": 6
    },
    {
     "cell_type": "code",
     "collapsed": false,
     "input": [
      "def retrieve_pathway_participation(pathway):\n",
      "    '''given a kegg pathway, will find the enzymes that have the largest number of substrates'''\n",
      "    s = Kegg()\n",
      "    pathwaydata = s.parse_kgml_pathway(str(pathway))\n",
      "    \n",
      "    enzyme_activities = []\n",
      "    for i in xrange(len(pathwaydata['entries'])):\n",
      "        enzyme_activities.append( pathwaydata['entries'][i]['gene_names'] ) \n",
      "    enzyme_participation = Counter(enzyme_activities).most_common()\n",
      "    return enzyme_participation"
     ],
     "language": "python",
     "metadata": {},
     "outputs": [],
     "prompt_number": 7
    },
    {
     "cell_type": "code",
     "collapsed": false,
     "input": [
      "def canonicalize_smiles(smiles_list):\n",
      "    canonical_smiles = []\n",
      "    for i in smiles_list:\n",
      "        i = Chem.MolFromSmiles(i)\n",
      "        i = Chem.MolToSmiles( i, canonical=True ) \n",
      "        if '.' not in i:\n",
      "            canonical_smiles.append( i )   \n",
      "    return canonical_smiles\n",
      "\n",
      "def visualize_smiles(smiles_list):\n",
      "    vis = []\n",
      "    for i in list(set(smiles_list)):\n",
      "        vis.append( Chem.MolFromSmiles(i) )\n",
      "    return Draw.MolsToGridImage(vis,molsPerRow=8, includeAtomNumbers=False)    "
     ],
     "language": "python",
     "metadata": {},
     "outputs": []
    },
    {
     "cell_type": "markdown",
     "metadata": {},
     "source": [
      "Search for compound on KEGG."
     ]
    },
    {
     "cell_type": "code",
     "collapsed": false,
     "input": [
      "retrieve_enzyme_substrates('ec:1.14.15.6')"
     ],
     "language": "python",
     "metadata": {},
     "outputs": [
      {
       "output_type": "stream",
       "stream": "stderr",
       "text": [
        "INFO:root:Initialising Kegg service (REST)\n"
       ]
      },
      {
       "output_type": "pyout",
       "prompt_number": 5,
       "text": [
        "(['20alpha,22beta-Dihydroxycholesterol',\n",
        "  '17alpha,20alpha-Dihydroxycholesterol',\n",
        "  '20alpha-Hydroxycholesterol',\n",
        "  '22(R)-Hydroxycholesterol'],\n",
        " ['CC(C)CCC(C(C)(C1CCC2C1(CCC3C2CC=C4C3(CCC(C4)O)C)C)O)O',\n",
        "  'CC(C)CCCC(C)(C1(CCC2C1(CCC3C2CC=C4C3(CCC(C4)O)C)C)O)O',\n",
        "  'CC(C)CCCC(C)(C1CCC2C1(CCC3C2CC=C4C3(CCC(C4)O)C)C)O',\n",
        "  'CC(C)CCC(C(C)C1CCC2C1(CCC3C2CC=C4C3(CCC(C4)O)C)C)O'])"
       ]
      }
     ],
     "prompt_number": 5
    },
    {
     "cell_type": "code",
     "collapsed": false,
     "input": [
      "data, data2 = rf_find_alternative_substrates('ec:1.14.15.6')"
     ],
     "language": "python",
     "metadata": {},
     "outputs": [
      {
       "output_type": "stream",
       "stream": "stderr",
       "text": [
        "INFO:root:Initialising Kegg service (REST)\n"
       ]
      }
     ],
     "prompt_number": 9
    },
    {
     "cell_type": "code",
     "collapsed": false,
     "input": [
      "data2"
     ],
     "language": "python",
     "metadata": {},
     "outputs": [
      {
       "output_type": "stream",
       "stream": "stderr",
       "text": [
        "/usr/lib/python2.7/dist-packages/pandas/core/config.py:570: DeprecationWarning: height has been deprecated.\n",
        "\n",
        "  warnings.warn(d.msg, DeprecationWarning)\n",
        "/usr/lib/python2.7/dist-packages/pandas/core/config.py:570: DeprecationWarning: height has been deprecated.\n",
        "\n",
        "  warnings.warn(d.msg, DeprecationWarning)\n",
        "/usr/lib/python2.7/dist-packages/pandas/core/config.py:570: DeprecationWarning: height has been deprecated.\n",
        "\n",
        "  warnings.warn(d.msg, DeprecationWarning)\n"
       ]
      },
      {
       "html": [
        "<div style=\"max-height:1000px;max-width:1500px;overflow:auto;\">\n",
        "<table border=\"1\" class=\"dataframe\">\n",
        "  <thead>\n",
        "    <tr style=\"text-align: right;\">\n",
        "      <th></th>\n",
        "      <th>Activity</th>\n",
        "      <th>Compound Name</th>\n",
        "      <th>Smiles</th>\n",
        "    </tr>\n",
        "  </thead>\n",
        "  <tbody>\n",
        "    <tr>\n",
        "      <th>0 </th>\n",
        "      <td> 1</td>\n",
        "      <td>               20alpha,22beta-Dihydroxycholesterol</td>\n",
        "      <td> CC(C)CCC(C(C)(C1CCC2C1(CCC3C2CC=C4C3(CCC(C4)O)...</td>\n",
        "    </tr>\n",
        "    <tr>\n",
        "      <th>1 </th>\n",
        "      <td> 1</td>\n",
        "      <td>              17alpha,20alpha-Dihydroxycholesterol</td>\n",
        "      <td> CC(C)CCCC(C)(C1(CCC2C1(CCC3C2CC=C4C3(CCC(C4)O)...</td>\n",
        "    </tr>\n",
        "    <tr>\n",
        "      <th>2 </th>\n",
        "      <td> 1</td>\n",
        "      <td>                        20alpha-Hydroxycholesterol</td>\n",
        "      <td> CC(C)CCCC(C)(C1CCC2C1(CCC3C2CC=C4C3(CCC(C4)O)C...</td>\n",
        "    </tr>\n",
        "    <tr>\n",
        "      <th>3 </th>\n",
        "      <td> 1</td>\n",
        "      <td>                          22(R)-Hydroxycholesterol</td>\n",
        "      <td> CC(C)CCC(C(C)C1CCC2C1(CCC3C2CC=C4C3(CCC(C4)O)C...</td>\n",
        "    </tr>\n",
        "    <tr>\n",
        "      <th>4 </th>\n",
        "      <td> 0</td>\n",
        "      <td>                                              None</td>\n",
        "      <td> C=C(CCC(C)C1CCC2(C)C3CCC4C5(CC35CCC12C)CCC(O)C...</td>\n",
        "    </tr>\n",
        "    <tr>\n",
        "      <th>5 </th>\n",
        "      <td> 0</td>\n",
        "      <td>                                              None</td>\n",
        "      <td> CC(C)=CCCC(C)C1CCC2(C)C3CCC4C5(CC35CCC12C)CCC(...</td>\n",
        "    </tr>\n",
        "    <tr>\n",
        "      <th>6 </th>\n",
        "      <td> 0</td>\n",
        "      <td> 3,16-dihydroxy-13-methyl-7,8,9,11,12,14,15,16-...</td>\n",
        "      <td>                CC12CCC3c4ccc(O)cc4CCC3C1CC(O)C2=O</td>\n",
        "    </tr>\n",
        "    <tr>\n",
        "      <th>7 </th>\n",
        "      <td> 0</td>\n",
        "      <td> 17-hydroxy-17-(2-hydroxyacetyl)-10,13-dimethyl...</td>\n",
        "      <td>   CC12CC(=O)C3C(CCC4CC(=O)CCC43C)C1CCC2(O)C(=O)CO</td>\n",
        "    </tr>\n",
        "    <tr>\n",
        "      <th>8 </th>\n",
        "      <td> 0</td>\n",
        "      <td> 10,13-dimethyl-1,2,6,7,8,9,12,14,15,16-decahyd...</td>\n",
        "      <td>          CC12CC(=O)C3C(CCC4=CC(=O)CCC43C)C1CCC2=O</td>\n",
        "    </tr>\n",
        "    <tr>\n",
        "      <th>9 </th>\n",
        "      <td> 0</td>\n",
        "      <td> 3-hydroxy-13-methyl-7,8,9,11,12,14,15,16-octah...</td>\n",
        "      <td>                   CC12CCC3c4ccc(O)cc4CCC3C1CCC2=O</td>\n",
        "    </tr>\n",
        "    <tr>\n",
        "      <th>10</th>\n",
        "      <td> 0</td>\n",
        "      <td> 3-[2-[1-(5,6-dimethylhept-3-en-2-yl)-7a-methyl...</td>\n",
        "      <td> C=C1CCC(O)CC1=CC=C1CCCC2(C)C1CCC2C(C)C=CC(C)C(C)C</td>\n",
        "    </tr>\n",
        "    <tr>\n",
        "      <th>11</th>\n",
        "      <td> 0</td>\n",
        "      <td>                                              None</td>\n",
        "      <td> C=C(CCC(C)C1CCC2(C)C3CCC4C(C)C(O)CCC45CC35CCC1...</td>\n",
        "    </tr>\n",
        "    <tr>\n",
        "      <th>12</th>\n",
        "      <td> 0</td>\n",
        "      <td> 2,3-dihydroxy-13-methyl-7,8,9,11,12,14,15,16-o...</td>\n",
        "      <td>                CC12CCC3c4cc(O)c(O)cc4CCC3C1CCC2=O</td>\n",
        "    </tr>\n",
        "    <tr>\n",
        "      <th>13</th>\n",
        "      <td> 0</td>\n",
        "      <td> 11-hydroxy-17-(2-hydroxyacetyl)-10-methyl-3-ox...</td>\n",
        "      <td>   CC12CCC(=O)CC1CCC1C3CCC(C(=O)CO)C3(C=O)CC(O)C12</td>\n",
        "    </tr>\n",
        "    <tr>\n",
        "      <th>14</th>\n",
        "      <td> 0</td>\n",
        "      <td> 3-hydroxy-2-methoxy-13-methyl-7,8,9,11,12,14,1...</td>\n",
        "      <td>             COc1cc2c(cc1O)CCC1C3CCC(=O)C3(C)CCC21</td>\n",
        "    </tr>\n",
        "    <tr>\n",
        "      <th>15</th>\n",
        "      <td> 0</td>\n",
        "      <td> 17-hydroxy-17-(2-hydroxyacetyl)-10,13-dimethyl...</td>\n",
        "      <td>  CC12CC(=O)C3C(CCC4=CC(=O)CCC43C)C1CCC2(O)C(=O)CO</td>\n",
        "    </tr>\n",
        "  </tbody>\n",
        "</table>\n",
        "</div>"
       ],
       "output_type": "pyout",
       "prompt_number": 14,
       "text": [
        "    Activity                                      Compound Name  \\\n",
        "0          1                20alpha,22beta-Dihydroxycholesterol   \n",
        "1          1               17alpha,20alpha-Dihydroxycholesterol   \n",
        "2          1                         20alpha-Hydroxycholesterol   \n",
        "3          1                           22(R)-Hydroxycholesterol   \n",
        "4          0                                               None   \n",
        "5          0                                               None   \n",
        "6          0  3,16-dihydroxy-13-methyl-7,8,9,11,12,14,15,16-...   \n",
        "7          0  17-hydroxy-17-(2-hydroxyacetyl)-10,13-dimethyl...   \n",
        "8          0  10,13-dimethyl-1,2,6,7,8,9,12,14,15,16-decahyd...   \n",
        "9          0  3-hydroxy-13-methyl-7,8,9,11,12,14,15,16-octah...   \n",
        "10         0  3-[2-[1-(5,6-dimethylhept-3-en-2-yl)-7a-methyl...   \n",
        "11         0                                               None   \n",
        "12         0  2,3-dihydroxy-13-methyl-7,8,9,11,12,14,15,16-o...   \n",
        "13         0  11-hydroxy-17-(2-hydroxyacetyl)-10-methyl-3-ox...   \n",
        "14         0  3-hydroxy-2-methoxy-13-methyl-7,8,9,11,12,14,1...   \n",
        "15         0  17-hydroxy-17-(2-hydroxyacetyl)-10,13-dimethyl...   \n",
        "\n",
        "                                               Smiles  \n",
        "0   CC(C)CCC(C(C)(C1CCC2C1(CCC3C2CC=C4C3(CCC(C4)O)...  \n",
        "1   CC(C)CCCC(C)(C1(CCC2C1(CCC3C2CC=C4C3(CCC(C4)O)...  \n",
        "2   CC(C)CCCC(C)(C1CCC2C1(CCC3C2CC=C4C3(CCC(C4)O)C...  \n",
        "3   CC(C)CCC(C(C)C1CCC2C1(CCC3C2CC=C4C3(CCC(C4)O)C...  \n",
        "4   C=C(CCC(C)C1CCC2(C)C3CCC4C5(CC35CCC12C)CCC(O)C...  \n",
        "5   CC(C)=CCCC(C)C1CCC2(C)C3CCC4C5(CC35CCC12C)CCC(...  \n",
        "6                  CC12CCC3c4ccc(O)cc4CCC3C1CC(O)C2=O  \n",
        "7     CC12CC(=O)C3C(CCC4CC(=O)CCC43C)C1CCC2(O)C(=O)CO  \n",
        "8            CC12CC(=O)C3C(CCC4=CC(=O)CCC43C)C1CCC2=O  \n",
        "9                     CC12CCC3c4ccc(O)cc4CCC3C1CCC2=O  \n",
        "10  C=C1CCC(O)CC1=CC=C1CCCC2(C)C1CCC2C(C)C=CC(C)C(C)C  \n",
        "11  C=C(CCC(C)C1CCC2(C)C3CCC4C(C)C(O)CCC45CC35CCC1...  \n",
        "12                 CC12CCC3c4cc(O)c(O)cc4CCC3C1CCC2=O  \n",
        "13    CC12CCC(=O)CC1CCC1C3CCC(C(=O)CO)C3(C=O)CC(O)C12  \n",
        "14              COc1cc2c(cc1O)CCC1C3CCC(=O)C3(C)CCC21  \n",
        "15   CC12CC(=O)C3C(CCC4=CC(=O)CCC43C)C1CCC2(O)C(=O)CO  "
       ]
      }
     ],
     "prompt_number": 14
    },
    {
     "cell_type": "code",
     "collapsed": false,
     "input": [
      "s = Kegg()\n",
      "compound_search = (s.get(str('ec:1.14.15.6')))\n",
      "p = KeggParser()\n",
      "d = p.parse(compound_search)"
     ],
     "language": "python",
     "metadata": {},
     "outputs": [
      {
       "output_type": "stream",
       "stream": "stderr",
       "text": [
        "INFO:root:Initialising Kegg service (REST)\n"
       ]
      }
     ],
     "prompt_number": 9
    },
    {
     "cell_type": "code",
     "collapsed": false,
     "input": [
      "Keggsteroids_df = pd.read_table(\"Keggsteroids.csv\")"
     ],
     "language": "python",
     "metadata": {},
     "outputs": [],
     "prompt_number": 3
    },
    {
     "cell_type": "heading",
     "level": 1,
     "metadata": {},
     "source": [
      "Finding alternative substrates"
     ]
    },
    {
     "cell_type": "heading",
     "level": 4,
     "metadata": {},
     "source": [
      "Retrieve substrates given an enzyme"
     ]
    },
    {
     "cell_type": "code",
     "collapsed": false,
     "input": [
      "s = Kegg()\n",
      "s.find('enzyme', 'CYP7b1')"
     ],
     "language": "python",
     "metadata": {},
     "outputs": [
      {
       "output_type": "stream",
       "stream": "stderr",
       "text": [
        "INFO:root:Initialising Kegg service (REST)\n"
       ]
      },
      {
       "output_type": "stream",
       "stream": "stderr",
       "text": [
        "INFO:root:checking database enzyme (mode=find)\n"
       ]
      },
      {
       "output_type": "pyout",
       "prompt_number": 15,
       "text": [
        "'ec:1.14.13.100\\t25/26-hydroxycholesterol 7alpha-hydroxylase; 25-hydroxycholesterol 7alpha-monooxygenase; CYP7B1; CYP7B1 oxysterol 7alpha-hydroxylase; 27-hydroxycholesterol 7-monooxygenase; 27-hydroxycholesterol 7alpha-hydroxylase; cholest-5-ene-3beta,25-diol,NADPH:oxygen oxidoreductase (7alpha-hydroxylating); 25-hydroxycholesterol 7alpha-hydroxylase\\n'"
       ]
      }
     ],
     "prompt_number": 15
    },
    {
     "cell_type": "code",
     "collapsed": false,
     "input": [
      "compound_names, positive_smiles = retrieve_enzyme_substrates(\"ec:1.14.13.15\")\n",
      "print compound_names\n",
      "print positive_smiles"
     ],
     "language": "python",
     "metadata": {},
     "outputs": [
      {
       "output_type": "stream",
       "stream": "stderr",
       "text": [
        "INFO:root:Initialising Kegg service (REST)\n"
       ]
      },
      {
       "output_type": "stream",
       "stream": "stdout",
       "text": [
        "['3alpha,7alpha,12alpha-Trihydroxy-5beta-cholestane', '3alpha,7alpha-Dihydroxy-5beta-cholestane', 'Cholesterol', '7alpha,26-Dihydroxy-4-cholesten-3-one', 'Cholest-5-ene-3beta,26-diol', '3alpha,7alpha,26-Trihydroxy-5beta-cholestane', '3alpha,7alpha,12alpha,26-Tetrahydroxy-5beta-cholestane', '3alpha,7alpha-Dihydroxy-5beta-cholestan-26-al', '3alpha,7alpha,12alpha-Trihydroxy-5beta-cholestan-26-al']\n",
        "['CC(C)CCCC(C)C1CCC2C1(C(CC3C2C(CC4C3(CCC(C4)O)C)O)O)C', 'CC(C)CCCC(C)C1CCC2C1(CCC3C2C(CC4C3(CCC(C4)O)C)O)C', 'CC(C)CCCC(C)C1CCC2C1(CCC3C2CC=C4C3(CCC(C4)O)C)C', 'CC(CCCC(C)C1CCC2C1(CCC3C2C(CC4=CC(=O)CCC34C)O)C)CO', 'CC(CCCC(C)C1CCC2C1(CCC3C2CC=C4C3(CCC(C4)O)C)C)CO', 'CC(CCCC(C)C1CCC2C1(CCC3C2C(CC4C3(CCC(C4)O)C)O)C)CO', 'CC(CCCC(C)C1CCC2C1(C(CC3C2C(CC4C3(CCC(C4)O)C)O)O)C)CO', 'CC(CCCC(C)C1CCC2C1(CCC3C2C(CC4C3(CCC(C4)O)C)O)C)C=O', 'CC(CCCC(C)C1CCC2C1(C(CC3C2C(CC4C3(CCC(C4)O)C)O)O)C)C=O']\n"
       ]
      }
     ],
     "prompt_number": 290
    },
    {
     "cell_type": "code",
     "collapsed": false,
     "input": [
      "values, training_set = rf_find_alternative_substrates('ec:1.14.13.100')"
     ],
     "language": "python",
     "metadata": {},
     "outputs": [
      {
       "output_type": "stream",
       "stream": "stderr",
       "text": [
        "INFO:root:Initialising Kegg service (REST)\n"
       ]
      }
     ],
     "prompt_number": 19
    },
    {
     "cell_type": "code",
     "collapsed": false,
     "input": [
      "visualize_smiles(test)"
     ],
     "language": "python",
     "metadata": {},
     "outputs": [
      {
       "output_type": "pyout",
       "png": "[encoded data removed]",
       "prompt_number": 38,
       "text": [
        "<PIL.Image.Image image mode=RGB size=1600x200 at 0x584C0E0>"
       ]
      }
     ],
     "prompt_number": 38
    },
    {
     "cell_type": "code",
     "collapsed": false,
     "input": [
      "Draw.MolsToGridImage([x[1] for x in nbrs_filtered[:]],legends=['%.4f'%x[0] for x in nbrs_filtered])"
     ],
     "language": "python",
     "metadata": {},
     "outputs": [
      {
       "ename": "NameError",
       "evalue": "name 'nbrs_filtered' is not defined",
       "output_type": "pyerr",
       "traceback": [
        "\u001b[0;31m---------------------------------------------------------------------------\u001b[0m\n\u001b[0;31mNameError\u001b[0m                                 Traceback (most recent call last)",
        "\u001b[0;32m<ipython-input-18-b2b076e469ea>\u001b[0m in \u001b[0;36m<module>\u001b[0;34m()\u001b[0m\n\u001b[0;32m----> 1\u001b[0;31m \u001b[0mDraw\u001b[0m\u001b[0;34m.\u001b[0m\u001b[0mMolsToGridImage\u001b[0m\u001b[0;34m(\u001b[0m\u001b[0;34m[\u001b[0m\u001b[0mx\u001b[0m\u001b[0;34m[\u001b[0m\u001b[0;36m1\u001b[0m\u001b[0;34m]\u001b[0m \u001b[0;32mfor\u001b[0m \u001b[0mx\u001b[0m \u001b[0;32min\u001b[0m \u001b[0mnbrs_filtered\u001b[0m\u001b[0;34m[\u001b[0m\u001b[0;34m:\u001b[0m\u001b[0;34m]\u001b[0m\u001b[0;34m]\u001b[0m\u001b[0;34m,\u001b[0m\u001b[0mlegends\u001b[0m\u001b[0;34m=\u001b[0m\u001b[0;34m[\u001b[0m\u001b[0;34m'%.4f'\u001b[0m\u001b[0;34m%\u001b[0m\u001b[0mx\u001b[0m\u001b[0;34m[\u001b[0m\u001b[0;36m0\u001b[0m\u001b[0;34m]\u001b[0m \u001b[0;32mfor\u001b[0m \u001b[0mx\u001b[0m \u001b[0;32min\u001b[0m \u001b[0mnbrs_filtered\u001b[0m\u001b[0;34m]\u001b[0m\u001b[0;34m)\u001b[0m\u001b[0;34m\u001b[0m\u001b[0m\n\u001b[0m",
        "\u001b[0;31mNameError\u001b[0m: name 'nbrs_filtered' is not defined"
       ]
      }
     ],
     "prompt_number": 18
    },
    {
     "cell_type": "heading",
     "level": 1,
     "metadata": {},
     "source": [
      "Grabbing enzymes that are associated with a molecule."
     ]
    },
    {
     "cell_type": "code",
     "collapsed": false,
     "input": [
      "s.find('compound', 'cholesterol')\n",
      "print s.get(str('cpd:C00001'))"
     ],
     "language": "python",
     "metadata": {},
     "outputs": [
      {
       "output_type": "stream",
       "stream": "stdout",
       "text": [
        "ENTRY       C00001                      Compound\n",
        "NAME        H2O;\n",
        "            Water\n",
        "FORMULA     H2O\n",
        "EXACT_MASS  18.0106\n",
        "MOL_WEIGHT  18.0153\n",
        "REMARK      Same as: D00001\n",
        "REACTION    R00001 R00002 R00004 R00005 R00009 R00010 R00011 R00017 \n",
        "            R00022 R00024 R00025 R00026 R00028 R00036 R00041 R00044 \n",
        "            R00045 R00047 R00048 R00052 R00053 R00054 R00055 R00056 \n",
        "            R00058 R00059 R00060 R00061 R00068 R00069 R00070 R00072 \n",
        "            R00073 R00074 R00077 R00078 R00080 R00081 R00082 R00083 \n",
        "            R00084 R00085 R00086 R00087 R00088 R00090 R00097 R00102 \n",
        "            R00103 R00107 R00111 R00113 R00118 R00122 R00123 R00125 \n",
        "            R00128 R00131 R00132 R00135 R00138 R00143 R00145 R00146 \n",
        "            R00148 R00149 R00152 R00155 R00159 R00160 R00164 R00173 \n",
        "            R00175 R00177 R00181 R00182 R00183 R00184 R00187 R00188 \n",
        "            R00191 R00192 R00193 R00194 R00195 R00199 R00203 R00205 \n",
        "            R00208 R00213 R00218 R00227 R00243 R00245 R00248 R00250 \n",
        "            R00251 R00254 R00256 R00257 R00264 R00269 R00270 R00271 \n",
        "            R00274 R00276 R00277 R00279 R00280 R00283 R00284 R00286 \n",
        "            R00287 R00293 R00294 R00295 R00296 R00303 R00304 R00306 \n",
        "            R00308 R00311 R00317 R00318 R00319 R00321 R00322 R00324 \n",
        "            R00326 R00327 R00328 R00329 R00335 R00336 R00337 R00338 \n",
        "            R00339 R00340 R00345 R00348 R00351 R00357 R00359 R00364 \n",
        "            R00365 R00366 R00368 R00383 R00396 R00398 R00407 R00411 \n",
        "            R00414 R00421 R00424 R00425 R00426 R00428 R00446 R00447 \n",
        "            R00448 R00449 R00452 R00458 R00463 R00466 R00469 R00472 \n",
        "            R00484 R00485 R00486 R00488 R00494 R00499 R00501 R00507 \n",
        "            R00508 R00510 R00511 R00514 R00515 R00521 R00524 R00525 \n",
        "            R00526 R00527 R00528 R00531 R00532 R00533 R00534 R00538 \n",
        "            R00539 R00540 R00542 R00543 R00544 R00545 R00546 R00547 \n",
        "            R00548 R00551 R00552 R00557 R00558 R00559 R00562 R00563 \n",
        "            R00568 R00569 R00573 R00575 R00578 R00581 R00582 R00590 \n",
        "            R00602 R00603 R00604 R00606 R00609 R00610 R00611 R00612 \n",
        "            R00614 R00615 R00618 R00626 R00628 R00630 R00631 R00634 \n",
        "            R00635 R00638 R00644 R00646 R00648 R00653 R00654 R00657 \n",
        "            R00658 R00662 R00665 R00666 R00668 R00669 R00673 R00674 \n",
        "            R00675 R00676 R00677 R00679 R00682 R00686 R00688 R00689 \n",
        "            R00690 R00691 R00707 R00708 R00710 R00711 R00713 R00714 \n",
        "            R00715 R00716 R00719 R00720 R00723 R00728 R00729 R00730 \n",
        "            R00731 R00744 R00747 R00748 R00761 R00762 R00763 R00765 \n",
        "            R00775 R00777 R00778 R00781 R00782 R00783 R00784 R00785 \n",
        "            R00787 R00789 R00790 R00791 R00792 R00793 R00794 R00796 \n",
        "            R00798 R00799 R00801 R00802 R00804 R00805 R00815 R00818 \n",
        "            R00828 R00837 R00838 R00839 R00841 R00855 R00857 R00858 \n",
        "            R00859 R00861 R00872 R00879 R00880 R00881 R00888 R00891 \n",
        "            R00899 R00904 R00905 R00906 R00909 R00911 R00913 R00917 \n",
        "            R00918 R00931 R00932 R00941 R00944 R00945 R00947 R00951 \n",
        "            R00957 R00961 R00963 R00969 R00974 R00976 R00985 R00987 \n",
        "            R00988 R00993 R00997 R00998 R00999 R01001 R01003 R01004 \n",
        "            R01006 R01010 R01019 R01026 R01028 R01029 R01030 R01031 \n",
        "            R01032 R01043 R01047 R01048 R01054 R01055 R01058 R01072 \n",
        "            R01076 R01077 R01079 R01080 R01082 R01085 R01088 R01098 \n",
        "            R01100 R01101 R01103 R01104 R01105 R01106 R01115 R01126 \n",
        "            R01127 R01128 R01130 R01142 R01143 R01144 R01145 R01151 \n",
        "            R01152 R01156 R01157 R01158 R01163 R01166 R01180 R01184 \n",
        "            R01185 R01186 R01187 R01193 R01194 R01200 R01202 R01203 \n",
        "            R01206 R01209 R01212 R01213 R01225 R01226 R01227 R01231 \n",
        "            R01232 R01233 R01234 R01237 R01241 R01243 R01244 R01245 \n",
        "            R01258 R01259 R01260 R01263 R01264 R01266 R01267 R01268 \n",
        "            R01270 R01273 R01274 R01283 R01286 R01289 R01290 R01293 \n",
        "            R01294 R01295 R01296 R01297 R01298 R01299 R01301 R01303 \n",
        "            R01306 R01307 R01308 R01309 R01310 R01312 R01313 R01314 \n",
        "            R01315 R01316 R01317 R01325 R01328 R01329 R01331 R01332 \n",
        "            R01333 R01334 R01335 R01337 R01338 R01340 R01342 R01347 \n",
        "            R01348 R01351 R01352 R01358 R01364 R01367 R01369 R01373 \n",
        "            R01374 R01401 R01408 R01410 R01411 R01413 R01416 R01418 \n",
        "            R01419 R01420 R01421 R01423 R01424 R01425 R01426 R01433 \n",
        "            R01434 R01444 R01446 R01448 R01452 R01453 R01454 R01460 \n",
        "            R01462 R01463 R01466 R01469 R01470 R01478 R01480 R01483 \n",
        "            R01484 R01486 R01489 R01493 R01494 R01498 R01501 R01508 \n",
        "            R01511 R01515 R01516 R01519 R01532 R01533 R01538 R01540 \n",
        "            R01560 R01562 R01563 R01564 R01565 R01566 R01569 R01572 \n",
        "            R01579 R01581 R01583 R01584 R01587 R01588 R01589 R01599 \n",
        "            R01604 R01607 R01609 R01611 R01621 R01623 R01627 R01628 \n",
        "            R01629 R01630 R01649 R01650 R01655 R01663 R01664 R01667 \n",
        "            R01668 R01669 R01676 R01677 R01678 R01681 R01683 R01685 \n",
        "            R01690 R01703 R01704 R01705 R01706 R01709 R01710 R01718 \n",
        "            R01720 R01724 R01732 R01735 R01736 R01748 R01752 R01760 \n",
        "            R01762 R01768 R01769 R01770 R01788 R01790 R01791 R01795 \n",
        "            R01797 R01803 R01804 R01805 R01810 R01814 R01815 R01816 \n",
        "            R01825 R01826 R01833 R01840 R01842 R01845 R01851 R01853 \n",
        "            R01854 R01855 R01856 R01862 R01874 R01877 R01878 R01882 \n",
        "            R01884 R01885 R01886 R01887 R01900 R01911 R01914 R01915 \n",
        "            R01918 R01922 R01924 R01930 R01937 R01938 R01959 R01960 \n",
        "            R01962 R01963 R01966 R01968 R01978 R01981 R01982 R01984 \n",
        "            R01986 R01987 R01990 R01992 R01993 R01998 R02004 R02006 \n",
        "            R02014 R02017 R02018 R02019 R02020 R02022 R02023 R02024 \n",
        "            R02025 R02027 R02029 R02035 R02036 R02039 R02040 R02041 \n",
        "            R02042 R02051 R02052 R02053 R02054 R02059 R02078 R02083 \n",
        "            R02085 R02088 R02092 R02095 R02100 R02102 R02103 R02106 \n",
        "            R02107 R02108 R02109 R02115 R02123 R02125 R02130 R02131 \n",
        "            R02132 R02133 R02135 R02137 R02139 R02141 R02143 R02145 \n",
        "            R02148 R02150 R02160 R02165 R02167 R02170 R02171 R02172 \n",
        "            R02173 R02178 R02182 R02190 R02192 R02196 R02197 R02210 \n",
        "            R02211 R02212 R02213 R02214 R02218 R02222 R02223 R02224 \n",
        "            R02228 R02231 R02233 R02239 R02248 R02249 R02250 R02253 \n",
        "            R02254 R02269 R02273 R02276 R02278 R02279 R02280 R02281 \n",
        "            R02284 R02285 R02286 R02288 R02300 R02313 R02315 R02317 \n",
        "            R02319 R02322 R02323 R02325 R02330 R02333 R02334 R02336 \n",
        "            R02337 R02339 R02341 R02351 R02354 R02355 R02356 R02359 \n",
        "            R02360 R02362 R02363 R02368 R02370 R02374 R02376 R02378 \n",
        "            R02381 R02382 R02383 R02394 R02401 R02408 R02410 R02418 \n",
        "            R02419 R02422 R02423 R02425 R02426 R02427 R02428 R02429 \n",
        "            R02434 R02436 R02442 R02445 R02449 R02451 R02457 R02458 \n",
        "            R02468 R02469 R02470 R02474 R02485 R02490 R02491 R02492 \n",
        "            R02494 R02501 R02503 R02504 R02509 R02511 R02513 R02514 \n",
        "            R02515 R02516 R02517 R02518 R02520 R02522 R02526 R02529 \n",
        "            R02532 R02535 R02536 R02537 R02540 R02541 R02542 R02547 \n",
        "            R02549 R02550 R02551 R02552 R02554 R02556 R02558 R02559 \n",
        "            R02560 R02561 R02562 R02564 R02565 R02566 R02583 R02585 \n",
        "            R02587 R02588 R02589 R02591 R02595 R02597 R02598 R02601 \n",
        "            R02603 R02604 R02605 R02606 R02612 R02613 R02618 R02621 \n",
        "            R02622 R02624 R02648 R02655 R02657 R02659 R02668 R02675 \n",
        "            R02677 R02678 R02681 R02682 R02685 R02687 R02688 R02695 \n",
        "            R02697 R02698 R02706 R02707 R02708 R02712 R02714 R02719 \n",
        "            R02720 R02722 R02723 R02724 R02725 R02726 R02730 R02731 \n",
        "            R02733 R02734 R02744 R02745 R02746 R02747 R02751 R02752 \n",
        "            R02755 R02762 R02764 R02769 R02778 R02782 R02797 R02798 \n",
        "            R02801 R02804 R02805 R02810 R02813 R02814 R02815 R02817 \n",
        "            R02822 R02823 R02826 R02827 R02828 R02829 R02830 R02833 \n",
        "            R02838 R02843 R02853 R02857 R02860 R02866 R02873 R02874 \n",
        "            R02875 R02879 R02885 R02886 R02887 R02901 R02907 R02908 \n",
        "            R02914 R02915 R02919 R02922 R02923 R02926 R02930 R02933 \n",
        "            R02938 R02940 R02941 R02942 R02950 R02953 R02957 R02960 \n",
        "            R02963 R02973 R02974 R02983 R02985 R02987 R02991 R02992 \n",
        "            R02995 R02997 R03004 R03006 R03013 R03015 R03016 R03023 \n",
        "            R03024 R03026 R03027 R03032 R03033 R03034 R03036 R03037 \n",
        "            R03040 R03042 R03045 R03049 R03055 R03057 R03058 R03060 \n",
        "            R03062 R03066 R03069 R03071 R03084 R03086 R03087 R03088 \n",
        "            R03089 R03090 R03093 R03096 R03102 R03103 R03107 R03115 \n",
        "            R03122 R03124 R03126 R03139 R03145 R03151 R03158 R03162 \n",
        "            R03165 R03166 R03167 R03177 R03180 R03187 R03188 R03198 \n",
        "            R03202 R03204 R03206 R03208 R03211 R03216 R03220 R03224 \n",
        "            R03249 R03250 R03254 R03255 R03256 R03259 R03262 R03263 \n",
        "            R03273 R03281 R03283 R03288 R03299 R03300 R03302 R03310 \n",
        "            R03314 R03317 R03326 R03329 R03330 R03331 R03332 R03333 \n",
        "            R03344 R03346 R03349 R03350 R03352 R03355 R03360 R03363 \n",
        "            R03369 R03370 R03371 R03372 R03376 R03383 R03391 R03392 \n",
        "            R03393 R03394 R03404 R03408 R03409 R03415 R03416 R03417 \n",
        "            R03421 R03422 R03423 R03427 R03430 R03434 R03435 R03444 \n",
        "            R03445 R03446 R03448 R03450 R03452 R03454 R03457 R03459 \n",
        "            R03464 R03465 R03467 R03474 R03476 R03482 R03491 R03492 \n",
        "            R03493 R03496 R03506 R03508 R03510 R03511 R03515 R03517 \n",
        "            R03518 R03521 R03523 R03527 R03528 R03531 R03532 R03535 \n",
        "            R03536 R03537 R03538 R03540 R03541 R03542 R03549 R03551 \n",
        "            R03555 R03556 R03560 R03562 R03563 R03564 R03566 R03568 \n",
        "            R03570 R03575 R03579 R03590 R03593 R03595 R03596 R03597 \n",
        "            R03600 R03604 R03608 R03610 R03611 R03612 R03615 R03616 \n",
        "            R03617 R03618 R03620 R03622 R03624 R03629 R03634 R03635 \n",
        "            R03637 R03638 R03639 R03641 R03642 R03645 R03671 R03675 \n",
        "            R03683 R03685 R03687 R03688 R03692 R03693 R03694 R03695 \n",
        "            R03697 R03702 R03703 R03708 R03711 R03712 R03728 R03732 \n",
        "            R03735 R03737 R03738 R03739 R03742 R03743 R03751 R03772 \n",
        "            R03774 R03781 R03783 R03784 R03794 R03800 R03801 R03802 \n",
        "            R03803 R03804 R03806 R03807 R03810 R03814 R03818 R03820 \n",
        "            R03826 R03830 R03834 R03842 R03849 R03851 R03859 R03866 \n",
        "            R03869 R03870 R03871 R03877 R03878 R03885 R03887 R03889 \n",
        "            R03893 R03896 R03897 R03898 R03899 R03905 R03906 R03907 \n",
        "            R03909 R03912 R03916 R03921 R03927 R03929 R03933 R03935 \n",
        "            R03936 R03937 R03953 R03954 R03960 R03964 R03968 R03969 \n",
        "            R03970 R03971 R03974 R03975 R03977 R03978 R03979 R03980 \n",
        "            R03982 R03984 R03986 R03993 R03995 R03997 R03998 R03999 \n",
        "            R04001 R04006 R04014 R04018 R04019 R04020 R04025 R04026 \n",
        "            R04031 R04034 R04035 R04037 R04043 R04044 R04046 R04047 \n",
        "            R04056 R04060 R04065 R04066 R04068 R04070 R04084 R04085 \n",
        "            R04090 R04093 R04094 R04101 R04102 R04103 R04112 R04113 \n",
        "            R04118 R04119 R04120 R04121 R04122 R04130 R04131 R04132 \n",
        "            R04137 R04140 R04141 R04142 R04146 R04149 R04156 R04162 \n",
        "            R04166 R04167 R04170 R04174 R04175 R04177 R04180 R04183 \n",
        "            R04184 R04189 R04191 R04198 R04199 R04200 R04201 R04202 \n",
        "            R04204 R04206 R04212 R04214 R04223 R04224 R04228 R04229 \n",
        "            R04238 R04239 R04242 R04256 R04268 R04270 R04272 R04276 \n",
        "            R04277 R04282 R04283 R04292 R04293 R04294 R04300 R04303 \n",
        "            R04305 R04306 R04313 R04315 R04317 R04318 R04320 R04326 \n",
        "            R04327 R04328 R04336 R04341 R04342 R04349 R04350 R04362 \n",
        "            R04364 R04365 R04366 R04368 R04371 R04372 R04373 R04374 \n",
        "            R04384 R04392 R04397 R04399 R04400 R04404 R04416 R04418 \n",
        "            R04419 R04424 R04425 R04428 R04435 R04437 R04441 R04443 \n",
        "            R04444 R04445 R04446 R04447 R04450 R04452 R04453 R04457 \n",
        "            R04460 R04461 R04463 R04470 R04471 R04478 R04479 R04486 \n",
        "            R04487 R04488 R04490 R04501 R04503 R04506 R04512 R04513 \n",
        "            R04515 R04523 R04525 R04527 R04535 R04537 R04542 R04544 \n",
        "            R04549 R04568 R04571 R04586 R04587 R04593 R04594 R04608 \n",
        "            R04609 R04611 R04620 R04621 R04633 R04634 R04638 R04639 \n",
        "            R04641 R04650 R04666 R04674 R04675 R04676 R04687 R04688 \n",
        "            R04690 R04693 R04694 R04696 R04698 R04699 R04700 R04701 \n",
        "            R04702 R04708 R04727 R04728 R04731 R04734 R04738 R04740 \n",
        "            R04744 R04746 R04749 R04759 R04761 R04770 R04771 R04780 \n",
        "            R04781 R04783 R04784 R04785 R04789 R04790 R04791 R04792 \n",
        "            R04794 R04798 R04799 R04800 R04803 R04806 R04807 R04809 \n",
        "            R04813 R04826 R04850 R04852 R04853 R04854 R04855 R04856 \n",
        "            R04857 R04861 R04868 R04869 R04870 R04872 R04875 R04879 \n",
        "            R04882 R04883 R04884 R04886 R04888 R04889 R04890 R04891 \n",
        "            R04892 R04893 R04894 R04895 R04902 R04903 R04904 R04908 \n",
        "            R04911 R04914 R04916 R04917 R04930 R04936 R04937 R04938 \n",
        "            R04941 R04942 R04949 R04951 R04954 R04965 R04975 R04979 \n",
        "            R04980 R04982 R04984 R04987 R04989 R04996 R04998 R04999 \n",
        "            R05036 R05037 R05046 R05049 R05050 R05051 R05055 R05063 \n",
        "            R05064 R05070 R05076 R05077 R05078 R05079 R05086 R05099 \n",
        "            R05100 R05112 R05115 R05117 R05118 R05119 R05120 R05122 \n",
        "            R05129 R05133 R05134 R05135 R05136 R05138 R05141 R05142 \n",
        "            R05144 R05151 R05152 R05154 R05158 R05166 R05167 R05168 \n",
        "            R05169 R05170 R05172 R05174 R05183 R05185 R05186 R05188 \n",
        "            R05189 R05190 R05207 R05209 R05210 R05215 R05217 R05219 \n",
        "            R05224 R05225 R05226 R05227 R05228 R05235 R05236 R05237 \n",
        "            R05238 R05249 R05250 R05251 R05252 R05258 R05259 R05265 \n",
        "            R05266 R05270 R05272 R05273 R05274 R05281 R05284 R05286 \n",
        "            R05287 R05288 R05289 R05296 R05297 R05301 R05316 R05321 \n",
        "            R05322 R05334 R05335 R05337 R05346 R05353 R05356 R05357 \n",
        "            R05358 R05359 R05360 R05361 R05362 R05363 R05364 R05365 \n",
        "            R05366 R05367 R05368 R05369 R05370 R05371 R05372 R05379 \n",
        "            R05380 R05401 R05408 R05418 R05420 R05421 R05422 R05425 \n",
        "            R05426 R05441 R05442 R05443 R05444 R05445 R05448 R05450 \n",
        "            R05453 R05454 R05456 R05462 R05463 R05468 R05469 R05477 \n",
        "            R05478 R05481 R05482 R05485 R05486 R05487 R05488 R05495 \n",
        "            R05496 R05510 R05511 R05518 R05519 R05521 R05522 R05538 \n",
        "            R05543 R05544 R05545 R05546 R05548 R05549 R05551 R05552 \n",
        "            R05554 R05558 R05559 R05560 R05561 R05562 R05563 R05569 \n",
        "            R05572 R05573 R05574 R05590 R05591 R05592 R05593 R05594 \n",
        "            R05595 R05596 R05597 R05599 R05600 R05601 R05602 R05603 \n",
        "            R05606 R05608 R05618 R05623 R05624 R05625 R05627 R05632 \n",
        "            R05635 R05640 R05643 R05647 R05648 R05649 R05653 R05654 \n",
        "            R05655 R05658 R05659 R05663 R05664 R05677 R05695 R05697 \n",
        "            R05699 R05700 R05701 R05708 R05712 R05723 R05727 R05728 \n",
        "            R05729 R05730 R05731 R05732 R05733 R05734 R05735 R05736 \n",
        "            R05737 R05738 R05739 R05740 R05741 R05742 R05745 R05746 \n",
        "            R05748 R05749 R05750 R05751 R05771 R05772 R05775 R05777 \n",
        "            R05779 R05780 R05781 R05782 R05783 R05784 R05788 R05789 \n",
        "            R05790 R05791 R05792 R05793 R05796 R05797 R05811 R05815 \n",
        "            R05816 R05821 R05825 R05828 R05832 R05833 R05835 R05838 \n",
        "            R05842 R05845 R05855 R05856 R05861 R05862 R05863 R05864 \n",
        "            R05865 R05866 R05877 R05880 R05884 R05917 R05961 R05963 \n",
        "            R05966 R05979 R05980 R05981 R05982 R05984 R05994 R05996 \n",
        "            R05998 R05999 R06001 R06004 R06010 R06012 R06054 R06063 \n",
        "            R06064 R06070 R06077 R06078 R06080 R06081 R06082 R06084 \n",
        "            R06087 R06088 R06091 R06092 R06093 R06094 R06096 R06098 \n",
        "            R06099 R06100 R06101 R06102 R06103 R06104 R06105 R06106 \n",
        "            R06107 R06108 R06109 R06110 R06112 R06113 R06114 R06115 \n",
        "            R06116 R06118 R06119 R06124 R06133 R06134 R06136 R06138 \n",
        "            R06140 R06141 R06142 R06143 R06144 R06146 R06147 R06149 \n",
        "            R06150 R06151 R06152 R06154 R06157 R06158 R06160 R06161 \n",
        "            R06175 R06199 R06200 R06201 R06202 R06203 R06204 R06205 \n",
        "            R06206 R06207 R06208 R06209 R06211 R06225 R06228 R06239 \n",
        "            R06240 R06241 R06250 R06253 R06254 R06255 R06265 R06266 \n",
        "            R06267 R06268 R06280 R06282 R06283 R06291 R06292 R06293 \n",
        "            R06294 R06295 R06296 R06297 R06306 R06308 R06309 R06313 \n",
        "            R06323 R06351 R06354 R06357 R06361 R06363 R06366 R06367 \n",
        "            R06368 R06369 R06371 R06386 R06387 R06388 R06389 R06390 \n",
        "            R06391 R06392 R06393 R06396 R06398 R06400 R06401 R06402 \n",
        "            R06403 R06404 R06406 R06407 R06408 R06411 R06412 R06415 \n",
        "            R06421 R06428 R06448 R06449 R06453 R06454 R06458 R06459 \n",
        "            R06462 R06463 R06464 R06465 R06467 R06468 R06470 R06480 \n",
        "            R06481 R06482 R06483 R06513 R06515 R06518 R06519 R06520 \n",
        "            R06521 R06522 R06525 R06526 R06528 R06532 R06533 R06537 \n",
        "            R06538 R06539 R06540 R06551 R06560 R06561 R06568 R06572 \n",
        "            R06573 R06582 R06585 R06591 R06593 R06595 R06601 R06606 \n",
        "            R06607 R06615 R06622 R06623 R06625 R06650 R06665 R06679 \n",
        "            R06683 R06685 R06688 R06689 R06690 R06691 R06692 R06696 \n",
        "            R06699 R06700 R06704 R06722 R06728 R06729 R06740 R06752 \n",
        "            R06759 R06786 R06787 R06789 R06792 R06793 R06835 R06838 \n",
        "            R06851 R06852 R06854 R06870 R06871 R06875 R06883 R06884 \n",
        "            R06885 R06888 R06890 R06892 R06893 R06894 R06897 R06902 \n",
        "            R06906 R06913 R06914 R06915 R06916 R06918 R06923 R06924 \n",
        "            R06926 R06928 R06934 R06935 R06936 R06939 R06940 R06942 \n",
        "            R06945 R06946 R06947 R06957 R06966 R06967 R06968 R06969 \n",
        "            R06970 R06971 R06972 R06979 R06980 R07000 R07001 R07013 \n",
        "            R07014 R07016 R07020 R07021 R07022 R07027 R07031 R07032 \n",
        "            R07034 R07035 R07036 R07037 R07041 R07044 R07045 R07046 \n",
        "            R07048 R07050 R07051 R07052 R07054 R07055 R07056 R07063 \n",
        "            R07064 R07066 R07067 R07068 R07071 R07072 R07075 R07079 \n",
        "            R07080 R07081 R07082 R07084 R07085 R07087 R07088 R07089 \n",
        "            R07090 R07095 R07096 R07097 R07098 R07099 R07101 R07105 \n",
        "            R07107 R07108 R07109 R07110 R07111 R07112 R07117 R07121 \n",
        "            R07122 R07124 R07150 R07156 R07157 R07158 R07159 R07164 \n",
        "            R07165 R07166 R07167 R07170 R07178 R07179 R07180 R07190 \n",
        "            R07191 R07192 R07193 R07194 R07195 R07196 R07197 R07198 \n",
        "            R07199 R07200 R07201 R07202 R07203 R07204 R07205 R07206 \n",
        "            R07207 R07208 R07209 R07210 R07214 R07215 R07216 R07217 \n",
        "            R07218 R07219 R07220 R07221 R07222 R07223 R07224 R07225 \n",
        "            R07226 R07227 R07228 R07229 R07250 R07251 R07253 R07262 \n",
        "            R07263 R07280 R07291 R07292 R07293 R07294 R07295 R07296 \n",
        "            R07297 R07298 R07299 R07300 R07301 R07303 R07305 R07306 \n",
        "            R07307 R07308 R07309 R07310 R07311 R07314 R07317 R07318 \n",
        "            R07323 R07342 R07343 R07353 R07356 R07357 R07360 R07365 \n",
        "            R07366 R07367 R07368 R07369 R07370 R07371 R07372 R07373 \n",
        "            R07374 R07379 R07380 R07381 R07383 R07385 R07387 R07388 \n",
        "            R07392 R07394 R07395 R07398 R07399 R07400 R07401 R07402 \n",
        "            R07403 R07408 R07409 R07411 R07413 R07415 R07417 R07418 \n",
        "            R07419 R07421 R07422 R07423 R07430 R07431 R07440 R07441 \n",
        "            R07442 R07445 R07448 R07450 R07451 R07452 R07453 R07454 \n",
        "            R07455 R07456 R07457 R07458 R07467 R07470 R07474 R07509 \n",
        "            R07513 R07514 R07515 R07516 R07518 R07519 R07522 R07525 \n",
        "            R07526 R07528 R07530 R07531 R07532 R07536 R07537 R07538 \n",
        "            R07539 R07543 R07558 R07559 R07561 R07562 R07568 R07569 \n",
        "            R07570 R07572 R07582 R07583 R07584 R07597 R07598 R07606 \n",
        "            R07607 R07608 R07612 R07613 R07626 R07627 R07629 R07631 \n",
        "            R07632 R07634 R07638 R07647 R07651 R07654 R07662 R07665 \n",
        "            R07666 R07667 R07669 R07670 R07674 R07677 R07680 R07685 \n",
        "            R07692 R07708 R07709 R07710 R07711 R07713 R07714 R07715 \n",
        "            R07723 R07727 R07728 R07734 R07738 R07745 R07746 R07748 \n",
        "            R07752 R07760 R07764 R07772 R07776 R07777 R07778 R07779 \n",
        "            R07780 R07782 R07786 R07787 R07791 R07792 R07795 R07800 \n",
        "            R07802 R07805 R07806 R07807 R07808 R07809 R07810 R07811 \n",
        "            R07812 R07813 R07814 R07816 R07817 R07818 R07819 R07820 \n",
        "            R07821 R07822 R07823 R07824 R07825 R07831 R07835 R07836 \n",
        "            R07837 R07850 R07851 R07854 R07855 R07859 R07860 R07861 \n",
        "            R07863 R07865 R07867 R07871 R07881 R07889 R07893 R07897 \n",
        "            R07902 R07918 R07933 R07935 R07939 R07942 R07946 R07947 \n",
        "            R07951 R07954 R07955 R07956 R07957 R07958 R07959 R07960 \n",
        "            R07961 R07962 R07963 R07964 R07965 R07966 R07967 R07968 \n",
        "            R07969 R07970 R07971 R07972 R07973 R07974 R07975 R07976 \n",
        "            R07977 R07978 R07979 R07980 R07981 R07982 R07983 R07984 \n",
        "            R07986 R08002 R08005 R08008 R08009 R08010 R08014 R08015 \n",
        "            R08016 R08017 R08018 R08019 R08020 R08032 R08037 R08038 \n",
        "            R08042 R08043 R08044 R08045 R08046 R08047 R08053 R08054 \n",
        "            R08055 R08056 R08058 R08060 R08061 R08062 R08063 R08064 \n",
        "            R08066 R08068 R08069 R08070 R08071 R08072 R08073 R08074 \n",
        "            R08079 R08080 R08081 R08082 R08086 R08087 R08093 R08096 \n",
        "            R08097 R08118 R08120 R08121 R08125 R08127 R08144 R08148 \n",
        "            R08149 R08150 R08152 R08153 R08157 R08158 R08159 R08160 \n",
        "            R08161 R08162 R08163 R08168 R08170 R08173 R08174 R08175 \n",
        "            R08176 R08177 R08178 R08179 R08180 R08181 R08182 R08183 \n",
        "            R08184 R08185 R08186 R08187 R08188 R08189 R08190 R08191 \n",
        "            R08192 R08200 R08203 R08204 R08205 R08206 R08207 R08209 \n",
        "            R08210 R08211 R08212 R08220 R08221 R08224 R08225 R08227 \n",
        "            R08228 R08235 R08240 R08243 R08244 R08249 R08251 R08253 \n",
        "            R08254 R08255 R08257 R08258 R08260 R08264 R08265 R08266 \n",
        "            R08267 R08270 R08271 R08273 R08274 R08275 R08280 R08282 \n",
        "            R08283 R08285 R08294 R08295 R08300 R08303 R08304 R08305 \n",
        "            R08307 R08311 R08312 R08313 R08314 R08325 R08326 R08327 \n",
        "            R08331 R08332 R08346 R08347 R08348 R08349 R08350 R08351 \n",
        "            R08360 R08362 R08363 R08364 R08365 R08374 R08384 R08385 \n",
        "            R08388 R08390 R08391 R08392 R08396 R08403 R08408 R08451 \n",
        "            R08462 R08505 R08517 R08518 R08522 R08523 R08527 R08529 \n",
        "            R08543 R08548 R08555 R08569 R08571 R08587 R08600 R08601 \n",
        "            R08602 R08603 R08604 R08607 R08608 R08610 R08612 R08613 \n",
        "            R08614 R08615 R08619 R08623 R08627 R08631 R08637 R08640 \n",
        "            R08644 R08650 R08652 R08653 R08654 R08655 R08656 R08658 \n",
        "            R08659 R08660 R08663 R08664 R08665 R08666 R08667 R08670 \n",
        "            R08672 R08673 R08674 R08675 R08678 R08680 R08684 R08685 \n",
        "            R08686 R08689 R08697 R08698 R08701 R08702 R08707 R08715 \n",
        "            R08717 R08718 R08725 R08726 R08727 R08757 R08760 R08761 \n",
        "            R08762 R08764 R08766 R08767 R08768 R08773 R08775 R08784 \n",
        "            R08785 R08790 R08796 R08797 R08807 R08808 R08809 R08810 \n",
        "            R08815 R08818 R08820 R08821 R08825 R08826 R08827 R08828 \n",
        "            R08831 R08832 R08834 R08835 R08837 R08838 R08840 R08841 \n",
        "            R08850 R08851 R08852 R08853 R08854 R08855 R08863 R08870 \n",
        "            R08872 R08874 R08876 R08895 R08899 R08901 R08908 R08912 \n",
        "            R08913 R08922 R08923 R08925 R08941 R08942 R08943 R08949 \n",
        "            R08961 R08965 R08970 R08974 R08975 R08979 R08981 R08982 \n",
        "            R08991 R08992 R08993 R09002 R09038 R09039 R09042 R09048 \n",
        "            R09053 R09054 R09059 R09062 R09068 R09071 R09074 R09075 \n",
        "            R09076 R09077 R09079 R09080 R09083 R09093 R09098 R09099 \n",
        "            R09105 R09107 R09122 R09126 R09136 R09140 R09141 R09148 \n",
        "            R09151 R09152 R09156 R09157 R09167 R09168 R09169 R09171 \n",
        "            R09174 R09178 R09186 R09187 R09190 R09193 R09195 R09211 \n",
        "            R09220 R09222 R09226 R09230 R09231 R09232 R09234 R09235 \n",
        "            R09238 R09240 R09241 R09242 R09243 R09265 R09266 R09267 \n",
        "            R09268 R09269 R09273 R09275 R09277 R09282 R09285 R09287 \n",
        "            R09288 R09305 R09308 R09311 R09313 R09314 R09317 R09323 \n",
        "            R09327 R09337 R09338 R09342 R09344 R09364 R09366 R09367 \n",
        "            R09372 R09374 R09377 R09385 R09387 R09389 R09390 R09393 \n",
        "            R09394 R09396 R09403 R09404 R09405 R09406 R09407 R09408 \n",
        "            R09410 R09416 R09417 R09418 R09421 R09423 R09424 R09425 \n",
        "            R09435 R09436 R09441 R09442 R09443 R09445 R09446 R09447 \n",
        "            R09450 R09451 R09452 R09453 R09454 R09460 R09461 R09464 \n",
        "            R09465 R09471 R09472 R09473 R09487 R09492 R09493 R09495 \n",
        "            R09497 R09498 R09500 R09501 R09503 R09504 R09505 R09507 \n",
        "            R09513 R09514 R09515 R09516 R09517 R09518 R09519 R09526 \n",
        "            R09532 R09533 R09534 R09535 R09536 R09537 R09538 R09540 \n",
        "            R09545 R09547 R09548 R09549 R09554 R09556 R09562 R09563 \n",
        "            R09564 R09566 R09567 R09568 R09570 R09571 R09573 R09575 \n",
        "            R09576 R09577 R09578 R09579 R09580 R09581 R09583 R09584 \n",
        "            R09585 R09586 R09587 R09597 R09598 R09599 R09602 R09604 \n",
        "            R09605 R09617 R09618 R09628 R09629 R09630 R09640 R09643 \n",
        "            R09644 R09645 R09646 R09647 R09648 R09649 R09650 R09651 \n",
        "            R09657 R09660 R09661 R09664 R09671 R09672 R09673 R09674 \n",
        "            R09680 R09686 R09694 R09696 R09697 R09698 R09699 R09700 \n",
        "            R09701 R09702 R09721 R09722 R09723 R09724 R09725 R09727 \n",
        "            R09728 R09735 R09740 R09741 R09743 R09747 R09751 R09771 \n",
        "            R09779 R09783 R09784 R09785 R09786 R09787 R09788 R09789 \n",
        "            R09790 R09795 R09796 R09798 R09799 R09800 R09801 R09805 \n",
        "            R09809 R09812 R09813 R09814 R09815 R09816 R09817 R09818 \n",
        "            R09819 R09820 R09826 R09827 R09828 R09829 R09830 R09831 \n",
        "            R09832 R09833 R09834 R09835 R09836 R09838 R09840 R09841 \n",
        "            R09845 R09846 R09859 R09860 R09861 R09862 R09863 R09864 \n",
        "            R09865 R09866 R09867 R09868 R09874 R09875 R09876 R09877 \n",
        "            R09879 R09880 R09881 R09882 R09883 R09891 R09896 R09898 \n",
        "            R09921 R09922 R09923 R09924 R09925 R09934 R09935 R09938 \n",
        "            R09947 R09948 R09949 R09950 R09959 R09960 R09964 R09967 \n",
        "            R09968 R09973 R09978 R09980 R09981 R09983 R09991 R09992 \n",
        "            R09993 R10012 R10013 R10023 R10024 R10025 R10026 R10027 \n",
        "            R10028 R10029 R10031 R10032 R10033 R10035 R10036 R10038 \n",
        "            R10039 R10040 R10042 R10043 R10044 R10045 R10046 R10047 \n",
        "            R10051 R10055 R10057 R10058 R10064 R10066 R10067 R10068 \n",
        "            R10069 R10070 R10071 R10072 R10073 R10076 R10077 R10078 \n",
        "            R10080 R10082 R10083 R10084 R10086 R10088 R10089 R10092 \n",
        "            R10101 R10102 R10103 R10105 R10106 R10107 R10108 R10117 \n",
        "            R10121 R10123 R10127 R10133 R10134 R10135 R10143 R10145 \n",
        "            R10146 R10147 R10151 R10154 R10155 R10158 R10162 R10164 \n",
        "            R10181 R10186 R10187 R10193 R10203 R10205 R10206 R10208 \n",
        "            R10210 R10211 R10212 R10214 R10216 R10223 R10224 R10230 \n",
        "            R10231 R10232 R10233 R10234 R10235 R10238 R10239 R10241 \n",
        "            R10245 R10247 R10258 R10260 R10266 R10269 R10270 R10274 \n",
        "            R10301 R10304 R10313 R10314 R10315 R10316 R10317 R10318 \n",
        "            R10319 R10320 R10321 R10322 R10323 R10324 R10344 R10345 \n",
        "            R10346 R10347 R10348 R10350 R10351 R10356 R10357 R10358 \n",
        "            R10359 R10361 R10362 R10366 R10367 R10368 R10371 R10373 \n",
        "            R10376 R10379 R10381 R10388 R10389 R10392 R10393 R10395 \n",
        "            R10396 R10398 R10401 R10402 R10414 R10415 R10416 R10442 \n",
        "            R10443 R10444 R10445 R10463 R10466 R10467 R10468 R10469 \n",
        "            R10470 R10471 R10475 R10476 R10477 R10478 R10479 R10485 \n",
        "            R10486 R10493 R10496 R10500 R10510 R10511 R10515 R10517 \n",
        "            R10518 R10530 R10531 R10532 R10533 R10534 R10535 R10538 \n",
        "            R10540 R10541 R10545 R10546 R10547 R10551 R10552 R10553 \n",
        "            R10562 R10579 R10580 R10581 R10582 R10583 R10589 R10591 \n",
        "            R10602 R10604 R10612 R10615 R10617 R10621 R10622 R10626 \n",
        "            R10627 R10628 R10630 R10633 R10634 R10637 R10656 R10662 \n",
        "            R10663 R10664 R10666 R10667 R10668 R10669 R10670 R10671 \n",
        "            R10672 R10675 R10682 R10683 R10684 R10685 R10687 R10688 \n",
        "            R10689 R10691 R10692 R10694 R10695 R10696 R10701 R10702 \n",
        "            R10704 R10705 R10711 R10720 R10721 R10725 R10727 R10728\n",
        "PATHWAY     map00190  Oxidative phosphorylation\n",
        "            map00195  Photosynthesis\n",
        "            map00710  Carbon fixation in photosynthetic organisms\n",
        "            map00740  Riboflavin metabolism\n",
        "            map01100  Metabolic pathways\n",
        "            map01120  Microbial metabolism in diverse environments\n",
        "            map04918  Thyroid hormone synthesis\n",
        "            map04962  Vasopressin-regulated water reabsorption\n",
        "            map04964  Proximal tubule bicarbonate reclamation\n",
        "            map04966  Collecting duct acid secretion\n",
        "            map04970  Salivary secretion\n",
        "            map04971  Gastric acid secretion\n",
        "            map04972  Pancreatic secretion\n",
        "            map04976  Bile secretion\n",
        "            map05014  Amyotrophic lateral sclerosis (ALS)\n",
        "MODULE      M00416  Cytochrome aa3-600 menaquinol oxidase\n",
        "ENZYME      1.1.1.1         1.1.1.22        1.1.1.23        1.1.1.115       \n",
        "            1.1.1.132       1.1.1.136       1.1.1.170       1.1.1.186       \n",
        "            1.1.1.192       1.1.1.203       1.1.1.205       1.1.1.240       \n",
        "            1.1.1.270       1.1.1.306       1.1.1.308       1.1.1.312       \n",
        "            1.1.1.314       1.1.1.336       1.1.1.-         1.1.3.9         \n",
        "            1.1.3.14        1.1.3.17        1.1.3.20        1.1.3.23        \n",
        "            1.1.3.28        1.1.3.29        1.1.3.39        1.1.3.-         \n",
        "            1.1.4.1         1.1.-.-         1.2.1.3         1.2.1.4         \n",
        "            1.2.1.5         1.2.1.7         1.2.1.8         1.2.1.9         \n",
        "            1.2.1.15        1.2.1.16        1.2.1.19        1.2.1.20        \n",
        "            1.2.1.21        1.2.1.22        1.2.1.23        1.2.1.24        \n",
        "            1.2.1.26        1.2.1.28        1.2.1.29        1.2.1.31        \n",
        "            1.2.1.32        1.2.1.33        1.2.1.36        1.2.1.39        \n",
        "            1.2.1.46        1.2.1.47        1.2.1.48        1.2.1.49        \n",
        "            1.2.1.53        1.2.1.54        1.2.1.60        1.2.1.61        \n",
        "            1.2.1.62        1.2.1.63        1.2.1.64        1.2.1.65        \n",
        "            1.2.1.67        1.2.1.68        1.2.1.69        1.2.1.71        \n",
        "            1.2.1.72        1.2.1.73        1.2.1.74        1.2.1.77        \n",
        "            1.2.1.78        1.2.1.79        1.2.1.82        1.2.1.83        \n",
        "            1.2.1.85        1.2.1.86        1.2.1.88        1.2.1.89        \n",
        "            1.2.1.-         1.2.2.4         1.2.3.1         1.2.3.5         \n",
        "            1.2.3.7         1.2.3.8         1.2.3.9         1.2.3.14        \n",
        "            1.2.3.-         1.2.4.-         1.2.5.1         1.2.7.4         \n",
        "            1.2.7.5         1.2.7.6         1.2.99.2        1.2.99.3        \n",
        "            1.2.99.4        1.2.99.5        1.2.99.6        1.2.99.7        \n",
        "            1.2.99.8        1.2.-.-         1.3.3.3         1.3.3.5         \n",
        "            1.3.3.9         1.3.3.11        1.3.5.6         1.3.7.7         \n",
        "            1.3.7.8         1.3.7.9         1.3.99.8        1.3.99.16       \n",
        "            1.3.99.17       1.3.99.18       1.3.99.19       1.3.99.26       \n",
        "            1.3.99.28       1.3.99.30       1.3.99.31       1.3.99.35       \n",
        "            1.3.-.-         1.4.1.1         1.4.1.2         1.4.1.3         \n",
        "            1.4.1.4         1.4.1.5         1.4.1.7         1.4.1.8         \n",
        "            1.4.1.9         1.4.1.10        1.4.1.11        1.4.1.12        \n",
        "            1.4.1.13        1.4.1.15        1.4.1.16        1.4.1.17        \n",
        "            1.4.1.18        1.4.1.19        1.4.1.20        1.4.1.21        \n",
        "            1.4.1.23        1.4.1.24        1.4.1.-         1.4.2.1         \n",
        "            1.4.2.-         1.4.3.1         1.4.3.2         1.4.3.3         \n",
        "            1.4.3.4         1.4.3.5         1.4.3.7         1.4.3.8         \n",
        "            1.4.3.10        1.4.3.11        1.4.3.12        1.4.3.13        \n",
        "            1.4.3.14        1.4.3.15        1.4.3.16        1.4.3.19        \n",
        "            1.4.3.20        1.4.3.21        1.4.3.22        1.4.3.24        \n",
        "            1.4.3.-         1.4.5.1         1.4.7.1         1.4.9.1         \n",
        "            1.4.9.2         1.4.99.1        1.4.99.2        1.4.-.-         \n",
        "            1.5.1.6         1.5.1.7         1.5.1.8         1.5.1.9         \n",
        "            1.5.1.10        1.5.1.11        1.5.1.16        1.5.1.17        \n",
        "            1.5.1.19        1.5.1.22        1.5.1.23        1.5.1.24        \n",
        "            1.5.1.26        1.5.1.28        1.5.1.43        1.5.1.-         \n",
        "            1.5.3.1         1.5.3.2         1.5.3.4         1.5.3.5         \n",
        "            1.5.3.6         1.5.3.10        1.5.3.13        1.5.3.14        \n",
        "            1.5.3.15        1.5.3.16        1.5.3.17        1.5.3.18        \n",
        "            1.5.3.19        1.5.3.21        1.5.3.22        1.5.3.-         \n",
        "            1.5.4.1         1.5.8.1         1.5.8.2         1.5.8.3         \n",
        "            1.5.8.4         1.5.99.4        1.5.99.5        1.5.99.6        \n",
        "            1.5.99.12       1.5.99.14       1.6.3.2         1.6.3.4         \n",
        "            1.6.6.9         1.7.1.1         1.7.1.2         1.7.1.3         \n",
        "            1.7.1.4         1.7.1.9         1.7.1.10        1.7.1.11        \n",
        "            1.7.1.12        1.7.1.14        1.7.1.15        1.7.1.-         \n",
        "            1.7.2.1         1.7.2.2         1.7.2.4         1.7.2.5         \n",
        "            1.7.2.6         1.7.3.1         1.7.3.3         1.7.3.5         \n",
        "            1.7.3.6         1.7.5.1         1.7.5.2         1.7.6.1         \n",
        "            1.7.7.1         1.7.7.2         1.7.99.1        1.7.99.4        \n",
        "            1.8.1.2         1.8.1.3         1.8.1.9         1.8.1.17        \n",
        "            1.8.2.1         1.8.2.4         1.8.3.1         1.8.3.4         \n",
        "            1.8.3.5         1.8.3.6         1.8.4.11        1.8.4.12        \n",
        "            1.8.4.13        1.8.4.14        1.8.5.3         1.8.7.1         \n",
        "            1.8.99.1        1.8.99.3        1.9.3.1         1.9.6.1         \n",
        "            1.10.3.1        1.10.3.2        1.10.3.3        1.10.3.4        \n",
        "            1.10.3.9        1.10.3.10       1.10.3.11       1.10.3.12       \n",
        "            1.10.3.13       1.10.3.15       1.10.3.-        1.10.99.3       \n",
        "            1.11.1.1        1.11.1.2        1.11.1.3        1.11.1.5        \n",
        "            1.11.1.6        1.11.1.7        1.11.1.8        1.11.1.9        \n",
        "            1.11.1.10       1.11.1.11       1.11.1.12       1.11.1.13       \n",
        "            1.11.1.14       1.11.1.15       1.11.1.16       1.11.1.17       \n",
        "            1.11.1.18       1.11.1.21       1.11.1.23       1.11.1.-        \n",
        "            1.11.2.1        1.11.2.2        1.11.2.4        1.11.2.5        \n",
        "            1.13.11.2       1.13.11.3       1.13.11.18      1.13.11.34      \n",
        "            1.13.11.55      1.13.11.79      1.13.11.-       1.13.12.1       \n",
        "            1.13.12.2       1.13.12.3       1.13.12.4       1.13.12.9       \n",
        "            1.13.12.16      1.13.12.17      1.13.12.18      1.13.12.19      \n",
        "            1.13.12.20      1.13.12.21      1.13.12.-       1.13.99.1       \n",
        "            1.14.11.4       1.14.11.6       1.14.11.12      1.14.11.14      \n",
        "            1.14.11.19      1.14.11.21      1.14.11.22      1.14.11.23      \n",
        "            1.14.11.34      1.14.11.36      1.14.11.38      1.14.12.11      \n",
        "            1.14.12.12      1.14.12.-       1.14.13.1       1.14.13.2       \n",
        "            1.14.13.4       1.14.13.5       1.14.13.6       1.14.13.7       \n",
        "            1.14.13.8       1.14.13.9       1.14.13.10      1.14.13.11      \n",
        "            1.14.13.12      1.14.13.13      1.14.13.14      1.14.13.15      \n",
        "            1.14.13.16      1.14.13.17      1.14.13.18      1.14.13.19      \n",
        "            1.14.13.20      1.14.13.21      1.14.13.22      1.14.13.23      \n",
        "            1.14.13.24      1.14.13.25      1.14.13.26      1.14.13.27      \n",
        "            1.14.13.28      1.14.13.29      1.14.13.30      1.14.13.31      \n",
        "            1.14.13.32      1.14.13.33      1.14.13.34      1.14.13.36      \n",
        "            1.14.13.37      1.14.13.38      1.14.13.39      1.14.13.40      \n",
        "            1.14.13.41      1.14.13.44      1.14.13.46      1.14.13.47      \n",
        "            1.14.13.48      1.14.13.49      1.14.13.50      1.14.13.51      \n",
        "            1.14.13.52      1.14.13.53      1.14.13.54      1.14.13.55      \n",
        "            1.14.13.56      1.14.13.57      1.14.13.58      1.14.13.59      \n",
        "            1.14.13.61      1.14.13.62      1.14.13.63      1.14.13.64      \n",
        "            1.14.13.66      1.14.13.67      1.14.13.68      1.14.13.69      \n",
        "            1.14.13.70      1.14.13.71      1.14.13.72      1.14.13.73      \n",
        "            1.14.13.74      1.14.13.75      1.14.13.76      1.14.13.77      \n",
        "            1.14.13.78      1.14.13.79      1.14.13.80      1.14.13.81      \n",
        "            1.14.13.82      1.14.13.83      1.14.13.84      1.14.13.85      \n",
        "            1.14.13.87      1.14.13.88      1.14.13.89      1.14.13.90      \n",
        "            1.14.13.91      1.14.13.92      1.14.13.93      1.14.13.94      \n",
        "            1.14.13.95      1.14.13.96      1.14.13.97      1.14.13.98      \n",
        "            1.14.13.99      1.14.13.100     1.14.13.101     1.14.13.102     \n",
        "            1.14.13.103     1.14.13.104     1.14.13.105     1.14.13.106     \n",
        "            1.14.13.107     1.14.13.108     1.14.13.109     1.14.13.110     \n",
        "            1.14.13.111     1.14.13.112     1.14.13.113     1.14.13.114     \n",
        "            1.14.13.115     1.14.13.116     1.14.13.117     1.14.13.118     \n",
        "            1.14.13.119     1.14.13.120     1.14.13.121     1.14.13.122     \n",
        "            1.14.13.123     1.14.13.124     1.14.13.125     1.14.13.126     \n",
        "            1.14.13.127     1.14.13.128     1.14.13.129     1.14.13.130     \n",
        "            1.14.13.131     1.14.13.132     1.14.13.133     1.14.13.134     \n",
        "            1.14.13.135     1.14.13.136     1.14.13.137     1.14.13.138     \n",
        "            1.14.13.139     1.14.13.140     1.14.13.141     1.14.13.142     \n",
        "            1.14.13.143     1.14.13.144     1.14.13.145     1.14.13.146     \n",
        "            1.14.13.147     1.14.13.148     1.14.13.149     1.14.13.150     \n",
        "            1.14.13.151     1.14.13.152     1.14.13.153     1.14.13.154     \n",
        "            1.14.13.156     1.14.13.157     1.14.13.158     1.14.13.159     \n",
        "            1.14.13.160     1.14.13.161     1.14.13.162     1.14.13.163     \n",
        "            1.14.13.165     1.14.13.167     1.14.13.168     1.14.13.169     \n",
        "            1.14.13.170     1.14.13.171     1.14.13.172     1.14.13.173     \n",
        "            1.14.13.174     1.14.13.175     1.14.13.176     1.14.13.177     \n",
        "            1.14.13.178     1.14.13.179     1.14.13.180     1.14.13.181     \n",
        "            1.14.13.182     1.14.13.183     1.14.13.184     1.14.13.185     \n",
        "            1.14.13.186     1.14.13.187     1.14.13.188     1.14.13.189     \n",
        "            1.14.13.190     1.14.13.194     1.14.13.-       1.14.14.1       \n",
        "            1.14.14.3       1.14.14.5       1.14.14.7       1.14.14.8       \n",
        "            1.14.14.9       1.14.14.10      1.14.14.11      1.14.14.12      \n",
        "            1.14.14.13      1.14.14.14      1.14.14.-       1.14.15.1       \n",
        "            1.14.15.3       1.14.15.4       1.14.15.5       1.14.15.6       \n",
        "            1.14.15.7       1.14.15.8       1.14.15.9       1.14.15.10      \n",
        "            1.14.15.11      1.14.15.12      1.14.15.13      1.14.15.-       \n",
        "            1.14.16.1       1.14.16.2       1.14.16.3       1.14.16.4       \n",
        "            1.14.16.5       1.14.16.6       1.14.16.-       1.14.17.1       \n",
        "            1.14.17.3       1.14.17.4       1.14.18.1       1.14.18.2       \n",
        "            1.14.18.3       1.14.18.-       1.14.19.1       1.14.19.2       \n",
        "            1.14.19.3       1.14.19.8       1.14.19.-       1.14.20.1       \n",
        "            1.14.20.3       1.14.21.1       1.14.21.2       1.14.21.3       \n",
        "            1.14.21.4       1.14.21.5       1.14.21.6       1.14.21.7       \n",
        "            1.14.21.8       1.14.21.9       1.14.21.10      1.14.21.-       \n",
        "            1.14.99.1       1.14.99.3       1.14.99.4       1.14.99.9       \n",
        "            1.14.99.10      1.14.99.11      1.14.99.12      1.14.99.14      \n",
        "            1.14.99.15      1.14.99.19      1.14.99.20      1.14.99.21      \n",
        "            1.14.99.22      1.14.99.23      1.14.99.24      1.14.99.26      \n",
        "            1.14.99.27      1.14.99.29      1.14.99.31      1.14.99.32      \n",
        "            1.14.99.33      1.14.99.34      1.14.99.35      1.14.99.36      \n",
        "            1.14.99.37      1.14.99.38      1.14.99.39      1.14.99.43      \n",
        "            1.14.99.44      1.14.99.45      1.14.99.47      1.14.99.48      \n",
        "            1.14.99.-       1.14.-.-        1.16.1.3        1.16.1.5        \n",
        "            1.16.3.1        1.17.1.1        1.17.1.2        1.17.1.3        \n",
        "            1.17.1.4        1.17.1.5        1.17.1.7        1.17.1.8        \n",
        "            1.17.2.1        1.17.2.2        1.17.3.2        1.17.3.3        \n",
        "            1.17.4.1        1.17.4.2        1.17.5.1        1.17.5.2        \n",
        "            1.17.5.-        1.17.7.1        1.17.7.2        1.17.99.1       \n",
        "            1.17.99.2       1.17.99.3       1.17.99.4       1.17.99.5       \n",
        "            1.17.-.-        1.18.6.1        1.19.6.1        1.20.1.1        \n",
        "            1.20.2.1        1.20.4.2        1.20.9.1        1.21.3.1        \n",
        "            1.21.3.2        1.21.3.4        1.21.3.5        1.21.3.6        \n",
        "            1.21.3.9        1.21.4.2        1.21.4.3        1.21.4.4        \n",
        "            1.97.1.1        1.97.1.9        1.-.-.-         2.1.1.90        \n",
        "            2.1.1.152       2.1.1.246       2.1.1.-         2.1.2.1         \n",
        "            2.1.2.2         2.1.2.3         2.1.2.7         2.1.2.8         \n",
        "            2.1.2.10        2.1.2.11        2.3.1.85        2.3.1.86        \n",
        "            2.3.1.89        2.3.1.94        2.3.1.111       2.3.1.117       \n",
        "            2.3.1.119       2.3.1.159       2.3.1.161       2.3.1.164       \n",
        "            2.3.1.165       2.3.1.169       2.3.1.170       2.3.1.182       \n",
        "            2.3.1.211       2.3.1.212       2.3.1.216       2.3.1.217       \n",
        "            2.3.1.219       2.3.1.221       2.3.1.226       2.3.1.230       \n",
        "            2.3.2.2         2.3.2.-         2.3.3.1         2.3.3.2         \n",
        "            2.3.3.3         2.3.3.4         2.3.3.5         2.3.3.6         \n",
        "            2.3.3.7         2.3.3.9         2.3.3.10        2.3.3.11        \n",
        "            2.3.3.12        2.3.3.13        2.3.3.14        2.3.3.-         \n",
        "            2.4.1.17        2.4.1.139       2.4.2.14        2.5.1.6         \n",
        "            2.5.1.15        2.5.1.18        2.5.1.48        2.5.1.54        \n",
        "            2.5.1.55        2.5.1.56        2.5.1.57        2.5.1.61        \n",
        "            2.5.1.72        2.5.1.77        2.5.1.78        2.5.1.97        \n",
        "            2.5.1.101       2.5.1.120       2.5.1.-         2.6.1.13        \n",
        "            2.6.1.68        2.6.1.82        2.6.1.83        2.6.99.2        \n",
        "            2.7.1.170       2.7.7.87        2.7.9.2         2.7.9.3         \n",
        "            2.7.9.-         2.8.1.10        2.8.3.-         2.9.1.2         \n",
        "            2.10.1.1        3.1.1.1         3.1.1.2         3.1.1.3         \n",
        "            3.1.1.4         3.1.1.5         3.1.1.6         3.1.1.7         \n",
        "            3.1.1.8         3.1.1.10        3.1.1.11        3.1.1.13        \n",
        "            3.1.1.14        3.1.1.15        3.1.1.17        3.1.1.19        \n",
        "            3.1.1.20        3.1.1.22        3.1.1.23        3.1.1.24        \n",
        "            3.1.1.25        3.1.1.26        3.1.1.27        3.1.1.28        \n",
        "            3.1.1.29        3.1.1.30        3.1.1.31        3.1.1.32        \n",
        "            3.1.1.33        3.1.1.34        3.1.1.35        3.1.1.36        \n",
        "            3.1.1.37        3.1.1.38        3.1.1.39        3.1.1.40        \n",
        "            3.1.1.41        3.1.1.42        3.1.1.43        3.1.1.44        \n",
        "            3.1.1.45        3.1.1.46        3.1.1.47        3.1.1.48        \n",
        "            3.1.1.49        3.1.1.50        3.1.1.51        3.1.1.52        \n",
        "            3.1.1.53        3.1.1.54        3.1.1.55        3.1.1.56        \n",
        "            3.1.1.57        3.1.1.58        3.1.1.59        3.1.1.60        \n",
        "            3.1.1.61        3.1.1.63        3.1.1.64        3.1.1.65        \n",
        "            3.1.1.66        3.1.1.67        3.1.1.68        3.1.1.70        \n",
        "            3.1.1.71        3.1.1.73        3.1.1.74        3.1.1.75        \n",
        "            3.1.1.76        3.1.1.77        3.1.1.78        3.1.1.79        \n",
        "            3.1.1.80        3.1.1.81        3.1.1.82        3.1.1.83        \n",
        "            3.1.1.84        3.1.1.85        3.1.1.87        3.1.1.88        \n",
        "            3.1.1.90        3.1.1.91        3.1.1.92        3.1.1.93        \n",
        "            3.1.1.94        3.1.1.95        3.1.1.-         3.1.2.1         \n",
        "            3.1.2.2         3.1.2.3         3.1.2.4         3.1.2.5         \n",
        "            3.1.2.6         3.1.2.7         3.1.2.10        3.1.2.11        \n",
        "            3.1.2.12        3.1.2.13        3.1.2.14        3.1.2.15        \n",
        "            3.1.2.16        3.1.2.17        3.1.2.18        3.1.2.19        \n",
        "            3.1.2.20        3.1.2.21        3.1.2.22        3.1.2.23        \n",
        "            3.1.2.25        3.1.2.26        3.1.2.27        3.1.2.28        \n",
        "            3.1.2.29        3.1.2.30        3.1.2.-         3.1.3.1         \n",
        "            3.1.3.2         3.1.3.3         3.1.3.4         3.1.3.5         \n",
        "            3.1.3.6         3.1.3.7         3.1.3.8         3.1.3.9         \n",
        "            3.1.3.10        3.1.3.11        3.1.3.12        3.1.3.13        \n",
        "            3.1.3.14        3.1.3.15        3.1.3.16        3.1.3.17        \n",
        "            3.1.3.18        3.1.3.19        3.1.3.20        3.1.3.21        \n",
        "            3.1.3.22        3.1.3.23        3.1.3.24        3.1.3.25        \n",
        "            3.1.3.26        3.1.3.27        3.1.3.28        3.1.3.29        \n",
        "            3.1.3.31        3.1.3.32        3.1.3.33        3.1.3.34        \n",
        "            3.1.3.35        3.1.3.36        3.1.3.37        3.1.3.38        \n",
        "            3.1.3.39        3.1.3.40        3.1.3.41        3.1.3.42        \n",
        "            3.1.3.43        3.1.3.44        3.1.3.45        3.1.3.46        \n",
        "            3.1.3.47        3.1.3.48        3.1.3.49        3.1.3.50        \n",
        "            3.1.3.51        3.1.3.52        3.1.3.53        3.1.3.54        \n",
        "            3.1.3.55        3.1.3.56        3.1.3.57        3.1.3.58        \n",
        "            3.1.3.59        3.1.3.60        3.1.3.62        3.1.3.63        \n",
        "            3.1.3.64        3.1.3.66        3.1.3.67        3.1.3.68        \n",
        "            3.1.3.69        3.1.3.70        3.1.3.71        3.1.3.72        \n",
        "            3.1.3.73        3.1.3.74        3.1.3.75        3.1.3.76        \n",
        "            3.1.3.77        3.1.3.78        3.1.3.79        3.1.3.80        \n",
        "            3.1.3.81        3.1.3.82        3.1.3.83        3.1.3.85        \n",
        "            3.1.3.86        3.1.3.87        3.1.3.88        3.1.3.90        \n",
        "            3.1.3.91        3.1.3.92        3.1.3.93        3.1.3.94        \n",
        "            3.1.3.-         3.1.4.2         3.1.4.3         3.1.4.4         \n",
        "            3.1.4.11        3.1.4.12        3.1.4.13        3.1.4.14        \n",
        "            3.1.4.15        3.1.4.16        3.1.4.17        3.1.4.35        \n",
        "            3.1.4.37        3.1.4.38        3.1.4.39        3.1.4.40        \n",
        "            3.1.4.41        3.1.4.42        3.1.4.43        3.1.4.44        \n",
        "            3.1.4.45        3.1.4.46        3.1.4.48        3.1.4.49        \n",
        "            3.1.4.50        3.1.4.51        3.1.4.52        3.1.4.53        \n",
        "            3.1.4.55        3.1.4.56        3.1.4.-         3.1.5.1         \n",
        "            3.1.6.1         3.1.6.2         3.1.6.3         3.1.6.4         \n",
        "            3.1.6.6         3.1.6.8         3.1.6.9         3.1.6.10        \n",
        "            3.1.6.11        3.1.6.12        3.1.6.13        3.1.6.14        \n",
        "            3.1.6.16        3.1.6.17        3.1.6.18        3.1.7.1         \n",
        "            3.1.7.2         3.1.7.3         3.1.7.5         3.1.7.6         \n",
        "            3.1.7.7         3.1.7.8         3.1.7.9         3.1.7.10        \n",
        "            3.1.7.11        3.1.8.1         3.1.8.2         3.2.1.1         \n",
        "            3.2.1.3         3.2.1.4         3.2.1.10        3.2.1.14        \n",
        "            3.2.1.15        3.2.1.18        3.2.1.20        3.2.1.21        \n",
        "            3.2.1.22        3.2.1.23        3.2.1.24        3.2.1.25        \n",
        "            3.2.1.26        3.2.1.28        3.2.1.31        3.2.1.33        \n",
        "            3.2.1.35        3.2.1.37        3.2.1.39        3.2.1.42        \n",
        "            3.2.1.45        3.2.1.46        3.2.1.47        3.2.1.48        \n",
        "            3.2.1.49        3.2.1.50        3.2.1.51        3.2.1.52        \n",
        "            3.2.1.54        3.2.1.55        3.2.1.56        3.2.1.58        \n",
        "            3.2.1.62        3.2.1.63        3.2.1.65        3.2.1.66        \n",
        "            3.2.1.67        3.2.1.74        3.2.1.76        3.2.1.77        \n",
        "            3.2.1.78        3.2.1.80        3.2.1.84        3.2.1.85        \n",
        "            3.2.1.86        3.2.1.88        3.2.1.91        3.2.1.93        \n",
        "            3.2.1.97        3.2.1.103       3.2.1.104       3.2.1.105       \n",
        "            3.2.1.106       3.2.1.107       3.2.1.108       3.2.1.112       \n",
        "            3.2.1.113       3.2.1.114       3.2.1.117       3.2.1.118       \n",
        "            3.2.1.119       3.2.1.122       3.2.1.123       3.2.1.125       \n",
        "            3.2.1.126       3.2.1.128       3.2.1.132       3.2.1.134       \n",
        "            3.2.1.137       3.2.1.139       3.2.1.140       3.2.1.144       \n",
        "            3.2.1.147       3.2.1.149       3.2.1.165       3.2.1.166       \n",
        "            3.2.1.167       3.2.1.168       3.2.1.169       3.2.1.170       \n",
        "            3.2.1.175       3.2.1.179       3.2.1.183       3.2.1.184       \n",
        "            3.2.1.185       3.2.1.186       3.2.1.187       3.2.1.188       \n",
        "            3.2.1.189       3.2.1.190       3.2.1.-         3.2.2.1         \n",
        "            3.2.2.2         3.2.2.3         3.2.2.4         3.2.2.5         \n",
        "            3.2.2.6         3.2.2.7         3.2.2.8         3.2.2.9         \n",
        "            3.2.2.10        3.2.2.11        3.2.2.12        3.2.2.13        \n",
        "            3.2.2.14        3.2.2.16        3.2.2.19        3.2.2.24        \n",
        "            3.2.2.25        3.2.2.26        3.2.2.30        3.2.-.-         \n",
        "            3.3.1.1         3.3.1.2         3.3.2.1         3.3.2.2         \n",
        "            3.3.2.4         3.3.2.5         3.3.2.6         3.3.2.7         \n",
        "            3.3.2.8         3.3.2.9         3.3.2.10        3.3.2.11        \n",
        "            3.3.2.12        3.3.2.13        3.3.2.-         3.4.11.1        \n",
        "            3.4.11.2        3.4.11.5        3.4.11.23       3.4.13.4        \n",
        "            3.4.13.5        3.4.13.12       3.4.13.18       3.4.13.20       \n",
        "            3.4.13.22       3.4.13.-        3.4.15.6        3.4.17.8        \n",
        "            3.4.17.21       3.4.17.23       3.4.19.9        3.4.19.13       \n",
        "            3.4.19.14       3.4.22.-        3.4.24.84       3.4.-.-         \n",
        "            3.5.1.1         3.5.1.2         3.5.1.3         3.5.1.4         \n",
        "            3.5.1.5         3.5.1.6         3.5.1.7         3.5.1.8         \n",
        "            3.5.1.9         3.5.1.10        3.5.1.11        3.5.1.12        \n",
        "            3.5.1.13        3.5.1.14        3.5.1.15        3.5.1.16        \n",
        "            3.5.1.17        3.5.1.18        3.5.1.19        3.5.1.20        \n",
        "            3.5.1.21        3.5.1.22        3.5.1.23        3.5.1.24        \n",
        "            3.5.1.25        3.5.1.26        3.5.1.27        3.5.1.28        \n",
        "            3.5.1.29        3.5.1.30        3.5.1.31        3.5.1.32        \n",
        "            3.5.1.33        3.5.1.35        3.5.1.36        3.5.1.38        \n",
        "            3.5.1.39        3.5.1.40        3.5.1.41        3.5.1.42        \n",
        "            3.5.1.43        3.5.1.44        3.5.1.46        3.5.1.47        \n",
        "            3.5.1.48        3.5.1.49        3.5.1.50        3.5.1.51        \n",
        "            3.5.1.52        3.5.1.53        3.5.1.54        3.5.1.55        \n",
        "            3.5.1.56        3.5.1.57        3.5.1.58        3.5.1.59        \n",
        "            3.5.1.60        3.5.1.61        3.5.1.62        3.5.1.63        \n",
        "            3.5.1.64        3.5.1.65        3.5.1.66        3.5.1.67        \n",
        "            3.5.1.68        3.5.1.71        3.5.1.72        3.5.1.73        \n",
        "            3.5.1.74        3.5.1.75        3.5.1.76        3.5.1.77        \n",
        "            3.5.1.78        3.5.1.79        3.5.1.81        3.5.1.82        \n",
        "            3.5.1.83        3.5.1.84        3.5.1.85        3.5.1.86        \n",
        "            3.5.1.87        3.5.1.88        3.5.1.89        3.5.1.90        \n",
        "            3.5.1.91        3.5.1.92        3.5.1.93        3.5.1.94        \n",
        "            3.5.1.95        3.5.1.96        3.5.1.97        3.5.1.99        \n",
        "            3.5.1.100       3.5.1.101       3.5.1.102       3.5.1.103       \n",
        "            3.5.1.104       3.5.1.106       3.5.1.107       3.5.1.108       \n",
        "            3.5.1.110       3.5.1.111       3.5.1.112       3.5.1.113       \n",
        "            3.5.1.114       3.5.1.115       3.5.1.116       3.5.1.-         \n",
        "            3.5.2.1         3.5.2.2         3.5.2.3         3.5.2.4         \n",
        "            3.5.2.5         3.5.2.6         3.5.2.7         3.5.2.9         \n",
        "            3.5.2.10        3.5.2.11        3.5.2.12        3.5.2.13        \n",
        "            3.5.2.14        3.5.2.15        3.5.2.16        3.5.2.17        \n",
        "            3.5.2.18        3.5.2.19        3.5.2.-         3.5.3.1         \n",
        "            3.5.3.2         3.5.3.3         3.5.3.4         3.5.3.5         \n",
        "            3.5.3.6         3.5.3.7         3.5.3.8         3.5.3.9         \n",
        "            3.5.3.10        3.5.3.11        3.5.3.12        3.5.3.13        \n",
        "            3.5.3.14        3.5.3.15        3.5.3.16        3.5.3.17        \n",
        "            3.5.3.18        3.5.3.20        3.5.3.21        3.5.3.22        \n",
        "            3.5.3.23        3.5.3.24        3.5.3.25        3.5.3.26        \n",
        "            3.5.3.-         3.5.4.1         3.5.4.2         3.5.4.3         \n",
        "            3.5.4.4         3.5.4.5         3.5.4.6         3.5.4.7         \n",
        "            3.5.4.8         3.5.4.9         3.5.4.10        3.5.4.11        \n",
        "            3.5.4.12        3.5.4.13        3.5.4.15        3.5.4.16        \n",
        "            3.5.4.17        3.5.4.18        3.5.4.19        3.5.4.20        \n",
        "            3.5.4.21        3.5.4.22        3.5.4.23        3.5.4.24        \n",
        "            3.5.4.25        3.5.4.26        3.5.4.27        3.5.4.28        \n",
        "            3.5.4.29        3.5.4.30        3.5.4.31        3.5.4.32        \n",
        "            3.5.4.33        3.5.4.34        3.5.4.35        3.5.4.39        \n",
        "            3.5.4.40        3.5.4.-         3.5.5.1         3.5.5.2         \n",
        "            3.5.5.4         3.5.5.5         3.5.5.6         3.5.5.7         \n",
        "            3.5.5.8         3.5.5.-         3.5.99.1        3.5.99.2        \n",
        "            3.5.99.3        3.5.99.4        3.5.99.5        3.5.99.6        \n",
        "            3.5.99.7        3.5.99.8        3.5.99.9        3.5.99.-        \n",
        "            3.5.-.-         3.6.1.1         3.6.1.2         3.6.1.3         \n",
        "            3.6.1.5         3.6.1.6         3.6.1.7         3.6.1.8         \n",
        "            3.6.1.9         3.6.1.10        3.6.1.11        3.6.1.12        \n",
        "            3.6.1.13        3.6.1.14        3.6.1.15        3.6.1.16        \n",
        "            3.6.1.17        3.6.1.18        3.6.1.19        3.6.1.20        \n",
        "            3.6.1.21        3.6.1.22        3.6.1.23        3.6.1.25        \n",
        "            3.6.1.26        3.6.1.27        3.6.1.28        3.6.1.29        \n",
        "            3.6.1.31        3.6.1.39        3.6.1.40        3.6.1.41        \n",
        "            3.6.1.42        3.6.1.43        3.6.1.44        3.6.1.45        \n",
        "            3.6.1.52        3.6.1.53        3.6.1.54        3.6.1.55        \n",
        "            3.6.1.56        3.6.1.57        3.6.1.58        3.6.1.59        \n",
        "            3.6.1.60        3.6.1.61        3.6.1.63        3.6.1.64        \n",
        "            3.6.1.65        3.6.1.66        3.6.1.-         3.6.2.1         \n",
        "            3.6.2.2         3.6.3.1         3.6.3.2         3.6.3.3         \n",
        "            3.6.3.4         3.6.3.5         3.6.3.6         3.6.3.7         \n",
        "            3.6.3.8         3.6.3.9         3.6.3.10        3.6.3.11        \n",
        "            3.6.3.12        3.6.3.14        3.6.3.15        3.6.3.16        \n",
        "            3.6.3.17        3.6.3.18        3.6.3.19        3.6.3.20        \n",
        "            3.6.3.21        3.6.3.22        3.6.3.23        3.6.3.24        \n",
        "            3.6.3.25        3.6.3.26        3.6.3.27        3.6.3.28        \n",
        "            3.6.3.29        3.6.3.30        3.6.3.31        3.6.3.32        \n",
        "            3.6.3.33        3.6.3.34        3.6.3.35        3.6.3.36        \n",
        "            3.6.3.37        3.6.3.38        3.6.3.39        3.6.3.40        \n",
        "            3.6.3.41        3.6.3.42        3.6.3.43        3.6.3.44        \n",
        "            3.6.3.46        3.6.3.47        3.6.3.48        3.6.3.49        \n",
        "            3.6.3.50        3.6.3.51        3.6.3.52        3.6.3.53        \n",
        "            3.6.3.54        3.6.3.55        3.6.4.1         3.6.4.2         \n",
        "            3.6.4.3         3.6.4.4         3.6.4.5         3.6.4.6         \n",
        "            3.6.4.7         3.6.4.8         3.6.4.9         3.6.4.10        \n",
        "            3.6.4.11        3.6.4.12        3.6.4.13        3.6.5.1         \n",
        "            3.6.5.2         3.6.5.3         3.6.5.4         3.6.5.5         \n",
        "            3.6.5.6         3.7.1.1         3.7.1.2         3.7.1.3         \n",
        "            3.7.1.4         3.7.1.5         3.7.1.6         3.7.1.7         \n",
        "            3.7.1.8         3.7.1.9         3.7.1.10        3.7.1.11        \n",
        "            3.7.1.12        3.7.1.13        3.7.1.14        3.7.1.17        \n",
        "            3.7.1.18        3.7.1.19        3.7.1.20        3.7.1.21        \n",
        "            3.7.1.22        3.7.1.-         3.8.1.1         3.8.1.2         \n",
        "            3.8.1.3         3.8.1.5         3.8.1.6         3.8.1.7         \n",
        "            3.8.1.8         3.8.1.9         3.8.1.10        3.8.1.11        \n",
        "            3.8.1.-         3.9.1.1         3.10.1.1        3.10.1.2        \n",
        "            3.11.1.1        3.11.1.2        3.11.1.3        3.12.1.1        \n",
        "            3.13.1.1        3.13.1.3        4.1.1.31        4.1.1.39        \n",
        "            4.1.1.48        4.1.1.60        4.1.1.78        4.1.1.90        \n",
        "            4.1.1.93        4.1.1.-         4.1.2.9         4.1.2.22        \n",
        "            4.1.2.30        4.1.2.34        4.1.2.44        4.1.2.45        \n",
        "            4.1.2.50        4.1.2.-         4.1.3.27        4.1.3.36        \n",
        "            4.1.3.44        4.1.3.-         4.1.99.1        4.1.99.2        \n",
        "            4.1.99.5        4.1.99.16       4.1.99.18       4.1.99.20       \n",
        "            4.2.1.1         4.2.1.2         4.2.1.3         4.2.1.5         \n",
        "            4.2.1.6         4.2.1.7         4.2.1.8         4.2.1.9         \n",
        "            4.2.1.10        4.2.1.11        4.2.1.12        4.2.1.17        \n",
        "            4.2.1.18        4.2.1.19        4.2.1.20        4.2.1.22        \n",
        "            4.2.1.24        4.2.1.25        4.2.1.27        4.2.1.28        \n",
        "            4.2.1.30        4.2.1.31        4.2.1.32        4.2.1.33        \n",
        "            4.2.1.34        4.2.1.35        4.2.1.36        4.2.1.39        \n",
        "            4.2.1.40        4.2.1.41        4.2.1.42        4.2.1.43        \n",
        "            4.2.1.44        4.2.1.45        4.2.1.46        4.2.1.47        \n",
        "            4.2.1.48        4.2.1.49        4.2.1.50        4.2.1.51        \n",
        "            4.2.1.53        4.2.1.54        4.2.1.55        4.2.1.56        \n",
        "            4.2.1.57        4.2.1.59        4.2.1.62        4.2.1.65        \n",
        "            4.2.1.66        4.2.1.67        4.2.1.68        4.2.1.69        \n",
        "            4.2.1.70        4.2.1.73        4.2.1.74        4.2.1.75        \n",
        "            4.2.1.76        4.2.1.77        4.2.1.78        4.2.1.79        \n",
        "            4.2.1.80        4.2.1.81        4.2.1.82        4.2.1.83        \n",
        "            4.2.1.84        4.2.1.85        4.2.1.90        4.2.1.91        \n",
        "            4.2.1.92        4.2.1.94        4.2.1.95        4.2.1.96        \n",
        "            4.2.1.97        4.2.1.98        4.2.1.99        4.2.1.100       \n",
        "            4.2.1.101       4.2.1.103       4.2.1.105       4.2.1.106       \n",
        "            4.2.1.107       4.2.1.108       4.2.1.109       4.2.1.110       \n",
        "            4.2.1.111       4.2.1.112       4.2.1.113       4.2.1.114       \n",
        "            4.2.1.115       4.2.1.116       4.2.1.118       4.2.1.119       \n",
        "            4.2.1.120       4.2.1.121       4.2.1.122       4.2.1.123       \n",
        "            4.2.1.124       4.2.1.125       4.2.1.126       4.2.1.127       \n",
        "            4.2.1.128       4.2.1.129       4.2.1.130       4.2.1.131       \n",
        "            4.2.1.132       4.2.1.133       4.2.1.134       4.2.1.135       \n",
        "            4.2.1.137       4.2.1.138       4.2.1.139       4.2.1.140       \n",
        "            4.2.1.141       4.2.1.142       4.2.1.143       4.2.1.144       \n",
        "            4.2.1.145       4.2.1.146       4.2.1.147       4.2.1.148       \n",
        "            4.2.1.149       4.2.1.151       4.2.1.-         4.2.2.2         \n",
        "            4.2.2.9         4.2.3.1         4.2.3.2         4.2.3.10        \n",
        "            4.2.3.11        4.2.3.22        4.2.3.25        4.2.3.26        \n",
        "            4.2.3.39        4.2.3.42        4.2.3.45        4.2.3.48        \n",
        "            4.2.3.49        4.2.3.64        4.2.3.68        4.2.3.70        \n",
        "            4.2.3.74        4.2.3.84        4.2.3.85        4.2.3.91        \n",
        "            4.2.3.96        4.2.3.98        4.2.3.108       4.2.3.111       \n",
        "            4.2.3.112       4.2.3.118       4.2.3.134       4.2.3.138       \n",
        "            4.2.3.141       4.2.3.143       4.2.3.144       4.3.1.10        \n",
        "            4.3.1.13        4.3.1.15        4.3.1.17        4.3.2.4         \n",
        "            4.3.3.2         4.3.3.3         4.3.3.4         4.3.3.5         \n",
        "            4.3.3.6         4.3.3.7         4.4.1.1         4.4.1.2         \n",
        "            4.4.1.6         4.4.1.8         4.4.1.11        4.4.1.13        \n",
        "            4.4.1.15        4.4.1.25        4.4.1.27        4.4.1.-         \n",
        "            4.5.1.2         4.5.1.3         4.5.1.4         4.6.1.13        \n",
        "            4.99.1.5        4.99.1.6        4.99.1.7        4.-.-.-         \n",
        "            5.1.1.11        5.1.3.14        5.3.1.-         6.1.2.2         \n",
        "            6.2.1.-         6.3.2.26        6.3.3.5         6.3.4.2         \n",
        "            6.3.4.8         6.3.4.16        6.3.4.19        6.3.4.20        \n",
        "            6.3.4.21        6.3.4.22        6.3.5.1         6.3.5.2         \n",
        "            6.3.5.3         6.3.5.4         6.3.5.5         6.3.5.6         \n",
        "            6.3.5.7         6.3.5.9         6.3.5.10        6.3.5.11        \n",
        "            6.3.5.-         6.4.1.6         6.4.1.8         6.4.1.-         \n",
        "            6.6.1.1         6.6.1.2\n",
        "BRITE       Therapeutic category of drugs in Japan [BR:br08301]\n",
        "             7  Agents not mainly for therapeutic purpose\n",
        "              71  Dispensing medicines\n",
        "               713  Solvents\n",
        "                7131  Purified water\n",
        "                 D00001  Water (JP16/USP); Purified water (JP16); Purified water in containers (JP16); Water, purified (USP); Sterile purified water in containers (JP16); Water for injection (JP16); Water for injection in containers (JP16)\n",
        "            Risk category of Japanese OTC drugs [BR:br08312]\n",
        "             Third-class OTC drugs\n",
        "              Inorganic and organic chemicals\n",
        "               Water\n",
        "                D00001  Water (JP16/USP); Purified water (JP16); Purified water in containers (JP16); Water, purified (USP); Sterile purified water in containers (JP16); Water for injection (JP16); Water for injection in containers (JP16)\n",
        "            Pharmaceutical additives [BR:br08316]\n",
        "             Base\n",
        "              D00001  [001370] Purified water\n",
        "              D00001  [001371] Sterile purified water\n",
        "             Bonding agent\n",
        "              D00001  [001341] Water\n",
        "             Wetting agent\n",
        "              D00001  [001341] Water\n",
        "              D00001  [001370] Purified water\n",
        "             Wetting adjuster\n",
        "              D00001  [001370] Purified water\n",
        "             Solubilizer\n",
        "              D00001  [001341] Water\n",
        "              D00001  [001370] Purified water\n",
        "              D00001  [001342] Water for injection\n",
        "              D00001  [001371] Sterile purified water\n",
        "             Solubilization agent\n",
        "              D00001  [001371] Sterile purified water\n",
        "             Solvent\n",
        "              D00001  [001341] Water\n",
        "              D00001  [001370] Purified water\n",
        "              D00001  [001342] Water for injection\n",
        "              D00001  [001371] Sterile purified water\n",
        "            Drugs listed in the Japanese Pharmacopoeia [BR:br08311]\n",
        "             Chemicals\n",
        "              D00001  Water\n",
        "              D00001  Purified water\n",
        "              D00001  Purified water in containers\n",
        "              D00001  Sterile purified Water in containers\n",
        "              D00001  Water for injection\n",
        "              D00001  Sterile water for injection in containers\n",
        "DBLINKS     CAS: 7732-18-5\n",
        "            PubChem: 3303\n",
        "            ChEBI: 15377\n",
        "            PDB-CCD: HOH O\n",
        "            3DMET: B01124\n",
        "            NIKKAJI: J43.587B\n",
        "ATOM        1\n",
        "            1   O0  O    22.1250  -16.2017\n",
        "BOND        0\n",
        "///\n",
        "\n"
       ]
      }
     ],
     "prompt_number": 61
    },
    {
     "cell_type": "code",
     "collapsed": false,
     "input": [
      "pathway_participation = retrieve_pathway_participation('rn00906')"
     ],
     "language": "python",
     "metadata": {},
     "outputs": [
      {
       "output_type": "stream",
       "stream": "stderr",
       "text": [
        "INFO:root:Initialising Kegg service (REST)\n"
       ]
      },
      {
       "output_type": "stream",
       "stream": "stderr",
       "text": [
        "/usr/lib/python2.7/xml/etree/ElementTree.py:1627: DeprecationWarning: This method of XMLParser is deprecated.  Define doctype() method on the TreeBuilder target.\n",
        "  DeprecationWarning,\n",
        "/usr/lib/python2.7/xml/etree/ElementTree.py:1627: DeprecationWarning: This method of XMLParser is deprecated.  Define doctype() method on the TreeBuilder target.\n",
        "  DeprecationWarning,\n"
       ]
      }
     ],
     "prompt_number": 300
    },
    {
     "cell_type": "code",
     "collapsed": false,
     "input": [
      "pathway_participation"
     ],
     "language": "python",
     "metadata": {},
     "outputs": [
      {
       "output_type": "pyout",
       "prompt_number": 301,
       "text": [
        "[('R04787...', 5),\n",
        " ('R04798...', 5),\n",
        " ('R09692', 4),\n",
        " ('R04800...', 4),\n",
        " ('R07558...', 3),\n",
        " ('R07559...', 3),\n",
        " ('R03824...', 3),\n",
        " ('R05341...', 3),\n",
        " ('R07561...', 2),\n",
        " ('R07530...', 2),\n",
        " ('R05345...', 2),\n",
        " ('R07563...', 2),\n",
        " ('R07521...', 1),\n",
        " ('R07539...', 1),\n",
        " ('C15864', 1),\n",
        " ('C15861', 1),\n",
        " ('C15860', 1),\n",
        " ('C16271', 1),\n",
        " ('C03428', 1),\n",
        " ('R07537...', 1),\n",
        " ('C15940', 1),\n",
        " ('C15941', 1),\n",
        " ('C15942', 1),\n",
        " ('C15943', 1),\n",
        " ('C06082', 1),\n",
        " ('C15857', 1),\n",
        " ('C08613', 1),\n",
        " ('R06959...', 1),\n",
        " ('R07525...', 1),\n",
        " ('R07847...', 1),\n",
        " ('C20692', 1),\n",
        " ('R07577...', 1),\n",
        " ('R07565...', 1),\n",
        " ('R07557...', 1),\n",
        " ('R07850...', 1),\n",
        " ('R07533...', 1),\n",
        " ('R09655...', 1),\n",
        " ('R09782...', 1),\n",
        " ('C08580', 1),\n",
        " ('R07562...', 1),\n",
        " ('R07512...', 1),\n",
        " ('R07858...', 1),\n",
        " ('R07848...', 1),\n",
        " ('R07844...', 1),\n",
        " ('TITLE:Carotenoid biosynthesis', 1),\n",
        " ('R07517...', 1),\n",
        " ('R07570...', 1),\n",
        " ('C08583', 1),\n",
        " ('C15898', 1),\n",
        " ('C08586', 1),\n",
        " ('R07320...', 1),\n",
        " ('C08584', 1),\n",
        " ('C08585', 1),\n",
        " ('C15892', 1),\n",
        " ('R10557...', 1),\n",
        " ('C20693', 1),\n",
        " ('C15895', 1),\n",
        " ('R07580...', 1),\n",
        " ('R07566...', 1),\n",
        " ('R06949...', 1),\n",
        " ('C15514', 1),\n",
        " ('R07518...', 1),\n",
        " ('R09654...', 1),\n",
        " ('R07654...', 1),\n",
        " ('R07541...', 1),\n",
        " ('R07569...', 1),\n",
        " ('R06962...', 1),\n",
        " ('R07840...', 1),\n",
        " ('R06952...', 1),\n",
        " ('R06947...', 1),\n",
        " ('R09656...', 1),\n",
        " ('R07841...', 1),\n",
        " ('C08591', 1),\n",
        " ('C15888', 1),\n",
        " ('C08592', 1),\n",
        " ('C08614', 1),\n",
        " ('C15881', 1),\n",
        " ('R09723...', 1),\n",
        " ('R09658...', 1),\n",
        " ('C15885', 1),\n",
        " ('C15884', 1),\n",
        " ('C15887', 1),\n",
        " ('C15886', 1),\n",
        " ('C09190', 1),\n",
        " ('R07573...', 1),\n",
        " ('R07534...', 1),\n",
        " ('R08988', 1),\n",
        " ('R04801...', 1),\n",
        " ('R07555...', 1),\n",
        " ('R07532...', 1),\n",
        " ('R09653', 1),\n",
        " ('R06950...', 1),\n",
        " ('R07856...', 1),\n",
        " ('R07656...', 1),\n",
        " ('R07571...', 1),\n",
        " ('R04218...', 1),\n",
        " ('R07538...', 1),\n",
        " ('R06963...', 1),\n",
        " ('R07579...', 1),\n",
        " ('C15935', 1),\n",
        " ('R07572...', 1),\n",
        " ('C15937', 1),\n",
        " ('C16270', 1),\n",
        " ('R07536...', 1),\n",
        " ('C16276', 1),\n",
        " ('C16275', 1),\n",
        " ('C16274', 1),\n",
        " ('C08601', 1),\n",
        " ('R06948...', 1),\n",
        " ('R10508...', 1),\n",
        " ('C08607', 1),\n",
        " ('C08606', 1),\n",
        " ('R07522...', 1),\n",
        " ('R07843...', 1),\n",
        " ('C16279', 1),\n",
        " ('C16278', 1),\n",
        " ('R07178...', 1),\n",
        " ('R07556...', 1),\n",
        " ('C13453', 1),\n",
        " ('C13454', 1),\n",
        " ('C13455', 1),\n",
        " ('C13456', 1),\n",
        " ('R07567...', 1),\n",
        " ('R07852...', 1),\n",
        " ('R09783...', 1),\n",
        " ('C15908', 1),\n",
        " ('R08989...', 1),\n",
        " ('R07834...', 1),\n",
        " ('C15900', 1),\n",
        " ('C15902', 1),\n",
        " ('C15903', 1),\n",
        " ('C15905', 1),\n",
        " ('R07545...', 1),\n",
        " ('R07846...', 1),\n",
        " ('C15981', 1),\n",
        " ('C15982', 1),\n",
        " ('C15983', 1),\n",
        " ('C15984', 1),\n",
        " ('R07526...', 1),\n",
        " ('C16277', 1),\n",
        " ('R07516...', 1),\n",
        " ('C19765', 1),\n",
        " ('R07575...', 1),\n",
        " ('C16284', 1),\n",
        " ('C16282', 1),\n",
        " ('R07321...', 1),\n",
        " ('R07528...', 1),\n",
        " ('C05432', 1),\n",
        " ('C15917', 1),\n",
        " ('R08102...', 1),\n",
        " ('C15914', 1),\n",
        " ('C16280', 1),\n",
        " ('C15911', 1),\n",
        " ('R06958...', 1),\n",
        " ('R07524...', 1),\n",
        " ('C00353', 1),\n",
        " ('R07179...', 1),\n",
        " ('R07655...', 1),\n",
        " ('R06957...', 1),\n",
        " ('C18037', 1),\n",
        " ('C15858', 1),\n",
        " ('C15859', 1),\n",
        " ('R06953...', 1),\n",
        " ('C05421...', 1),\n",
        " ('C13433', 1),\n",
        " ('C13431', 1),\n",
        " ('C20484', 1),\n",
        " ('C16486', 1),\n",
        " ('R07564...', 1),\n",
        " ('C05431', 1),\n",
        " ('C19764', 1),\n",
        " ('R07576...', 1),\n",
        " ('R07546...', 1),\n",
        " ('C16291', 1),\n",
        " ('C15867', 1),\n",
        " ('C18036', 1),\n",
        " ('C19759', 1),\n",
        " ('R09671...', 1),\n",
        " ('C19892', 1),\n",
        " ('R06954...', 1),\n",
        " ('R07520...', 1),\n",
        " ('R07554...', 1),\n",
        " ('C15966', 1),\n",
        " ('C15967', 1),\n",
        " ('C15965', 1),\n",
        " ('R07845...', 1),\n",
        " ('C15968', 1),\n",
        " ('C15969', 1),\n",
        " ('R07544...', 1),\n",
        " ('C05414', 1),\n",
        " ('R07857...', 1),\n",
        " ('C16340', 1),\n",
        " ('C19798', 1),\n",
        " ('C03427', 1),\n",
        " ('R04786...', 1),\n",
        " ('R07543...', 1),\n",
        " ('R07531...', 1),\n",
        " ('C02094', 1),\n",
        " ('C19795', 1),\n",
        " ('C19797', 1),\n",
        " ('R07653...', 1),\n",
        " ('R07581...', 1),\n",
        " ('R02065...', 1),\n",
        " ('R07523...', 1),\n",
        " ('R07842...', 1),\n",
        " ('R07849...', 1),\n",
        " ('R00702...', 1),\n",
        " ('R07519...', 1),\n",
        " ('C15971', 1),\n",
        " ('C15970', 1),\n",
        " ('R07574...', 1),\n",
        " ('R09793...', 1),\n",
        " ('C08579', 1),\n",
        " ('C08590', 1),\n",
        " ('Retinol metabolism', 1),\n",
        " ('R06955...', 1),\n",
        " ('R08990...', 1),\n",
        " ('C15878', 1),\n",
        " ('C15879', 1),\n",
        " ('Terpenoid backbone biosynthesis', 1),\n",
        " ('C16146', 1),\n",
        " ('C05435', 1),\n",
        " ('C05434', 1),\n",
        " ('C06098', 1),\n",
        " ('R09746...', 1),\n",
        " ('C15874', 1),\n",
        " ('C05430', 1),\n",
        " ('C05433', 1),\n",
        " ('C15877', 1),\n",
        " ('C16148', 1),\n",
        " ('R10282...', 1),\n",
        " ('R06956...', 1),\n",
        " ('R07547...', 1),\n",
        " ('R07535...', 1),\n",
        " ('R07578...', 1),\n",
        " ('C09707', 1),\n",
        " ('R07851...', 1),\n",
        " ('C16145', 1),\n",
        " ('C16144', 1),\n",
        " ('C16147', 1),\n",
        " ('C00448', 1),\n",
        " ('R06951...', 1),\n",
        " ('R10558...', 1),\n",
        " ('R07527...', 1),\n",
        " ('R07529...', 1),\n",
        " ('R07202...', 1),\n",
        " ('R07568...', 1),\n",
        " ('R06946...', 1)]"
       ]
      }
     ],
     "prompt_number": 301
    },
    {
     "cell_type": "code",
     "collapsed": false,
     "input": [
      "from pylab import *\n",
      "# extract all relations from all pathways\n",
      "from bioservices.kegg import Kegg\n",
      "s = Kegg()\n",
      "s.organism = \"hsa\"\n",
      "\n",
      "# retrieve more than 260 pathways so it takes time\n",
      "results = [s.parse_kgml_pathway(x) for x in s.pathwayIds]\n",
      "relations = [x['relations'] for x in results]"
     ],
     "language": "python",
     "metadata": {},
     "outputs": [
      {
       "output_type": "stream",
       "stream": "stderr",
       "text": [
        "INFO:root:Initialising Kegg service (REST)\n"
       ]
      },
      {
       "output_type": "stream",
       "stream": "stderr",
       "text": [
        "/usr/lib/python2.7/xml/etree/ElementTree.py:1627: DeprecationWarning: This method of XMLParser is deprecated.  Define doctype() method on the TreeBuilder target.\n",
        "  DeprecationWarning,\n",
        "/usr/lib/python2.7/xml/etree/ElementTree.py:1627: DeprecationWarning: This method of XMLParser is deprecated.  Define doctype() method on the TreeBuilder target.\n",
        "  DeprecationWarning,\n",
        "/usr/lib/python2.7/xml/etree/ElementTree.py:1627: DeprecationWarning: This method of XMLParser is deprecated.  Define doctype() method on the TreeBuilder target.\n",
        "  DeprecationWarning,\n"
       ]
      },
      {
       "output_type": "stream",
       "stream": "stderr",
       "text": [
        "/usr/lib/python2.7/xml/etree/ElementTree.py:1627: DeprecationWarning: This method of XMLParser is deprecated.  Define doctype() method on the TreeBuilder target.\n",
        "  DeprecationWarning,\n",
        "/usr/lib/python2.7/xml/etree/ElementTree.py:1627: DeprecationWarning: This method of XMLParser is deprecated.  Define doctype() method on the TreeBuilder target.\n",
        "  DeprecationWarning,\n"
       ]
      },
      {
       "output_type": "stream",
       "stream": "stderr",
       "text": [
        "/usr/lib/python2.7/xml/etree/ElementTree.py:1627: DeprecationWarning: This method of XMLParser is deprecated.  Define doctype() method on the TreeBuilder target.\n",
        "  DeprecationWarning,\n",
        "/usr/lib/python2.7/xml/etree/ElementTree.py:1627: DeprecationWarning: This method of XMLParser is deprecated.  Define doctype() method on the TreeBuilder target.\n",
        "  DeprecationWarning,\n"
       ]
      },
      {
       "output_type": "stream",
       "stream": "stderr",
       "text": [
        "/usr/lib/python2.7/xml/etree/ElementTree.py:1627: DeprecationWarning: This method of XMLParser is deprecated.  Define doctype() method on the TreeBuilder target.\n",
        "  DeprecationWarning,\n",
        "/usr/lib/python2.7/xml/etree/ElementTree.py:1627: DeprecationWarning: This method of XMLParser is deprecated.  Define doctype() method on the TreeBuilder target.\n",
        "  DeprecationWarning,\n"
       ]
      },
      {
       "output_type": "stream",
       "stream": "stderr",
       "text": [
        "/usr/lib/python2.7/xml/etree/ElementTree.py:1627: DeprecationWarning: This method of XMLParser is deprecated.  Define doctype() method on the TreeBuilder target.\n",
        "  DeprecationWarning,\n",
        "/usr/lib/python2.7/xml/etree/ElementTree.py:1627: DeprecationWarning: This method of XMLParser is deprecated.  Define doctype() method on the TreeBuilder target.\n",
        "  DeprecationWarning,\n"
       ]
      },
      {
       "output_type": "stream",
       "stream": "stderr",
       "text": [
        "/usr/lib/python2.7/xml/etree/ElementTree.py:1627: DeprecationWarning: This method of XMLParser is deprecated.  Define doctype() method on the TreeBuilder target.\n",
        "  DeprecationWarning,\n",
        "/usr/lib/python2.7/xml/etree/ElementTree.py:1627: DeprecationWarning: This method of XMLParser is deprecated.  Define doctype() method on the TreeBuilder target.\n",
        "  DeprecationWarning,\n"
       ]
      },
      {
       "output_type": "stream",
       "stream": "stderr",
       "text": [
        "/usr/lib/python2.7/xml/etree/ElementTree.py:1627: DeprecationWarning: This method of XMLParser is deprecated.  Define doctype() method on the TreeBuilder target.\n",
        "  DeprecationWarning,\n",
        "/usr/lib/python2.7/xml/etree/ElementTree.py:1627: DeprecationWarning: This method of XMLParser is deprecated.  Define doctype() method on the TreeBuilder target.\n",
        "  DeprecationWarning,\n"
       ]
      },
      {
       "output_type": "stream",
       "stream": "stderr",
       "text": [
        "/usr/lib/python2.7/xml/etree/ElementTree.py:1627: DeprecationWarning: This method of XMLParser is deprecated.  Define doctype() method on the TreeBuilder target.\n",
        "  DeprecationWarning,\n",
        "/usr/lib/python2.7/xml/etree/ElementTree.py:1627: DeprecationWarning: This method of XMLParser is deprecated.  Define doctype() method on the TreeBuilder target.\n",
        "  DeprecationWarning,\n"
       ]
      },
      {
       "output_type": "stream",
       "stream": "stderr",
       "text": [
        "/usr/lib/python2.7/xml/etree/ElementTree.py:1627: DeprecationWarning: This method of XMLParser is deprecated.  Define doctype() method on the TreeBuilder target.\n",
        "  DeprecationWarning,\n",
        "/usr/lib/python2.7/xml/etree/ElementTree.py:1627: DeprecationWarning: This method of XMLParser is deprecated.  Define doctype() method on the TreeBuilder target.\n",
        "  DeprecationWarning,\n"
       ]
      },
      {
       "output_type": "stream",
       "stream": "stderr",
       "text": [
        "/usr/lib/python2.7/xml/etree/ElementTree.py:1627: DeprecationWarning: This method of XMLParser is deprecated.  Define doctype() method on the TreeBuilder target.\n",
        "  DeprecationWarning,\n",
        "/usr/lib/python2.7/xml/etree/ElementTree.py:1627: DeprecationWarning: This method of XMLParser is deprecated.  Define doctype() method on the TreeBuilder target.\n",
        "  DeprecationWarning,\n"
       ]
      },
      {
       "output_type": "stream",
       "stream": "stderr",
       "text": [
        "/usr/lib/python2.7/xml/etree/ElementTree.py:1627: DeprecationWarning: This method of XMLParser is deprecated.  Define doctype() method on the TreeBuilder target.\n",
        "  DeprecationWarning,\n",
        "/usr/lib/python2.7/xml/etree/ElementTree.py:1627: DeprecationWarning: This method of XMLParser is deprecated.  Define doctype() method on the TreeBuilder target.\n",
        "  DeprecationWarning,\n"
       ]
      },
      {
       "output_type": "stream",
       "stream": "stderr",
       "text": [
        "/usr/lib/python2.7/xml/etree/ElementTree.py:1627: DeprecationWarning: This method of XMLParser is deprecated.  Define doctype() method on the TreeBuilder target.\n",
        "  DeprecationWarning,\n",
        "/usr/lib/python2.7/xml/etree/ElementTree.py:1627: DeprecationWarning: This method of XMLParser is deprecated.  Define doctype() method on the TreeBuilder target.\n",
        "  DeprecationWarning,\n"
       ]
      },
      {
       "output_type": "stream",
       "stream": "stderr",
       "text": [
        "/usr/lib/python2.7/xml/etree/ElementTree.py:1627: DeprecationWarning: This method of XMLParser is deprecated.  Define doctype() method on the TreeBuilder target.\n",
        "  DeprecationWarning,\n",
        "/usr/lib/python2.7/xml/etree/ElementTree.py:1627: DeprecationWarning: This method of XMLParser is deprecated.  Define doctype() method on the TreeBuilder target.\n",
        "  DeprecationWarning,\n"
       ]
      },
      {
       "output_type": "stream",
       "stream": "stderr",
       "text": [
        "/usr/lib/python2.7/xml/etree/ElementTree.py:1627: DeprecationWarning: This method of XMLParser is deprecated.  Define doctype() method on the TreeBuilder target.\n",
        "  DeprecationWarning,\n",
        "/usr/lib/python2.7/xml/etree/ElementTree.py:1627: DeprecationWarning: This method of XMLParser is deprecated.  Define doctype() method on the TreeBuilder target.\n",
        "  DeprecationWarning,\n"
       ]
      },
      {
       "output_type": "stream",
       "stream": "stderr",
       "text": [
        "/usr/lib/python2.7/xml/etree/ElementTree.py:1627: DeprecationWarning: This method of XMLParser is deprecated.  Define doctype() method on the TreeBuilder target.\n",
        "  DeprecationWarning,\n",
        "/usr/lib/python2.7/xml/etree/ElementTree.py:1627: DeprecationWarning: This method of XMLParser is deprecated.  Define doctype() method on the TreeBuilder target.\n",
        "  DeprecationWarning,\n"
       ]
      },
      {
       "output_type": "stream",
       "stream": "stderr",
       "text": [
        "/usr/lib/python2.7/xml/etree/ElementTree.py:1627: DeprecationWarning: This method of XMLParser is deprecated.  Define doctype() method on the TreeBuilder target.\n",
        "  DeprecationWarning,\n",
        "/usr/lib/python2.7/xml/etree/ElementTree.py:1627: DeprecationWarning: This method of XMLParser is deprecated.  Define doctype() method on the TreeBuilder target.\n",
        "  DeprecationWarning,\n"
       ]
      },
      {
       "output_type": "stream",
       "stream": "stderr",
       "text": [
        "/usr/lib/python2.7/xml/etree/ElementTree.py:1627: DeprecationWarning: This method of XMLParser is deprecated.  Define doctype() method on the TreeBuilder target.\n",
        "  DeprecationWarning,\n",
        "/usr/lib/python2.7/xml/etree/ElementTree.py:1627: DeprecationWarning: This method of XMLParser is deprecated.  Define doctype() method on the TreeBuilder target.\n",
        "  DeprecationWarning,\n"
       ]
      },
      {
       "output_type": "stream",
       "stream": "stderr",
       "text": [
        "/usr/lib/python2.7/xml/etree/ElementTree.py:1627: DeprecationWarning: This method of XMLParser is deprecated.  Define doctype() method on the TreeBuilder target.\n",
        "  DeprecationWarning,\n",
        "/usr/lib/python2.7/xml/etree/ElementTree.py:1627: DeprecationWarning: This method of XMLParser is deprecated.  Define doctype() method on the TreeBuilder target.\n",
        "  DeprecationWarning,\n"
       ]
      },
      {
       "output_type": "stream",
       "stream": "stderr",
       "text": [
        "/usr/lib/python2.7/xml/etree/ElementTree.py:1627: DeprecationWarning: This method of XMLParser is deprecated.  Define doctype() method on the TreeBuilder target.\n",
        "  DeprecationWarning,\n",
        "/usr/lib/python2.7/xml/etree/ElementTree.py:1627: DeprecationWarning: This method of XMLParser is deprecated.  Define doctype() method on the TreeBuilder target.\n",
        "  DeprecationWarning,\n"
       ]
      },
      {
       "output_type": "stream",
       "stream": "stderr",
       "text": [
        "/usr/lib/python2.7/xml/etree/ElementTree.py:1627: DeprecationWarning: This method of XMLParser is deprecated.  Define doctype() method on the TreeBuilder target.\n",
        "  DeprecationWarning,\n",
        "/usr/lib/python2.7/xml/etree/ElementTree.py:1627: DeprecationWarning: This method of XMLParser is deprecated.  Define doctype() method on the TreeBuilder target.\n",
        "  DeprecationWarning,\n"
       ]
      },
      {
       "output_type": "stream",
       "stream": "stderr",
       "text": [
        "/usr/lib/python2.7/xml/etree/ElementTree.py:1627: DeprecationWarning: This method of XMLParser is deprecated.  Define doctype() method on the TreeBuilder target.\n",
        "  DeprecationWarning,\n",
        "/usr/lib/python2.7/xml/etree/ElementTree.py:1627: DeprecationWarning: This method of XMLParser is deprecated.  Define doctype() method on the TreeBuilder target.\n",
        "  DeprecationWarning,\n"
       ]
      },
      {
       "output_type": "stream",
       "stream": "stderr",
       "text": [
        "/usr/lib/python2.7/xml/etree/ElementTree.py:1627: DeprecationWarning: This method of XMLParser is deprecated.  Define doctype() method on the TreeBuilder target.\n",
        "  DeprecationWarning,\n",
        "/usr/lib/python2.7/xml/etree/ElementTree.py:1627: DeprecationWarning: This method of XMLParser is deprecated.  Define doctype() method on the TreeBuilder target.\n",
        "  DeprecationWarning,\n"
       ]
      },
      {
       "output_type": "stream",
       "stream": "stderr",
       "text": [
        "/usr/lib/python2.7/xml/etree/ElementTree.py:1627: DeprecationWarning: This method of XMLParser is deprecated.  Define doctype() method on the TreeBuilder target.\n",
        "  DeprecationWarning,\n",
        "/usr/lib/python2.7/xml/etree/ElementTree.py:1627: DeprecationWarning: This method of XMLParser is deprecated.  Define doctype() method on the TreeBuilder target.\n",
        "  DeprecationWarning,\n"
       ]
      },
      {
       "output_type": "stream",
       "stream": "stderr",
       "text": [
        "/usr/lib/python2.7/xml/etree/ElementTree.py:1627: DeprecationWarning: This method of XMLParser is deprecated.  Define doctype() method on the TreeBuilder target.\n",
        "  DeprecationWarning,\n",
        "/usr/lib/python2.7/xml/etree/ElementTree.py:1627: DeprecationWarning: This method of XMLParser is deprecated.  Define doctype() method on the TreeBuilder target.\n",
        "  DeprecationWarning,\n"
       ]
      },
      {
       "output_type": "stream",
       "stream": "stderr",
       "text": [
        "/usr/lib/python2.7/xml/etree/ElementTree.py:1627: DeprecationWarning: This method of XMLParser is deprecated.  Define doctype() method on the TreeBuilder target.\n",
        "  DeprecationWarning,\n",
        "/usr/lib/python2.7/xml/etree/ElementTree.py:1627: DeprecationWarning: This method of XMLParser is deprecated.  Define doctype() method on the TreeBuilder target.\n",
        "  DeprecationWarning,\n"
       ]
      },
      {
       "output_type": "stream",
       "stream": "stderr",
       "text": [
        "/usr/lib/python2.7/xml/etree/ElementTree.py:1627: DeprecationWarning: This method of XMLParser is deprecated.  Define doctype() method on the TreeBuilder target.\n",
        "  DeprecationWarning,\n",
        "/usr/lib/python2.7/xml/etree/ElementTree.py:1627: DeprecationWarning: This method of XMLParser is deprecated.  Define doctype() method on the TreeBuilder target.\n",
        "  DeprecationWarning,\n"
       ]
      },
      {
       "output_type": "stream",
       "stream": "stderr",
       "text": [
        "/usr/lib/python2.7/xml/etree/ElementTree.py:1627: DeprecationWarning: This method of XMLParser is deprecated.  Define doctype() method on the TreeBuilder target.\n",
        "  DeprecationWarning,\n",
        "/usr/lib/python2.7/xml/etree/ElementTree.py:1627: DeprecationWarning: This method of XMLParser is deprecated.  Define doctype() method on the TreeBuilder target.\n",
        "  DeprecationWarning,\n"
       ]
      },
      {
       "output_type": "stream",
       "stream": "stderr",
       "text": [
        "/usr/lib/python2.7/xml/etree/ElementTree.py:1627: DeprecationWarning: This method of XMLParser is deprecated.  Define doctype() method on the TreeBuilder target.\n",
        "  DeprecationWarning,\n",
        "/usr/lib/python2.7/xml/etree/ElementTree.py:1627: DeprecationWarning: This method of XMLParser is deprecated.  Define doctype() method on the TreeBuilder target.\n",
        "  DeprecationWarning,\n"
       ]
      },
      {
       "output_type": "stream",
       "stream": "stderr",
       "text": [
        "/usr/lib/python2.7/xml/etree/ElementTree.py:1627: DeprecationWarning: This method of XMLParser is deprecated.  Define doctype() method on the TreeBuilder target.\n",
        "  DeprecationWarning,\n",
        "/usr/lib/python2.7/xml/etree/ElementTree.py:1627: DeprecationWarning: This method of XMLParser is deprecated.  Define doctype() method on the TreeBuilder target.\n",
        "  DeprecationWarning,\n"
       ]
      },
      {
       "output_type": "stream",
       "stream": "stderr",
       "text": [
        "/usr/lib/python2.7/xml/etree/ElementTree.py:1627: DeprecationWarning: This method of XMLParser is deprecated.  Define doctype() method on the TreeBuilder target.\n",
        "  DeprecationWarning,\n",
        "/usr/lib/python2.7/xml/etree/ElementTree.py:1627: DeprecationWarning: This method of XMLParser is deprecated.  Define doctype() method on the TreeBuilder target.\n",
        "  DeprecationWarning,\n"
       ]
      },
      {
       "output_type": "stream",
       "stream": "stderr",
       "text": [
        "/usr/lib/python2.7/xml/etree/ElementTree.py:1627: DeprecationWarning: This method of XMLParser is deprecated.  Define doctype() method on the TreeBuilder target.\n",
        "  DeprecationWarning,\n",
        "/usr/lib/python2.7/xml/etree/ElementTree.py:1627: DeprecationWarning: This method of XMLParser is deprecated.  Define doctype() method on the TreeBuilder target.\n",
        "  DeprecationWarning,\n"
       ]
      },
      {
       "output_type": "stream",
       "stream": "stderr",
       "text": [
        "/usr/lib/python2.7/xml/etree/ElementTree.py:1627: DeprecationWarning: This method of XMLParser is deprecated.  Define doctype() method on the TreeBuilder target.\n",
        "  DeprecationWarning,\n",
        "/usr/lib/python2.7/xml/etree/ElementTree.py:1627: DeprecationWarning: This method of XMLParser is deprecated.  Define doctype() method on the TreeBuilder target.\n",
        "  DeprecationWarning,\n"
       ]
      },
      {
       "output_type": "stream",
       "stream": "stderr",
       "text": [
        "/usr/lib/python2.7/xml/etree/ElementTree.py:1627: DeprecationWarning: This method of XMLParser is deprecated.  Define doctype() method on the TreeBuilder target.\n",
        "  DeprecationWarning,\n",
        "/usr/lib/python2.7/xml/etree/ElementTree.py:1627: DeprecationWarning: This method of XMLParser is deprecated.  Define doctype() method on the TreeBuilder target.\n",
        "  DeprecationWarning,\n"
       ]
      },
      {
       "output_type": "stream",
       "stream": "stderr",
       "text": [
        "/usr/lib/python2.7/xml/etree/ElementTree.py:1627: DeprecationWarning: This method of XMLParser is deprecated.  Define doctype() method on the TreeBuilder target.\n",
        "  DeprecationWarning,\n",
        "/usr/lib/python2.7/xml/etree/ElementTree.py:1627: DeprecationWarning: This method of XMLParser is deprecated.  Define doctype() method on the TreeBuilder target.\n",
        "  DeprecationWarning,\n"
       ]
      },
      {
       "output_type": "stream",
       "stream": "stderr",
       "text": [
        "/usr/lib/python2.7/xml/etree/ElementTree.py:1627: DeprecationWarning: This method of XMLParser is deprecated.  Define doctype() method on the TreeBuilder target.\n",
        "  DeprecationWarning,\n",
        "/usr/lib/python2.7/xml/etree/ElementTree.py:1627: DeprecationWarning: This method of XMLParser is deprecated.  Define doctype() method on the TreeBuilder target.\n",
        "  DeprecationWarning,\n"
       ]
      },
      {
       "output_type": "stream",
       "stream": "stderr",
       "text": [
        "/usr/lib/python2.7/xml/etree/ElementTree.py:1627: DeprecationWarning: This method of XMLParser is deprecated.  Define doctype() method on the TreeBuilder target.\n",
        "  DeprecationWarning,\n",
        "/usr/lib/python2.7/xml/etree/ElementTree.py:1627: DeprecationWarning: This method of XMLParser is deprecated.  Define doctype() method on the TreeBuilder target.\n",
        "  DeprecationWarning,\n"
       ]
      },
      {
       "output_type": "stream",
       "stream": "stderr",
       "text": [
        "/usr/lib/python2.7/xml/etree/ElementTree.py:1627: DeprecationWarning: This method of XMLParser is deprecated.  Define doctype() method on the TreeBuilder target.\n",
        "  DeprecationWarning,\n",
        "/usr/lib/python2.7/xml/etree/ElementTree.py:1627: DeprecationWarning: This method of XMLParser is deprecated.  Define doctype() method on the TreeBuilder target.\n",
        "  DeprecationWarning,\n"
       ]
      },
      {
       "output_type": "stream",
       "stream": "stderr",
       "text": [
        "/usr/lib/python2.7/xml/etree/ElementTree.py:1627: DeprecationWarning: This method of XMLParser is deprecated.  Define doctype() method on the TreeBuilder target.\n",
        "  DeprecationWarning,\n",
        "/usr/lib/python2.7/xml/etree/ElementTree.py:1627: DeprecationWarning: This method of XMLParser is deprecated.  Define doctype() method on the TreeBuilder target.\n",
        "  DeprecationWarning,\n"
       ]
      },
      {
       "output_type": "stream",
       "stream": "stderr",
       "text": [
        "/usr/lib/python2.7/xml/etree/ElementTree.py:1627: DeprecationWarning: This method of XMLParser is deprecated.  Define doctype() method on the TreeBuilder target.\n",
        "  DeprecationWarning,\n",
        "/usr/lib/python2.7/xml/etree/ElementTree.py:1627: DeprecationWarning: This method of XMLParser is deprecated.  Define doctype() method on the TreeBuilder target.\n",
        "  DeprecationWarning,\n"
       ]
      },
      {
       "output_type": "stream",
       "stream": "stderr",
       "text": [
        "/usr/lib/python2.7/xml/etree/ElementTree.py:1627: DeprecationWarning: This method of XMLParser is deprecated.  Define doctype() method on the TreeBuilder target.\n",
        "  DeprecationWarning,\n",
        "/usr/lib/python2.7/xml/etree/ElementTree.py:1627: DeprecationWarning: This method of XMLParser is deprecated.  Define doctype() method on the TreeBuilder target.\n",
        "  DeprecationWarning,\n"
       ]
      },
      {
       "output_type": "stream",
       "stream": "stderr",
       "text": [
        "/usr/lib/python2.7/xml/etree/ElementTree.py:1627: DeprecationWarning: This method of XMLParser is deprecated.  Define doctype() method on the TreeBuilder target.\n",
        "  DeprecationWarning,\n",
        "/usr/lib/python2.7/xml/etree/ElementTree.py:1627: DeprecationWarning: This method of XMLParser is deprecated.  Define doctype() method on the TreeBuilder target.\n",
        "  DeprecationWarning,\n"
       ]
      },
      {
       "output_type": "stream",
       "stream": "stderr",
       "text": [
        "/usr/lib/python2.7/xml/etree/ElementTree.py:1627: DeprecationWarning: This method of XMLParser is deprecated.  Define doctype() method on the TreeBuilder target.\n",
        "  DeprecationWarning,\n",
        "/usr/lib/python2.7/xml/etree/ElementTree.py:1627: DeprecationWarning: This method of XMLParser is deprecated.  Define doctype() method on the TreeBuilder target.\n",
        "  DeprecationWarning,\n"
       ]
      },
      {
       "output_type": "stream",
       "stream": "stderr",
       "text": [
        "/usr/lib/python2.7/xml/etree/ElementTree.py:1627: DeprecationWarning: This method of XMLParser is deprecated.  Define doctype() method on the TreeBuilder target.\n",
        "  DeprecationWarning,\n",
        "/usr/lib/python2.7/xml/etree/ElementTree.py:1627: DeprecationWarning: This method of XMLParser is deprecated.  Define doctype() method on the TreeBuilder target.\n",
        "  DeprecationWarning,\n"
       ]
      },
      {
       "output_type": "stream",
       "stream": "stderr",
       "text": [
        "/usr/lib/python2.7/xml/etree/ElementTree.py:1627: DeprecationWarning: This method of XMLParser is deprecated.  Define doctype() method on the TreeBuilder target.\n",
        "  DeprecationWarning,\n",
        "/usr/lib/python2.7/xml/etree/ElementTree.py:1627: DeprecationWarning: This method of XMLParser is deprecated.  Define doctype() method on the TreeBuilder target.\n",
        "  DeprecationWarning,\n"
       ]
      },
      {
       "output_type": "stream",
       "stream": "stderr",
       "text": [
        "/usr/lib/python2.7/xml/etree/ElementTree.py:1627: DeprecationWarning: This method of XMLParser is deprecated.  Define doctype() method on the TreeBuilder target.\n",
        "  DeprecationWarning,\n",
        "/usr/lib/python2.7/xml/etree/ElementTree.py:1627: DeprecationWarning: This method of XMLParser is deprecated.  Define doctype() method on the TreeBuilder target.\n",
        "  DeprecationWarning,\n"
       ]
      },
      {
       "output_type": "stream",
       "stream": "stderr",
       "text": [
        "/usr/lib/python2.7/xml/etree/ElementTree.py:1627: DeprecationWarning: This method of XMLParser is deprecated.  Define doctype() method on the TreeBuilder target.\n",
        "  DeprecationWarning,\n",
        "/usr/lib/python2.7/xml/etree/ElementTree.py:1627: DeprecationWarning: This method of XMLParser is deprecated.  Define doctype() method on the TreeBuilder target.\n",
        "  DeprecationWarning,\n"
       ]
      },
      {
       "output_type": "stream",
       "stream": "stderr",
       "text": [
        "/usr/lib/python2.7/xml/etree/ElementTree.py:1627: DeprecationWarning: This method of XMLParser is deprecated.  Define doctype() method on the TreeBuilder target.\n",
        "  DeprecationWarning,\n",
        "/usr/lib/python2.7/xml/etree/ElementTree.py:1627: DeprecationWarning: This method of XMLParser is deprecated.  Define doctype() method on the TreeBuilder target.\n",
        "  DeprecationWarning,\n"
       ]
      },
      {
       "output_type": "stream",
       "stream": "stderr",
       "text": [
        "/usr/lib/python2.7/xml/etree/ElementTree.py:1627: DeprecationWarning: This method of XMLParser is deprecated.  Define doctype() method on the TreeBuilder target.\n",
        "  DeprecationWarning,\n",
        "/usr/lib/python2.7/xml/etree/ElementTree.py:1627: DeprecationWarning: This method of XMLParser is deprecated.  Define doctype() method on the TreeBuilder target.\n",
        "  DeprecationWarning,\n"
       ]
      },
      {
       "output_type": "stream",
       "stream": "stderr",
       "text": [
        "/usr/lib/python2.7/xml/etree/ElementTree.py:1627: DeprecationWarning: This method of XMLParser is deprecated.  Define doctype() method on the TreeBuilder target.\n",
        "  DeprecationWarning,\n",
        "/usr/lib/python2.7/xml/etree/ElementTree.py:1627: DeprecationWarning: This method of XMLParser is deprecated.  Define doctype() method on the TreeBuilder target.\n",
        "  DeprecationWarning,\n"
       ]
      },
      {
       "output_type": "stream",
       "stream": "stderr",
       "text": [
        "/usr/lib/python2.7/xml/etree/ElementTree.py:1627: DeprecationWarning: This method of XMLParser is deprecated.  Define doctype() method on the TreeBuilder target.\n",
        "  DeprecationWarning,\n",
        "/usr/lib/python2.7/xml/etree/ElementTree.py:1627: DeprecationWarning: This method of XMLParser is deprecated.  Define doctype() method on the TreeBuilder target.\n",
        "  DeprecationWarning,\n"
       ]
      },
      {
       "output_type": "stream",
       "stream": "stderr",
       "text": [
        "/usr/lib/python2.7/xml/etree/ElementTree.py:1627: DeprecationWarning: This method of XMLParser is deprecated.  Define doctype() method on the TreeBuilder target.\n",
        "  DeprecationWarning,\n",
        "/usr/lib/python2.7/xml/etree/ElementTree.py:1627: DeprecationWarning: This method of XMLParser is deprecated.  Define doctype() method on the TreeBuilder target.\n",
        "  DeprecationWarning,\n"
       ]
      },
      {
       "output_type": "stream",
       "stream": "stderr",
       "text": [
        "/usr/lib/python2.7/xml/etree/ElementTree.py:1627: DeprecationWarning: This method of XMLParser is deprecated.  Define doctype() method on the TreeBuilder target.\n",
        "  DeprecationWarning,\n",
        "/usr/lib/python2.7/xml/etree/ElementTree.py:1627: DeprecationWarning: This method of XMLParser is deprecated.  Define doctype() method on the TreeBuilder target.\n",
        "  DeprecationWarning,\n"
       ]
      },
      {
       "output_type": "stream",
       "stream": "stderr",
       "text": [
        "/usr/lib/python2.7/xml/etree/ElementTree.py:1627: DeprecationWarning: This method of XMLParser is deprecated.  Define doctype() method on the TreeBuilder target.\n",
        "  DeprecationWarning,\n",
        "/usr/lib/python2.7/xml/etree/ElementTree.py:1627: DeprecationWarning: This method of XMLParser is deprecated.  Define doctype() method on the TreeBuilder target.\n",
        "  DeprecationWarning,\n"
       ]
      },
      {
       "output_type": "stream",
       "stream": "stderr",
       "text": [
        "/usr/lib/python2.7/xml/etree/ElementTree.py:1627: DeprecationWarning: This method of XMLParser is deprecated.  Define doctype() method on the TreeBuilder target.\n",
        "  DeprecationWarning,\n",
        "/usr/lib/python2.7/xml/etree/ElementTree.py:1627: DeprecationWarning: This method of XMLParser is deprecated.  Define doctype() method on the TreeBuilder target.\n",
        "  DeprecationWarning,\n"
       ]
      },
      {
       "output_type": "stream",
       "stream": "stderr",
       "text": [
        "/usr/lib/python2.7/xml/etree/ElementTree.py:1627: DeprecationWarning: This method of XMLParser is deprecated.  Define doctype() method on the TreeBuilder target.\n",
        "  DeprecationWarning,\n",
        "/usr/lib/python2.7/xml/etree/ElementTree.py:1627: DeprecationWarning: This method of XMLParser is deprecated.  Define doctype() method on the TreeBuilder target.\n",
        "  DeprecationWarning,\n"
       ]
      },
      {
       "output_type": "stream",
       "stream": "stderr",
       "text": [
        "/usr/lib/python2.7/xml/etree/ElementTree.py:1627: DeprecationWarning: This method of XMLParser is deprecated.  Define doctype() method on the TreeBuilder target.\n",
        "  DeprecationWarning,\n",
        "/usr/lib/python2.7/xml/etree/ElementTree.py:1627: DeprecationWarning: This method of XMLParser is deprecated.  Define doctype() method on the TreeBuilder target.\n",
        "  DeprecationWarning,\n"
       ]
      },
      {
       "output_type": "stream",
       "stream": "stderr",
       "text": [
        "/usr/lib/python2.7/xml/etree/ElementTree.py:1627: DeprecationWarning: This method of XMLParser is deprecated.  Define doctype() method on the TreeBuilder target.\n",
        "  DeprecationWarning,\n",
        "/usr/lib/python2.7/xml/etree/ElementTree.py:1627: DeprecationWarning: This method of XMLParser is deprecated.  Define doctype() method on the TreeBuilder target.\n",
        "  DeprecationWarning,\n"
       ]
      },
      {
       "output_type": "stream",
       "stream": "stderr",
       "text": [
        "/usr/lib/python2.7/xml/etree/ElementTree.py:1627: DeprecationWarning: This method of XMLParser is deprecated.  Define doctype() method on the TreeBuilder target.\n",
        "  DeprecationWarning,\n",
        "/usr/lib/python2.7/xml/etree/ElementTree.py:1627: DeprecationWarning: This method of XMLParser is deprecated.  Define doctype() method on the TreeBuilder target.\n",
        "  DeprecationWarning,\n"
       ]
      },
      {
       "output_type": "stream",
       "stream": "stderr",
       "text": [
        "/usr/lib/python2.7/xml/etree/ElementTree.py:1627: DeprecationWarning: This method of XMLParser is deprecated.  Define doctype() method on the TreeBuilder target.\n",
        "  DeprecationWarning,\n",
        "/usr/lib/python2.7/xml/etree/ElementTree.py:1627: DeprecationWarning: This method of XMLParser is deprecated.  Define doctype() method on the TreeBuilder target.\n",
        "  DeprecationWarning,\n"
       ]
      },
      {
       "output_type": "stream",
       "stream": "stderr",
       "text": [
        "/usr/lib/python2.7/xml/etree/ElementTree.py:1627: DeprecationWarning: This method of XMLParser is deprecated.  Define doctype() method on the TreeBuilder target.\n",
        "  DeprecationWarning,\n",
        "/usr/lib/python2.7/xml/etree/ElementTree.py:1627: DeprecationWarning: This method of XMLParser is deprecated.  Define doctype() method on the TreeBuilder target.\n",
        "  DeprecationWarning,\n"
       ]
      },
      {
       "output_type": "stream",
       "stream": "stderr",
       "text": [
        "/usr/lib/python2.7/xml/etree/ElementTree.py:1627: DeprecationWarning: This method of XMLParser is deprecated.  Define doctype() method on the TreeBuilder target.\n",
        "  DeprecationWarning,\n",
        "/usr/lib/python2.7/xml/etree/ElementTree.py:1627: DeprecationWarning: This method of XMLParser is deprecated.  Define doctype() method on the TreeBuilder target.\n",
        "  DeprecationWarning,\n"
       ]
      },
      {
       "output_type": "stream",
       "stream": "stderr",
       "text": [
        "/usr/lib/python2.7/xml/etree/ElementTree.py:1627: DeprecationWarning: This method of XMLParser is deprecated.  Define doctype() method on the TreeBuilder target.\n",
        "  DeprecationWarning,\n",
        "/usr/lib/python2.7/xml/etree/ElementTree.py:1627: DeprecationWarning: This method of XMLParser is deprecated.  Define doctype() method on the TreeBuilder target.\n",
        "  DeprecationWarning,\n"
       ]
      },
      {
       "output_type": "stream",
       "stream": "stderr",
       "text": [
        "/usr/lib/python2.7/xml/etree/ElementTree.py:1627: DeprecationWarning: This method of XMLParser is deprecated.  Define doctype() method on the TreeBuilder target.\n",
        "  DeprecationWarning,\n",
        "/usr/lib/python2.7/xml/etree/ElementTree.py:1627: DeprecationWarning: This method of XMLParser is deprecated.  Define doctype() method on the TreeBuilder target.\n",
        "  DeprecationWarning,\n"
       ]
      },
      {
       "output_type": "stream",
       "stream": "stderr",
       "text": [
        "/usr/lib/python2.7/xml/etree/ElementTree.py:1627: DeprecationWarning: This method of XMLParser is deprecated.  Define doctype() method on the TreeBuilder target.\n",
        "  DeprecationWarning,\n",
        "/usr/lib/python2.7/xml/etree/ElementTree.py:1627: DeprecationWarning: This method of XMLParser is deprecated.  Define doctype() method on the TreeBuilder target.\n",
        "  DeprecationWarning,\n"
       ]
      },
      {
       "output_type": "stream",
       "stream": "stderr",
       "text": [
        "/usr/lib/python2.7/xml/etree/ElementTree.py:1627: DeprecationWarning: This method of XMLParser is deprecated.  Define doctype() method on the TreeBuilder target.\n",
        "  DeprecationWarning,\n",
        "/usr/lib/python2.7/xml/etree/ElementTree.py:1627: DeprecationWarning: This method of XMLParser is deprecated.  Define doctype() method on the TreeBuilder target.\n",
        "  DeprecationWarning,\n"
       ]
      },
      {
       "output_type": "stream",
       "stream": "stderr",
       "text": [
        "/usr/lib/python2.7/xml/etree/ElementTree.py:1627: DeprecationWarning: This method of XMLParser is deprecated.  Define doctype() method on the TreeBuilder target.\n",
        "  DeprecationWarning,\n",
        "/usr/lib/python2.7/xml/etree/ElementTree.py:1627: DeprecationWarning: This method of XMLParser is deprecated.  Define doctype() method on the TreeBuilder target.\n",
        "  DeprecationWarning,\n"
       ]
      },
      {
       "output_type": "stream",
       "stream": "stderr",
       "text": [
        "/usr/lib/python2.7/xml/etree/ElementTree.py:1627: DeprecationWarning: This method of XMLParser is deprecated.  Define doctype() method on the TreeBuilder target.\n",
        "  DeprecationWarning,\n",
        "/usr/lib/python2.7/xml/etree/ElementTree.py:1627: DeprecationWarning: This method of XMLParser is deprecated.  Define doctype() method on the TreeBuilder target.\n",
        "  DeprecationWarning,\n"
       ]
      },
      {
       "output_type": "stream",
       "stream": "stderr",
       "text": [
        "/usr/lib/python2.7/xml/etree/ElementTree.py:1627: DeprecationWarning: This method of XMLParser is deprecated.  Define doctype() method on the TreeBuilder target.\n",
        "  DeprecationWarning,\n",
        "/usr/lib/python2.7/xml/etree/ElementTree.py:1627: DeprecationWarning: This method of XMLParser is deprecated.  Define doctype() method on the TreeBuilder target.\n",
        "  DeprecationWarning,\n"
       ]
      },
      {
       "output_type": "stream",
       "stream": "stderr",
       "text": [
        "/usr/lib/python2.7/xml/etree/ElementTree.py:1627: DeprecationWarning: This method of XMLParser is deprecated.  Define doctype() method on the TreeBuilder target.\n",
        "  DeprecationWarning,\n",
        "/usr/lib/python2.7/xml/etree/ElementTree.py:1627: DeprecationWarning: This method of XMLParser is deprecated.  Define doctype() method on the TreeBuilder target.\n",
        "  DeprecationWarning,\n"
       ]
      },
      {
       "output_type": "stream",
       "stream": "stderr",
       "text": [
        "/usr/lib/python2.7/xml/etree/ElementTree.py:1627: DeprecationWarning: This method of XMLParser is deprecated.  Define doctype() method on the TreeBuilder target.\n",
        "  DeprecationWarning,\n",
        "/usr/lib/python2.7/xml/etree/ElementTree.py:1627: DeprecationWarning: This method of XMLParser is deprecated.  Define doctype() method on the TreeBuilder target.\n",
        "  DeprecationWarning,\n"
       ]
      },
      {
       "output_type": "stream",
       "stream": "stderr",
       "text": [
        "/usr/lib/python2.7/xml/etree/ElementTree.py:1627: DeprecationWarning: This method of XMLParser is deprecated.  Define doctype() method on the TreeBuilder target.\n",
        "  DeprecationWarning,\n",
        "/usr/lib/python2.7/xml/etree/ElementTree.py:1627: DeprecationWarning: This method of XMLParser is deprecated.  Define doctype() method on the TreeBuilder target.\n",
        "  DeprecationWarning,\n"
       ]
      },
      {
       "output_type": "stream",
       "stream": "stderr",
       "text": [
        "/usr/lib/python2.7/xml/etree/ElementTree.py:1627: DeprecationWarning: This method of XMLParser is deprecated.  Define doctype() method on the TreeBuilder target.\n",
        "  DeprecationWarning,\n",
        "/usr/lib/python2.7/xml/etree/ElementTree.py:1627: DeprecationWarning: This method of XMLParser is deprecated.  Define doctype() method on the TreeBuilder target.\n",
        "  DeprecationWarning,\n"
       ]
      },
      {
       "output_type": "stream",
       "stream": "stderr",
       "text": [
        "/usr/lib/python2.7/xml/etree/ElementTree.py:1627: DeprecationWarning: This method of XMLParser is deprecated.  Define doctype() method on the TreeBuilder target.\n",
        "  DeprecationWarning,\n",
        "/usr/lib/python2.7/xml/etree/ElementTree.py:1627: DeprecationWarning: This method of XMLParser is deprecated.  Define doctype() method on the TreeBuilder target.\n",
        "  DeprecationWarning,\n"
       ]
      },
      {
       "output_type": "stream",
       "stream": "stderr",
       "text": [
        "/usr/lib/python2.7/xml/etree/ElementTree.py:1627: DeprecationWarning: This method of XMLParser is deprecated.  Define doctype() method on the TreeBuilder target.\n",
        "  DeprecationWarning,\n",
        "/usr/lib/python2.7/xml/etree/ElementTree.py:1627: DeprecationWarning: This method of XMLParser is deprecated.  Define doctype() method on the TreeBuilder target.\n",
        "  DeprecationWarning,\n"
       ]
      },
      {
       "output_type": "stream",
       "stream": "stderr",
       "text": [
        "/usr/lib/python2.7/xml/etree/ElementTree.py:1627: DeprecationWarning: This method of XMLParser is deprecated.  Define doctype() method on the TreeBuilder target.\n",
        "  DeprecationWarning,\n",
        "/usr/lib/python2.7/xml/etree/ElementTree.py:1627: DeprecationWarning: This method of XMLParser is deprecated.  Define doctype() method on the TreeBuilder target.\n",
        "  DeprecationWarning,\n"
       ]
      },
      {
       "output_type": "stream",
       "stream": "stderr",
       "text": [
        "/usr/lib/python2.7/xml/etree/ElementTree.py:1627: DeprecationWarning: This method of XMLParser is deprecated.  Define doctype() method on the TreeBuilder target.\n",
        "  DeprecationWarning,\n",
        "/usr/lib/python2.7/xml/etree/ElementTree.py:1627: DeprecationWarning: This method of XMLParser is deprecated.  Define doctype() method on the TreeBuilder target.\n",
        "  DeprecationWarning,\n"
       ]
      },
      {
       "output_type": "stream",
       "stream": "stderr",
       "text": [
        "/usr/lib/python2.7/xml/etree/ElementTree.py:1627: DeprecationWarning: This method of XMLParser is deprecated.  Define doctype() method on the TreeBuilder target.\n",
        "  DeprecationWarning,\n",
        "/usr/lib/python2.7/xml/etree/ElementTree.py:1627: DeprecationWarning: This method of XMLParser is deprecated.  Define doctype() method on the TreeBuilder target.\n",
        "  DeprecationWarning,\n"
       ]
      },
      {
       "output_type": "stream",
       "stream": "stderr",
       "text": [
        "/usr/lib/python2.7/xml/etree/ElementTree.py:1627: DeprecationWarning: This method of XMLParser is deprecated.  Define doctype() method on the TreeBuilder target.\n",
        "  DeprecationWarning,\n",
        "/usr/lib/python2.7/xml/etree/ElementTree.py:1627: DeprecationWarning: This method of XMLParser is deprecated.  Define doctype() method on the TreeBuilder target.\n",
        "  DeprecationWarning,\n"
       ]
      },
      {
       "output_type": "stream",
       "stream": "stderr",
       "text": [
        "/usr/lib/python2.7/xml/etree/ElementTree.py:1627: DeprecationWarning: This method of XMLParser is deprecated.  Define doctype() method on the TreeBuilder target.\n",
        "  DeprecationWarning,\n",
        "/usr/lib/python2.7/xml/etree/ElementTree.py:1627: DeprecationWarning: This method of XMLParser is deprecated.  Define doctype() method on the TreeBuilder target.\n",
        "  DeprecationWarning,\n"
       ]
      },
      {
       "output_type": "stream",
       "stream": "stderr",
       "text": [
        "/usr/lib/python2.7/xml/etree/ElementTree.py:1627: DeprecationWarning: This method of XMLParser is deprecated.  Define doctype() method on the TreeBuilder target.\n",
        "  DeprecationWarning,\n",
        "/usr/lib/python2.7/xml/etree/ElementTree.py:1627: DeprecationWarning: This method of XMLParser is deprecated.  Define doctype() method on the TreeBuilder target.\n",
        "  DeprecationWarning,\n"
       ]
      },
      {
       "output_type": "stream",
       "stream": "stderr",
       "text": [
        "/usr/lib/python2.7/xml/etree/ElementTree.py:1627: DeprecationWarning: This method of XMLParser is deprecated.  Define doctype() method on the TreeBuilder target.\n",
        "  DeprecationWarning,\n",
        "/usr/lib/python2.7/xml/etree/ElementTree.py:1627: DeprecationWarning: This method of XMLParser is deprecated.  Define doctype() method on the TreeBuilder target.\n",
        "  DeprecationWarning,\n"
       ]
      },
      {
       "output_type": "stream",
       "stream": "stderr",
       "text": [
        "/usr/lib/python2.7/xml/etree/ElementTree.py:1627: DeprecationWarning: This method of XMLParser is deprecated.  Define doctype() method on the TreeBuilder target.\n",
        "  DeprecationWarning,\n",
        "/usr/lib/python2.7/xml/etree/ElementTree.py:1627: DeprecationWarning: This method of XMLParser is deprecated.  Define doctype() method on the TreeBuilder target.\n",
        "  DeprecationWarning,\n"
       ]
      },
      {
       "output_type": "stream",
       "stream": "stderr",
       "text": [
        "/usr/lib/python2.7/xml/etree/ElementTree.py:1627: DeprecationWarning: This method of XMLParser is deprecated.  Define doctype() method on the TreeBuilder target.\n",
        "  DeprecationWarning,\n",
        "/usr/lib/python2.7/xml/etree/ElementTree.py:1627: DeprecationWarning: This method of XMLParser is deprecated.  Define doctype() method on the TreeBuilder target.\n",
        "  DeprecationWarning,\n"
       ]
      },
      {
       "output_type": "stream",
       "stream": "stderr",
       "text": [
        "/usr/lib/python2.7/xml/etree/ElementTree.py:1627: DeprecationWarning: This method of XMLParser is deprecated.  Define doctype() method on the TreeBuilder target.\n",
        "  DeprecationWarning,\n",
        "/usr/lib/python2.7/xml/etree/ElementTree.py:1627: DeprecationWarning: This method of XMLParser is deprecated.  Define doctype() method on the TreeBuilder target.\n",
        "  DeprecationWarning,\n"
       ]
      },
      {
       "output_type": "stream",
       "stream": "stderr",
       "text": [
        "/usr/lib/python2.7/xml/etree/ElementTree.py:1627: DeprecationWarning: This method of XMLParser is deprecated.  Define doctype() method on the TreeBuilder target.\n",
        "  DeprecationWarning,\n",
        "/usr/lib/python2.7/xml/etree/ElementTree.py:1627: DeprecationWarning: This method of XMLParser is deprecated.  Define doctype() method on the TreeBuilder target.\n",
        "  DeprecationWarning,\n"
       ]
      },
      {
       "output_type": "stream",
       "stream": "stderr",
       "text": [
        "/usr/lib/python2.7/xml/etree/ElementTree.py:1627: DeprecationWarning: This method of XMLParser is deprecated.  Define doctype() method on the TreeBuilder target.\n",
        "  DeprecationWarning,\n",
        "/usr/lib/python2.7/xml/etree/ElementTree.py:1627: DeprecationWarning: This method of XMLParser is deprecated.  Define doctype() method on the TreeBuilder target.\n",
        "  DeprecationWarning,\n"
       ]
      },
      {
       "output_type": "stream",
       "stream": "stderr",
       "text": [
        "/usr/lib/python2.7/xml/etree/ElementTree.py:1627: DeprecationWarning: This method of XMLParser is deprecated.  Define doctype() method on the TreeBuilder target.\n",
        "  DeprecationWarning,\n",
        "/usr/lib/python2.7/xml/etree/ElementTree.py:1627: DeprecationWarning: This method of XMLParser is deprecated.  Define doctype() method on the TreeBuilder target.\n",
        "  DeprecationWarning,\n"
       ]
      },
      {
       "output_type": "stream",
       "stream": "stderr",
       "text": [
        "/usr/lib/python2.7/xml/etree/ElementTree.py:1627: DeprecationWarning: This method of XMLParser is deprecated.  Define doctype() method on the TreeBuilder target.\n",
        "  DeprecationWarning,\n",
        "/usr/lib/python2.7/xml/etree/ElementTree.py:1627: DeprecationWarning: This method of XMLParser is deprecated.  Define doctype() method on the TreeBuilder target.\n",
        "  DeprecationWarning,\n"
       ]
      },
      {
       "output_type": "stream",
       "stream": "stderr",
       "text": [
        "/usr/lib/python2.7/xml/etree/ElementTree.py:1627: DeprecationWarning: This method of XMLParser is deprecated.  Define doctype() method on the TreeBuilder target.\n",
        "  DeprecationWarning,\n",
        "/usr/lib/python2.7/xml/etree/ElementTree.py:1627: DeprecationWarning: This method of XMLParser is deprecated.  Define doctype() method on the TreeBuilder target.\n",
        "  DeprecationWarning,\n"
       ]
      },
      {
       "output_type": "stream",
       "stream": "stderr",
       "text": [
        "/usr/lib/python2.7/xml/etree/ElementTree.py:1627: DeprecationWarning: This method of XMLParser is deprecated.  Define doctype() method on the TreeBuilder target.\n",
        "  DeprecationWarning,\n",
        "/usr/lib/python2.7/xml/etree/ElementTree.py:1627: DeprecationWarning: This method of XMLParser is deprecated.  Define doctype() method on the TreeBuilder target.\n",
        "  DeprecationWarning,\n"
       ]
      },
      {
       "output_type": "stream",
       "stream": "stderr",
       "text": [
        "/usr/lib/python2.7/xml/etree/ElementTree.py:1627: DeprecationWarning: This method of XMLParser is deprecated.  Define doctype() method on the TreeBuilder target.\n",
        "  DeprecationWarning,\n",
        "/usr/lib/python2.7/xml/etree/ElementTree.py:1627: DeprecationWarning: This method of XMLParser is deprecated.  Define doctype() method on the TreeBuilder target.\n",
        "  DeprecationWarning,\n"
       ]
      },
      {
       "output_type": "stream",
       "stream": "stderr",
       "text": [
        "/usr/lib/python2.7/xml/etree/ElementTree.py:1627: DeprecationWarning: This method of XMLParser is deprecated.  Define doctype() method on the TreeBuilder target.\n",
        "  DeprecationWarning,\n",
        "/usr/lib/python2.7/xml/etree/ElementTree.py:1627: DeprecationWarning: This method of XMLParser is deprecated.  Define doctype() method on the TreeBuilder target.\n",
        "  DeprecationWarning,\n"
       ]
      },
      {
       "output_type": "stream",
       "stream": "stderr",
       "text": [
        "/usr/lib/python2.7/xml/etree/ElementTree.py:1627: DeprecationWarning: This method of XMLParser is deprecated.  Define doctype() method on the TreeBuilder target.\n",
        "  DeprecationWarning,\n",
        "/usr/lib/python2.7/xml/etree/ElementTree.py:1627: DeprecationWarning: This method of XMLParser is deprecated.  Define doctype() method on the TreeBuilder target.\n",
        "  DeprecationWarning,\n"
       ]
      },
      {
       "output_type": "stream",
       "stream": "stderr",
       "text": [
        "/usr/lib/python2.7/xml/etree/ElementTree.py:1627: DeprecationWarning: This method of XMLParser is deprecated.  Define doctype() method on the TreeBuilder target.\n",
        "  DeprecationWarning,\n",
        "/usr/lib/python2.7/xml/etree/ElementTree.py:1627: DeprecationWarning: This method of XMLParser is deprecated.  Define doctype() method on the TreeBuilder target.\n",
        "  DeprecationWarning,\n"
       ]
      },
      {
       "output_type": "stream",
       "stream": "stderr",
       "text": [
        "/usr/lib/python2.7/xml/etree/ElementTree.py:1627: DeprecationWarning: This method of XMLParser is deprecated.  Define doctype() method on the TreeBuilder target.\n",
        "  DeprecationWarning,\n",
        "/usr/lib/python2.7/xml/etree/ElementTree.py:1627: DeprecationWarning: This method of XMLParser is deprecated.  Define doctype() method on the TreeBuilder target.\n",
        "  DeprecationWarning,\n"
       ]
      },
      {
       "output_type": "stream",
       "stream": "stderr",
       "text": [
        "/usr/lib/python2.7/xml/etree/ElementTree.py:1627: DeprecationWarning: This method of XMLParser is deprecated.  Define doctype() method on the TreeBuilder target.\n",
        "  DeprecationWarning,\n",
        "/usr/lib/python2.7/xml/etree/ElementTree.py:1627: DeprecationWarning: This method of XMLParser is deprecated.  Define doctype() method on the TreeBuilder target.\n",
        "  DeprecationWarning,\n"
       ]
      },
      {
       "output_type": "stream",
       "stream": "stderr",
       "text": [
        "/usr/lib/python2.7/xml/etree/ElementTree.py:1627: DeprecationWarning: This method of XMLParser is deprecated.  Define doctype() method on the TreeBuilder target.\n",
        "  DeprecationWarning,\n",
        "/usr/lib/python2.7/xml/etree/ElementTree.py:1627: DeprecationWarning: This method of XMLParser is deprecated.  Define doctype() method on the TreeBuilder target.\n",
        "  DeprecationWarning,\n"
       ]
      },
      {
       "output_type": "stream",
       "stream": "stderr",
       "text": [
        "/usr/lib/python2.7/xml/etree/ElementTree.py:1627: DeprecationWarning: This method of XMLParser is deprecated.  Define doctype() method on the TreeBuilder target.\n",
        "  DeprecationWarning,\n",
        "/usr/lib/python2.7/xml/etree/ElementTree.py:1627: DeprecationWarning: This method of XMLParser is deprecated.  Define doctype() method on the TreeBuilder target.\n",
        "  DeprecationWarning,\n"
       ]
      },
      {
       "output_type": "stream",
       "stream": "stderr",
       "text": [
        "/usr/lib/python2.7/xml/etree/ElementTree.py:1627: DeprecationWarning: This method of XMLParser is deprecated.  Define doctype() method on the TreeBuilder target.\n",
        "  DeprecationWarning,\n",
        "/usr/lib/python2.7/xml/etree/ElementTree.py:1627: DeprecationWarning: This method of XMLParser is deprecated.  Define doctype() method on the TreeBuilder target.\n",
        "  DeprecationWarning,\n"
       ]
      },
      {
       "output_type": "stream",
       "stream": "stderr",
       "text": [
        "/usr/lib/python2.7/xml/etree/ElementTree.py:1627: DeprecationWarning: This method of XMLParser is deprecated.  Define doctype() method on the TreeBuilder target.\n",
        "  DeprecationWarning,\n",
        "/usr/lib/python2.7/xml/etree/ElementTree.py:1627: DeprecationWarning: This method of XMLParser is deprecated.  Define doctype() method on the TreeBuilder target.\n",
        "  DeprecationWarning,\n"
       ]
      },
      {
       "output_type": "stream",
       "stream": "stderr",
       "text": [
        "/usr/lib/python2.7/xml/etree/ElementTree.py:1627: DeprecationWarning: This method of XMLParser is deprecated.  Define doctype() method on the TreeBuilder target.\n",
        "  DeprecationWarning,\n",
        "/usr/lib/python2.7/xml/etree/ElementTree.py:1627: DeprecationWarning: This method of XMLParser is deprecated.  Define doctype() method on the TreeBuilder target.\n",
        "  DeprecationWarning,\n"
       ]
      },
      {
       "output_type": "stream",
       "stream": "stderr",
       "text": [
        "/usr/lib/python2.7/xml/etree/ElementTree.py:1627: DeprecationWarning: This method of XMLParser is deprecated.  Define doctype() method on the TreeBuilder target.\n",
        "  DeprecationWarning,\n",
        "/usr/lib/python2.7/xml/etree/ElementTree.py:1627: DeprecationWarning: This method of XMLParser is deprecated.  Define doctype() method on the TreeBuilder target.\n",
        "  DeprecationWarning,\n"
       ]
      },
      {
       "output_type": "stream",
       "stream": "stderr",
       "text": [
        "/usr/lib/python2.7/xml/etree/ElementTree.py:1627: DeprecationWarning: This method of XMLParser is deprecated.  Define doctype() method on the TreeBuilder target.\n",
        "  DeprecationWarning,\n",
        "/usr/lib/python2.7/xml/etree/ElementTree.py:1627: DeprecationWarning: This method of XMLParser is deprecated.  Define doctype() method on the TreeBuilder target.\n",
        "  DeprecationWarning,\n"
       ]
      },
      {
       "output_type": "stream",
       "stream": "stderr",
       "text": [
        "/usr/lib/python2.7/xml/etree/ElementTree.py:1627: DeprecationWarning: This method of XMLParser is deprecated.  Define doctype() method on the TreeBuilder target.\n",
        "  DeprecationWarning,\n",
        "/usr/lib/python2.7/xml/etree/ElementTree.py:1627: DeprecationWarning: This method of XMLParser is deprecated.  Define doctype() method on the TreeBuilder target.\n",
        "  DeprecationWarning,\n"
       ]
      },
      {
       "output_type": "stream",
       "stream": "stderr",
       "text": [
        "/usr/lib/python2.7/xml/etree/ElementTree.py:1627: DeprecationWarning: This method of XMLParser is deprecated.  Define doctype() method on the TreeBuilder target.\n",
        "  DeprecationWarning,\n",
        "/usr/lib/python2.7/xml/etree/ElementTree.py:1627: DeprecationWarning: This method of XMLParser is deprecated.  Define doctype() method on the TreeBuilder target.\n",
        "  DeprecationWarning,\n"
       ]
      },
      {
       "output_type": "stream",
       "stream": "stderr",
       "text": [
        "/usr/lib/python2.7/xml/etree/ElementTree.py:1627: DeprecationWarning: This method of XMLParser is deprecated.  Define doctype() method on the TreeBuilder target.\n",
        "  DeprecationWarning,\n",
        "/usr/lib/python2.7/xml/etree/ElementTree.py:1627: DeprecationWarning: This method of XMLParser is deprecated.  Define doctype() method on the TreeBuilder target.\n",
        "  DeprecationWarning,\n"
       ]
      },
      {
       "output_type": "stream",
       "stream": "stderr",
       "text": [
        "/usr/lib/python2.7/xml/etree/ElementTree.py:1627: DeprecationWarning: This method of XMLParser is deprecated.  Define doctype() method on the TreeBuilder target.\n",
        "  DeprecationWarning,\n",
        "/usr/lib/python2.7/xml/etree/ElementTree.py:1627: DeprecationWarning: This method of XMLParser is deprecated.  Define doctype() method on the TreeBuilder target.\n",
        "  DeprecationWarning,\n"
       ]
      },
      {
       "output_type": "stream",
       "stream": "stderr",
       "text": [
        "/usr/lib/python2.7/xml/etree/ElementTree.py:1627: DeprecationWarning: This method of XMLParser is deprecated.  Define doctype() method on the TreeBuilder target.\n",
        "  DeprecationWarning,\n",
        "/usr/lib/python2.7/xml/etree/ElementTree.py:1627: DeprecationWarning: This method of XMLParser is deprecated.  Define doctype() method on the TreeBuilder target.\n",
        "  DeprecationWarning,\n"
       ]
      },
      {
       "output_type": "stream",
       "stream": "stderr",
       "text": [
        "/usr/lib/python2.7/xml/etree/ElementTree.py:1627: DeprecationWarning: This method of XMLParser is deprecated.  Define doctype() method on the TreeBuilder target.\n",
        "  DeprecationWarning,\n",
        "/usr/lib/python2.7/xml/etree/ElementTree.py:1627: DeprecationWarning: This method of XMLParser is deprecated.  Define doctype() method on the TreeBuilder target.\n",
        "  DeprecationWarning,\n"
       ]
      },
      {
       "output_type": "stream",
       "stream": "stderr",
       "text": [
        "/usr/lib/python2.7/xml/etree/ElementTree.py:1627: DeprecationWarning: This method of XMLParser is deprecated.  Define doctype() method on the TreeBuilder target.\n",
        "  DeprecationWarning,\n",
        "/usr/lib/python2.7/xml/etree/ElementTree.py:1627: DeprecationWarning: This method of XMLParser is deprecated.  Define doctype() method on the TreeBuilder target.\n",
        "  DeprecationWarning,\n"
       ]
      },
      {
       "output_type": "stream",
       "stream": "stderr",
       "text": [
        "/usr/lib/python2.7/xml/etree/ElementTree.py:1627: DeprecationWarning: This method of XMLParser is deprecated.  Define doctype() method on the TreeBuilder target.\n",
        "  DeprecationWarning,\n",
        "/usr/lib/python2.7/xml/etree/ElementTree.py:1627: DeprecationWarning: This method of XMLParser is deprecated.  Define doctype() method on the TreeBuilder target.\n",
        "  DeprecationWarning,\n"
       ]
      },
      {
       "output_type": "stream",
       "stream": "stderr",
       "text": [
        "/usr/lib/python2.7/xml/etree/ElementTree.py:1627: DeprecationWarning: This method of XMLParser is deprecated.  Define doctype() method on the TreeBuilder target.\n",
        "  DeprecationWarning,\n",
        "/usr/lib/python2.7/xml/etree/ElementTree.py:1627: DeprecationWarning: This method of XMLParser is deprecated.  Define doctype() method on the TreeBuilder target.\n",
        "  DeprecationWarning,\n"
       ]
      },
      {
       "output_type": "stream",
       "stream": "stderr",
       "text": [
        "/usr/lib/python2.7/xml/etree/ElementTree.py:1627: DeprecationWarning: This method of XMLParser is deprecated.  Define doctype() method on the TreeBuilder target.\n",
        "  DeprecationWarning,\n",
        "/usr/lib/python2.7/xml/etree/ElementTree.py:1627: DeprecationWarning: This method of XMLParser is deprecated.  Define doctype() method on the TreeBuilder target.\n",
        "  DeprecationWarning,\n"
       ]
      },
      {
       "output_type": "stream",
       "stream": "stderr",
       "text": [
        "/usr/lib/python2.7/xml/etree/ElementTree.py:1627: DeprecationWarning: This method of XMLParser is deprecated.  Define doctype() method on the TreeBuilder target.\n",
        "  DeprecationWarning,\n",
        "/usr/lib/python2.7/xml/etree/ElementTree.py:1627: DeprecationWarning: This method of XMLParser is deprecated.  Define doctype() method on the TreeBuilder target.\n",
        "  DeprecationWarning,\n"
       ]
      },
      {
       "output_type": "stream",
       "stream": "stderr",
       "text": [
        "/usr/lib/python2.7/xml/etree/ElementTree.py:1627: DeprecationWarning: This method of XMLParser is deprecated.  Define doctype() method on the TreeBuilder target.\n",
        "  DeprecationWarning,\n",
        "/usr/lib/python2.7/xml/etree/ElementTree.py:1627: DeprecationWarning: This method of XMLParser is deprecated.  Define doctype() method on the TreeBuilder target.\n",
        "  DeprecationWarning,\n"
       ]
      },
      {
       "output_type": "stream",
       "stream": "stderr",
       "text": [
        "/usr/lib/python2.7/xml/etree/ElementTree.py:1627: DeprecationWarning: This method of XMLParser is deprecated.  Define doctype() method on the TreeBuilder target.\n",
        "  DeprecationWarning,\n",
        "/usr/lib/python2.7/xml/etree/ElementTree.py:1627: DeprecationWarning: This method of XMLParser is deprecated.  Define doctype() method on the TreeBuilder target.\n",
        "  DeprecationWarning,\n"
       ]
      },
      {
       "output_type": "stream",
       "stream": "stderr",
       "text": [
        "/usr/lib/python2.7/xml/etree/ElementTree.py:1627: DeprecationWarning: This method of XMLParser is deprecated.  Define doctype() method on the TreeBuilder target.\n",
        "  DeprecationWarning,\n",
        "/usr/lib/python2.7/xml/etree/ElementTree.py:1627: DeprecationWarning: This method of XMLParser is deprecated.  Define doctype() method on the TreeBuilder target.\n",
        "  DeprecationWarning,\n"
       ]
      },
      {
       "output_type": "stream",
       "stream": "stderr",
       "text": [
        "/usr/lib/python2.7/xml/etree/ElementTree.py:1627: DeprecationWarning: This method of XMLParser is deprecated.  Define doctype() method on the TreeBuilder target.\n",
        "  DeprecationWarning,\n",
        "/usr/lib/python2.7/xml/etree/ElementTree.py:1627: DeprecationWarning: This method of XMLParser is deprecated.  Define doctype() method on the TreeBuilder target.\n",
        "  DeprecationWarning,\n"
       ]
      },
      {
       "output_type": "stream",
       "stream": "stderr",
       "text": [
        "/usr/lib/python2.7/xml/etree/ElementTree.py:1627: DeprecationWarning: This method of XMLParser is deprecated.  Define doctype() method on the TreeBuilder target.\n",
        "  DeprecationWarning,\n",
        "/usr/lib/python2.7/xml/etree/ElementTree.py:1627: DeprecationWarning: This method of XMLParser is deprecated.  Define doctype() method on the TreeBuilder target.\n",
        "  DeprecationWarning,\n"
       ]
      },
      {
       "output_type": "stream",
       "stream": "stderr",
       "text": [
        "/usr/lib/python2.7/xml/etree/ElementTree.py:1627: DeprecationWarning: This method of XMLParser is deprecated.  Define doctype() method on the TreeBuilder target.\n",
        "  DeprecationWarning,\n",
        "/usr/lib/python2.7/xml/etree/ElementTree.py:1627: DeprecationWarning: This method of XMLParser is deprecated.  Define doctype() method on the TreeBuilder target.\n",
        "  DeprecationWarning,\n"
       ]
      },
      {
       "output_type": "stream",
       "stream": "stderr",
       "text": [
        "/usr/lib/python2.7/xml/etree/ElementTree.py:1627: DeprecationWarning: This method of XMLParser is deprecated.  Define doctype() method on the TreeBuilder target.\n",
        "  DeprecationWarning,\n",
        "/usr/lib/python2.7/xml/etree/ElementTree.py:1627: DeprecationWarning: This method of XMLParser is deprecated.  Define doctype() method on the TreeBuilder target.\n",
        "  DeprecationWarning,\n"
       ]
      },
      {
       "output_type": "stream",
       "stream": "stderr",
       "text": [
        "/usr/lib/python2.7/xml/etree/ElementTree.py:1627: DeprecationWarning: This method of XMLParser is deprecated.  Define doctype() method on the TreeBuilder target.\n",
        "  DeprecationWarning,\n",
        "/usr/lib/python2.7/xml/etree/ElementTree.py:1627: DeprecationWarning: This method of XMLParser is deprecated.  Define doctype() method on the TreeBuilder target.\n",
        "  DeprecationWarning,\n"
       ]
      },
      {
       "output_type": "stream",
       "stream": "stderr",
       "text": [
        "/usr/lib/python2.7/xml/etree/ElementTree.py:1627: DeprecationWarning: This method of XMLParser is deprecated.  Define doctype() method on the TreeBuilder target.\n",
        "  DeprecationWarning,\n",
        "/usr/lib/python2.7/xml/etree/ElementTree.py:1627: DeprecationWarning: This method of XMLParser is deprecated.  Define doctype() method on the TreeBuilder target.\n",
        "  DeprecationWarning,\n"
       ]
      },
      {
       "output_type": "stream",
       "stream": "stderr",
       "text": [
        "/usr/lib/python2.7/xml/etree/ElementTree.py:1627: DeprecationWarning: This method of XMLParser is deprecated.  Define doctype() method on the TreeBuilder target.\n",
        "  DeprecationWarning,\n",
        "/usr/lib/python2.7/xml/etree/ElementTree.py:1627: DeprecationWarning: This method of XMLParser is deprecated.  Define doctype() method on the TreeBuilder target.\n",
        "  DeprecationWarning,\n"
       ]
      },
      {
       "output_type": "stream",
       "stream": "stderr",
       "text": [
        "/usr/lib/python2.7/xml/etree/ElementTree.py:1627: DeprecationWarning: This method of XMLParser is deprecated.  Define doctype() method on the TreeBuilder target.\n",
        "  DeprecationWarning,\n",
        "/usr/lib/python2.7/xml/etree/ElementTree.py:1627: DeprecationWarning: This method of XMLParser is deprecated.  Define doctype() method on the TreeBuilder target.\n",
        "  DeprecationWarning,\n"
       ]
      },
      {
       "output_type": "stream",
       "stream": "stderr",
       "text": [
        "/usr/lib/python2.7/xml/etree/ElementTree.py:1627: DeprecationWarning: This method of XMLParser is deprecated.  Define doctype() method on the TreeBuilder target.\n",
        "  DeprecationWarning,\n",
        "/usr/lib/python2.7/xml/etree/ElementTree.py:1627: DeprecationWarning: This method of XMLParser is deprecated.  Define doctype() method on the TreeBuilder target.\n",
        "  DeprecationWarning,\n"
       ]
      },
      {
       "output_type": "stream",
       "stream": "stderr",
       "text": [
        "/usr/lib/python2.7/xml/etree/ElementTree.py:1627: DeprecationWarning: This method of XMLParser is deprecated.  Define doctype() method on the TreeBuilder target.\n",
        "  DeprecationWarning,\n",
        "/usr/lib/python2.7/xml/etree/ElementTree.py:1627: DeprecationWarning: This method of XMLParser is deprecated.  Define doctype() method on the TreeBuilder target.\n",
        "  DeprecationWarning,\n"
       ]
      },
      {
       "output_type": "stream",
       "stream": "stderr",
       "text": [
        "/usr/lib/python2.7/xml/etree/ElementTree.py:1627: DeprecationWarning: This method of XMLParser is deprecated.  Define doctype() method on the TreeBuilder target.\n",
        "  DeprecationWarning,\n",
        "/usr/lib/python2.7/xml/etree/ElementTree.py:1627: DeprecationWarning: This method of XMLParser is deprecated.  Define doctype() method on the TreeBuilder target.\n",
        "  DeprecationWarning,\n"
       ]
      },
      {
       "output_type": "stream",
       "stream": "stderr",
       "text": [
        "/usr/lib/python2.7/xml/etree/ElementTree.py:1627: DeprecationWarning: This method of XMLParser is deprecated.  Define doctype() method on the TreeBuilder target.\n",
        "  DeprecationWarning,\n",
        "/usr/lib/python2.7/xml/etree/ElementTree.py:1627: DeprecationWarning: This method of XMLParser is deprecated.  Define doctype() method on the TreeBuilder target.\n",
        "  DeprecationWarning,\n"
       ]
      },
      {
       "output_type": "stream",
       "stream": "stderr",
       "text": [
        "/usr/lib/python2.7/xml/etree/ElementTree.py:1627: DeprecationWarning: This method of XMLParser is deprecated.  Define doctype() method on the TreeBuilder target.\n",
        "  DeprecationWarning,\n",
        "/usr/lib/python2.7/xml/etree/ElementTree.py:1627: DeprecationWarning: This method of XMLParser is deprecated.  Define doctype() method on the TreeBuilder target.\n",
        "  DeprecationWarning,\n"
       ]
      },
      {
       "output_type": "stream",
       "stream": "stderr",
       "text": [
        "/usr/lib/python2.7/xml/etree/ElementTree.py:1627: DeprecationWarning: This method of XMLParser is deprecated.  Define doctype() method on the TreeBuilder target.\n",
        "  DeprecationWarning,\n",
        "/usr/lib/python2.7/xml/etree/ElementTree.py:1627: DeprecationWarning: This method of XMLParser is deprecated.  Define doctype() method on the TreeBuilder target.\n",
        "  DeprecationWarning,\n"
       ]
      },
      {
       "output_type": "stream",
       "stream": "stderr",
       "text": [
        "/usr/lib/python2.7/xml/etree/ElementTree.py:1627: DeprecationWarning: This method of XMLParser is deprecated.  Define doctype() method on the TreeBuilder target.\n",
        "  DeprecationWarning,\n",
        "/usr/lib/python2.7/xml/etree/ElementTree.py:1627: DeprecationWarning: This method of XMLParser is deprecated.  Define doctype() method on the TreeBuilder target.\n",
        "  DeprecationWarning,\n"
       ]
      },
      {
       "output_type": "stream",
       "stream": "stderr",
       "text": [
        "/usr/lib/python2.7/xml/etree/ElementTree.py:1627: DeprecationWarning: This method of XMLParser is deprecated.  Define doctype() method on the TreeBuilder target.\n",
        "  DeprecationWarning,\n",
        "/usr/lib/python2.7/xml/etree/ElementTree.py:1627: DeprecationWarning: This method of XMLParser is deprecated.  Define doctype() method on the TreeBuilder target.\n",
        "  DeprecationWarning,\n"
       ]
      },
      {
       "output_type": "stream",
       "stream": "stderr",
       "text": [
        "/usr/lib/python2.7/xml/etree/ElementTree.py:1627: DeprecationWarning: This method of XMLParser is deprecated.  Define doctype() method on the TreeBuilder target.\n",
        "  DeprecationWarning,\n",
        "/usr/lib/python2.7/xml/etree/ElementTree.py:1627: DeprecationWarning: This method of XMLParser is deprecated.  Define doctype() method on the TreeBuilder target.\n",
        "  DeprecationWarning,\n"
       ]
      },
      {
       "output_type": "stream",
       "stream": "stderr",
       "text": [
        "/usr/lib/python2.7/xml/etree/ElementTree.py:1627: DeprecationWarning: This method of XMLParser is deprecated.  Define doctype() method on the TreeBuilder target.\n",
        "  DeprecationWarning,\n",
        "/usr/lib/python2.7/xml/etree/ElementTree.py:1627: DeprecationWarning: This method of XMLParser is deprecated.  Define doctype() method on the TreeBuilder target.\n",
        "  DeprecationWarning,\n"
       ]
      },
      {
       "output_type": "stream",
       "stream": "stderr",
       "text": [
        "/usr/lib/python2.7/xml/etree/ElementTree.py:1627: DeprecationWarning: This method of XMLParser is deprecated.  Define doctype() method on the TreeBuilder target.\n",
        "  DeprecationWarning,\n",
        "/usr/lib/python2.7/xml/etree/ElementTree.py:1627: DeprecationWarning: This method of XMLParser is deprecated.  Define doctype() method on the TreeBuilder target.\n",
        "  DeprecationWarning,\n"
       ]
      },
      {
       "output_type": "stream",
       "stream": "stderr",
       "text": [
        "/usr/lib/python2.7/xml/etree/ElementTree.py:1627: DeprecationWarning: This method of XMLParser is deprecated.  Define doctype() method on the TreeBuilder target.\n",
        "  DeprecationWarning,\n",
        "/usr/lib/python2.7/xml/etree/ElementTree.py:1627: DeprecationWarning: This method of XMLParser is deprecated.  Define doctype() method on the TreeBuilder target.\n",
        "  DeprecationWarning,\n"
       ]
      },
      {
       "output_type": "stream",
       "stream": "stderr",
       "text": [
        "/usr/lib/python2.7/xml/etree/ElementTree.py:1627: DeprecationWarning: This method of XMLParser is deprecated.  Define doctype() method on the TreeBuilder target.\n",
        "  DeprecationWarning,\n",
        "/usr/lib/python2.7/xml/etree/ElementTree.py:1627: DeprecationWarning: This method of XMLParser is deprecated.  Define doctype() method on the TreeBuilder target.\n",
        "  DeprecationWarning,\n"
       ]
      },
      {
       "output_type": "stream",
       "stream": "stderr",
       "text": [
        "/usr/lib/python2.7/xml/etree/ElementTree.py:1627: DeprecationWarning: This method of XMLParser is deprecated.  Define doctype() method on the TreeBuilder target.\n",
        "  DeprecationWarning,\n",
        "/usr/lib/python2.7/xml/etree/ElementTree.py:1627: DeprecationWarning: This method of XMLParser is deprecated.  Define doctype() method on the TreeBuilder target.\n",
        "  DeprecationWarning,\n"
       ]
      },
      {
       "output_type": "stream",
       "stream": "stderr",
       "text": [
        "/usr/lib/python2.7/xml/etree/ElementTree.py:1627: DeprecationWarning: This method of XMLParser is deprecated.  Define doctype() method on the TreeBuilder target.\n",
        "  DeprecationWarning,\n",
        "/usr/lib/python2.7/xml/etree/ElementTree.py:1627: DeprecationWarning: This method of XMLParser is deprecated.  Define doctype() method on the TreeBuilder target.\n",
        "  DeprecationWarning,\n"
       ]
      },
      {
       "output_type": "stream",
       "stream": "stderr",
       "text": [
        "/usr/lib/python2.7/xml/etree/ElementTree.py:1627: DeprecationWarning: This method of XMLParser is deprecated.  Define doctype() method on the TreeBuilder target.\n",
        "  DeprecationWarning,\n",
        "/usr/lib/python2.7/xml/etree/ElementTree.py:1627: DeprecationWarning: This method of XMLParser is deprecated.  Define doctype() method on the TreeBuilder target.\n",
        "  DeprecationWarning,\n"
       ]
      },
      {
       "output_type": "stream",
       "stream": "stderr",
       "text": [
        "/usr/lib/python2.7/xml/etree/ElementTree.py:1627: DeprecationWarning: This method of XMLParser is deprecated.  Define doctype() method on the TreeBuilder target.\n",
        "  DeprecationWarning,\n",
        "/usr/lib/python2.7/xml/etree/ElementTree.py:1627: DeprecationWarning: This method of XMLParser is deprecated.  Define doctype() method on the TreeBuilder target.\n",
        "  DeprecationWarning,\n"
       ]
      },
      {
       "output_type": "stream",
       "stream": "stderr",
       "text": [
        "/usr/lib/python2.7/xml/etree/ElementTree.py:1627: DeprecationWarning: This method of XMLParser is deprecated.  Define doctype() method on the TreeBuilder target.\n",
        "  DeprecationWarning,\n",
        "/usr/lib/python2.7/xml/etree/ElementTree.py:1627: DeprecationWarning: This method of XMLParser is deprecated.  Define doctype() method on the TreeBuilder target.\n",
        "  DeprecationWarning,\n"
       ]
      },
      {
       "output_type": "stream",
       "stream": "stderr",
       "text": [
        "/usr/lib/python2.7/xml/etree/ElementTree.py:1627: DeprecationWarning: This method of XMLParser is deprecated.  Define doctype() method on the TreeBuilder target.\n",
        "  DeprecationWarning,\n",
        "/usr/lib/python2.7/xml/etree/ElementTree.py:1627: DeprecationWarning: This method of XMLParser is deprecated.  Define doctype() method on the TreeBuilder target.\n",
        "  DeprecationWarning,\n"
       ]
      },
      {
       "output_type": "stream",
       "stream": "stderr",
       "text": [
        "/usr/lib/python2.7/xml/etree/ElementTree.py:1627: DeprecationWarning: This method of XMLParser is deprecated.  Define doctype() method on the TreeBuilder target.\n",
        "  DeprecationWarning,\n",
        "/usr/lib/python2.7/xml/etree/ElementTree.py:1627: DeprecationWarning: This method of XMLParser is deprecated.  Define doctype() method on the TreeBuilder target.\n",
        "  DeprecationWarning,\n"
       ]
      },
      {
       "output_type": "stream",
       "stream": "stderr",
       "text": [
        "/usr/lib/python2.7/xml/etree/ElementTree.py:1627: DeprecationWarning: This method of XMLParser is deprecated.  Define doctype() method on the TreeBuilder target.\n",
        "  DeprecationWarning,\n",
        "/usr/lib/python2.7/xml/etree/ElementTree.py:1627: DeprecationWarning: This method of XMLParser is deprecated.  Define doctype() method on the TreeBuilder target.\n",
        "  DeprecationWarning,\n"
       ]
      },
      {
       "output_type": "stream",
       "stream": "stderr",
       "text": [
        "/usr/lib/python2.7/xml/etree/ElementTree.py:1627: DeprecationWarning: This method of XMLParser is deprecated.  Define doctype() method on the TreeBuilder target.\n",
        "  DeprecationWarning,\n",
        "/usr/lib/python2.7/xml/etree/ElementTree.py:1627: DeprecationWarning: This method of XMLParser is deprecated.  Define doctype() method on the TreeBuilder target.\n",
        "  DeprecationWarning,\n"
       ]
      },
      {
       "output_type": "stream",
       "stream": "stderr",
       "text": [
        "/usr/lib/python2.7/xml/etree/ElementTree.py:1627: DeprecationWarning: This method of XMLParser is deprecated.  Define doctype() method on the TreeBuilder target.\n",
        "  DeprecationWarning,\n",
        "/usr/lib/python2.7/xml/etree/ElementTree.py:1627: DeprecationWarning: This method of XMLParser is deprecated.  Define doctype() method on the TreeBuilder target.\n",
        "  DeprecationWarning,\n"
       ]
      },
      {
       "output_type": "stream",
       "stream": "stderr",
       "text": [
        "/usr/lib/python2.7/xml/etree/ElementTree.py:1627: DeprecationWarning: This method of XMLParser is deprecated.  Define doctype() method on the TreeBuilder target.\n",
        "  DeprecationWarning,\n",
        "/usr/lib/python2.7/xml/etree/ElementTree.py:1627: DeprecationWarning: This method of XMLParser is deprecated.  Define doctype() method on the TreeBuilder target.\n",
        "  DeprecationWarning,\n"
       ]
      },
      {
       "output_type": "stream",
       "stream": "stderr",
       "text": [
        "/usr/lib/python2.7/xml/etree/ElementTree.py:1627: DeprecationWarning: This method of XMLParser is deprecated.  Define doctype() method on the TreeBuilder target.\n",
        "  DeprecationWarning,\n",
        "/usr/lib/python2.7/xml/etree/ElementTree.py:1627: DeprecationWarning: This method of XMLParser is deprecated.  Define doctype() method on the TreeBuilder target.\n",
        "  DeprecationWarning,\n"
       ]
      },
      {
       "output_type": "stream",
       "stream": "stderr",
       "text": [
        "/usr/lib/python2.7/xml/etree/ElementTree.py:1627: DeprecationWarning: This method of XMLParser is deprecated.  Define doctype() method on the TreeBuilder target.\n",
        "  DeprecationWarning,\n",
        "/usr/lib/python2.7/xml/etree/ElementTree.py:1627: DeprecationWarning: This method of XMLParser is deprecated.  Define doctype() method on the TreeBuilder target.\n",
        "  DeprecationWarning,\n"
       ]
      },
      {
       "output_type": "stream",
       "stream": "stderr",
       "text": [
        "/usr/lib/python2.7/xml/etree/ElementTree.py:1627: DeprecationWarning: This method of XMLParser is deprecated.  Define doctype() method on the TreeBuilder target.\n",
        "  DeprecationWarning,\n",
        "/usr/lib/python2.7/xml/etree/ElementTree.py:1627: DeprecationWarning: This method of XMLParser is deprecated.  Define doctype() method on the TreeBuilder target.\n",
        "  DeprecationWarning,\n"
       ]
      },
      {
       "output_type": "stream",
       "stream": "stderr",
       "text": [
        "/usr/lib/python2.7/xml/etree/ElementTree.py:1627: DeprecationWarning: This method of XMLParser is deprecated.  Define doctype() method on the TreeBuilder target.\n",
        "  DeprecationWarning,\n",
        "/usr/lib/python2.7/xml/etree/ElementTree.py:1627: DeprecationWarning: This method of XMLParser is deprecated.  Define doctype() method on the TreeBuilder target.\n",
        "  DeprecationWarning,\n"
       ]
      },
      {
       "output_type": "stream",
       "stream": "stderr",
       "text": [
        "/usr/lib/python2.7/xml/etree/ElementTree.py:1627: DeprecationWarning: This method of XMLParser is deprecated.  Define doctype() method on the TreeBuilder target.\n",
        "  DeprecationWarning,\n",
        "/usr/lib/python2.7/xml/etree/ElementTree.py:1627: DeprecationWarning: This method of XMLParser is deprecated.  Define doctype() method on the TreeBuilder target.\n",
        "  DeprecationWarning,\n"
       ]
      },
      {
       "output_type": "stream",
       "stream": "stderr",
       "text": [
        "/usr/lib/python2.7/xml/etree/ElementTree.py:1627: DeprecationWarning: This method of XMLParser is deprecated.  Define doctype() method on the TreeBuilder target.\n",
        "  DeprecationWarning,\n",
        "/usr/lib/python2.7/xml/etree/ElementTree.py:1627: DeprecationWarning: This method of XMLParser is deprecated.  Define doctype() method on the TreeBuilder target.\n",
        "  DeprecationWarning,\n"
       ]
      },
      {
       "output_type": "stream",
       "stream": "stderr",
       "text": [
        "/usr/lib/python2.7/xml/etree/ElementTree.py:1627: DeprecationWarning: This method of XMLParser is deprecated.  Define doctype() method on the TreeBuilder target.\n",
        "  DeprecationWarning,\n",
        "/usr/lib/python2.7/xml/etree/ElementTree.py:1627: DeprecationWarning: This method of XMLParser is deprecated.  Define doctype() method on the TreeBuilder target.\n",
        "  DeprecationWarning,\n"
       ]
      },
      {
       "output_type": "stream",
       "stream": "stderr",
       "text": [
        "/usr/lib/python2.7/xml/etree/ElementTree.py:1627: DeprecationWarning: This method of XMLParser is deprecated.  Define doctype() method on the TreeBuilder target.\n",
        "  DeprecationWarning,\n",
        "/usr/lib/python2.7/xml/etree/ElementTree.py:1627: DeprecationWarning: This method of XMLParser is deprecated.  Define doctype() method on the TreeBuilder target.\n",
        "  DeprecationWarning,\n"
       ]
      },
      {
       "output_type": "stream",
       "stream": "stderr",
       "text": [
        "/usr/lib/python2.7/xml/etree/ElementTree.py:1627: DeprecationWarning: This method of XMLParser is deprecated.  Define doctype() method on the TreeBuilder target.\n",
        "  DeprecationWarning,\n",
        "/usr/lib/python2.7/xml/etree/ElementTree.py:1627: DeprecationWarning: This method of XMLParser is deprecated.  Define doctype() method on the TreeBuilder target.\n",
        "  DeprecationWarning,\n"
       ]
      },
      {
       "output_type": "stream",
       "stream": "stderr",
       "text": [
        "/usr/lib/python2.7/xml/etree/ElementTree.py:1627: DeprecationWarning: This method of XMLParser is deprecated.  Define doctype() method on the TreeBuilder target.\n",
        "  DeprecationWarning,\n",
        "/usr/lib/python2.7/xml/etree/ElementTree.py:1627: DeprecationWarning: This method of XMLParser is deprecated.  Define doctype() method on the TreeBuilder target.\n",
        "  DeprecationWarning,\n"
       ]
      },
      {
       "output_type": "stream",
       "stream": "stderr",
       "text": [
        "/usr/lib/python2.7/xml/etree/ElementTree.py:1627: DeprecationWarning: This method of XMLParser is deprecated.  Define doctype() method on the TreeBuilder target.\n",
        "  DeprecationWarning,\n",
        "/usr/lib/python2.7/xml/etree/ElementTree.py:1627: DeprecationWarning: This method of XMLParser is deprecated.  Define doctype() method on the TreeBuilder target.\n",
        "  DeprecationWarning,\n"
       ]
      },
      {
       "output_type": "stream",
       "stream": "stderr",
       "text": [
        "/usr/lib/python2.7/xml/etree/ElementTree.py:1627: DeprecationWarning: This method of XMLParser is deprecated.  Define doctype() method on the TreeBuilder target.\n",
        "  DeprecationWarning,\n",
        "/usr/lib/python2.7/xml/etree/ElementTree.py:1627: DeprecationWarning: This method of XMLParser is deprecated.  Define doctype() method on the TreeBuilder target.\n",
        "  DeprecationWarning,\n"
       ]
      },
      {
       "output_type": "stream",
       "stream": "stderr",
       "text": [
        "/usr/lib/python2.7/xml/etree/ElementTree.py:1627: DeprecationWarning: This method of XMLParser is deprecated.  Define doctype() method on the TreeBuilder target.\n",
        "  DeprecationWarning,\n",
        "/usr/lib/python2.7/xml/etree/ElementTree.py:1627: DeprecationWarning: This method of XMLParser is deprecated.  Define doctype() method on the TreeBuilder target.\n",
        "  DeprecationWarning,\n"
       ]
      },
      {
       "output_type": "stream",
       "stream": "stderr",
       "text": [
        "/usr/lib/python2.7/xml/etree/ElementTree.py:1627: DeprecationWarning: This method of XMLParser is deprecated.  Define doctype() method on the TreeBuilder target.\n",
        "  DeprecationWarning,\n",
        "/usr/lib/python2.7/xml/etree/ElementTree.py:1627: DeprecationWarning: This method of XMLParser is deprecated.  Define doctype() method on the TreeBuilder target.\n",
        "  DeprecationWarning,\n"
       ]
      },
      {
       "output_type": "stream",
       "stream": "stderr",
       "text": [
        "/usr/lib/python2.7/xml/etree/ElementTree.py:1627: DeprecationWarning: This method of XMLParser is deprecated.  Define doctype() method on the TreeBuilder target.\n",
        "  DeprecationWarning,\n",
        "/usr/lib/python2.7/xml/etree/ElementTree.py:1627: DeprecationWarning: This method of XMLParser is deprecated.  Define doctype() method on the TreeBuilder target.\n",
        "  DeprecationWarning,\n"
       ]
      },
      {
       "output_type": "stream",
       "stream": "stderr",
       "text": [
        "/usr/lib/python2.7/xml/etree/ElementTree.py:1627: DeprecationWarning: This method of XMLParser is deprecated.  Define doctype() method on the TreeBuilder target.\n",
        "  DeprecationWarning,\n",
        "/usr/lib/python2.7/xml/etree/ElementTree.py:1627: DeprecationWarning: This method of XMLParser is deprecated.  Define doctype() method on the TreeBuilder target.\n",
        "  DeprecationWarning,\n"
       ]
      },
      {
       "output_type": "stream",
       "stream": "stderr",
       "text": [
        "/usr/lib/python2.7/xml/etree/ElementTree.py:1627: DeprecationWarning: This method of XMLParser is deprecated.  Define doctype() method on the TreeBuilder target.\n",
        "  DeprecationWarning,\n",
        "/usr/lib/python2.7/xml/etree/ElementTree.py:1627: DeprecationWarning: This method of XMLParser is deprecated.  Define doctype() method on the TreeBuilder target.\n",
        "  DeprecationWarning,\n"
       ]
      },
      {
       "output_type": "stream",
       "stream": "stderr",
       "text": [
        "/usr/lib/python2.7/xml/etree/ElementTree.py:1627: DeprecationWarning: This method of XMLParser is deprecated.  Define doctype() method on the TreeBuilder target.\n",
        "  DeprecationWarning,\n",
        "/usr/lib/python2.7/xml/etree/ElementTree.py:1627: DeprecationWarning: This method of XMLParser is deprecated.  Define doctype() method on the TreeBuilder target.\n",
        "  DeprecationWarning,\n"
       ]
      },
      {
       "output_type": "stream",
       "stream": "stderr",
       "text": [
        "/usr/lib/python2.7/xml/etree/ElementTree.py:1627: DeprecationWarning: This method of XMLParser is deprecated.  Define doctype() method on the TreeBuilder target.\n",
        "  DeprecationWarning,\n",
        "/usr/lib/python2.7/xml/etree/ElementTree.py:1627: DeprecationWarning: This method of XMLParser is deprecated.  Define doctype() method on the TreeBuilder target.\n",
        "  DeprecationWarning,\n"
       ]
      },
      {
       "output_type": "stream",
       "stream": "stderr",
       "text": [
        "/usr/lib/python2.7/xml/etree/ElementTree.py:1627: DeprecationWarning: This method of XMLParser is deprecated.  Define doctype() method on the TreeBuilder target.\n",
        "  DeprecationWarning,\n",
        "/usr/lib/python2.7/xml/etree/ElementTree.py:1627: DeprecationWarning: This method of XMLParser is deprecated.  Define doctype() method on the TreeBuilder target.\n",
        "  DeprecationWarning,\n"
       ]
      },
      {
       "output_type": "stream",
       "stream": "stderr",
       "text": [
        "/usr/lib/python2.7/xml/etree/ElementTree.py:1627: DeprecationWarning: This method of XMLParser is deprecated.  Define doctype() method on the TreeBuilder target.\n",
        "  DeprecationWarning,\n",
        "/usr/lib/python2.7/xml/etree/ElementTree.py:1627: DeprecationWarning: This method of XMLParser is deprecated.  Define doctype() method on the TreeBuilder target.\n",
        "  DeprecationWarning,\n"
       ]
      },
      {
       "output_type": "stream",
       "stream": "stderr",
       "text": [
        "/usr/lib/python2.7/xml/etree/ElementTree.py:1627: DeprecationWarning: This method of XMLParser is deprecated.  Define doctype() method on the TreeBuilder target.\n",
        "  DeprecationWarning,\n",
        "/usr/lib/python2.7/xml/etree/ElementTree.py:1627: DeprecationWarning: This method of XMLParser is deprecated.  Define doctype() method on the TreeBuilder target.\n",
        "  DeprecationWarning,\n"
       ]
      },
      {
       "output_type": "stream",
       "stream": "stderr",
       "text": [
        "/usr/lib/python2.7/xml/etree/ElementTree.py:1627: DeprecationWarning: This method of XMLParser is deprecated.  Define doctype() method on the TreeBuilder target.\n",
        "  DeprecationWarning,\n",
        "/usr/lib/python2.7/xml/etree/ElementTree.py:1627: DeprecationWarning: This method of XMLParser is deprecated.  Define doctype() method on the TreeBuilder target.\n",
        "  DeprecationWarning,\n"
       ]
      },
      {
       "output_type": "stream",
       "stream": "stderr",
       "text": [
        "/usr/lib/python2.7/xml/etree/ElementTree.py:1627: DeprecationWarning: This method of XMLParser is deprecated.  Define doctype() method on the TreeBuilder target.\n",
        "  DeprecationWarning,\n",
        "/usr/lib/python2.7/xml/etree/ElementTree.py:1627: DeprecationWarning: This method of XMLParser is deprecated.  Define doctype() method on the TreeBuilder target.\n",
        "  DeprecationWarning,\n"
       ]
      },
      {
       "output_type": "stream",
       "stream": "stderr",
       "text": [
        "/usr/lib/python2.7/xml/etree/ElementTree.py:1627: DeprecationWarning: This method of XMLParser is deprecated.  Define doctype() method on the TreeBuilder target.\n",
        "  DeprecationWarning,\n",
        "/usr/lib/python2.7/xml/etree/ElementTree.py:1627: DeprecationWarning: This method of XMLParser is deprecated.  Define doctype() method on the TreeBuilder target.\n",
        "  DeprecationWarning,\n"
       ]
      },
      {
       "output_type": "stream",
       "stream": "stderr",
       "text": [
        "/usr/lib/python2.7/xml/etree/ElementTree.py:1627: DeprecationWarning: This method of XMLParser is deprecated.  Define doctype() method on the TreeBuilder target.\n",
        "  DeprecationWarning,\n",
        "/usr/lib/python2.7/xml/etree/ElementTree.py:1627: DeprecationWarning: This method of XMLParser is deprecated.  Define doctype() method on the TreeBuilder target.\n",
        "  DeprecationWarning,\n"
       ]
      },
      {
       "output_type": "stream",
       "stream": "stderr",
       "text": [
        "/usr/lib/python2.7/xml/etree/ElementTree.py:1627: DeprecationWarning: This method of XMLParser is deprecated.  Define doctype() method on the TreeBuilder target.\n",
        "  DeprecationWarning,\n",
        "/usr/lib/python2.7/xml/etree/ElementTree.py:1627: DeprecationWarning: This method of XMLParser is deprecated.  Define doctype() method on the TreeBuilder target.\n",
        "  DeprecationWarning,\n"
       ]
      },
      {
       "output_type": "stream",
       "stream": "stderr",
       "text": [
        "/usr/lib/python2.7/xml/etree/ElementTree.py:1627: DeprecationWarning: This method of XMLParser is deprecated.  Define doctype() method on the TreeBuilder target.\n",
        "  DeprecationWarning,\n",
        "/usr/lib/python2.7/xml/etree/ElementTree.py:1627: DeprecationWarning: This method of XMLParser is deprecated.  Define doctype() method on the TreeBuilder target.\n",
        "  DeprecationWarning,\n"
       ]
      },
      {
       "output_type": "stream",
       "stream": "stderr",
       "text": [
        "/usr/lib/python2.7/xml/etree/ElementTree.py:1627: DeprecationWarning: This method of XMLParser is deprecated.  Define doctype() method on the TreeBuilder target.\n",
        "  DeprecationWarning,\n",
        "/usr/lib/python2.7/xml/etree/ElementTree.py:1627: DeprecationWarning: This method of XMLParser is deprecated.  Define doctype() method on the TreeBuilder target.\n",
        "  DeprecationWarning,\n"
       ]
      },
      {
       "output_type": "stream",
       "stream": "stderr",
       "text": [
        "/usr/lib/python2.7/xml/etree/ElementTree.py:1627: DeprecationWarning: This method of XMLParser is deprecated.  Define doctype() method on the TreeBuilder target.\n",
        "  DeprecationWarning,\n",
        "/usr/lib/python2.7/xml/etree/ElementTree.py:1627: DeprecationWarning: This method of XMLParser is deprecated.  Define doctype() method on the TreeBuilder target.\n",
        "  DeprecationWarning,\n"
       ]
      },
      {
       "output_type": "stream",
       "stream": "stderr",
       "text": [
        "/usr/lib/python2.7/xml/etree/ElementTree.py:1627: DeprecationWarning: This method of XMLParser is deprecated.  Define doctype() method on the TreeBuilder target.\n",
        "  DeprecationWarning,\n",
        "/usr/lib/python2.7/xml/etree/ElementTree.py:1627: DeprecationWarning: This method of XMLParser is deprecated.  Define doctype() method on the TreeBuilder target.\n",
        "  DeprecationWarning,\n"
       ]
      },
      {
       "output_type": "stream",
       "stream": "stderr",
       "text": [
        "/usr/lib/python2.7/xml/etree/ElementTree.py:1627: DeprecationWarning: This method of XMLParser is deprecated.  Define doctype() method on the TreeBuilder target.\n",
        "  DeprecationWarning,\n",
        "/usr/lib/python2.7/xml/etree/ElementTree.py:1627: DeprecationWarning: This method of XMLParser is deprecated.  Define doctype() method on the TreeBuilder target.\n",
        "  DeprecationWarning,\n"
       ]
      },
      {
       "output_type": "stream",
       "stream": "stderr",
       "text": [
        "/usr/lib/python2.7/xml/etree/ElementTree.py:1627: DeprecationWarning: This method of XMLParser is deprecated.  Define doctype() method on the TreeBuilder target.\n",
        "  DeprecationWarning,\n",
        "/usr/lib/python2.7/xml/etree/ElementTree.py:1627: DeprecationWarning: This method of XMLParser is deprecated.  Define doctype() method on the TreeBuilder target.\n",
        "  DeprecationWarning,\n"
       ]
      },
      {
       "output_type": "stream",
       "stream": "stderr",
       "text": [
        "/usr/lib/python2.7/xml/etree/ElementTree.py:1627: DeprecationWarning: This method of XMLParser is deprecated.  Define doctype() method on the TreeBuilder target.\n",
        "  DeprecationWarning,\n",
        "/usr/lib/python2.7/xml/etree/ElementTree.py:1627: DeprecationWarning: This method of XMLParser is deprecated.  Define doctype() method on the TreeBuilder target.\n",
        "  DeprecationWarning,\n"
       ]
      },
      {
       "output_type": "stream",
       "stream": "stderr",
       "text": [
        "/usr/lib/python2.7/xml/etree/ElementTree.py:1627: DeprecationWarning: This method of XMLParser is deprecated.  Define doctype() method on the TreeBuilder target.\n",
        "  DeprecationWarning,\n",
        "/usr/lib/python2.7/xml/etree/ElementTree.py:1627: DeprecationWarning: This method of XMLParser is deprecated.  Define doctype() method on the TreeBuilder target.\n",
        "  DeprecationWarning,\n"
       ]
      },
      {
       "output_type": "stream",
       "stream": "stderr",
       "text": [
        "/usr/lib/python2.7/xml/etree/ElementTree.py:1627: DeprecationWarning: This method of XMLParser is deprecated.  Define doctype() method on the TreeBuilder target.\n",
        "  DeprecationWarning,\n",
        "/usr/lib/python2.7/xml/etree/ElementTree.py:1627: DeprecationWarning: This method of XMLParser is deprecated.  Define doctype() method on the TreeBuilder target.\n",
        "  DeprecationWarning,\n"
       ]
      },
      {
       "output_type": "stream",
       "stream": "stderr",
       "text": [
        "/usr/lib/python2.7/xml/etree/ElementTree.py:1627: DeprecationWarning: This method of XMLParser is deprecated.  Define doctype() method on the TreeBuilder target.\n",
        "  DeprecationWarning,\n",
        "/usr/lib/python2.7/xml/etree/ElementTree.py:1627: DeprecationWarning: This method of XMLParser is deprecated.  Define doctype() method on the TreeBuilder target.\n",
        "  DeprecationWarning,\n"
       ]
      },
      {
       "output_type": "stream",
       "stream": "stderr",
       "text": [
        "/usr/lib/python2.7/xml/etree/ElementTree.py:1627: DeprecationWarning: This method of XMLParser is deprecated.  Define doctype() method on the TreeBuilder target.\n",
        "  DeprecationWarning,\n",
        "/usr/lib/python2.7/xml/etree/ElementTree.py:1627: DeprecationWarning: This method of XMLParser is deprecated.  Define doctype() method on the TreeBuilder target.\n",
        "  DeprecationWarning,\n"
       ]
      },
      {
       "output_type": "stream",
       "stream": "stderr",
       "text": [
        "/usr/lib/python2.7/xml/etree/ElementTree.py:1627: DeprecationWarning: This method of XMLParser is deprecated.  Define doctype() method on the TreeBuilder target.\n",
        "  DeprecationWarning,\n",
        "/usr/lib/python2.7/xml/etree/ElementTree.py:1627: DeprecationWarning: This method of XMLParser is deprecated.  Define doctype() method on the TreeBuilder target.\n",
        "  DeprecationWarning,\n"
       ]
      },
      {
       "output_type": "stream",
       "stream": "stderr",
       "text": [
        "/usr/lib/python2.7/xml/etree/ElementTree.py:1627: DeprecationWarning: This method of XMLParser is deprecated.  Define doctype() method on the TreeBuilder target.\n",
        "  DeprecationWarning,\n",
        "/usr/lib/python2.7/xml/etree/ElementTree.py:1627: DeprecationWarning: This method of XMLParser is deprecated.  Define doctype() method on the TreeBuilder target.\n",
        "  DeprecationWarning,\n"
       ]
      },
      {
       "output_type": "stream",
       "stream": "stderr",
       "text": [
        "/usr/lib/python2.7/xml/etree/ElementTree.py:1627: DeprecationWarning: This method of XMLParser is deprecated.  Define doctype() method on the TreeBuilder target.\n",
        "  DeprecationWarning,\n",
        "/usr/lib/python2.7/xml/etree/ElementTree.py:1627: DeprecationWarning: This method of XMLParser is deprecated.  Define doctype() method on the TreeBuilder target.\n",
        "  DeprecationWarning,\n"
       ]
      },
      {
       "output_type": "stream",
       "stream": "stderr",
       "text": [
        "/usr/lib/python2.7/xml/etree/ElementTree.py:1627: DeprecationWarning: This method of XMLParser is deprecated.  Define doctype() method on the TreeBuilder target.\n",
        "  DeprecationWarning,\n",
        "/usr/lib/python2.7/xml/etree/ElementTree.py:1627: DeprecationWarning: This method of XMLParser is deprecated.  Define doctype() method on the TreeBuilder target.\n",
        "  DeprecationWarning,\n"
       ]
      },
      {
       "output_type": "stream",
       "stream": "stderr",
       "text": [
        "/usr/lib/python2.7/xml/etree/ElementTree.py:1627: DeprecationWarning: This method of XMLParser is deprecated.  Define doctype() method on the TreeBuilder target.\n",
        "  DeprecationWarning,\n",
        "/usr/lib/python2.7/xml/etree/ElementTree.py:1627: DeprecationWarning: This method of XMLParser is deprecated.  Define doctype() method on the TreeBuilder target.\n",
        "  DeprecationWarning,\n"
       ]
      },
      {
       "output_type": "stream",
       "stream": "stderr",
       "text": [
        "/usr/lib/python2.7/xml/etree/ElementTree.py:1627: DeprecationWarning: This method of XMLParser is deprecated.  Define doctype() method on the TreeBuilder target.\n",
        "  DeprecationWarning,\n",
        "/usr/lib/python2.7/xml/etree/ElementTree.py:1627: DeprecationWarning: This method of XMLParser is deprecated.  Define doctype() method on the TreeBuilder target.\n",
        "  DeprecationWarning,\n"
       ]
      },
      {
       "output_type": "stream",
       "stream": "stderr",
       "text": [
        "/usr/lib/python2.7/xml/etree/ElementTree.py:1627: DeprecationWarning: This method of XMLParser is deprecated.  Define doctype() method on the TreeBuilder target.\n",
        "  DeprecationWarning,\n",
        "/usr/lib/python2.7/xml/etree/ElementTree.py:1627: DeprecationWarning: This method of XMLParser is deprecated.  Define doctype() method on the TreeBuilder target.\n",
        "  DeprecationWarning,\n"
       ]
      },
      {
       "output_type": "stream",
       "stream": "stderr",
       "text": [
        "/usr/lib/python2.7/xml/etree/ElementTree.py:1627: DeprecationWarning: This method of XMLParser is deprecated.  Define doctype() method on the TreeBuilder target.\n",
        "  DeprecationWarning,\n",
        "/usr/lib/python2.7/xml/etree/ElementTree.py:1627: DeprecationWarning: This method of XMLParser is deprecated.  Define doctype() method on the TreeBuilder target.\n",
        "  DeprecationWarning,\n"
       ]
      },
      {
       "output_type": "stream",
       "stream": "stderr",
       "text": [
        "/usr/lib/python2.7/xml/etree/ElementTree.py:1627: DeprecationWarning: This method of XMLParser is deprecated.  Define doctype() method on the TreeBuilder target.\n",
        "  DeprecationWarning,\n",
        "/usr/lib/python2.7/xml/etree/ElementTree.py:1627: DeprecationWarning: This method of XMLParser is deprecated.  Define doctype() method on the TreeBuilder target.\n",
        "  DeprecationWarning,\n"
       ]
      },
      {
       "output_type": "stream",
       "stream": "stderr",
       "text": [
        "/usr/lib/python2.7/xml/etree/ElementTree.py:1627: DeprecationWarning: This method of XMLParser is deprecated.  Define doctype() method on the TreeBuilder target.\n",
        "  DeprecationWarning,\n",
        "/usr/lib/python2.7/xml/etree/ElementTree.py:1627: DeprecationWarning: This method of XMLParser is deprecated.  Define doctype() method on the TreeBuilder target.\n",
        "  DeprecationWarning,\n"
       ]
      },
      {
       "output_type": "stream",
       "stream": "stderr",
       "text": [
        "/usr/lib/python2.7/xml/etree/ElementTree.py:1627: DeprecationWarning: This method of XMLParser is deprecated.  Define doctype() method on the TreeBuilder target.\n",
        "  DeprecationWarning,\n",
        "/usr/lib/python2.7/xml/etree/ElementTree.py:1627: DeprecationWarning: This method of XMLParser is deprecated.  Define doctype() method on the TreeBuilder target.\n",
        "  DeprecationWarning,\n"
       ]
      },
      {
       "output_type": "stream",
       "stream": "stderr",
       "text": [
        "/usr/lib/python2.7/xml/etree/ElementTree.py:1627: DeprecationWarning: This method of XMLParser is deprecated.  Define doctype() method on the TreeBuilder target.\n",
        "  DeprecationWarning,\n",
        "/usr/lib/python2.7/xml/etree/ElementTree.py:1627: DeprecationWarning: This method of XMLParser is deprecated.  Define doctype() method on the TreeBuilder target.\n",
        "  DeprecationWarning,\n"
       ]
      },
      {
       "output_type": "stream",
       "stream": "stderr",
       "text": [
        "/usr/lib/python2.7/xml/etree/ElementTree.py:1627: DeprecationWarning: This method of XMLParser is deprecated.  Define doctype() method on the TreeBuilder target.\n",
        "  DeprecationWarning,\n",
        "/usr/lib/python2.7/xml/etree/ElementTree.py:1627: DeprecationWarning: This method of XMLParser is deprecated.  Define doctype() method on the TreeBuilder target.\n",
        "  DeprecationWarning,\n"
       ]
      },
      {
       "output_type": "stream",
       "stream": "stderr",
       "text": [
        "/usr/lib/python2.7/xml/etree/ElementTree.py:1627: DeprecationWarning: This method of XMLParser is deprecated.  Define doctype() method on the TreeBuilder target.\n",
        "  DeprecationWarning,\n",
        "/usr/lib/python2.7/xml/etree/ElementTree.py:1627: DeprecationWarning: This method of XMLParser is deprecated.  Define doctype() method on the TreeBuilder target.\n",
        "  DeprecationWarning,\n"
       ]
      },
      {
       "output_type": "stream",
       "stream": "stderr",
       "text": [
        "/usr/lib/python2.7/xml/etree/ElementTree.py:1627: DeprecationWarning: This method of XMLParser is deprecated.  Define doctype() method on the TreeBuilder target.\n",
        "  DeprecationWarning,\n",
        "/usr/lib/python2.7/xml/etree/ElementTree.py:1627: DeprecationWarning: This method of XMLParser is deprecated.  Define doctype() method on the TreeBuilder target.\n",
        "  DeprecationWarning,\n"
       ]
      },
      {
       "output_type": "stream",
       "stream": "stderr",
       "text": [
        "/usr/lib/python2.7/xml/etree/ElementTree.py:1627: DeprecationWarning: This method of XMLParser is deprecated.  Define doctype() method on the TreeBuilder target.\n",
        "  DeprecationWarning,\n",
        "/usr/lib/python2.7/xml/etree/ElementTree.py:1627: DeprecationWarning: This method of XMLParser is deprecated.  Define doctype() method on the TreeBuilder target.\n",
        "  DeprecationWarning,\n"
       ]
      },
      {
       "output_type": "stream",
       "stream": "stderr",
       "text": [
        "/usr/lib/python2.7/xml/etree/ElementTree.py:1627: DeprecationWarning: This method of XMLParser is deprecated.  Define doctype() method on the TreeBuilder target.\n",
        "  DeprecationWarning,\n",
        "/usr/lib/python2.7/xml/etree/ElementTree.py:1627: DeprecationWarning: This method of XMLParser is deprecated.  Define doctype() method on the TreeBuilder target.\n",
        "  DeprecationWarning,\n"
       ]
      },
      {
       "output_type": "stream",
       "stream": "stderr",
       "text": [
        "/usr/lib/python2.7/xml/etree/ElementTree.py:1627: DeprecationWarning: This method of XMLParser is deprecated.  Define doctype() method on the TreeBuilder target.\n",
        "  DeprecationWarning,\n",
        "/usr/lib/python2.7/xml/etree/ElementTree.py:1627: DeprecationWarning: This method of XMLParser is deprecated.  Define doctype() method on the TreeBuilder target.\n",
        "  DeprecationWarning,\n"
       ]
      },
      {
       "output_type": "stream",
       "stream": "stderr",
       "text": [
        "/usr/lib/python2.7/xml/etree/ElementTree.py:1627: DeprecationWarning: This method of XMLParser is deprecated.  Define doctype() method on the TreeBuilder target.\n",
        "  DeprecationWarning,\n",
        "/usr/lib/python2.7/xml/etree/ElementTree.py:1627: DeprecationWarning: This method of XMLParser is deprecated.  Define doctype() method on the TreeBuilder target.\n",
        "  DeprecationWarning,\n"
       ]
      },
      {
       "output_type": "stream",
       "stream": "stderr",
       "text": [
        "/usr/lib/python2.7/xml/etree/ElementTree.py:1627: DeprecationWarning: This method of XMLParser is deprecated.  Define doctype() method on the TreeBuilder target.\n",
        "  DeprecationWarning,\n",
        "/usr/lib/python2.7/xml/etree/ElementTree.py:1627: DeprecationWarning: This method of XMLParser is deprecated.  Define doctype() method on the TreeBuilder target.\n",
        "  DeprecationWarning,\n"
       ]
      },
      {
       "output_type": "stream",
       "stream": "stderr",
       "text": [
        "/usr/lib/python2.7/xml/etree/ElementTree.py:1627: DeprecationWarning: This method of XMLParser is deprecated.  Define doctype() method on the TreeBuilder target.\n",
        "  DeprecationWarning,\n",
        "/usr/lib/python2.7/xml/etree/ElementTree.py:1627: DeprecationWarning: This method of XMLParser is deprecated.  Define doctype() method on the TreeBuilder target.\n",
        "  DeprecationWarning,\n"
       ]
      },
      {
       "output_type": "stream",
       "stream": "stderr",
       "text": [
        "/usr/lib/python2.7/xml/etree/ElementTree.py:1627: DeprecationWarning: This method of XMLParser is deprecated.  Define doctype() method on the TreeBuilder target.\n",
        "  DeprecationWarning,\n",
        "/usr/lib/python2.7/xml/etree/ElementTree.py:1627: DeprecationWarning: This method of XMLParser is deprecated.  Define doctype() method on the TreeBuilder target.\n",
        "  DeprecationWarning,\n"
       ]
      },
      {
       "output_type": "stream",
       "stream": "stderr",
       "text": [
        "/usr/lib/python2.7/xml/etree/ElementTree.py:1627: DeprecationWarning: This method of XMLParser is deprecated.  Define doctype() method on the TreeBuilder target.\n",
        "  DeprecationWarning,\n",
        "/usr/lib/python2.7/xml/etree/ElementTree.py:1627: DeprecationWarning: This method of XMLParser is deprecated.  Define doctype() method on the TreeBuilder target.\n",
        "  DeprecationWarning,\n"
       ]
      },
      {
       "output_type": "stream",
       "stream": "stderr",
       "text": [
        "/usr/lib/python2.7/xml/etree/ElementTree.py:1627: DeprecationWarning: This method of XMLParser is deprecated.  Define doctype() method on the TreeBuilder target.\n",
        "  DeprecationWarning,\n",
        "/usr/lib/python2.7/xml/etree/ElementTree.py:1627: DeprecationWarning: This method of XMLParser is deprecated.  Define doctype() method on the TreeBuilder target.\n",
        "  DeprecationWarning,\n"
       ]
      },
      {
       "output_type": "stream",
       "stream": "stderr",
       "text": [
        "/usr/lib/python2.7/xml/etree/ElementTree.py:1627: DeprecationWarning: This method of XMLParser is deprecated.  Define doctype() method on the TreeBuilder target.\n",
        "  DeprecationWarning,\n",
        "/usr/lib/python2.7/xml/etree/ElementTree.py:1627: DeprecationWarning: This method of XMLParser is deprecated.  Define doctype() method on the TreeBuilder target.\n",
        "  DeprecationWarning,\n"
       ]
      },
      {
       "output_type": "stream",
       "stream": "stderr",
       "text": [
        "/usr/lib/python2.7/xml/etree/ElementTree.py:1627: DeprecationWarning: This method of XMLParser is deprecated.  Define doctype() method on the TreeBuilder target.\n",
        "  DeprecationWarning,\n",
        "/usr/lib/python2.7/xml/etree/ElementTree.py:1627: DeprecationWarning: This method of XMLParser is deprecated.  Define doctype() method on the TreeBuilder target.\n",
        "  DeprecationWarning,\n"
       ]
      },
      {
       "output_type": "stream",
       "stream": "stderr",
       "text": [
        "/usr/lib/python2.7/xml/etree/ElementTree.py:1627: DeprecationWarning: This method of XMLParser is deprecated.  Define doctype() method on the TreeBuilder target.\n",
        "  DeprecationWarning,\n",
        "/usr/lib/python2.7/xml/etree/ElementTree.py:1627: DeprecationWarning: This method of XMLParser is deprecated.  Define doctype() method on the TreeBuilder target.\n",
        "  DeprecationWarning,\n"
       ]
      },
      {
       "output_type": "stream",
       "stream": "stderr",
       "text": [
        "/usr/lib/python2.7/xml/etree/ElementTree.py:1627: DeprecationWarning: This method of XMLParser is deprecated.  Define doctype() method on the TreeBuilder target.\n",
        "  DeprecationWarning,\n",
        "/usr/lib/python2.7/xml/etree/ElementTree.py:1627: DeprecationWarning: This method of XMLParser is deprecated.  Define doctype() method on the TreeBuilder target.\n",
        "  DeprecationWarning,\n"
       ]
      },
      {
       "output_type": "stream",
       "stream": "stderr",
       "text": [
        "/usr/lib/python2.7/xml/etree/ElementTree.py:1627: DeprecationWarning: This method of XMLParser is deprecated.  Define doctype() method on the TreeBuilder target.\n",
        "  DeprecationWarning,\n",
        "/usr/lib/python2.7/xml/etree/ElementTree.py:1627: DeprecationWarning: This method of XMLParser is deprecated.  Define doctype() method on the TreeBuilder target.\n",
        "  DeprecationWarning,\n"
       ]
      },
      {
       "output_type": "stream",
       "stream": "stderr",
       "text": [
        "/usr/lib/python2.7/xml/etree/ElementTree.py:1627: DeprecationWarning: This method of XMLParser is deprecated.  Define doctype() method on the TreeBuilder target.\n",
        "  DeprecationWarning,\n",
        "/usr/lib/python2.7/xml/etree/ElementTree.py:1627: DeprecationWarning: This method of XMLParser is deprecated.  Define doctype() method on the TreeBuilder target.\n",
        "  DeprecationWarning,\n"
       ]
      },
      {
       "output_type": "stream",
       "stream": "stderr",
       "text": [
        "/usr/lib/python2.7/xml/etree/ElementTree.py:1627: DeprecationWarning: This method of XMLParser is deprecated.  Define doctype() method on the TreeBuilder target.\n",
        "  DeprecationWarning,\n",
        "/usr/lib/python2.7/xml/etree/ElementTree.py:1627: DeprecationWarning: This method of XMLParser is deprecated.  Define doctype() method on the TreeBuilder target.\n",
        "  DeprecationWarning,\n"
       ]
      },
      {
       "output_type": "stream",
       "stream": "stderr",
       "text": [
        "/usr/lib/python2.7/xml/etree/ElementTree.py:1627: DeprecationWarning: This method of XMLParser is deprecated.  Define doctype() method on the TreeBuilder target.\n",
        "  DeprecationWarning,\n",
        "/usr/lib/python2.7/xml/etree/ElementTree.py:1627: DeprecationWarning: This method of XMLParser is deprecated.  Define doctype() method on the TreeBuilder target.\n",
        "  DeprecationWarning,\n"
       ]
      },
      {
       "output_type": "stream",
       "stream": "stderr",
       "text": [
        "/usr/lib/python2.7/xml/etree/ElementTree.py:1627: DeprecationWarning: This method of XMLParser is deprecated.  Define doctype() method on the TreeBuilder target.\n",
        "  DeprecationWarning,\n",
        "/usr/lib/python2.7/xml/etree/ElementTree.py:1627: DeprecationWarning: This method of XMLParser is deprecated.  Define doctype() method on the TreeBuilder target.\n",
        "  DeprecationWarning,\n"
       ]
      },
      {
       "output_type": "stream",
       "stream": "stderr",
       "text": [
        "/usr/lib/python2.7/xml/etree/ElementTree.py:1627: DeprecationWarning: This method of XMLParser is deprecated.  Define doctype() method on the TreeBuilder target.\n",
        "  DeprecationWarning,\n",
        "/usr/lib/python2.7/xml/etree/ElementTree.py:1627: DeprecationWarning: This method of XMLParser is deprecated.  Define doctype() method on the TreeBuilder target.\n",
        "  DeprecationWarning,\n"
       ]
      },
      {
       "output_type": "stream",
       "stream": "stderr",
       "text": [
        "/usr/lib/python2.7/xml/etree/ElementTree.py:1627: DeprecationWarning: This method of XMLParser is deprecated.  Define doctype() method on the TreeBuilder target.\n",
        "  DeprecationWarning,\n",
        "/usr/lib/python2.7/xml/etree/ElementTree.py:1627: DeprecationWarning: This method of XMLParser is deprecated.  Define doctype() method on the TreeBuilder target.\n",
        "  DeprecationWarning,\n"
       ]
      },
      {
       "output_type": "stream",
       "stream": "stderr",
       "text": [
        "/usr/lib/python2.7/xml/etree/ElementTree.py:1627: DeprecationWarning: This method of XMLParser is deprecated.  Define doctype() method on the TreeBuilder target.\n",
        "  DeprecationWarning,\n",
        "/usr/lib/python2.7/xml/etree/ElementTree.py:1627: DeprecationWarning: This method of XMLParser is deprecated.  Define doctype() method on the TreeBuilder target.\n",
        "  DeprecationWarning,\n"
       ]
      },
      {
       "output_type": "stream",
       "stream": "stderr",
       "text": [
        "/usr/lib/python2.7/xml/etree/ElementTree.py:1627: DeprecationWarning: This method of XMLParser is deprecated.  Define doctype() method on the TreeBuilder target.\n",
        "  DeprecationWarning,\n",
        "/usr/lib/python2.7/xml/etree/ElementTree.py:1627: DeprecationWarning: This method of XMLParser is deprecated.  Define doctype() method on the TreeBuilder target.\n",
        "  DeprecationWarning,\n"
       ]
      },
      {
       "output_type": "stream",
       "stream": "stderr",
       "text": [
        "/usr/lib/python2.7/xml/etree/ElementTree.py:1627: DeprecationWarning: This method of XMLParser is deprecated.  Define doctype() method on the TreeBuilder target.\n",
        "  DeprecationWarning,\n",
        "/usr/lib/python2.7/xml/etree/ElementTree.py:1627: DeprecationWarning: This method of XMLParser is deprecated.  Define doctype() method on the TreeBuilder target.\n",
        "  DeprecationWarning,\n"
       ]
      },
      {
       "output_type": "stream",
       "stream": "stderr",
       "text": [
        "/usr/lib/python2.7/xml/etree/ElementTree.py:1627: DeprecationWarning: This method of XMLParser is deprecated.  Define doctype() method on the TreeBuilder target.\n",
        "  DeprecationWarning,\n",
        "/usr/lib/python2.7/xml/etree/ElementTree.py:1627: DeprecationWarning: This method of XMLParser is deprecated.  Define doctype() method on the TreeBuilder target.\n",
        "  DeprecationWarning,\n"
       ]
      },
      {
       "output_type": "stream",
       "stream": "stderr",
       "text": [
        "/usr/lib/python2.7/xml/etree/ElementTree.py:1627: DeprecationWarning: This method of XMLParser is deprecated.  Define doctype() method on the TreeBuilder target.\n",
        "  DeprecationWarning,\n",
        "/usr/lib/python2.7/xml/etree/ElementTree.py:1627: DeprecationWarning: This method of XMLParser is deprecated.  Define doctype() method on the TreeBuilder target.\n",
        "  DeprecationWarning,\n"
       ]
      },
      {
       "output_type": "stream",
       "stream": "stderr",
       "text": [
        "/usr/lib/python2.7/xml/etree/ElementTree.py:1627: DeprecationWarning: This method of XMLParser is deprecated.  Define doctype() method on the TreeBuilder target.\n",
        "  DeprecationWarning,\n",
        "/usr/lib/python2.7/xml/etree/ElementTree.py:1627: DeprecationWarning: This method of XMLParser is deprecated.  Define doctype() method on the TreeBuilder target.\n",
        "  DeprecationWarning,\n"
       ]
      },
      {
       "output_type": "stream",
       "stream": "stderr",
       "text": [
        "/usr/lib/python2.7/xml/etree/ElementTree.py:1627: DeprecationWarning: This method of XMLParser is deprecated.  Define doctype() method on the TreeBuilder target.\n",
        "  DeprecationWarning,\n",
        "/usr/lib/python2.7/xml/etree/ElementTree.py:1627: DeprecationWarning: This method of XMLParser is deprecated.  Define doctype() method on the TreeBuilder target.\n",
        "  DeprecationWarning,\n"
       ]
      },
      {
       "output_type": "stream",
       "stream": "stderr",
       "text": [
        "/usr/lib/python2.7/xml/etree/ElementTree.py:1627: DeprecationWarning: This method of XMLParser is deprecated.  Define doctype() method on the TreeBuilder target.\n",
        "  DeprecationWarning,\n",
        "/usr/lib/python2.7/xml/etree/ElementTree.py:1627: DeprecationWarning: This method of XMLParser is deprecated.  Define doctype() method on the TreeBuilder target.\n",
        "  DeprecationWarning,\n"
       ]
      },
      {
       "output_type": "stream",
       "stream": "stderr",
       "text": [
        "/usr/lib/python2.7/xml/etree/ElementTree.py:1627: DeprecationWarning: This method of XMLParser is deprecated.  Define doctype() method on the TreeBuilder target.\n",
        "  DeprecationWarning,\n",
        "/usr/lib/python2.7/xml/etree/ElementTree.py:1627: DeprecationWarning: This method of XMLParser is deprecated.  Define doctype() method on the TreeBuilder target.\n",
        "  DeprecationWarning,\n"
       ]
      },
      {
       "output_type": "stream",
       "stream": "stderr",
       "text": [
        "/usr/lib/python2.7/xml/etree/ElementTree.py:1627: DeprecationWarning: This method of XMLParser is deprecated.  Define doctype() method on the TreeBuilder target.\n",
        "  DeprecationWarning,\n",
        "/usr/lib/python2.7/xml/etree/ElementTree.py:1627: DeprecationWarning: This method of XMLParser is deprecated.  Define doctype() method on the TreeBuilder target.\n",
        "  DeprecationWarning,\n"
       ]
      },
      {
       "output_type": "stream",
       "stream": "stderr",
       "text": [
        "/usr/lib/python2.7/xml/etree/ElementTree.py:1627: DeprecationWarning: This method of XMLParser is deprecated.  Define doctype() method on the TreeBuilder target.\n",
        "  DeprecationWarning,\n",
        "/usr/lib/python2.7/xml/etree/ElementTree.py:1627: DeprecationWarning: This method of XMLParser is deprecated.  Define doctype() method on the TreeBuilder target.\n",
        "  DeprecationWarning,\n"
       ]
      },
      {
       "output_type": "stream",
       "stream": "stderr",
       "text": [
        "/usr/lib/python2.7/xml/etree/ElementTree.py:1627: DeprecationWarning: This method of XMLParser is deprecated.  Define doctype() method on the TreeBuilder target.\n",
        "  DeprecationWarning,\n",
        "/usr/lib/python2.7/xml/etree/ElementTree.py:1627: DeprecationWarning: This method of XMLParser is deprecated.  Define doctype() method on the TreeBuilder target.\n",
        "  DeprecationWarning,\n"
       ]
      },
      {
       "output_type": "stream",
       "stream": "stderr",
       "text": [
        "/usr/lib/python2.7/xml/etree/ElementTree.py:1627: DeprecationWarning: This method of XMLParser is deprecated.  Define doctype() method on the TreeBuilder target.\n",
        "  DeprecationWarning,\n",
        "/usr/lib/python2.7/xml/etree/ElementTree.py:1627: DeprecationWarning: This method of XMLParser is deprecated.  Define doctype() method on the TreeBuilder target.\n",
        "  DeprecationWarning,\n"
       ]
      },
      {
       "output_type": "stream",
       "stream": "stderr",
       "text": [
        "/usr/lib/python2.7/xml/etree/ElementTree.py:1627: DeprecationWarning: This method of XMLParser is deprecated.  Define doctype() method on the TreeBuilder target.\n",
        "  DeprecationWarning,\n",
        "/usr/lib/python2.7/xml/etree/ElementTree.py:1627: DeprecationWarning: This method of XMLParser is deprecated.  Define doctype() method on the TreeBuilder target.\n",
        "  DeprecationWarning,\n"
       ]
      },
      {
       "output_type": "stream",
       "stream": "stderr",
       "text": [
        "/usr/lib/python2.7/xml/etree/ElementTree.py:1627: DeprecationWarning: This method of XMLParser is deprecated.  Define doctype() method on the TreeBuilder target.\n",
        "  DeprecationWarning,\n",
        "/usr/lib/python2.7/xml/etree/ElementTree.py:1627: DeprecationWarning: This method of XMLParser is deprecated.  Define doctype() method on the TreeBuilder target.\n",
        "  DeprecationWarning,\n"
       ]
      },
      {
       "output_type": "stream",
       "stream": "stderr",
       "text": [
        "/usr/lib/python2.7/xml/etree/ElementTree.py:1627: DeprecationWarning: This method of XMLParser is deprecated.  Define doctype() method on the TreeBuilder target.\n",
        "  DeprecationWarning,\n",
        "/usr/lib/python2.7/xml/etree/ElementTree.py:1627: DeprecationWarning: This method of XMLParser is deprecated.  Define doctype() method on the TreeBuilder target.\n",
        "  DeprecationWarning,\n"
       ]
      },
      {
       "output_type": "stream",
       "stream": "stderr",
       "text": [
        "/usr/lib/python2.7/xml/etree/ElementTree.py:1627: DeprecationWarning: This method of XMLParser is deprecated.  Define doctype() method on the TreeBuilder target.\n",
        "  DeprecationWarning,\n",
        "/usr/lib/python2.7/xml/etree/ElementTree.py:1627: DeprecationWarning: This method of XMLParser is deprecated.  Define doctype() method on the TreeBuilder target.\n",
        "  DeprecationWarning,\n"
       ]
      },
      {
       "output_type": "stream",
       "stream": "stderr",
       "text": [
        "/usr/lib/python2.7/xml/etree/ElementTree.py:1627: DeprecationWarning: This method of XMLParser is deprecated.  Define doctype() method on the TreeBuilder target.\n",
        "  DeprecationWarning,\n",
        "/usr/lib/python2.7/xml/etree/ElementTree.py:1627: DeprecationWarning: This method of XMLParser is deprecated.  Define doctype() method on the TreeBuilder target.\n",
        "  DeprecationWarning,\n"
       ]
      },
      {
       "output_type": "stream",
       "stream": "stderr",
       "text": [
        "/usr/lib/python2.7/xml/etree/ElementTree.py:1627: DeprecationWarning: This method of XMLParser is deprecated.  Define doctype() method on the TreeBuilder target.\n",
        "  DeprecationWarning,\n",
        "/usr/lib/python2.7/xml/etree/ElementTree.py:1627: DeprecationWarning: This method of XMLParser is deprecated.  Define doctype() method on the TreeBuilder target.\n",
        "  DeprecationWarning,\n"
       ]
      },
      {
       "output_type": "stream",
       "stream": "stderr",
       "text": [
        "/usr/lib/python2.7/xml/etree/ElementTree.py:1627: DeprecationWarning: This method of XMLParser is deprecated.  Define doctype() method on the TreeBuilder target.\n",
        "  DeprecationWarning,\n",
        "/usr/lib/python2.7/xml/etree/ElementTree.py:1627: DeprecationWarning: This method of XMLParser is deprecated.  Define doctype() method on the TreeBuilder target.\n",
        "  DeprecationWarning,\n"
       ]
      },
      {
       "output_type": "stream",
       "stream": "stderr",
       "text": [
        "/usr/lib/python2.7/xml/etree/ElementTree.py:1627: DeprecationWarning: This method of XMLParser is deprecated.  Define doctype() method on the TreeBuilder target.\n",
        "  DeprecationWarning,\n",
        "/usr/lib/python2.7/xml/etree/ElementTree.py:1627: DeprecationWarning: This method of XMLParser is deprecated.  Define doctype() method on the TreeBuilder target.\n",
        "  DeprecationWarning,\n"
       ]
      },
      {
       "output_type": "stream",
       "stream": "stderr",
       "text": [
        "/usr/lib/python2.7/xml/etree/ElementTree.py:1627: DeprecationWarning: This method of XMLParser is deprecated.  Define doctype() method on the TreeBuilder target.\n",
        "  DeprecationWarning,\n",
        "/usr/lib/python2.7/xml/etree/ElementTree.py:1627: DeprecationWarning: This method of XMLParser is deprecated.  Define doctype() method on the TreeBuilder target.\n",
        "  DeprecationWarning,\n"
       ]
      },
      {
       "output_type": "stream",
       "stream": "stderr",
       "text": [
        "/usr/lib/python2.7/xml/etree/ElementTree.py:1627: DeprecationWarning: This method of XMLParser is deprecated.  Define doctype() method on the TreeBuilder target.\n",
        "  DeprecationWarning,\n",
        "/usr/lib/python2.7/xml/etree/ElementTree.py:1627: DeprecationWarning: This method of XMLParser is deprecated.  Define doctype() method on the TreeBuilder target.\n",
        "  DeprecationWarning,\n"
       ]
      },
      {
       "output_type": "stream",
       "stream": "stderr",
       "text": [
        "/usr/lib/python2.7/xml/etree/ElementTree.py:1627: DeprecationWarning: This method of XMLParser is deprecated.  Define doctype() method on the TreeBuilder target.\n",
        "  DeprecationWarning,\n",
        "/usr/lib/python2.7/xml/etree/ElementTree.py:1627: DeprecationWarning: This method of XMLParser is deprecated.  Define doctype() method on the TreeBuilder target.\n",
        "  DeprecationWarning,\n"
       ]
      },
      {
       "output_type": "stream",
       "stream": "stderr",
       "text": [
        "/usr/lib/python2.7/xml/etree/ElementTree.py:1627: DeprecationWarning: This method of XMLParser is deprecated.  Define doctype() method on the TreeBuilder target.\n",
        "  DeprecationWarning,\n",
        "/usr/lib/python2.7/xml/etree/ElementTree.py:1627: DeprecationWarning: This method of XMLParser is deprecated.  Define doctype() method on the TreeBuilder target.\n",
        "  DeprecationWarning,\n"
       ]
      },
      {
       "output_type": "stream",
       "stream": "stderr",
       "text": [
        "/usr/lib/python2.7/xml/etree/ElementTree.py:1627: DeprecationWarning: This method of XMLParser is deprecated.  Define doctype() method on the TreeBuilder target.\n",
        "  DeprecationWarning,\n",
        "/usr/lib/python2.7/xml/etree/ElementTree.py:1627: DeprecationWarning: This method of XMLParser is deprecated.  Define doctype() method on the TreeBuilder target.\n",
        "  DeprecationWarning,\n"
       ]
      },
      {
       "output_type": "stream",
       "stream": "stderr",
       "text": [
        "/usr/lib/python2.7/xml/etree/ElementTree.py:1627: DeprecationWarning: This method of XMLParser is deprecated.  Define doctype() method on the TreeBuilder target.\n",
        "  DeprecationWarning,\n",
        "/usr/lib/python2.7/xml/etree/ElementTree.py:1627: DeprecationWarning: This method of XMLParser is deprecated.  Define doctype() method on the TreeBuilder target.\n",
        "  DeprecationWarning,\n"
       ]
      },
      {
       "output_type": "stream",
       "stream": "stderr",
       "text": [
        "/usr/lib/python2.7/xml/etree/ElementTree.py:1627: DeprecationWarning: This method of XMLParser is deprecated.  Define doctype() method on the TreeBuilder target.\n",
        "  DeprecationWarning,\n",
        "/usr/lib/python2.7/xml/etree/ElementTree.py:1627: DeprecationWarning: This method of XMLParser is deprecated.  Define doctype() method on the TreeBuilder target.\n",
        "  DeprecationWarning,\n"
       ]
      },
      {
       "output_type": "stream",
       "stream": "stderr",
       "text": [
        "/usr/lib/python2.7/xml/etree/ElementTree.py:1627: DeprecationWarning: This method of XMLParser is deprecated.  Define doctype() method on the TreeBuilder target.\n",
        "  DeprecationWarning,\n",
        "/usr/lib/python2.7/xml/etree/ElementTree.py:1627: DeprecationWarning: This method of XMLParser is deprecated.  Define doctype() method on the TreeBuilder target.\n",
        "  DeprecationWarning,\n"
       ]
      },
      {
       "output_type": "stream",
       "stream": "stderr",
       "text": [
        "/usr/lib/python2.7/xml/etree/ElementTree.py:1627: DeprecationWarning: This method of XMLParser is deprecated.  Define doctype() method on the TreeBuilder target.\n",
        "  DeprecationWarning,\n",
        "/usr/lib/python2.7/xml/etree/ElementTree.py:1627: DeprecationWarning: This method of XMLParser is deprecated.  Define doctype() method on the TreeBuilder target.\n",
        "  DeprecationWarning,\n"
       ]
      },
      {
       "output_type": "stream",
       "stream": "stderr",
       "text": [
        "/usr/lib/python2.7/xml/etree/ElementTree.py:1627: DeprecationWarning: This method of XMLParser is deprecated.  Define doctype() method on the TreeBuilder target.\n",
        "  DeprecationWarning,\n",
        "/usr/lib/python2.7/xml/etree/ElementTree.py:1627: DeprecationWarning: This method of XMLParser is deprecated.  Define doctype() method on the TreeBuilder target.\n",
        "  DeprecationWarning,\n"
       ]
      },
      {
       "output_type": "stream",
       "stream": "stderr",
       "text": [
        "/usr/lib/python2.7/xml/etree/ElementTree.py:1627: DeprecationWarning: This method of XMLParser is deprecated.  Define doctype() method on the TreeBuilder target.\n",
        "  DeprecationWarning,\n",
        "/usr/lib/python2.7/xml/etree/ElementTree.py:1627: DeprecationWarning: This method of XMLParser is deprecated.  Define doctype() method on the TreeBuilder target.\n",
        "  DeprecationWarning,\n"
       ]
      },
      {
       "output_type": "stream",
       "stream": "stderr",
       "text": [
        "/usr/lib/python2.7/xml/etree/ElementTree.py:1627: DeprecationWarning: This method of XMLParser is deprecated.  Define doctype() method on the TreeBuilder target.\n",
        "  DeprecationWarning,\n",
        "/usr/lib/python2.7/xml/etree/ElementTree.py:1627: DeprecationWarning: This method of XMLParser is deprecated.  Define doctype() method on the TreeBuilder target.\n",
        "  DeprecationWarning,\n"
       ]
      },
      {
       "output_type": "stream",
       "stream": "stderr",
       "text": [
        "/usr/lib/python2.7/xml/etree/ElementTree.py:1627: DeprecationWarning: This method of XMLParser is deprecated.  Define doctype() method on the TreeBuilder target.\n",
        "  DeprecationWarning,\n",
        "/usr/lib/python2.7/xml/etree/ElementTree.py:1627: DeprecationWarning: This method of XMLParser is deprecated.  Define doctype() method on the TreeBuilder target.\n",
        "  DeprecationWarning,\n"
       ]
      },
      {
       "output_type": "stream",
       "stream": "stderr",
       "text": [
        "/usr/lib/python2.7/xml/etree/ElementTree.py:1627: DeprecationWarning: This method of XMLParser is deprecated.  Define doctype() method on the TreeBuilder target.\n",
        "  DeprecationWarning,\n",
        "/usr/lib/python2.7/xml/etree/ElementTree.py:1627: DeprecationWarning: This method of XMLParser is deprecated.  Define doctype() method on the TreeBuilder target.\n",
        "  DeprecationWarning,\n"
       ]
      },
      {
       "output_type": "stream",
       "stream": "stderr",
       "text": [
        "/usr/lib/python2.7/xml/etree/ElementTree.py:1627: DeprecationWarning: This method of XMLParser is deprecated.  Define doctype() method on the TreeBuilder target.\n",
        "  DeprecationWarning,\n",
        "/usr/lib/python2.7/xml/etree/ElementTree.py:1627: DeprecationWarning: This method of XMLParser is deprecated.  Define doctype() method on the TreeBuilder target.\n",
        "  DeprecationWarning,\n"
       ]
      },
      {
       "output_type": "stream",
       "stream": "stderr",
       "text": [
        "/usr/lib/python2.7/xml/etree/ElementTree.py:1627: DeprecationWarning: This method of XMLParser is deprecated.  Define doctype() method on the TreeBuilder target.\n",
        "  DeprecationWarning,\n",
        "/usr/lib/python2.7/xml/etree/ElementTree.py:1627: DeprecationWarning: This method of XMLParser is deprecated.  Define doctype() method on the TreeBuilder target.\n",
        "  DeprecationWarning,\n"
       ]
      },
      {
       "output_type": "stream",
       "stream": "stderr",
       "text": [
        "/usr/lib/python2.7/xml/etree/ElementTree.py:1627: DeprecationWarning: This method of XMLParser is deprecated.  Define doctype() method on the TreeBuilder target.\n",
        "  DeprecationWarning,\n",
        "/usr/lib/python2.7/xml/etree/ElementTree.py:1627: DeprecationWarning: This method of XMLParser is deprecated.  Define doctype() method on the TreeBuilder target.\n",
        "  DeprecationWarning,\n"
       ]
      },
      {
       "output_type": "stream",
       "stream": "stderr",
       "text": [
        "/usr/lib/python2.7/xml/etree/ElementTree.py:1627: DeprecationWarning: This method of XMLParser is deprecated.  Define doctype() method on the TreeBuilder target.\n",
        "  DeprecationWarning,\n",
        "/usr/lib/python2.7/xml/etree/ElementTree.py:1627: DeprecationWarning: This method of XMLParser is deprecated.  Define doctype() method on the TreeBuilder target.\n",
        "  DeprecationWarning,\n"
       ]
      },
      {
       "output_type": "stream",
       "stream": "stderr",
       "text": [
        "/usr/lib/python2.7/xml/etree/ElementTree.py:1627: DeprecationWarning: This method of XMLParser is deprecated.  Define doctype() method on the TreeBuilder target.\n",
        "  DeprecationWarning,\n",
        "/usr/lib/python2.7/xml/etree/ElementTree.py:1627: DeprecationWarning: This method of XMLParser is deprecated.  Define doctype() method on the TreeBuilder target.\n",
        "  DeprecationWarning,\n"
       ]
      },
      {
       "output_type": "stream",
       "stream": "stderr",
       "text": [
        "/usr/lib/python2.7/xml/etree/ElementTree.py:1627: DeprecationWarning: This method of XMLParser is deprecated.  Define doctype() method on the TreeBuilder target.\n",
        "  DeprecationWarning,\n",
        "/usr/lib/python2.7/xml/etree/ElementTree.py:1627: DeprecationWarning: This method of XMLParser is deprecated.  Define doctype() method on the TreeBuilder target.\n",
        "  DeprecationWarning,\n"
       ]
      },
      {
       "output_type": "stream",
       "stream": "stderr",
       "text": [
        "/usr/lib/python2.7/xml/etree/ElementTree.py:1627: DeprecationWarning: This method of XMLParser is deprecated.  Define doctype() method on the TreeBuilder target.\n",
        "  DeprecationWarning,\n",
        "/usr/lib/python2.7/xml/etree/ElementTree.py:1627: DeprecationWarning: This method of XMLParser is deprecated.  Define doctype() method on the TreeBuilder target.\n",
        "  DeprecationWarning,\n"
       ]
      },
      {
       "output_type": "stream",
       "stream": "stderr",
       "text": [
        "/usr/lib/python2.7/xml/etree/ElementTree.py:1627: DeprecationWarning: This method of XMLParser is deprecated.  Define doctype() method on the TreeBuilder target.\n",
        "  DeprecationWarning,\n",
        "/usr/lib/python2.7/xml/etree/ElementTree.py:1627: DeprecationWarning: This method of XMLParser is deprecated.  Define doctype() method on the TreeBuilder target.\n",
        "  DeprecationWarning,\n"
       ]
      },
      {
       "output_type": "stream",
       "stream": "stderr",
       "text": [
        "/usr/lib/python2.7/xml/etree/ElementTree.py:1627: DeprecationWarning: This method of XMLParser is deprecated.  Define doctype() method on the TreeBuilder target.\n",
        "  DeprecationWarning,\n",
        "/usr/lib/python2.7/xml/etree/ElementTree.py:1627: DeprecationWarning: This method of XMLParser is deprecated.  Define doctype() method on the TreeBuilder target.\n",
        "  DeprecationWarning,\n"
       ]
      },
      {
       "output_type": "stream",
       "stream": "stderr",
       "text": [
        "/usr/lib/python2.7/xml/etree/ElementTree.py:1627: DeprecationWarning: This method of XMLParser is deprecated.  Define doctype() method on the TreeBuilder target.\n",
        "  DeprecationWarning,\n",
        "/usr/lib/python2.7/xml/etree/ElementTree.py:1627: DeprecationWarning: This method of XMLParser is deprecated.  Define doctype() method on the TreeBuilder target.\n",
        "  DeprecationWarning,\n"
       ]
      },
      {
       "output_type": "stream",
       "stream": "stderr",
       "text": [
        "/usr/lib/python2.7/xml/etree/ElementTree.py:1627: DeprecationWarning: This method of XMLParser is deprecated.  Define doctype() method on the TreeBuilder target.\n",
        "  DeprecationWarning,\n",
        "/usr/lib/python2.7/xml/etree/ElementTree.py:1627: DeprecationWarning: This method of XMLParser is deprecated.  Define doctype() method on the TreeBuilder target.\n",
        "  DeprecationWarning,\n"
       ]
      },
      {
       "output_type": "stream",
       "stream": "stderr",
       "text": [
        "/usr/lib/python2.7/xml/etree/ElementTree.py:1627: DeprecationWarning: This method of XMLParser is deprecated.  Define doctype() method on the TreeBuilder target.\n",
        "  DeprecationWarning,\n",
        "/usr/lib/python2.7/xml/etree/ElementTree.py:1627: DeprecationWarning: This method of XMLParser is deprecated.  Define doctype() method on the TreeBuilder target.\n",
        "  DeprecationWarning,\n"
       ]
      },
      {
       "output_type": "stream",
       "stream": "stderr",
       "text": [
        "/usr/lib/python2.7/xml/etree/ElementTree.py:1627: DeprecationWarning: This method of XMLParser is deprecated.  Define doctype() method on the TreeBuilder target.\n",
        "  DeprecationWarning,\n",
        "/usr/lib/python2.7/xml/etree/ElementTree.py:1627: DeprecationWarning: This method of XMLParser is deprecated.  Define doctype() method on the TreeBuilder target.\n",
        "  DeprecationWarning,\n"
       ]
      },
      {
       "output_type": "stream",
       "stream": "stderr",
       "text": [
        "/usr/lib/python2.7/xml/etree/ElementTree.py:1627: DeprecationWarning: This method of XMLParser is deprecated.  Define doctype() method on the TreeBuilder target.\n",
        "  DeprecationWarning,\n",
        "/usr/lib/python2.7/xml/etree/ElementTree.py:1627: DeprecationWarning: This method of XMLParser is deprecated.  Define doctype() method on the TreeBuilder target.\n",
        "  DeprecationWarning,\n"
       ]
      },
      {
       "output_type": "stream",
       "stream": "stderr",
       "text": [
        "/usr/lib/python2.7/xml/etree/ElementTree.py:1627: DeprecationWarning: This method of XMLParser is deprecated.  Define doctype() method on the TreeBuilder target.\n",
        "  DeprecationWarning,\n",
        "/usr/lib/python2.7/xml/etree/ElementTree.py:1627: DeprecationWarning: This method of XMLParser is deprecated.  Define doctype() method on the TreeBuilder target.\n",
        "  DeprecationWarning,\n"
       ]
      },
      {
       "output_type": "stream",
       "stream": "stderr",
       "text": [
        "/usr/lib/python2.7/xml/etree/ElementTree.py:1627: DeprecationWarning: This method of XMLParser is deprecated.  Define doctype() method on the TreeBuilder target.\n",
        "  DeprecationWarning,\n",
        "/usr/lib/python2.7/xml/etree/ElementTree.py:1627: DeprecationWarning: This method of XMLParser is deprecated.  Define doctype() method on the TreeBuilder target.\n",
        "  DeprecationWarning,\n"
       ]
      },
      {
       "output_type": "stream",
       "stream": "stderr",
       "text": [
        "/usr/lib/python2.7/xml/etree/ElementTree.py:1627: DeprecationWarning: This method of XMLParser is deprecated.  Define doctype() method on the TreeBuilder target.\n",
        "  DeprecationWarning,\n",
        "/usr/lib/python2.7/xml/etree/ElementTree.py:1627: DeprecationWarning: This method of XMLParser is deprecated.  Define doctype() method on the TreeBuilder target.\n",
        "  DeprecationWarning,\n"
       ]
      },
      {
       "output_type": "stream",
       "stream": "stderr",
       "text": [
        "/usr/lib/python2.7/xml/etree/ElementTree.py:1627: DeprecationWarning: This method of XMLParser is deprecated.  Define doctype() method on the TreeBuilder target.\n",
        "  DeprecationWarning,\n",
        "/usr/lib/python2.7/xml/etree/ElementTree.py:1627: DeprecationWarning: This method of XMLParser is deprecated.  Define doctype() method on the TreeBuilder target.\n",
        "  DeprecationWarning,\n"
       ]
      },
      {
       "output_type": "stream",
       "stream": "stderr",
       "text": [
        "/usr/lib/python2.7/xml/etree/ElementTree.py:1627: DeprecationWarning: This method of XMLParser is deprecated.  Define doctype() method on the TreeBuilder target.\n",
        "  DeprecationWarning,\n",
        "/usr/lib/python2.7/xml/etree/ElementTree.py:1627: DeprecationWarning: This method of XMLParser is deprecated.  Define doctype() method on the TreeBuilder target.\n",
        "  DeprecationWarning,\n"
       ]
      },
      {
       "output_type": "stream",
       "stream": "stderr",
       "text": [
        "/usr/lib/python2.7/xml/etree/ElementTree.py:1627: DeprecationWarning: This method of XMLParser is deprecated.  Define doctype() method on the TreeBuilder target.\n",
        "  DeprecationWarning,\n",
        "/usr/lib/python2.7/xml/etree/ElementTree.py:1627: DeprecationWarning: This method of XMLParser is deprecated.  Define doctype() method on the TreeBuilder target.\n",
        "  DeprecationWarning,\n"
       ]
      },
      {
       "output_type": "stream",
       "stream": "stderr",
       "text": [
        "/usr/lib/python2.7/xml/etree/ElementTree.py:1627: DeprecationWarning: This method of XMLParser is deprecated.  Define doctype() method on the TreeBuilder target.\n",
        "  DeprecationWarning,\n",
        "/usr/lib/python2.7/xml/etree/ElementTree.py:1627: DeprecationWarning: This method of XMLParser is deprecated.  Define doctype() method on the TreeBuilder target.\n",
        "  DeprecationWarning,\n"
       ]
      },
      {
       "output_type": "stream",
       "stream": "stderr",
       "text": [
        "/usr/lib/python2.7/xml/etree/ElementTree.py:1627: DeprecationWarning: This method of XMLParser is deprecated.  Define doctype() method on the TreeBuilder target.\n",
        "  DeprecationWarning,\n",
        "/usr/lib/python2.7/xml/etree/ElementTree.py:1627: DeprecationWarning: This method of XMLParser is deprecated.  Define doctype() method on the TreeBuilder target.\n",
        "  DeprecationWarning,\n"
       ]
      },
      {
       "output_type": "stream",
       "stream": "stderr",
       "text": [
        "/usr/lib/python2.7/xml/etree/ElementTree.py:1627: DeprecationWarning: This method of XMLParser is deprecated.  Define doctype() method on the TreeBuilder target.\n",
        "  DeprecationWarning,\n",
        "/usr/lib/python2.7/xml/etree/ElementTree.py:1627: DeprecationWarning: This method of XMLParser is deprecated.  Define doctype() method on the TreeBuilder target.\n",
        "  DeprecationWarning,\n"
       ]
      },
      {
       "output_type": "stream",
       "stream": "stderr",
       "text": [
        "/usr/lib/python2.7/xml/etree/ElementTree.py:1627: DeprecationWarning: This method of XMLParser is deprecated.  Define doctype() method on the TreeBuilder target.\n",
        "  DeprecationWarning,\n",
        "/usr/lib/python2.7/xml/etree/ElementTree.py:1627: DeprecationWarning: This method of XMLParser is deprecated.  Define doctype() method on the TreeBuilder target.\n",
        "  DeprecationWarning,\n"
       ]
      },
      {
       "output_type": "stream",
       "stream": "stderr",
       "text": [
        "/usr/lib/python2.7/xml/etree/ElementTree.py:1627: DeprecationWarning: This method of XMLParser is deprecated.  Define doctype() method on the TreeBuilder target.\n",
        "  DeprecationWarning,\n",
        "/usr/lib/python2.7/xml/etree/ElementTree.py:1627: DeprecationWarning: This method of XMLParser is deprecated.  Define doctype() method on the TreeBuilder target.\n",
        "  DeprecationWarning,\n"
       ]
      },
      {
       "output_type": "stream",
       "stream": "stderr",
       "text": [
        "/usr/lib/python2.7/xml/etree/ElementTree.py:1627: DeprecationWarning: This method of XMLParser is deprecated.  Define doctype() method on the TreeBuilder target.\n",
        "  DeprecationWarning,\n",
        "/usr/lib/python2.7/xml/etree/ElementTree.py:1627: DeprecationWarning: This method of XMLParser is deprecated.  Define doctype() method on the TreeBuilder target.\n",
        "  DeprecationWarning,\n"
       ]
      },
      {
       "output_type": "stream",
       "stream": "stderr",
       "text": [
        "/usr/lib/python2.7/xml/etree/ElementTree.py:1627: DeprecationWarning: This method of XMLParser is deprecated.  Define doctype() method on the TreeBuilder target.\n",
        "  DeprecationWarning,\n",
        "/usr/lib/python2.7/xml/etree/ElementTree.py:1627: DeprecationWarning: This method of XMLParser is deprecated.  Define doctype() method on the TreeBuilder target.\n",
        "  DeprecationWarning,\n"
       ]
      },
      {
       "output_type": "stream",
       "stream": "stderr",
       "text": [
        "/usr/lib/python2.7/xml/etree/ElementTree.py:1627: DeprecationWarning: This method of XMLParser is deprecated.  Define doctype() method on the TreeBuilder target.\n",
        "  DeprecationWarning,\n",
        "/usr/lib/python2.7/xml/etree/ElementTree.py:1627: DeprecationWarning: This method of XMLParser is deprecated.  Define doctype() method on the TreeBuilder target.\n",
        "  DeprecationWarning,\n"
       ]
      },
      {
       "output_type": "stream",
       "stream": "stderr",
       "text": [
        "/usr/lib/python2.7/xml/etree/ElementTree.py:1627: DeprecationWarning: This method of XMLParser is deprecated.  Define doctype() method on the TreeBuilder target.\n",
        "  DeprecationWarning,\n",
        "/usr/lib/python2.7/xml/etree/ElementTree.py:1627: DeprecationWarning: This method of XMLParser is deprecated.  Define doctype() method on the TreeBuilder target.\n",
        "  DeprecationWarning,\n"
       ]
      },
      {
       "output_type": "stream",
       "stream": "stderr",
       "text": [
        "/usr/lib/python2.7/xml/etree/ElementTree.py:1627: DeprecationWarning: This method of XMLParser is deprecated.  Define doctype() method on the TreeBuilder target.\n",
        "  DeprecationWarning,\n",
        "/usr/lib/python2.7/xml/etree/ElementTree.py:1627: DeprecationWarning: This method of XMLParser is deprecated.  Define doctype() method on the TreeBuilder target.\n",
        "  DeprecationWarning,\n"
       ]
      },
      {
       "output_type": "stream",
       "stream": "stderr",
       "text": [
        "/usr/lib/python2.7/xml/etree/ElementTree.py:1627: DeprecationWarning: This method of XMLParser is deprecated.  Define doctype() method on the TreeBuilder target.\n",
        "  DeprecationWarning,\n"
       ]
      }
     ],
     "prompt_number": 302
    },
    {
     "cell_type": "code",
     "collapsed": false,
     "input": [],
     "language": "python",
     "metadata": {},
     "outputs": []
    }
   ],
   "metadata": {}
  }
 ]
}